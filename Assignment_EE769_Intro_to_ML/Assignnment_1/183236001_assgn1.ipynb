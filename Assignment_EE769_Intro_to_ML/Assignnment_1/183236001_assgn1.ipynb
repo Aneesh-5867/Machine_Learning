{
 "cells": [
  {
   "cell_type": "markdown",
   "metadata": {
    "colab_type": "text",
    "id": "13at-uWgvkQP"
   },
   "source": [
    "#Classification using Support Vector Machine\n",
    "Please do not import any other python library except numpy and matplotlib "
   ]
  },
  {
   "cell_type": "code",
   "execution_count": 0,
   "metadata": {
    "colab": {},
    "colab_type": "code",
    "id": "JFRYyHWL-tOq"
   },
   "outputs": [],
   "source": [
    "import numpy as np\n",
    "import matplotlib.pyplot as plt"
   ]
  },
  {
   "cell_type": "markdown",
   "metadata": {
    "colab_type": "text",
    "id": "IYcrun6CbQ0L"
   },
   "source": [
    "#Generating Random linearly separable data\n"
   ]
  },
  {
   "cell_type": "code",
   "execution_count": 0,
   "metadata": {
    "colab": {},
    "colab_type": "code",
    "id": "2Ene7E42Ytrc"
   },
   "outputs": [],
   "source": [
    "data = [[np.random.rand(), np.random.rand()] for i in range(10)]\n",
    "for i, point in enumerate(data):\n",
    "  x, y = point\n",
    "  if 0.5*x - y + 0.25 > 0:\n",
    "    data[i].append(-1)\n",
    "  else:\n",
    "    data[i].append(1)"
   ]
  },
  {
   "cell_type": "markdown",
   "metadata": {
    "colab_type": "text",
    "id": "qkrFjTOad2aU"
   },
   "source": [
    "#Visualizing the above data"
   ]
  },
  {
   "cell_type": "code",
   "execution_count": 0,
   "metadata": {
    "colab": {
     "base_uri": "https://localhost:8080/",
     "height": 269
    },
    "colab_type": "code",
    "id": "VPdWewWZbk1r",
    "outputId": "d0c58522-b5ad-406f-9548-22f3397a41f1"
   },
   "outputs": [
    {
     "data": {
      "image/png": "[encoded data removed]",
      "text/plain": [
       "<Figure size 432x288 with 1 Axes>"
      ]
     },
     "metadata": {
      "tags": []
     },
     "output_type": "display_data"
    }
   ],
   "source": [
    "for x, y, l in data:\n",
    "  if l == 1: \n",
    "    clr = 'red'\n",
    "  else: \n",
    "    clr = 'blue'\n",
    "  plt.scatter(x, y, c=clr)\n",
    "  plt.xlim(0,1)\n",
    "  plt.ylim(0,1)"
   ]
  },
  {
   "cell_type": "markdown",
   "metadata": {
    "colab_type": "text",
    "id": "8Ul5Uantin_q"
   },
   "source": [
    "#SVM Classifier\n",
    "Train a SVM classifier using gradient descent and return a Weight Matrix which is a numpy array of length (N + 1) where N is dimension of training samples. \n",
    "You can refer to Fig. 1 in [this](https://www.cs.huji.ac.il/~shais/papers/ShalevSiSrCo10.pdf) paper for implementation. You can add arguments to svm_function according to your implementation."
   ]
  },
  {
   "cell_type": "code",
   "execution_count": 0,
   "metadata": {
    "colab": {},
    "colab_type": "code",
    "id": "9y6Jet_QcdBo"
   },
   "outputs": [],
   "source": [
    "def svm_function(x, y, epoch, l_rate):\n",
    "    ####################################\n",
    "    ### Write your code here ###########\n",
    "    ####################################\n",
    "\n",
    "    # Appending a fixed bias of +1 to all the datapoints\n",
    "    list_X = x.tolist()\n",
    "    for i in range(len(x)):\n",
    "      list_X[i].append(1)\n",
    "    x = np.asarray(list_X)\n",
    "    \n",
    "    # Initializing the weight vector with zeros \n",
    "    w = np.zeros(len(x[0]))\n",
    "\n",
    "    # Updating the weight vector \n",
    "    for val in range(1,epoch):\n",
    "        for i, point in enumerate(x):\n",
    "            if (y[i]*np.dot(x[i], w)) < 1:\n",
    "                w = w + l_rate * ((x[i]*y[i]) + (-2*(1/epoch)* w))\n",
    "            else:\n",
    "                w = w + l_rate * (-2*(1/epoch)* w)\n",
    "    return w"
   ]
  },
  {
   "cell_type": "markdown",
   "metadata": {
    "colab_type": "text",
    "id": "5xSS1Rn5iuLL"
   },
   "source": [
    "#Run SVM Classifier"
   ]
  },
  {
   "cell_type": "code",
   "execution_count": 0,
   "metadata": {
    "colab": {},
    "colab_type": "code",
    "id": "LVAtpfnme0J-"
   },
   "outputs": [],
   "source": [
    "data = np.asarray(data)\n",
    "X = data[:,:2]\n",
    "Y = data[:,2]\n",
    "w = svm_function(X, Y, 10000, 1)"
   ]
  },
  {
   "cell_type": "markdown",
   "metadata": {
    "colab_type": "text",
    "id": "neqORagGixnt"
   },
   "source": [
    "#Visualize the classifier\n",
    "Write a code to draw a lines corrosponding to 'w' vector you got as output from svm_function and for a line from which actual data was generated\n",
    "(0.5*x - y + 0.25). "
   ]
  },
  {
   "cell_type": "code",
   "execution_count": 0,
   "metadata": {
    "colab": {
     "base_uri": "https://localhost:8080/",
     "height": 286
    },
    "colab_type": "code",
    "id": "lkyRWfFSw2aq",
    "outputId": "2ea906f6-7ceb-43f0-e17f-caa8bba5abd0"
   },
   "outputs": [
    {
     "data": {
      "text/plain": [
       "<matplotlib.legend.Legend at 0x7f5c181b46a0>"
      ]
     },
     "execution_count": 6,
     "metadata": {
      "tags": []
     },
     "output_type": "execute_result"
    },
    {
     "data": {
      "image/png": "[encoded data removed]",
      "text/plain": [
       "<Figure size 432x288 with 1 Axes>"
      ]
     },
     "metadata": {
      "tags": []
     },
     "output_type": "display_data"
    }
   ],
   "source": [
    "####################################\n",
    "### Write your code here ###########\n",
    "#################################### \n",
    "\n",
    "# Defining the points on X-axis \n",
    "x_points = np.linspace(0,1,1000)\n",
    "\n",
    "# Defining and plotting the predicted line \n",
    "y_pred = (-w[0]*x_points - w[2])/w[1]\n",
    "plt.plot(x_points, y_pred,'-r', label = 'Pred line')\n",
    "\n",
    "# Defining and plotting the actual line \n",
    "y_act = (0.5*x_points + 0.25)\n",
    "plt.plot(x_points, y_act, '-b', label = 'Act line')\n",
    "plt.legend()"
   ]
  },
  {
   "cell_type": "markdown",
   "metadata": {
    "colab_type": "text",
    "id": "dY3IRad0-Cg8"
   },
   "source": [
    "Increase the number of data-points and observe number of epochs to converge. Draw plots showing data-points, actual data seprating line and line corrosponding to 'w' you got from svm_function for 10, 20, 30, 40, 50 and 100 data-points. Please use only one notebook cell for this visualization. Please use subplot function in matplotlib for this."
   ]
  },
  {
   "cell_type": "code",
   "execution_count": 0,
   "metadata": {
    "colab": {},
    "colab_type": "code",
    "id": "o2rqwN3zD1IY"
   },
   "outputs": [],
   "source": [
    "####################################\n",
    "### Write your code here ###########\n",
    "#################################### \n",
    "\n",
    "# Creating a dataset with 100 datapoints\n",
    "large_data = [[np.random.rand(), np.random.rand()] for i in range(100)]\n",
    "for i, point in enumerate(large_data):\n",
    "  x, y = point\n",
    "  if 0.5*x - y + 0.25 > 0:\n",
    "    large_data[i].append(-1)\n",
    "  else:\n",
    "    large_data[i].append(1)"
   ]
  },
  {
   "cell_type": "code",
   "execution_count": 0,
   "metadata": {
    "colab": {
     "base_uri": "https://localhost:8080/",
     "height": 269
    },
    "colab_type": "code",
    "id": "K5Rln4sUtdUi",
    "outputId": "39873959-8d9d-4796-fa9f-60e57c0247af"
   },
   "outputs": [
    {
     "data": {
      "image/png": "[encoded data removed]",
      "text/plain": [
       "<Figure size 432x288 with 6 Axes>"
      ]
     },
     "metadata": {
      "tags": []
     },
     "output_type": "display_data"
    }
   ],
   "source": [
    "# Defining the number of datapoints \n",
    "data_points = [10, 20, 30, 40, 50, 100]\n",
    "epochs = 10000\n",
    "l_rate = 1\n",
    "\n",
    "# Classifying the datapoints\n",
    "for i,point in enumerate(data_points):\n",
    "  my_data = large_data[:point]\n",
    "  my_data = np.asarray(my_data)\n",
    "  X = my_data[:,:2]\n",
    "  Y = my_data[:,2]\n",
    "  w= svm_function(X, Y, epochs, l_rate)\n",
    "  x_points = np.linspace(0,1)\n",
    "  plt.xlim(0,1)\n",
    "  plt.ylim(0,1)\n",
    "\n",
    "  # Plotting the subplots for different number of datapoints \n",
    "  plt.subplot(2, 3, (i+1))\n",
    "  plt.plot(x_points, (-w[0]*x_points - w[2])/w[1],'-r', label = 'Pred line')\n",
    "  plt.plot(x_points, (0.5*x_points + 0.25), '-b', label = 'Act line')\n",
    "  for x, y, l in my_data:\n",
    "    if l == 1: \n",
    "      clr = 'red'\n",
    "    else: \n",
    "      clr = 'blue'\n",
    "    plt.scatter(x, y, c=clr)\n",
    "    plt.legend()"
   ]
  },
  {
   "cell_type": "markdown",
   "metadata": {
    "colab_type": "text",
    "id": "nybBTVAuv7vX"
   },
   "source": [
    "#Perturbing the previously created  data\n",
    "Add noise to the data and visualize the resulting classifier.\n",
    "\n",
    "\n"
   ]
  },
  {
   "cell_type": "code",
   "execution_count": 0,
   "metadata": {
    "colab": {},
    "colab_type": "code",
    "id": "v072suqtiZqP"
   },
   "outputs": [],
   "source": [
    "for i in range(len(data)):\n",
    "  data[i][0] += (np.random.rand() - 0.5) / 2.\n",
    "  data[i][1] += (np.random.rand() - 0.5) / 2."
   ]
  },
  {
   "cell_type": "markdown",
   "metadata": {
    "colab_type": "text",
    "id": "v9cziKy-yzRB"
   },
   "source": [
    "#Visualizing the perturbed Data"
   ]
  },
  {
   "cell_type": "code",
   "execution_count": 0,
   "metadata": {
    "colab": {
     "base_uri": "https://localhost:8080/",
     "height": 269
    },
    "colab_type": "code",
    "id": "3XCbAHV9v_h4",
    "outputId": "3847f94f-f849-427d-abdc-05cc60238d46"
   },
   "outputs": [
    {
     "data": {
      "image/png": "[encoded data removed]",
      "text/plain": [
       "<Figure size 432x288 with 1 Axes>"
      ]
     },
     "metadata": {
      "tags": []
     },
     "output_type": "display_data"
    }
   ],
   "source": [
    "for x, y, l in data:\n",
    "  if l == 1: \n",
    "    clr = 'red'\n",
    "  else: \n",
    "    clr = 'blue'\n",
    "  plt.scatter(x, y, c=clr)\n",
    "  plt.xlim(-0.5,1.5)\n",
    "  plt.ylim(-0.5,1.5)"
   ]
  },
  {
   "cell_type": "markdown",
   "metadata": {
    "colab_type": "text",
    "id": "ytt1BrH_y5ms"
   },
   "source": [
    "#Visualize the classifier trained on noisy data\n",
    "Plot actual seperating line and seperating line you got from svm_classifier. Do this for 10, 20, 30, 40, 50 and 100 data points. You can vary the scale of noise as well. Please use only one notebook cell for this visualization. Please use subplot function in matplotlib for this."
   ]
  },
  {
   "cell_type": "code",
   "execution_count": 0,
   "metadata": {
    "colab": {},
    "colab_type": "code",
    "id": "9cMm9PG4wU1h"
   },
   "outputs": [],
   "source": [
    "####################################\n",
    "### Write your code here ###########\n",
    "####################################\n",
    "\n",
    "# Creating a dataset with 100 datapoints\n",
    "large_noisy_data = [[np.random.rand(), np.random.rand()] for i in range(100)]\n",
    "\n",
    "# Adding noise to the above data \n",
    "for i in range(len(large_data)):\n",
    "  large_noisy_data[i][0] += (np.random.rand() - 0.5) / 2.\n",
    "  large_noisy_data[i][1] += (np.random.rand() - 0.5) / 2.\n",
    "\n",
    "for i, point in enumerate(large_noisy_data):\n",
    "  x, y = point\n",
    "  if 0.5*x - y + 0.25 > 0:\n",
    "    large_noisy_data[i].append(-1)\n",
    "  else:\n",
    "    large_noisy_data[i].append(1)"
   ]
  },
  {
   "cell_type": "code",
   "execution_count": 0,
   "metadata": {
    "colab": {
     "base_uri": "https://localhost:8080/",
     "height": 269
    },
    "colab_type": "code",
    "id": "6BvwGAPTuhnn",
    "outputId": "366d021d-ae7d-44d1-d76f-1aa816720a8d"
   },
   "outputs": [
    {
     "data": {
      "image/png": "[encoded data removed]",
      "text/plain": [
       "<Figure size 432x288 with 6 Axes>"
      ]
     },
     "metadata": {
      "tags": []
     },
     "output_type": "display_data"
    }
   ],
   "source": [
    "# Defining the number of datapoints \n",
    "data_points = [10, 20, 30, 40, 50, 100]\n",
    "epochs = 10000\n",
    "l_rate = 1\n",
    "\n",
    "# Classifying the datapoints\n",
    "for i,point in enumerate(data_points):\n",
    "  my_noisy_data = large_noisy_data[:point]\n",
    "  my_noisy_data = np.asarray(my_noisy_data)\n",
    "  X = my_noisy_data[:,:2]\n",
    "  Y = my_noisy_data[:,2]\n",
    "  w = svm_function(X, Y, epochs, l_rate)\n",
    "  x_points = np.linspace(0,1)\n",
    "  plt.xlim(-0.5,1.5)\n",
    "  plt.ylim(-0.5,1.5)\n",
    "\n",
    "  # Plotting the subplots for different number of datapoints \n",
    "  plt.subplot(2, 3, (i+1))\n",
    "  plt.plot(x_points, (-w[0]*x_points - w[2])/w[1],'-r', label = 'Pred line')\n",
    "  plt.plot(x_points, (0.5*x_points + 0.25), '-b', label = 'Act line')\n",
    "  for x, y, l in my_noisy_data:\n",
    "    if l == 1: \n",
    "      clr = 'red'\n",
    "    else: \n",
    "      clr = 'blue'\n",
    "    plt.scatter(x, y, c=clr)\n",
    "    plt.legend()"
   ]
  },
  {
   "cell_type": "markdown",
   "metadata": {
    "colab_type": "text",
    "id": "UWE93egabZsN"
   },
   "source": [
    "#Read the Random Non-linear data stored in CSV1 and visualize it"
   ]
  },
  {
   "cell_type": "code",
   "execution_count": 0,
   "metadata": {
    "colab": {
     "base_uri": "https://localhost:8080/",
     "height": 265
    },
    "colab_type": "code",
    "id": "8ypsb9HEwUFc",
    "outputId": "91a1ffb3-f5fe-4e7b-f0b5-b1b32b7b99a4"
   },
   "outputs": [
    {
     "data": {
      "image/png": "[encoded data removed]",
      "text/plain": [
       "<Figure size 432x288 with 1 Axes>"
      ]
     },
     "metadata": {
      "tags": []
     },
     "output_type": "display_data"
    }
   ],
   "source": [
    "################################################\n",
    "### Write your code here (read data) ###########\n",
    "################################################\n",
    "import csv\n",
    "with open('csv1.csv', 'r') as f:\n",
    "  values_csv1 = list(csv.reader(f, delimiter=','))\n",
    "\n",
    "################################################\n",
    "### Write your code here (visualization) #######\n",
    "################################################\n",
    "for x, y, l in values_csv1:\n",
    "    if (int(l) == 1): \n",
    "      clr = 'red'\n",
    "    else: \n",
    "      clr = 'blue'\n",
    "    plt.scatter(float(x), float(y), c=clr)"
   ]
  },
  {
   "cell_type": "markdown",
   "metadata": {
    "colab_type": "text",
    "id": "alWwrjazvVLl"
   },
   "source": [
    "#Train a SVM classifier on the linearly non-separable data by appropriate features crafted from input data\n",
    "For linearly non-separable data, you need to transform the data in a space where it can be linearly seprable. These features can be exponential, polynomial, trignometric or any other function of actual input features. For example, if your input data is (x1, x2) you can have hand-crafted features as (sin(x1), cos(x1), cos(x2), x1-x2). \n",
    "Here you need to think of which hand-crafted features can be best suited for data given to you. Write a function to convert input features to hand-crafted features. Use these features to train a SVM using svm_function.\n",
    "Note that, if you choose to have L hand-crafted features, SVM will return L+1 dimensional 'w'. \n"
   ]
  },
  {
   "cell_type": "code",
   "execution_count": 0,
   "metadata": {
    "colab": {
     "base_uri": "https://localhost:8080/",
     "height": 53
    },
    "colab_type": "code",
    "id": "gCzlFpckwVzO",
    "outputId": "0f449a56-ea88-4b8a-880d-76ebfda577a4"
   },
   "outputs": [
    {
     "name": "stdout",
     "output_type": "stream",
     "text": [
      "[  1.78868205  -2.04984838 -12.9151083    3.64387534  -5.06811289\n",
      "   3.77475978]\n"
     ]
    }
   ],
   "source": [
    "################################################\n",
    "### Write your code here for features ##########\n",
    "################################################\n",
    "X = []\n",
    "Y = []\n",
    "\n",
    "for row in values_csv1:\n",
    "  X.append(row[:-1])\n",
    "  Y.append(row[-1])\n",
    "\n",
    "X = np.array(X).astype('float64')\n",
    "Y = np.array(Y).astype('float64')\n",
    "\n",
    "X1 = X[:,0]\n",
    "X2 = X[:,1]\n",
    "\n",
    "def mapping(X1, X2):    \n",
    "  x = np.c_[(X1, X2)]\n",
    "  x_1 = x[:,0]**2        \n",
    "  x_2 = np.sqrt(2)*x[:,0]*x[:,1]        \n",
    "  x_3 = x[:,1]**2\n",
    "  features_x = np.array([X1, X2, x_1, x_2, x_3])\t\t\t\n",
    "  return features_x\n",
    "\n",
    "features_x = mapping(X1, X2)\n",
    "\n",
    "################################################\n",
    "### Write your code here for classification ####\n",
    "################################################\n",
    "\n",
    "# Calling the previously defined SVM function \n",
    "w =  svm_function(features_x.T, Y, 10000, 1) \n",
    "print(w)"
   ]
  },
  {
   "cell_type": "markdown",
   "metadata": {
    "colab_type": "text",
    "id": "iN_UcRMNRGWN"
   },
   "source": [
    "#Visualize decision boundary\n",
    "Here, as 'w' retuened by svm_function is (L+1) dimensional, you can not visualize it in the form of line in 2D. To visualize non-linear decision boundary in 2D, you can generate few hundred random data-points and can observe if classifier labels them +1 or -1. Then you can plot this points with different colors to get emperical decision boundary. Write the code for visualization of non-linear decision boundary in next cell."
   ]
  },
  {
   "cell_type": "code",
   "execution_count": 0,
   "metadata": {
    "colab": {
     "base_uri": "https://localhost:8080/",
     "height": 265
    },
    "colab_type": "code",
    "id": "bBIXZbAnSlNa",
    "outputId": "2626ddec-4358-4873-d9f4-99d93cd0cae3"
   },
   "outputs": [
    {
     "data": {
      "image/png": "[encoded data removed]",
      "text/plain": [
       "<Figure size 432x288 with 1 Axes>"
      ]
     },
     "metadata": {
      "tags": []
     },
     "output_type": "display_data"
    }
   ],
   "source": [
    "###################################\n",
    "### Write your code here ##########\n",
    "###################################\n",
    "\n",
    "# Defining a function for visualizing the decision boundary \n",
    "def vis_dec_bnd():\n",
    "  # Defining the two features for testing \n",
    "  X1space = np.linspace(np.min(X1), np.max(X1), 100)\n",
    "  X2space = np.linspace(np.min(X2), np.max(X2), 100)\n",
    "\n",
    "  # Creating the array of testing points \n",
    "  Xtest = []\n",
    "  for i in range(100):\n",
    "    for j in range(100):        \n",
    "      Xtest.append([X1space[i],X2space[j]])\n",
    "  Xtest = np.asarray(Xtest)\n",
    "\n",
    "  # Extracting the features of testing points \n",
    "  features_x = mapping(Xtest[:,0], Xtest[:,1]).T\n",
    "\n",
    "  # Adding a column of all ones to match with the dimension of weight vector  \n",
    "  features_x = np.c_[features_x,np.ones(len(features_x))]\n",
    "\n",
    "  # Classifying the points with trained SVM function \n",
    "  for i in range(len(features_x)):\n",
    "    if np.dot(features_x[i], w) > 0:\n",
    "      plt.scatter(Xtest[i,0], Xtest[i,1], c = \"r\")\n",
    "    else:\n",
    "      plt.scatter(Xtest[i,0], Xtest[i,1], c = \"b\")\n",
    "  return None\n",
    "\n",
    "# Calling the function to visualize decision boundary\n",
    "vis_dec_bnd()"
   ]
  },
  {
   "cell_type": "markdown",
   "metadata": {
    "colab_type": "text",
    "id": "iUk6uoThwZMp"
   },
   "source": [
    "#Read the Random Non-linear data stored in CSV2"
   ]
  },
  {
   "cell_type": "code",
   "execution_count": 0,
   "metadata": {
    "colab": {
     "base_uri": "https://localhost:8080/",
     "height": 265
    },
    "colab_type": "code",
    "id": "Xbba53QawbRW",
    "outputId": "5f144d66-04fd-47e9-a7d8-2c7e4306206c"
   },
   "outputs": [
    {
     "data": {
      "image/png": "[encoded data removed]",
      "text/plain": [
       "<Figure size 432x288 with 1 Axes>"
      ]
     },
     "metadata": {
      "tags": []
     },
     "output_type": "display_data"
    }
   ],
   "source": [
    "################################################\n",
    "### Write your code here #######################\n",
    "################################################\n",
    "import csv\n",
    "with open('csv2.csv', 'r') as f:\n",
    "  values_csv2 = list(csv.reader(f, delimiter=','))\n",
    "\n",
    "################################################\n",
    "### Write your code here (visualization)########\n",
    "################################################\n",
    "for x, y, l in values_csv2:\n",
    "    if (int(l) == 1): \n",
    "      clr = 'red'\n",
    "    else: \n",
    "      clr = 'blue'\n",
    "    plt.scatter(float(x), float(y), c=clr)"
   ]
  },
  {
   "cell_type": "markdown",
   "metadata": {
    "colab_type": "text",
    "id": "mZ3PDED_wd41"
   },
   "source": [
    "#Train a SVM classifier on the non linear data by appropriate features and also visualise it"
   ]
  },
  {
   "cell_type": "code",
   "execution_count": 0,
   "metadata": {
    "colab": {
     "base_uri": "https://localhost:8080/",
     "height": 283
    },
    "colab_type": "code",
    "id": "-_mwG4Ffwe8V",
    "outputId": "f6b505d6-4736-46d0-ac4e-06e1f238e49b"
   },
   "outputs": [
    {
     "name": "stdout",
     "output_type": "stream",
     "text": [
      "[ 0.06968568 -0.16437523  0.06968568 -5.55632219 -0.16437523  4.69529641]\n"
     ]
    },
    {
     "data": {
      "image/png": "[encoded data removed]",
      "text/plain": [
       "<Figure size 432x288 with 1 Axes>"
      ]
     },
     "metadata": {
      "tags": []
     },
     "output_type": "display_data"
    }
   ],
   "source": [
    "################################################\n",
    "### Write your code here for features ##########\n",
    "################################################\n",
    "X = []\n",
    "Y = []\n",
    "\n",
    "for row in values_csv2:\n",
    "  X.append(row[:-1])\n",
    "  Y.append(row[-1])\n",
    "\n",
    "X = np.array(X).astype('float64')\n",
    "Y = np.array(Y).astype('float64')\n",
    "\n",
    "X1 = X[:,0]\n",
    "X2 = X[:,1]\n",
    "\n",
    "def mapping(X1, X2):    \n",
    "  x = np.c_[(X1, X2)]\n",
    "  x_1 = x[:,0]        \n",
    "  x_2 = pow(x[:,0], 2)/0.4 + pow(x[:,1], 2)/0.8        \n",
    "  x_3 = x[:,1]\n",
    "  features_x = np.array([X1, X2, x_1, x_2, x_3])\t\t\t\n",
    "  return features_x\n",
    "\n",
    "features_x = mapping(X1, X2)\n",
    "\n",
    "#####################################################\n",
    "### Write your code here for classification #########\n",
    "#####################################################\n",
    "\n",
    "# Calling the previously defined SVM function \n",
    "w = svm_function(features_x.T, Y, 10000, 1) \n",
    "print(w)\n",
    "\n",
    "######################################################\n",
    "### Write your code here for visualization ###########\n",
    "######################################################\n",
    "\n",
    "# Calling the function to visualize decision boundary\n",
    "vis_dec_bnd()"
   ]
  },
  {
   "cell_type": "markdown",
   "metadata": {
    "colab_type": "text",
    "id": "y_0tNAPtwfx3"
   },
   "source": [
    "#Read the Random Non-linear data stored in CSV3"
   ]
  },
  {
   "cell_type": "code",
   "execution_count": 0,
   "metadata": {
    "colab": {
     "base_uri": "https://localhost:8080/",
     "height": 265
    },
    "colab_type": "code",
    "id": "vI8OP9mUwhmy",
    "outputId": "712f0fd2-1012-44eb-9dd0-0a33cc1e7661"
   },
   "outputs": [
    {
     "data": {
      "image/png": "[encoded data removed]",
      "text/plain": [
       "<Figure size 432x288 with 1 Axes>"
      ]
     },
     "metadata": {
      "tags": []
     },
     "output_type": "display_data"
    }
   ],
   "source": [
    "################################################\n",
    "### Write your code here ####################### \n",
    "################################################ \n",
    "import csv\n",
    "with open('csv3.csv', 'r') as f:\n",
    "  values_csv3 = list(csv.reader(f, delimiter=','))\n",
    "\n",
    "################################################\n",
    "### Write your code here (visualization) #######\n",
    "################################################\n",
    "for x, y, l in values_csv3:\n",
    "    if (int(l) == 1): \n",
    "      clr = 'red'\n",
    "    else: \n",
    "      clr = 'blue'\n",
    "    plt.scatter(float(x), float(y), c=clr)"
   ]
  },
  {
   "cell_type": "markdown",
   "metadata": {
    "colab_type": "text",
    "id": "xLj09HhhwiAO"
   },
   "source": [
    "#Train a SVM classifier on the non linear data by appropriate Feature Engineering and also visualise it"
   ]
  },
  {
   "cell_type": "code",
   "execution_count": 0,
   "metadata": {
    "colab": {
     "base_uri": "https://localhost:8080/",
     "height": 283
    },
    "colab_type": "code",
    "id": "_M04CZx_wi-U",
    "outputId": "38c3df39-c685-4cb4-9ec0-12e2665ad9e1"
   },
   "outputs": [
    {
     "name": "stdout",
     "output_type": "stream",
     "text": [
      "[ 1.56681073  0.66566168 -3.47320174 -5.63906076  0.0748044   5.85516623]\n"
     ]
    },
    {
     "data": {
      "image/png": "[encoded data removed]",
      "text/plain": [
       "<Figure size 432x288 with 1 Axes>"
      ]
     },
     "metadata": {
      "tags": []
     },
     "output_type": "display_data"
    }
   ],
   "source": [
    "################################################\n",
    "### Write your code here for features ##########\n",
    "################################################\n",
    "X = []\n",
    "Y = []\n",
    "\n",
    "for row in values_csv3:\n",
    "  X.append(row[:-1])\n",
    "  Y.append(row[-1])\n",
    "\n",
    "X = np.array(X).astype('float64')\n",
    "Y = np.array(Y).astype('float64')\n",
    "\n",
    "X1 = X[:,0]\n",
    "X2 = X[:,1]\n",
    "\n",
    "def mapping(X1, X2):    \n",
    "  x = np.c_[(X1, X2)]\n",
    "  x_1 = pow(x[:,0], 2)        \n",
    "  x_2 = pow(x[:,0], 2)/0.6 + pow(x[:,1], 2)/0.5        \n",
    "  x_3 = pow(x[:,1], 2)\n",
    "  features_x = np.array([X1, X2, x_1, x_2, x_3])\t\t\t\n",
    "  return features_x\n",
    "\n",
    "features_x = mapping(X1, X2)\n",
    "\n",
    "#####################################################\n",
    "### Write your code here for classification #########\n",
    "#####################################################\n",
    "\n",
    "# Calling the previously defined SVM function \n",
    "w = svm_function(features_x.T, Y, 10000, 1) \n",
    "print(w)\n",
    "\n",
    "######################################################\n",
    "### Write your code here for visualization ###########\n",
    "######################################################\n",
    "\n",
    "# Calling the function to visualize decision boundary\n",
    "vis_dec_bnd()"
   ]
  }
 ],
 "metadata": {
  "colab": {
   "collapsed_sections": [],
   "name": "183236001_assgn1.ipynb",
   "provenance": []
  },
  "kernelspec": {
   "display_name": "Python 3",
   "language": "python",
   "name": "python3"
  },
  "language_info": {
   "codemirror_mode": {
    "name": "ipython",
    "version": 3
   },
   "file_extension": ".py",
   "mimetype": "text/x-python",
   "name": "python",
   "nbconvert_exporter": "python",
   "pygments_lexer": "ipython3",
   "version": "3.7.6"
  }
 },
 "nbformat": 4,
 "nbformat_minor": 1
}
