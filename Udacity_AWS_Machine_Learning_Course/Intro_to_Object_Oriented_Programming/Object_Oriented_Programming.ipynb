{
  "nbformat": 4,
  "nbformat_minor": 0,
  "metadata": {
    "colab": {
      "name": "Object_Oriented_Programming.ipynb",
      "provenance": [],
      "collapsed_sections": []
    },
    "kernelspec": {
      "name": "python3",
      "display_name": "Python 3"
    }
  },
  "cells": [
    {
      "cell_type": "markdown",
      "metadata": {
        "id": "qPaQFmkfIqw5",
        "colab_type": "text"
      },
      "source": [
        "# Why Object-Oriented Programming?"
      ]
    },
    {
      "cell_type": "markdown",
      "metadata": {
        "id": "9H9sFzT2IjRn",
        "colab_type": "text"
      },
      "source": [
        "Object-oriented programming has a few benefits over procedural programming, which is the programming style we most likely first learned. As we'll see in this lesson,\n",
        "\n",
        "* object-oriented programming allows us to create large, modular programs that can easily expand over time;\n",
        "* object-oriented programs hide the implementation from the end-user.\n",
        "\n",
        "Consider Python packages like [Scikit-learn](https://github.com/scikit-learn/scikit-learn), [pandas](https://pandas.pydata.org/), and [NumPy](http://www.numpy.org/). These are all Python packages built with object-oriented programming. Scikit-learn, for example, is a relatively large and complex package built with object-oriented programming. This package has expanded over the years with new functionality and new algorithms.\n",
        "\n",
        "When we train a machine learning algorithm with Scikit-learn, we don't have to know anything about how the algorithms work or how they were coded. We can focus directly on the modeling.\n",
        "\n",
        "Here's an example taken from the Scikit-learn website:\n",
        "\n",
        "```\n",
        "from sklearn import svm\n",
        "X = [[0, 0], [1, 1]]\n",
        "y = [0, 1]\n",
        "clf = svm.SVC()\n",
        "clf.fit(X, y) \n",
        "```\n",
        "\n",
        "How does Scikit-learn train the SVM model? We don't need to know because the implementation is hidden with object-oriented programming. If the implementation changes, we as a user of Scikit-learn might not ever find out. Whether or not we SHOULD understand how SVM works is a different question.\n",
        "\n",
        "**Lesson Files**\n",
        "\n",
        "* [data scientist nanodegree term 2 GitHub repo](https://github.com/udacity/DSND_Term2/tree/master/lessons/ObjectOrientedProgramming). \n",
        "\n"
      ]
    },
    {
      "cell_type": "markdown",
      "metadata": {
        "id": "6UOe-kIiKAi1",
        "colab_type": "text"
      },
      "source": [
        "# Procedural vs Object-Oriented Programming\n"
      ]
    },
    {
      "cell_type": "markdown",
      "metadata": {
        "id": "-nHuA7IxKC_Y",
        "colab_type": "text"
      },
      "source": [
        "Here is a reminder of what is a characteristic and what is an action.\n",
        "\n",
        "![objects](https://video.udacity-data.com/topher/2018/July/5b511a90_screen-shot-2018-07-19-at-4.05.25-pm/screen-shot-2018-07-19-at-4.05.25-pm.png)\n",
        "\n",
        "**Characteristics and Actions in English Grammar**\n",
        "\n",
        "Another way to think about characteristics and actions is in terms of English grammar. A characteristic would be a noun. On the other hand, an action would be a verb.\n",
        "\n",
        "Let's pick something from the real-world: a dog. A few characteristics could be the dog's weight, color, breed, and height. These are all nouns. What actions would a dog take? A dog can bark, run, bite and eat. These are all verbs."
      ]
    },
    {
      "cell_type": "markdown",
      "metadata": {
        "id": "4zzWl7NKKvih",
        "colab_type": "text"
      },
      "source": [
        "# Object-Oriented Programming (OOP) Vocabulary\n"
      ]
    },
    {
      "cell_type": "markdown",
      "metadata": {
        "id": "7DfnKnNOLn5b",
        "colab_type": "text"
      },
      "source": [
        "* **class** - a blueprint consisting of methods and attributes\n",
        "* **object** - an instance of a class. It can help to think of objects as something in the real world like a yellow pencil, a small dog, a blue shirt, etc. However, objects can be more abstract.\n",
        "* **attribute** - a descriptor or characteristic. Examples would be color, length, size, etc. These attributes can take on specific values like blue, 3 inches, large, etc.\n",
        "* **method** - an action that a class or object could take\n",
        "* **encapsulation** - one of the fundamental ideas behind object-oriented programming is called encapsulation: we can combine functions and data all into a single entity. In object-oriented programming, this single entity is called a class. Encapsulation allows us to hide implementation details much like how the scikit-learn package hides the implementation of machine learning algorithms.\n",
        "\n",
        "In English, we might hear an attribute described as a *property*, *description*, *feature*, *quality*, *trait*, or *characteristic*. All of these are saying the same thing.\n",
        "\n",
        "Here is a reminder of how a class, object, attributes and methods relate to each other. A class is a blueprint consisting of attributes and methods.\n",
        "\n",
        "![blueprint](https://video.udacity-data.com/topher/2018/July/5b511ad5_screen-shot-2018-07-19-at-4.06.55-pm/screen-shot-2018-07-19-at-4.06.55-pm.png)"
      ]
    },
    {
      "cell_type": "markdown",
      "metadata": {
        "id": "1v0tgIR_O953",
        "colab_type": "text"
      },
      "source": [
        "# Object-Oriented Programming Syntax\n"
      ]
    },
    {
      "cell_type": "code",
      "metadata": {
        "id": "Ibt436LsO_CJ",
        "colab_type": "code",
        "colab": {}
      },
      "source": [
        "class Shirt:\n",
        "  def __init__(self, shirt_color, shirt_size, shirt_style, shirt_price):\n",
        "    self.color = shirt_color\n",
        "    self.size = shirt_size\n",
        "    self.style = shirt_style\n",
        "    self.price = shirt_price \n",
        "\n",
        "  def change_price(self, new_price):\n",
        "    self.price = new_price \n",
        "\n",
        "  def discount(self, discount):\n",
        "    return self.price * (1 - discount)"
      ],
      "execution_count": 1,
      "outputs": []
    },
    {
      "cell_type": "code",
      "metadata": {
        "id": "XUe1JaJvP-F_",
        "colab_type": "code",
        "colab": {
          "base_uri": "https://localhost:8080/",
          "height": 35
        },
        "outputId": "90f23173-c5dc-4f3e-846f-9b97c4628b50"
      },
      "source": [
        "Shirt('red', 'S', 'short sleeve', 15)"
      ],
      "execution_count": 2,
      "outputs": [
        {
          "output_type": "execute_result",
          "data": {
            "text/plain": [
              "<__main__.Shirt at 0x7fafb98c4f98>"
            ]
          },
          "metadata": {
            "tags": []
          },
          "execution_count": 2
        }
      ]
    },
    {
      "cell_type": "code",
      "metadata": {
        "id": "tW8trifvQL9K",
        "colab_type": "code",
        "colab": {}
      },
      "source": [
        "new_shirt = Shirt('red', 'S', 'short sleeve', 15)"
      ],
      "execution_count": 3,
      "outputs": []
    },
    {
      "cell_type": "code",
      "metadata": {
        "id": "oXO9u4qGQRDg",
        "colab_type": "code",
        "colab": {
          "base_uri": "https://localhost:8080/",
          "height": 89
        },
        "outputId": "cc3be7de-c728-4fcc-bd38-d0abc2f8768e"
      },
      "source": [
        "print(new_shirt.color)\n",
        "print(new_shirt.size)\n",
        "print(new_shirt.style)\n",
        "print(new_shirt.price)"
      ],
      "execution_count": 4,
      "outputs": [
        {
          "output_type": "stream",
          "text": [
            "red\n",
            "S\n",
            "short sleeve\n",
            "15\n"
          ],
          "name": "stdout"
        }
      ]
    },
    {
      "cell_type": "code",
      "metadata": {
        "id": "ENbn5tKZRGgu",
        "colab_type": "code",
        "colab": {
          "base_uri": "https://localhost:8080/",
          "height": 35
        },
        "outputId": "7eaae81d-3c70-4593-d5b4-aba975353689"
      },
      "source": [
        "new_shirt.change_price(10)\n",
        "print(new_shirt.price)"
      ],
      "execution_count": 5,
      "outputs": [
        {
          "output_type": "stream",
          "text": [
            "10\n"
          ],
          "name": "stdout"
        }
      ]
    },
    {
      "cell_type": "code",
      "metadata": {
        "id": "6PQvf7PpRMj8",
        "colab_type": "code",
        "colab": {
          "base_uri": "https://localhost:8080/",
          "height": 35
        },
        "outputId": "8740f144-e7bf-4d48-d22d-bc4d736d61f5"
      },
      "source": [
        "print(new_shirt.discount(0.2))"
      ],
      "execution_count": 6,
      "outputs": [
        {
          "output_type": "stream",
          "text": [
            "8.0\n"
          ],
          "name": "stdout"
        }
      ]
    },
    {
      "cell_type": "code",
      "metadata": {
        "id": "TzoWhZowRt84",
        "colab_type": "code",
        "colab": {
          "base_uri": "https://localhost:8080/",
          "height": 71
        },
        "outputId": "bcd32a91-1978-4f9a-8261-21d1df7fddb5"
      },
      "source": [
        "tshirt_collection = []\n",
        "shirt_one = Shirt('orange', 'M', 'short sleeve', 25)\n",
        "shirt_two = Shirt('red', 'S', 'short sleeve', 15)\n",
        "shirt_three = Shirt('purple', 'XL', 'short sleeve', 10)\n",
        "\n",
        "tshirt_collection.append(shirt_one)\n",
        "tshirt_collection.append(shirt_two)\n",
        "tshirt_collection.append(shirt_three)\n",
        "\n",
        "for i in range(len(tshirt_collection)):\n",
        "  print(tshirt_collection[i].color)"
      ],
      "execution_count": 7,
      "outputs": [
        {
          "output_type": "stream",
          "text": [
            "orange\n",
            "red\n",
            "purple\n"
          ],
          "name": "stdout"
        }
      ]
    },
    {
      "cell_type": "markdown",
      "metadata": {
        "id": "K0Su_5oLTD3L",
        "colab_type": "text"
      },
      "source": [
        "**Function vs Method**\n",
        "\n",
        "Why is `init` not a function?\n",
        "\n",
        "A function and a method look very similar. They both use the `def` keyword. They also have inputs and return outputs. The difference is that a method is inside of a class whereas a function is outside of a class.\n",
        "\n",
        "**What is self?**\n",
        "\n",
        "If we instantiate two objects, how does Python differentiate between these two objects?\n",
        "\n",
        "```\n",
        "shirt_one = Shirt('red', 'S', 'short-sleeve', 15)\n",
        "short_two = Shirt('yellow', 'M', 'long-sleeve', 20)\n",
        "```\n",
        "\n",
        "That's where `self` comes into play. If we call the `change_price` method on shirt_one, how does Python know to change the price of shirt_one and not of shirt_two?\n",
        "\n",
        "```\n",
        "shirt_one.change_price(12)\n",
        "```\n",
        "Behind the scenes, Python is calling the `change_price` method:\n",
        "\n",
        "```\n",
        "def change_price(self, new_price):\n",
        "        self.price = new_price\n",
        "```\n",
        "\n",
        "`self` tells Python where to look in the computer's memory for the shirt_one object. And then Python changes the price of the shirt_one object. When we call the `change_price` method, `shirt_one.change_price(12)`, `self` is implicitly passed in.\n",
        "\n",
        "The word `self` is just a convention. We could actually use any other name as long as we are consistent; however, we should always use `self` rather than some other word or else it might confuse people.\n",
        "\n",
        "\n",
        "\n"
      ]
    }
  ]
}