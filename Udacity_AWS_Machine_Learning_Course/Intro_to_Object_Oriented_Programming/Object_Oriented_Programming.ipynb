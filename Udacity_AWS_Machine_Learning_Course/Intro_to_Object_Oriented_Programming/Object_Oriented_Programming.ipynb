{
  "nbformat": 4,
  "nbformat_minor": 0,
  "metadata": {
    "colab": {
      "name": "Object_Oriented_Programming.ipynb",
      "provenance": [],
      "collapsed_sections": []
    },
    "kernelspec": {
      "name": "python3",
      "display_name": "Python 3"
    }
  },
  "cells": [
    {
      "cell_type": "markdown",
      "metadata": {
        "id": "qPaQFmkfIqw5",
        "colab_type": "text"
      },
      "source": [
        "# Why Object-Oriented Programming?"
      ]
    },
    {
      "cell_type": "markdown",
      "metadata": {
        "id": "9H9sFzT2IjRn",
        "colab_type": "text"
      },
      "source": [
        "Object-oriented programming has a few benefits over procedural programming, which is the programming style we most likely first learned. As we'll see in this lesson,\n",
        "\n",
        "* object-oriented programming allows us to create large, modular programs that can easily expand over time;\n",
        "* object-oriented programs hide the implementation from the end-user.\n",
        "\n",
        "Consider Python packages like [Scikit-learn](https://github.com/scikit-learn/scikit-learn), [pandas](https://pandas.pydata.org/), and [NumPy](http://www.numpy.org/). These are all Python packages built with object-oriented programming. Scikit-learn, for example, is a relatively large and complex package built with object-oriented programming. This package has expanded over the years with new functionality and new algorithms.\n",
        "\n",
        "When we train a machine learning algorithm with Scikit-learn, we don't have to know anything about how the algorithms work or how they were coded. We can focus directly on the modeling.\n",
        "\n",
        "Here's an example taken from the Scikit-learn website:\n",
        "\n",
        "```\n",
        "from sklearn import svm\n",
        "X = [[0, 0], [1, 1]]\n",
        "y = [0, 1]\n",
        "clf = svm.SVC()\n",
        "clf.fit(X, y) \n",
        "```\n",
        "\n",
        "How does Scikit-learn train the SVM model? We don't need to know because the implementation is hidden with object-oriented programming. If the implementation changes, we as a user of Scikit-learn might not ever find out. Whether or not we SHOULD understand how SVM works is a different question.\n",
        "\n",
        "**Lesson Files**\n",
        "\n",
        "* [data scientist nanodegree term 2 GitHub repo](https://github.com/udacity/DSND_Term2/tree/master/lessons/ObjectOrientedProgramming). \n",
        "\n"
      ]
    },
    {
      "cell_type": "markdown",
      "metadata": {
        "id": "6UOe-kIiKAi1",
        "colab_type": "text"
      },
      "source": [
        "# Procedural vs Object-Oriented Programming\n"
      ]
    },
    {
      "cell_type": "markdown",
      "metadata": {
        "id": "-nHuA7IxKC_Y",
        "colab_type": "text"
      },
      "source": [
        "Here is a reminder of what is a characteristic and what is an action.\n",
        "\n",
        "![objects](https://video.udacity-data.com/topher/2018/July/5b511a90_screen-shot-2018-07-19-at-4.05.25-pm/screen-shot-2018-07-19-at-4.05.25-pm.png)\n",
        "\n",
        "**Characteristics and Actions in English Grammar**\n",
        "\n",
        "Another way to think about characteristics and actions is in terms of English grammar. A characteristic would be a noun. On the other hand, an action would be a verb.\n",
        "\n",
        "Let's pick something from the real-world: a dog. A few characteristics could be the dog's weight, color, breed, and height. These are all nouns. What actions would a dog take? A dog can bark, run, bite and eat. These are all verbs."
      ]
    },
    {
      "cell_type": "markdown",
      "metadata": {
        "id": "4zzWl7NKKvih",
        "colab_type": "text"
      },
      "source": [
        "# Object-Oriented Programming (OOP) Vocabulary\n"
      ]
    },
    {
      "cell_type": "markdown",
      "metadata": {
        "id": "7DfnKnNOLn5b",
        "colab_type": "text"
      },
      "source": [
        "* **class** - a blueprint consisting of methods and attributes\n",
        "* **object** - an instance of a class. It can help to think of objects as something in the real world like a yellow pencil, a small dog, a blue shirt, etc. However, objects can be more abstract.\n",
        "* **attribute** - a descriptor or characteristic. Examples would be color, length, size, etc. These attributes can take on specific values like blue, 3 inches, large, etc.\n",
        "* **method** - an action that a class or object could take\n",
        "* **encapsulation** - one of the fundamental ideas behind object-oriented programming is called encapsulation: we can combine functions and data all into a single entity. In object-oriented programming, this single entity is called a class. Encapsulation allows us to hide implementation details much like how the scikit-learn package hides the implementation of machine learning algorithms.\n",
        "\n",
        "In English, we might hear an attribute described as a *property*, *description*, *feature*, *quality*, *trait*, or *characteristic*. All of these are saying the same thing.\n",
        "\n",
        "Here is a reminder of how a class, object, attributes and methods relate to each other. A class is a blueprint consisting of attributes and methods.\n",
        "\n",
        "![blueprint](https://video.udacity-data.com/topher/2018/July/5b511ad5_screen-shot-2018-07-19-at-4.06.55-pm/screen-shot-2018-07-19-at-4.06.55-pm.png)"
      ]
    },
    {
      "cell_type": "markdown",
      "metadata": {
        "id": "1v0tgIR_O953",
        "colab_type": "text"
      },
      "source": [
        "# Object-Oriented Programming Syntax\n"
      ]
    },
    {
      "cell_type": "code",
      "metadata": {
        "id": "Ibt436LsO_CJ",
        "colab_type": "code",
        "colab": {}
      },
      "source": [
        "class Shirt:\n",
        "  def __init__(self, shirt_color, shirt_size, shirt_style, shirt_price):\n",
        "    self.color = shirt_color\n",
        "    self.size = shirt_size\n",
        "    self.style = shirt_style\n",
        "    self.price = shirt_price \n",
        "\n",
        "  def change_price(self, new_price):\n",
        "    self.price = new_price \n",
        "\n",
        "  def discount(self, discount):\n",
        "    return self.price * (1 - discount)"
      ],
      "execution_count": null,
      "outputs": []
    },
    {
      "cell_type": "code",
      "metadata": {
        "id": "XUe1JaJvP-F_",
        "colab_type": "code",
        "colab": {
          "base_uri": "https://localhost:8080/",
          "height": 35
        },
        "outputId": "90f23173-c5dc-4f3e-846f-9b97c4628b50"
      },
      "source": [
        "Shirt('red', 'S', 'short sleeve', 15)"
      ],
      "execution_count": null,
      "outputs": [
        {
          "output_type": "execute_result",
          "data": {
            "text/plain": [
              "<__main__.Shirt at 0x7fafb98c4f98>"
            ]
          },
          "metadata": {
            "tags": []
          },
          "execution_count": 2
        }
      ]
    },
    {
      "cell_type": "code",
      "metadata": {
        "id": "tW8trifvQL9K",
        "colab_type": "code",
        "colab": {}
      },
      "source": [
        "new_shirt = Shirt('red', 'S', 'short sleeve', 15)"
      ],
      "execution_count": null,
      "outputs": []
    },
    {
      "cell_type": "code",
      "metadata": {
        "id": "oXO9u4qGQRDg",
        "colab_type": "code",
        "colab": {
          "base_uri": "https://localhost:8080/",
          "height": 89
        },
        "outputId": "cc3be7de-c728-4fcc-bd38-d0abc2f8768e"
      },
      "source": [
        "print(new_shirt.color)\n",
        "print(new_shirt.size)\n",
        "print(new_shirt.style)\n",
        "print(new_shirt.price)"
      ],
      "execution_count": null,
      "outputs": [
        {
          "output_type": "stream",
          "text": [
            "red\n",
            "S\n",
            "short sleeve\n",
            "15\n"
          ],
          "name": "stdout"
        }
      ]
    },
    {
      "cell_type": "code",
      "metadata": {
        "id": "ENbn5tKZRGgu",
        "colab_type": "code",
        "colab": {
          "base_uri": "https://localhost:8080/",
          "height": 35
        },
        "outputId": "7eaae81d-3c70-4593-d5b4-aba975353689"
      },
      "source": [
        "new_shirt.change_price(10)\n",
        "print(new_shirt.price)"
      ],
      "execution_count": null,
      "outputs": [
        {
          "output_type": "stream",
          "text": [
            "10\n"
          ],
          "name": "stdout"
        }
      ]
    },
    {
      "cell_type": "code",
      "metadata": {
        "id": "6PQvf7PpRMj8",
        "colab_type": "code",
        "colab": {
          "base_uri": "https://localhost:8080/",
          "height": 35
        },
        "outputId": "8740f144-e7bf-4d48-d22d-bc4d736d61f5"
      },
      "source": [
        "print(new_shirt.discount(0.2))"
      ],
      "execution_count": null,
      "outputs": [
        {
          "output_type": "stream",
          "text": [
            "8.0\n"
          ],
          "name": "stdout"
        }
      ]
    },
    {
      "cell_type": "code",
      "metadata": {
        "id": "TzoWhZowRt84",
        "colab_type": "code",
        "colab": {
          "base_uri": "https://localhost:8080/",
          "height": 71
        },
        "outputId": "bcd32a91-1978-4f9a-8261-21d1df7fddb5"
      },
      "source": [
        "tshirt_collection = []\n",
        "shirt_one = Shirt('orange', 'M', 'short sleeve', 25)\n",
        "shirt_two = Shirt('red', 'S', 'short sleeve', 15)\n",
        "shirt_three = Shirt('purple', 'XL', 'short sleeve', 10)\n",
        "\n",
        "tshirt_collection.append(shirt_one)\n",
        "tshirt_collection.append(shirt_two)\n",
        "tshirt_collection.append(shirt_three)\n",
        "\n",
        "for i in range(len(tshirt_collection)):\n",
        "  print(tshirt_collection[i].color)"
      ],
      "execution_count": null,
      "outputs": [
        {
          "output_type": "stream",
          "text": [
            "orange\n",
            "red\n",
            "purple\n"
          ],
          "name": "stdout"
        }
      ]
    },
    {
      "cell_type": "markdown",
      "metadata": {
        "id": "K0Su_5oLTD3L",
        "colab_type": "text"
      },
      "source": [
        "**Function vs Method**\n",
        "\n",
        "Why is `init` not a function?\n",
        "\n",
        "A function and a method look very similar. They both use the `def` keyword. They also have inputs and return outputs. The difference is that a method is inside of a class whereas a function is outside of a class.\n",
        "\n",
        "**What is self?**\n",
        "\n",
        "If we instantiate two objects, how does Python differentiate between these two objects?\n",
        "\n",
        "```\n",
        "shirt_one = Shirt('red', 'S', 'short-sleeve', 15)\n",
        "short_two = Shirt('yellow', 'M', 'long-sleeve', 20)\n",
        "```\n",
        "\n",
        "That's where `self` comes into play. If we call the `change_price` method on shirt_one, how does Python know to change the price of shirt_one and not of shirt_two?\n",
        "\n",
        "```\n",
        "shirt_one.change_price(12)\n",
        "```\n",
        "Behind the scenes, Python is calling the `change_price` method:\n",
        "\n",
        "```\n",
        "def change_price(self, new_price):\n",
        "        self.price = new_price\n",
        "```\n",
        "\n",
        "`self` tells Python where to look in the computer's memory for the shirt_one object. And then Python changes the price of the shirt_one object. When we call the `change_price` method, `shirt_one.change_price(12)`, `self` is implicitly passed in.\n",
        "\n",
        "The word `self` is just a convention. We could actually use any other name as long as we are consistent; however, we should always use `self` rather than some other word or else it might confuse people.\n",
        "\n",
        "\n",
        "\n"
      ]
    },
    {
      "cell_type": "markdown",
      "metadata": {
        "id": "k3nZghoAYBpr",
        "colab_type": "text"
      },
      "source": [
        "# Set and Get methods\n"
      ]
    },
    {
      "cell_type": "markdown",
      "metadata": {
        "id": "XzR3890LYD0E",
        "colab_type": "text"
      },
      "source": [
        "Accessing attributes in Python can be somewhat different than in other programming languages like Java and C++. \n",
        "\n",
        "The shirt class has a method to change the price of the shirt: `shirt_one.change_price(20)`. In Python, we can also change the values of an attribute with the following syntax:\n",
        "\n",
        "```\n",
        "shirt_one.price = 10\n",
        "shirt_one.price = 20\n",
        "shirt_one.color = 'red'\n",
        "shirt_one.size = 'M'\n",
        "shirt_one.style = 'long_sleeve'\n",
        "```\n",
        "\n",
        "This code accesses and changes the price, color, size and style attributes directly. Accessing attributes directly would be frowned upon in many other languages but not in Python. Instead, the general object-oriented programming convention is to use methods to access attributes or change attribute values. These methods are called set and get methods or setter and getter methods.\n",
        "\n",
        "A get method is for obtaining an attribute value. A set method is for changing an attribute value. If we were writing a Shirt class, the code could look like this:\n",
        "\n",
        "```\n",
        "class Shirt:\n",
        "\n",
        "    def __init__(self, shirt_color, shirt_size, shirt_style, shirt_price):\n",
        "        self._price = shirt_price\n",
        "\n",
        "    def get_price(self):\n",
        "      return self._price\n",
        "\n",
        "    def set_price(self, new_price):\n",
        "      self._price = new_price\n",
        "```\n",
        "Instantiating and using an object might look like this:\n",
        "\n",
        "```\n",
        "shirt_one = Shirt('yellow', 'M', 'long-sleeve', 15)\n",
        "print(shirt_one.get_price())\n",
        "shirt_one.set_price(10)\n",
        "```\n",
        "In the class definition, the underscore in front of price is a somewhat controversial Python convention. In other languages like C++ or Java, price could be explicitly labeled as a private variable. This would prohibit an object from accessing the price attribute directly like `shirt_one._price = 15`. However, Python does not distinguish between private and public variables like other languages. Therefore, there is some controversy about using the underscore convention as well as get and set methods in Python. Why use get and set methods in Python when Python wasn't designed to use them?\n",
        "\n",
        "At the same time, you'll find that some Python programmers develop object-oriented programs using get and set methods anyway. Following the Python convention, the underscore in front of price is to let a programmer know that price should only be accessed with get and set methods rather than accessing price directly with `shirt_one._price`. However, a programmer could still access _price directly because there is nothing in the Python language to prevent the direct access.\n",
        "\n",
        "To reiterate, a programmer could technically still do something like `shirt_one._price = 10`, and the code would work. But accessing price directly, in this case, would not be following the intent of how the Shirt class was designed.\n",
        "\n",
        "One of the benefits of set and get methods is that, as previously mentioned in the course, you can hide the implementation from your user. Maybe originally a variable was coded as a list and later became a dictionary. With set and get methods, you could easily change how that variable gets accessed. Without set and get methods, you'd have to go to every place in the code that accessed the variable directly and change the code.\n",
        "\n",
        "One can read more about get and set methods in Python on this [Python Tutorial site](https://www.python-course.eu/python3_properties.php). \n",
        "\n",
        "**A Note about Attributes**\n",
        "\n",
        "There are some drawbacks to accessing attributes directly versus writing a method for accessing attributes.\n",
        "\n",
        "In terms of object-oriented programming, the rules in Python are a bit looser than in other programming languages. As previously mentioned, in some languages, like C++, we can explicitly state whether or not an object should be allowed to change or access an attribute's values directly. Python does not have this option.\n",
        "\n",
        "Why might it be better to change a value with a method instead of directly? Changing values via a method gives you more flexibility in the long-term. What if the units of measurement change, like the store was originally meant to work in US dollars and now has to handle Euros? Here's an example:\n",
        "\n",
        "**Example Dollars versus Euros**\n",
        "\n",
        "If you've changed attribute values directly, you'll have to go through your code and find all the places where US dollars were used, like:\n",
        "\n",
        "```\n",
        "shirt_one.price = 10 # US dollars\n",
        "```\n",
        "\n",
        "and then manually change to Euros\n",
        "\n",
        "```\n",
        "shirt_one.price = 8 # Euros\n",
        "```\n",
        "\n",
        "If we had used a method, then we would only have to change the method to convert from dollars to Euros.\n",
        "\n",
        "```\n",
        "def change_price(self, new_price):\n",
        "    self.price = new_price * 0.81 # convert dollars to Euros\n",
        "\n",
        "shirt_one.change_price(10)\n",
        "```\n",
        "\n"
      ]
    },
    {
      "cell_type": "markdown",
      "metadata": {
        "id": "NMrhyV2Nm7Cm",
        "colab_type": "text"
      },
      "source": [
        "# Gaussian Class"
      ]
    },
    {
      "cell_type": "markdown",
      "metadata": {
        "id": "5yDVjrdxm_3a",
        "colab_type": "text"
      },
      "source": [
        "**Gaussian Distribution Formulas**\n",
        "\n",
        "**probability density function**\n",
        "$f(x \\: | \\: \\mu, \\: \\sigma^2) = \\frac{1}{\\sqrt{2\\pi\\sigma^2}} e^-\\frac{(x - \\mu)^2}{2\\sigma^2}$\n",
        "\n",
        "where:\n",
        "\n",
        ">> $\\mu$ is the mean\n",
        "\n",
        ">> $\\sigma$ is the standard deviation\n",
        "\n",
        ">> $\\sigma^2$ is the variance\n",
        "\n",
        "\n",
        "**Binomial Distribution Formulas**\n",
        "\n",
        "**mean** $\\mu = n*p$\n",
        "\n",
        "In other words, a fair coin has a probability of a positive outcome (heads) $p$ = 0.5. If we flip a coin 20 times, the mean would be 20 * 0.5 = 10; we'd expect to get 10 heads.\n",
        "\n",
        "**variance** $\\sigma^2 = n*p*(1-p)$\n",
        "\n",
        "Continuing with the coin example, $n$ would be the number of coin tosses and $p$ would be the probability of getting heads.\n",
        "\n",
        "**standard deviation** $\\sigma = \\sqrt{n*p*(1-p)}$\n",
        "\n",
        "**probability density function** $f(k, n, p) = \\frac{n!}{k! (n-k)!} p^k (1-p)^{n-k}$\n",
        "\n"
      ]
    },
    {
      "cell_type": "markdown",
      "metadata": {
        "id": "NDHTuXjqqnJm",
        "colab_type": "text"
      },
      "source": [
        "# Advanced OOP Topics\n"
      ]
    },
    {
      "cell_type": "markdown",
      "metadata": {
        "id": "p6v-DqyexPh-",
        "colab_type": "text"
      },
      "source": [
        "List of resources for advanced Python object-oriented programming topics: \n",
        "\n",
        "* [class methods, instance methods, and static methods](https://realpython.com/instance-class-and-static-methods-demystified/) - these are different types of methods that can be accessed at the class or object level\n",
        "* [class attributes vs instance attributes](https://www.python-course.eu/python3_class_and_instance_attributes.php) - we can also define attributes at the class level or at the instance level\n",
        "* [multiple inheritance, mixins](https://easyaspython.com/mixins-for-fun-and-profit-cb9962760556) - A class can inherit from multiple parent classes\n",
        "* [Python decorators](https://realpython.com/primer-on-python-decorators/) - Decorators are a short-hand way for using functions inside other functions"
      ]
    }
  ]
}