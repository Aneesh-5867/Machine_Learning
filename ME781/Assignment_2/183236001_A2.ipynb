{
  "nbformat": 4,
  "nbformat_minor": 0,
  "metadata": {
    "colab": {
      "name": "183236001_A2",
      "provenance": [],
      "collapsed_sections": []
    },
    "kernelspec": {
      "name": "python3",
      "display_name": "Python 3"
    }
  },
  "cells": [
    {
      "cell_type": "markdown",
      "metadata": {
        "id": "6NbmRSkplDOq",
        "colab_type": "text"
      },
      "source": [
        "# Assignment 2  "
      ]
    },
    {
      "cell_type": "markdown",
      "metadata": {
        "id": "nlzU9UO7nXzE",
        "colab_type": "text"
      },
      "source": [
        "In this assignment, we need to identify the data scale, data type, etc. of five different data sets. Subsequently, we have to visualize the data using relevant plots (histograms, bar charts, etc.). "
      ]
    },
    {
      "cell_type": "markdown",
      "metadata": {
        "id": "6SNcnJHmoLMg",
        "colab_type": "text"
      },
      "source": [
        "## Creating a List of 5 Data Sets "
      ]
    },
    {
      "cell_type": "markdown",
      "metadata": {
        "id": "-sHxZKwXoPwf",
        "colab_type": "text"
      },
      "source": [
        "### Problem statement "
      ]
    },
    {
      "cell_type": "markdown",
      "metadata": {
        "id": "0QIEuCyNlY55",
        "colab_type": "text"
      },
      "source": [
        "Create a list of 5 open data sets available for machine learning along with their URLs for each of the three data types as given below:\n",
        "  * Discrete data type, \n",
        "  * Sequential (temporal) data type and \n",
        "  * Spatial data type\n",
        "\n",
        "\n"
      ]
    },
    {
      "cell_type": "markdown",
      "metadata": {
        "id": "twuYAM0hoWNl",
        "colab_type": "text"
      },
      "source": [
        "### Solution "
      ]
    },
    {
      "cell_type": "markdown",
      "metadata": {
        "id": "-d9ZCuu8pWUm",
        "colab_type": "text"
      },
      "source": [
        "I have used the datasets provided by the **University of California Irvine (UCI)**. These datasets are available on https://archive.ics.uci.edu/ml/datasets.php. \n",
        "\n",
        "Though all the datasets furnished by the UCI are well-polished, I found a few datasets having some missing values, like `?` in some entries. That's why I have pre-processed those datasets by removing the missing values. Later, I have saved these datasets as CSV files to be passed as an argument to the various functions. "
      ]
    },
    {
      "cell_type": "code",
      "metadata": {
        "id": "q_CRI9_OrErV",
        "colab_type": "code",
        "colab": {
          "base_uri": "https://localhost:8080/",
          "height": 73
        },
        "outputId": "5f4b4fc0-435e-48a1-ae24-507c0ff114e2"
      },
      "source": [
        "import numpy as np\n",
        "import pandas as pd\n",
        "import matplotlib.pyplot as plt\n",
        "import seaborn as sns \n",
        "from scipy.stats import mode"
      ],
      "execution_count": 1,
      "outputs": [
        {
          "output_type": "stream",
          "text": [
            "/usr/local/lib/python3.6/dist-packages/statsmodels/tools/_testing.py:19: FutureWarning: pandas.util.testing is deprecated. Use the functions in the public API at pandas.testing instead.\n",
            "  import pandas.util.testing as tm\n"
          ],
          "name": "stderr"
        }
      ]
    },
    {
      "cell_type": "code",
      "metadata": {
        "id": "5CekjezAozVF",
        "colab_type": "code",
        "colab": {}
      },
      "source": [
        "# Discrete type \n",
        "# Description of the following dataset is on https://archive.ics.uci.edu/ml/datasets/Auto+MPG \n",
        "url_1_discrete_type = \"https://archive.ics.uci.edu/ml/machine-learning-databases/auto-mpg/auto-mpg.data\"\n",
        "\n",
        "# Apply the column names on the dataset \n",
        "column_names = ['mpg', 'cylinders', 'displacement', 'horsepower', 'weight', 'acceleration', 'model_year', 'origin', 'car_name']\n",
        "\n",
        "# Read the dataset with proper delimiter and column names as given above \n",
        "auto_mpg = pd.read_csv(url_1_discrete_type, delim_whitespace = True, names = column_names)"
      ],
      "execution_count": 2,
      "outputs": []
    },
    {
      "cell_type": "code",
      "metadata": {
        "id": "gJZu63UArMLy",
        "colab_type": "code",
        "colab": {
          "base_uri": "https://localhost:8080/",
          "height": 359
        },
        "outputId": "91f407a1-cde2-4c75-e332-9f29a695323d"
      },
      "source": [
        "# View 10 random rows to glance at the auto_mpg\n",
        "auto_mpg.sample(10)"
      ],
      "execution_count": 3,
      "outputs": [
        {
          "output_type": "execute_result",
          "data": {
            "text/html": [
              "<div>\n",
              "<style scoped>\n",
              "    .dataframe tbody tr th:only-of-type {\n",
              "        vertical-align: middle;\n",
              "    }\n",
              "\n",
              "    .dataframe tbody tr th {\n",
              "        vertical-align: top;\n",
              "    }\n",
              "\n",
              "    .dataframe thead th {\n",
              "        text-align: right;\n",
              "    }\n",
              "</style>\n",
              "<table border=\"1\" class=\"dataframe\">\n",
              "  <thead>\n",
              "    <tr style=\"text-align: right;\">\n",
              "      <th></th>\n",
              "      <th>mpg</th>\n",
              "      <th>cylinders</th>\n",
              "      <th>displacement</th>\n",
              "      <th>horsepower</th>\n",
              "      <th>weight</th>\n",
              "      <th>acceleration</th>\n",
              "      <th>model_year</th>\n",
              "      <th>origin</th>\n",
              "      <th>car_name</th>\n",
              "    </tr>\n",
              "  </thead>\n",
              "  <tbody>\n",
              "    <tr>\n",
              "      <th>270</th>\n",
              "      <td>21.1</td>\n",
              "      <td>4</td>\n",
              "      <td>134.0</td>\n",
              "      <td>95.00</td>\n",
              "      <td>2515.0</td>\n",
              "      <td>14.8</td>\n",
              "      <td>78</td>\n",
              "      <td>3</td>\n",
              "      <td>toyota celica gt liftback</td>\n",
              "    </tr>\n",
              "    <tr>\n",
              "      <th>98</th>\n",
              "      <td>16.0</td>\n",
              "      <td>6</td>\n",
              "      <td>250.0</td>\n",
              "      <td>100.0</td>\n",
              "      <td>3278.0</td>\n",
              "      <td>18.0</td>\n",
              "      <td>73</td>\n",
              "      <td>1</td>\n",
              "      <td>chevrolet nova custom</td>\n",
              "    </tr>\n",
              "    <tr>\n",
              "      <th>19</th>\n",
              "      <td>26.0</td>\n",
              "      <td>4</td>\n",
              "      <td>97.0</td>\n",
              "      <td>46.00</td>\n",
              "      <td>1835.0</td>\n",
              "      <td>20.5</td>\n",
              "      <td>70</td>\n",
              "      <td>2</td>\n",
              "      <td>volkswagen 1131 deluxe sedan</td>\n",
              "    </tr>\n",
              "    <tr>\n",
              "      <th>170</th>\n",
              "      <td>23.0</td>\n",
              "      <td>4</td>\n",
              "      <td>140.0</td>\n",
              "      <td>78.00</td>\n",
              "      <td>2592.0</td>\n",
              "      <td>18.5</td>\n",
              "      <td>75</td>\n",
              "      <td>1</td>\n",
              "      <td>pontiac astro</td>\n",
              "    </tr>\n",
              "    <tr>\n",
              "      <th>203</th>\n",
              "      <td>29.5</td>\n",
              "      <td>4</td>\n",
              "      <td>97.0</td>\n",
              "      <td>71.00</td>\n",
              "      <td>1825.0</td>\n",
              "      <td>12.2</td>\n",
              "      <td>76</td>\n",
              "      <td>2</td>\n",
              "      <td>volkswagen rabbit</td>\n",
              "    </tr>\n",
              "    <tr>\n",
              "      <th>84</th>\n",
              "      <td>27.0</td>\n",
              "      <td>4</td>\n",
              "      <td>97.0</td>\n",
              "      <td>88.00</td>\n",
              "      <td>2100.0</td>\n",
              "      <td>16.5</td>\n",
              "      <td>72</td>\n",
              "      <td>3</td>\n",
              "      <td>toyota corolla 1600 (sw)</td>\n",
              "    </tr>\n",
              "    <tr>\n",
              "      <th>143</th>\n",
              "      <td>26.0</td>\n",
              "      <td>4</td>\n",
              "      <td>97.0</td>\n",
              "      <td>78.00</td>\n",
              "      <td>2300.0</td>\n",
              "      <td>14.5</td>\n",
              "      <td>74</td>\n",
              "      <td>2</td>\n",
              "      <td>opel manta</td>\n",
              "    </tr>\n",
              "    <tr>\n",
              "      <th>162</th>\n",
              "      <td>15.0</td>\n",
              "      <td>6</td>\n",
              "      <td>258.0</td>\n",
              "      <td>110.0</td>\n",
              "      <td>3730.0</td>\n",
              "      <td>19.0</td>\n",
              "      <td>75</td>\n",
              "      <td>1</td>\n",
              "      <td>amc matador</td>\n",
              "    </tr>\n",
              "    <tr>\n",
              "      <th>146</th>\n",
              "      <td>28.0</td>\n",
              "      <td>4</td>\n",
              "      <td>90.0</td>\n",
              "      <td>75.00</td>\n",
              "      <td>2125.0</td>\n",
              "      <td>14.5</td>\n",
              "      <td>74</td>\n",
              "      <td>1</td>\n",
              "      <td>dodge colt</td>\n",
              "    </tr>\n",
              "    <tr>\n",
              "      <th>142</th>\n",
              "      <td>26.0</td>\n",
              "      <td>4</td>\n",
              "      <td>79.0</td>\n",
              "      <td>67.00</td>\n",
              "      <td>1963.0</td>\n",
              "      <td>15.5</td>\n",
              "      <td>74</td>\n",
              "      <td>2</td>\n",
              "      <td>volkswagen dasher</td>\n",
              "    </tr>\n",
              "  </tbody>\n",
              "</table>\n",
              "</div>"
            ],
            "text/plain": [
              "      mpg  cylinders  ...  origin                      car_name\n",
              "270  21.1          4  ...       3     toyota celica gt liftback\n",
              "98   16.0          6  ...       1         chevrolet nova custom\n",
              "19   26.0          4  ...       2  volkswagen 1131 deluxe sedan\n",
              "170  23.0          4  ...       1                 pontiac astro\n",
              "203  29.5          4  ...       2             volkswagen rabbit\n",
              "84   27.0          4  ...       3      toyota corolla 1600 (sw)\n",
              "143  26.0          4  ...       2                    opel manta\n",
              "162  15.0          6  ...       1                   amc matador\n",
              "146  28.0          4  ...       1                    dodge colt\n",
              "142  26.0          4  ...       2             volkswagen dasher\n",
              "\n",
              "[10 rows x 9 columns]"
            ]
          },
          "metadata": {
            "tags": []
          },
          "execution_count": 3
        }
      ]
    },
    {
      "cell_type": "code",
      "metadata": {
        "id": "kguzlNtVrk0D",
        "colab_type": "code",
        "colab": {
          "base_uri": "https://localhost:8080/",
          "height": 235
        },
        "outputId": "609910bd-640d-49f9-fb0a-8f5541dbc26e"
      },
      "source": [
        "# The column horsepower in auto_mpg has ? as some entries  \n",
        "# Find the rows having horsepower as ?\n",
        "auto_mpg[auto_mpg['horsepower'] == \"?\"]"
      ],
      "execution_count": 4,
      "outputs": [
        {
          "output_type": "execute_result",
          "data": {
            "text/html": [
              "<div>\n",
              "<style scoped>\n",
              "    .dataframe tbody tr th:only-of-type {\n",
              "        vertical-align: middle;\n",
              "    }\n",
              "\n",
              "    .dataframe tbody tr th {\n",
              "        vertical-align: top;\n",
              "    }\n",
              "\n",
              "    .dataframe thead th {\n",
              "        text-align: right;\n",
              "    }\n",
              "</style>\n",
              "<table border=\"1\" class=\"dataframe\">\n",
              "  <thead>\n",
              "    <tr style=\"text-align: right;\">\n",
              "      <th></th>\n",
              "      <th>mpg</th>\n",
              "      <th>cylinders</th>\n",
              "      <th>displacement</th>\n",
              "      <th>horsepower</th>\n",
              "      <th>weight</th>\n",
              "      <th>acceleration</th>\n",
              "      <th>model_year</th>\n",
              "      <th>origin</th>\n",
              "      <th>car_name</th>\n",
              "    </tr>\n",
              "  </thead>\n",
              "  <tbody>\n",
              "    <tr>\n",
              "      <th>32</th>\n",
              "      <td>25.0</td>\n",
              "      <td>4</td>\n",
              "      <td>98.0</td>\n",
              "      <td>?</td>\n",
              "      <td>2046.0</td>\n",
              "      <td>19.0</td>\n",
              "      <td>71</td>\n",
              "      <td>1</td>\n",
              "      <td>ford pinto</td>\n",
              "    </tr>\n",
              "    <tr>\n",
              "      <th>126</th>\n",
              "      <td>21.0</td>\n",
              "      <td>6</td>\n",
              "      <td>200.0</td>\n",
              "      <td>?</td>\n",
              "      <td>2875.0</td>\n",
              "      <td>17.0</td>\n",
              "      <td>74</td>\n",
              "      <td>1</td>\n",
              "      <td>ford maverick</td>\n",
              "    </tr>\n",
              "    <tr>\n",
              "      <th>330</th>\n",
              "      <td>40.9</td>\n",
              "      <td>4</td>\n",
              "      <td>85.0</td>\n",
              "      <td>?</td>\n",
              "      <td>1835.0</td>\n",
              "      <td>17.3</td>\n",
              "      <td>80</td>\n",
              "      <td>2</td>\n",
              "      <td>renault lecar deluxe</td>\n",
              "    </tr>\n",
              "    <tr>\n",
              "      <th>336</th>\n",
              "      <td>23.6</td>\n",
              "      <td>4</td>\n",
              "      <td>140.0</td>\n",
              "      <td>?</td>\n",
              "      <td>2905.0</td>\n",
              "      <td>14.3</td>\n",
              "      <td>80</td>\n",
              "      <td>1</td>\n",
              "      <td>ford mustang cobra</td>\n",
              "    </tr>\n",
              "    <tr>\n",
              "      <th>354</th>\n",
              "      <td>34.5</td>\n",
              "      <td>4</td>\n",
              "      <td>100.0</td>\n",
              "      <td>?</td>\n",
              "      <td>2320.0</td>\n",
              "      <td>15.8</td>\n",
              "      <td>81</td>\n",
              "      <td>2</td>\n",
              "      <td>renault 18i</td>\n",
              "    </tr>\n",
              "    <tr>\n",
              "      <th>374</th>\n",
              "      <td>23.0</td>\n",
              "      <td>4</td>\n",
              "      <td>151.0</td>\n",
              "      <td>?</td>\n",
              "      <td>3035.0</td>\n",
              "      <td>20.5</td>\n",
              "      <td>82</td>\n",
              "      <td>1</td>\n",
              "      <td>amc concord dl</td>\n",
              "    </tr>\n",
              "  </tbody>\n",
              "</table>\n",
              "</div>"
            ],
            "text/plain": [
              "      mpg  cylinders  displacement  ... model_year  origin              car_name\n",
              "32   25.0          4          98.0  ...         71       1            ford pinto\n",
              "126  21.0          6         200.0  ...         74       1         ford maverick\n",
              "330  40.9          4          85.0  ...         80       2  renault lecar deluxe\n",
              "336  23.6          4         140.0  ...         80       1    ford mustang cobra\n",
              "354  34.5          4         100.0  ...         81       2           renault 18i\n",
              "374  23.0          4         151.0  ...         82       1        amc concord dl\n",
              "\n",
              "[6 rows x 9 columns]"
            ]
          },
          "metadata": {
            "tags": []
          },
          "execution_count": 4
        }
      ]
    },
    {
      "cell_type": "code",
      "metadata": {
        "id": "puTq6jd_r6wO",
        "colab_type": "code",
        "colab": {}
      },
      "source": [
        "# Drop the rows having horsepower as ? \n",
        "auto_mpg.drop(auto_mpg[auto_mpg['horsepower'] == '?'].index, inplace = True)"
      ],
      "execution_count": 5,
      "outputs": []
    },
    {
      "cell_type": "code",
      "metadata": {
        "id": "8OP71K_ysBxY",
        "colab_type": "code",
        "colab": {
          "base_uri": "https://localhost:8080/",
          "height": 49
        },
        "outputId": "e3f9aa5c-baa7-4dc0-9923-a187355ac667"
      },
      "source": [
        "# Check whether the rows with horsepower as ? are gone \n",
        "auto_mpg[auto_mpg['horsepower'] == '?']"
      ],
      "execution_count": 6,
      "outputs": [
        {
          "output_type": "execute_result",
          "data": {
            "text/html": [
              "<div>\n",
              "<style scoped>\n",
              "    .dataframe tbody tr th:only-of-type {\n",
              "        vertical-align: middle;\n",
              "    }\n",
              "\n",
              "    .dataframe tbody tr th {\n",
              "        vertical-align: top;\n",
              "    }\n",
              "\n",
              "    .dataframe thead th {\n",
              "        text-align: right;\n",
              "    }\n",
              "</style>\n",
              "<table border=\"1\" class=\"dataframe\">\n",
              "  <thead>\n",
              "    <tr style=\"text-align: right;\">\n",
              "      <th></th>\n",
              "      <th>mpg</th>\n",
              "      <th>cylinders</th>\n",
              "      <th>displacement</th>\n",
              "      <th>horsepower</th>\n",
              "      <th>weight</th>\n",
              "      <th>acceleration</th>\n",
              "      <th>model_year</th>\n",
              "      <th>origin</th>\n",
              "      <th>car_name</th>\n",
              "    </tr>\n",
              "  </thead>\n",
              "  <tbody>\n",
              "  </tbody>\n",
              "</table>\n",
              "</div>"
            ],
            "text/plain": [
              "Empty DataFrame\n",
              "Columns: [mpg, cylinders, displacement, horsepower, weight, acceleration, model_year, origin, car_name]\n",
              "Index: []"
            ]
          },
          "metadata": {
            "tags": []
          },
          "execution_count": 6
        }
      ]
    },
    {
      "cell_type": "code",
      "metadata": {
        "id": "ppPlxjACsL7H",
        "colab_type": "code",
        "colab": {
          "base_uri": "https://localhost:8080/",
          "height": 305
        },
        "outputId": "c7baa613-4971-49b9-8c17-d019ada2609f"
      },
      "source": [
        "# Check the data types of the attributes in auto_mpg \n",
        "auto_mpg.info()"
      ],
      "execution_count": 7,
      "outputs": [
        {
          "output_type": "stream",
          "text": [
            "<class 'pandas.core.frame.DataFrame'>\n",
            "Int64Index: 392 entries, 0 to 397\n",
            "Data columns (total 9 columns):\n",
            " #   Column        Non-Null Count  Dtype  \n",
            "---  ------        --------------  -----  \n",
            " 0   mpg           392 non-null    float64\n",
            " 1   cylinders     392 non-null    int64  \n",
            " 2   displacement  392 non-null    float64\n",
            " 3   horsepower    392 non-null    object \n",
            " 4   weight        392 non-null    float64\n",
            " 5   acceleration  392 non-null    float64\n",
            " 6   model_year    392 non-null    int64  \n",
            " 7   origin        392 non-null    int64  \n",
            " 8   car_name      392 non-null    object \n",
            "dtypes: float64(4), int64(3), object(2)\n",
            "memory usage: 30.6+ KB\n"
          ],
          "name": "stdout"
        }
      ]
    },
    {
      "cell_type": "markdown",
      "metadata": {
        "id": "PeP5Lct3_rbT",
        "colab_type": "text"
      },
      "source": [
        "From the above mentioned details, we find out that the attribute `horsepower` is stored as `object` type. So, we need to change its type to `numeric`. \n",
        "\n"
      ]
    },
    {
      "cell_type": "code",
      "metadata": {
        "id": "K4nBnsJKABUr",
        "colab_type": "code",
        "colab": {
          "base_uri": "https://localhost:8080/",
          "height": 305
        },
        "outputId": "20330102-e994-47f2-9ac5-ed7faaaa891d"
      },
      "source": [
        "# Change the data type of horsepower to numeric \n",
        "auto_mpg.horsepower = auto_mpg.horsepower.apply(pd.to_numeric)\n",
        "\n",
        "# Check the data types of the attributes in auto_mpg after the above change \n",
        "auto_mpg.info()"
      ],
      "execution_count": 8,
      "outputs": [
        {
          "output_type": "stream",
          "text": [
            "<class 'pandas.core.frame.DataFrame'>\n",
            "Int64Index: 392 entries, 0 to 397\n",
            "Data columns (total 9 columns):\n",
            " #   Column        Non-Null Count  Dtype  \n",
            "---  ------        --------------  -----  \n",
            " 0   mpg           392 non-null    float64\n",
            " 1   cylinders     392 non-null    int64  \n",
            " 2   displacement  392 non-null    float64\n",
            " 3   horsepower    392 non-null    float64\n",
            " 4   weight        392 non-null    float64\n",
            " 5   acceleration  392 non-null    float64\n",
            " 6   model_year    392 non-null    int64  \n",
            " 7   origin        392 non-null    int64  \n",
            " 8   car_name      392 non-null    object \n",
            "dtypes: float64(5), int64(3), object(1)\n",
            "memory usage: 30.6+ KB\n"
          ],
          "name": "stdout"
        }
      ]
    },
    {
      "cell_type": "markdown",
      "metadata": {
        "id": "-XWngTuaASMR",
        "colab_type": "text"
      },
      "source": [
        "After removing the missing values and changing the data type of `horsepower`, we will save the `auto_mpg` as a CSV file. "
      ]
    },
    {
      "cell_type": "code",
      "metadata": {
        "id": "fbDx1wG6Adby",
        "colab_type": "code",
        "colab": {}
      },
      "source": [
        "# Store the auto_mpg data in a CSV file for further functions\n",
        "auto_mpg.to_csv('auto-mpg.csv', index=False)"
      ],
      "execution_count": 9,
      "outputs": []
    },
    {
      "cell_type": "markdown",
      "metadata": {
        "id": "ThyiAoK-BAcm",
        "colab_type": "text"
      },
      "source": [
        "Now, we will read and save another dataset. "
      ]
    },
    {
      "cell_type": "code",
      "metadata": {
        "id": "rpRVGoReBL1_",
        "colab_type": "code",
        "colab": {}
      },
      "source": [
        "# Discrete type \n",
        "# Description of the following dataset is on https://archive.ics.uci.edu/ml/datasets/Iris \n",
        "url_2_discrete_type = \"http://archive.ics.uci.edu/ml/machine-learning-databases/iris/iris.data\"\n",
        "\n",
        "# Apply the column names on the dataset \n",
        "column_names = [\"sepal_length\",\"sepal_width\",\"petal_length\",\"petal_width\", \"species\"]\n",
        "\n",
        "# Read the dataset with column names as given above \n",
        "iris = pd.read_csv(url_2_discrete_type, names = column_names)"
      ],
      "execution_count": 10,
      "outputs": []
    },
    {
      "cell_type": "code",
      "metadata": {
        "id": "jon6WVOYBo5T",
        "colab_type": "code",
        "colab": {
          "base_uri": "https://localhost:8080/",
          "height": 359
        },
        "outputId": "98fc61d5-0f5b-417f-d952-abaafd8b09bc"
      },
      "source": [
        "# View 10 random rows to glance at the auto_mpg\n",
        "iris.sample(10)"
      ],
      "execution_count": 11,
      "outputs": [
        {
          "output_type": "execute_result",
          "data": {
            "text/html": [
              "<div>\n",
              "<style scoped>\n",
              "    .dataframe tbody tr th:only-of-type {\n",
              "        vertical-align: middle;\n",
              "    }\n",
              "\n",
              "    .dataframe tbody tr th {\n",
              "        vertical-align: top;\n",
              "    }\n",
              "\n",
              "    .dataframe thead th {\n",
              "        text-align: right;\n",
              "    }\n",
              "</style>\n",
              "<table border=\"1\" class=\"dataframe\">\n",
              "  <thead>\n",
              "    <tr style=\"text-align: right;\">\n",
              "      <th></th>\n",
              "      <th>sepal_length</th>\n",
              "      <th>sepal_width</th>\n",
              "      <th>petal_length</th>\n",
              "      <th>petal_width</th>\n",
              "      <th>species</th>\n",
              "    </tr>\n",
              "  </thead>\n",
              "  <tbody>\n",
              "    <tr>\n",
              "      <th>93</th>\n",
              "      <td>5.0</td>\n",
              "      <td>2.3</td>\n",
              "      <td>3.3</td>\n",
              "      <td>1.0</td>\n",
              "      <td>Iris-versicolor</td>\n",
              "    </tr>\n",
              "    <tr>\n",
              "      <th>132</th>\n",
              "      <td>6.4</td>\n",
              "      <td>2.8</td>\n",
              "      <td>5.6</td>\n",
              "      <td>2.2</td>\n",
              "      <td>Iris-virginica</td>\n",
              "    </tr>\n",
              "    <tr>\n",
              "      <th>81</th>\n",
              "      <td>5.5</td>\n",
              "      <td>2.4</td>\n",
              "      <td>3.7</td>\n",
              "      <td>1.0</td>\n",
              "      <td>Iris-versicolor</td>\n",
              "    </tr>\n",
              "    <tr>\n",
              "      <th>62</th>\n",
              "      <td>6.0</td>\n",
              "      <td>2.2</td>\n",
              "      <td>4.0</td>\n",
              "      <td>1.0</td>\n",
              "      <td>Iris-versicolor</td>\n",
              "    </tr>\n",
              "    <tr>\n",
              "      <th>39</th>\n",
              "      <td>5.1</td>\n",
              "      <td>3.4</td>\n",
              "      <td>1.5</td>\n",
              "      <td>0.2</td>\n",
              "      <td>Iris-setosa</td>\n",
              "    </tr>\n",
              "    <tr>\n",
              "      <th>118</th>\n",
              "      <td>7.7</td>\n",
              "      <td>2.6</td>\n",
              "      <td>6.9</td>\n",
              "      <td>2.3</td>\n",
              "      <td>Iris-virginica</td>\n",
              "    </tr>\n",
              "    <tr>\n",
              "      <th>99</th>\n",
              "      <td>5.7</td>\n",
              "      <td>2.8</td>\n",
              "      <td>4.1</td>\n",
              "      <td>1.3</td>\n",
              "      <td>Iris-versicolor</td>\n",
              "    </tr>\n",
              "    <tr>\n",
              "      <th>23</th>\n",
              "      <td>5.1</td>\n",
              "      <td>3.3</td>\n",
              "      <td>1.7</td>\n",
              "      <td>0.5</td>\n",
              "      <td>Iris-setosa</td>\n",
              "    </tr>\n",
              "    <tr>\n",
              "      <th>75</th>\n",
              "      <td>6.6</td>\n",
              "      <td>3.0</td>\n",
              "      <td>4.4</td>\n",
              "      <td>1.4</td>\n",
              "      <td>Iris-versicolor</td>\n",
              "    </tr>\n",
              "    <tr>\n",
              "      <th>48</th>\n",
              "      <td>5.3</td>\n",
              "      <td>3.7</td>\n",
              "      <td>1.5</td>\n",
              "      <td>0.2</td>\n",
              "      <td>Iris-setosa</td>\n",
              "    </tr>\n",
              "  </tbody>\n",
              "</table>\n",
              "</div>"
            ],
            "text/plain": [
              "     sepal_length  sepal_width  petal_length  petal_width          species\n",
              "93            5.0          2.3           3.3          1.0  Iris-versicolor\n",
              "132           6.4          2.8           5.6          2.2   Iris-virginica\n",
              "81            5.5          2.4           3.7          1.0  Iris-versicolor\n",
              "62            6.0          2.2           4.0          1.0  Iris-versicolor\n",
              "39            5.1          3.4           1.5          0.2      Iris-setosa\n",
              "118           7.7          2.6           6.9          2.3   Iris-virginica\n",
              "99            5.7          2.8           4.1          1.3  Iris-versicolor\n",
              "23            5.1          3.3           1.7          0.5      Iris-setosa\n",
              "75            6.6          3.0           4.4          1.4  Iris-versicolor\n",
              "48            5.3          3.7           1.5          0.2      Iris-setosa"
            ]
          },
          "metadata": {
            "tags": []
          },
          "execution_count": 11
        }
      ]
    },
    {
      "cell_type": "code",
      "metadata": {
        "id": "-nWIsw7vB0IE",
        "colab_type": "code",
        "colab": {}
      },
      "source": [
        "# Store the iris data in a CSV file for further functions\n",
        "iris.to_csv('iris.csv', index = False)"
      ],
      "execution_count": 12,
      "outputs": []
    },
    {
      "cell_type": "markdown",
      "metadata": {
        "id": "xDeRTNhgCKTw",
        "colab_type": "text"
      },
      "source": [
        "Now, we will read and save another dataset. "
      ]
    },
    {
      "cell_type": "code",
      "metadata": {
        "id": "Lr-UWkeYCKDW",
        "colab_type": "code",
        "colab": {}
      },
      "source": [
        "# Discrete type \n",
        "# Description of the following dataset is on https://archive.ics.uci.edu/ml/datasets/Car+Evaluation\n",
        "url_3_discrete_type = \"https://archive.ics.uci.edu/ml/machine-learning-databases/car/car.data\"\n",
        "\n",
        "# Apply the column names on the dataset \n",
        "column_names = [\"buying\", \"maint\", \"doors\", \"persons\", \"lug_boot\", \"safety\", \"car_accept\"]\n",
        "\n",
        "# Read the dataset with column names as given above \n",
        "car = pd.read_csv(url_3_discrete_type, names = column_names)"
      ],
      "execution_count": 13,
      "outputs": []
    },
    {
      "cell_type": "code",
      "metadata": {
        "id": "xQJnBTIaGQP8",
        "colab_type": "code",
        "colab": {
          "base_uri": "https://localhost:8080/",
          "height": 359
        },
        "outputId": "1cd94e0f-c2f4-4d32-95bd-9fc80bc3213d"
      },
      "source": [
        "# View 10 random rows to glance at the car\n",
        "car.sample(10)"
      ],
      "execution_count": 14,
      "outputs": [
        {
          "output_type": "execute_result",
          "data": {
            "text/html": [
              "<div>\n",
              "<style scoped>\n",
              "    .dataframe tbody tr th:only-of-type {\n",
              "        vertical-align: middle;\n",
              "    }\n",
              "\n",
              "    .dataframe tbody tr th {\n",
              "        vertical-align: top;\n",
              "    }\n",
              "\n",
              "    .dataframe thead th {\n",
              "        text-align: right;\n",
              "    }\n",
              "</style>\n",
              "<table border=\"1\" class=\"dataframe\">\n",
              "  <thead>\n",
              "    <tr style=\"text-align: right;\">\n",
              "      <th></th>\n",
              "      <th>buying</th>\n",
              "      <th>maint</th>\n",
              "      <th>doors</th>\n",
              "      <th>persons</th>\n",
              "      <th>lug_boot</th>\n",
              "      <th>safety</th>\n",
              "      <th>car_accept</th>\n",
              "    </tr>\n",
              "  </thead>\n",
              "  <tbody>\n",
              "    <tr>\n",
              "      <th>1694</th>\n",
              "      <td>low</td>\n",
              "      <td>low</td>\n",
              "      <td>4</td>\n",
              "      <td>more</td>\n",
              "      <td>small</td>\n",
              "      <td>high</td>\n",
              "      <td>good</td>\n",
              "    </tr>\n",
              "    <tr>\n",
              "      <th>905</th>\n",
              "      <td>med</td>\n",
              "      <td>vhigh</td>\n",
              "      <td>3</td>\n",
              "      <td>4</td>\n",
              "      <td>med</td>\n",
              "      <td>high</td>\n",
              "      <td>acc</td>\n",
              "    </tr>\n",
              "    <tr>\n",
              "      <th>406</th>\n",
              "      <td>vhigh</td>\n",
              "      <td>low</td>\n",
              "      <td>5more</td>\n",
              "      <td>2</td>\n",
              "      <td>small</td>\n",
              "      <td>med</td>\n",
              "      <td>unacc</td>\n",
              "    </tr>\n",
              "    <tr>\n",
              "      <th>313</th>\n",
              "      <td>vhigh</td>\n",
              "      <td>med</td>\n",
              "      <td>5more</td>\n",
              "      <td>4</td>\n",
              "      <td>big</td>\n",
              "      <td>med</td>\n",
              "      <td>acc</td>\n",
              "    </tr>\n",
              "    <tr>\n",
              "      <th>748</th>\n",
              "      <td>high</td>\n",
              "      <td>med</td>\n",
              "      <td>5more</td>\n",
              "      <td>more</td>\n",
              "      <td>small</td>\n",
              "      <td>med</td>\n",
              "      <td>unacc</td>\n",
              "    </tr>\n",
              "    <tr>\n",
              "      <th>1204</th>\n",
              "      <td>med</td>\n",
              "      <td>low</td>\n",
              "      <td>2</td>\n",
              "      <td>4</td>\n",
              "      <td>big</td>\n",
              "      <td>med</td>\n",
              "      <td>good</td>\n",
              "    </tr>\n",
              "    <tr>\n",
              "      <th>544</th>\n",
              "      <td>high</td>\n",
              "      <td>high</td>\n",
              "      <td>2</td>\n",
              "      <td>2</td>\n",
              "      <td>med</td>\n",
              "      <td>med</td>\n",
              "      <td>unacc</td>\n",
              "    </tr>\n",
              "    <tr>\n",
              "      <th>1009</th>\n",
              "      <td>med</td>\n",
              "      <td>high</td>\n",
              "      <td>3</td>\n",
              "      <td>4</td>\n",
              "      <td>small</td>\n",
              "      <td>med</td>\n",
              "      <td>unacc</td>\n",
              "    </tr>\n",
              "    <tr>\n",
              "      <th>901</th>\n",
              "      <td>med</td>\n",
              "      <td>vhigh</td>\n",
              "      <td>3</td>\n",
              "      <td>4</td>\n",
              "      <td>small</td>\n",
              "      <td>med</td>\n",
              "      <td>unacc</td>\n",
              "    </tr>\n",
              "    <tr>\n",
              "      <th>753</th>\n",
              "      <td>high</td>\n",
              "      <td>med</td>\n",
              "      <td>5more</td>\n",
              "      <td>more</td>\n",
              "      <td>big</td>\n",
              "      <td>low</td>\n",
              "      <td>unacc</td>\n",
              "    </tr>\n",
              "  </tbody>\n",
              "</table>\n",
              "</div>"
            ],
            "text/plain": [
              "     buying  maint  doors persons lug_boot safety car_accept\n",
              "1694    low    low      4    more    small   high       good\n",
              "905     med  vhigh      3       4      med   high        acc\n",
              "406   vhigh    low  5more       2    small    med      unacc\n",
              "313   vhigh    med  5more       4      big    med        acc\n",
              "748    high    med  5more    more    small    med      unacc\n",
              "1204    med    low      2       4      big    med       good\n",
              "544    high   high      2       2      med    med      unacc\n",
              "1009    med   high      3       4    small    med      unacc\n",
              "901     med  vhigh      3       4    small    med      unacc\n",
              "753    high    med  5more    more      big    low      unacc"
            ]
          },
          "metadata": {
            "tags": []
          },
          "execution_count": 14
        }
      ]
    },
    {
      "cell_type": "code",
      "metadata": {
        "id": "mfZTMy1VGhiJ",
        "colab_type": "code",
        "colab": {}
      },
      "source": [
        "# Store the car data in a CSV file for further functions\n",
        "car.to_csv('car.csv', index = False)"
      ],
      "execution_count": 15,
      "outputs": []
    },
    {
      "cell_type": "markdown",
      "metadata": {
        "id": "trhBupSiHW8I",
        "colab_type": "text"
      },
      "source": [
        "Now, we will look at one spatial data. "
      ]
    },
    {
      "cell_type": "code",
      "metadata": {
        "id": "0ooOlo0lAe5p",
        "colab_type": "code",
        "colab": {}
      },
      "source": [
        "# Spatial type \n",
        "# Description of the following dataset is on https://archive.ics.uci.edu/ml/datasets/Connect-4\n",
        "\n",
        "# This data is available inside a zipped folder at the above mentioned URL. \n",
        "# For the sake of simplicity, I have downloaded the data and pushed it on GitHub. \n",
        "\n",
        "url_4_spatial_type = \"https://raw.githubusercontent.com/SudhakarKuma/Machine_Learning/master/ME781/Assignment_2/connect-4.data\"\n",
        "\n",
        "# The column names of this dataset are a1, a2, ..., a6 and similarly, upto g1, g2, ..., g6. \n",
        "# To create a list with column names, I have used a for loop as given below. \n",
        "# Apply the column names on the dataset \n",
        "\n",
        "alpha = ['a', 'b', 'c', 'd', 'e', 'f', 'g']\n",
        "i = 1\n",
        "column_names = []\n",
        "\n",
        "for val in alpha: \n",
        "  for i in range(1, 7): \n",
        "    column_names.append(val + str(i))\n",
        "\n",
        "column_names.append(\"outcome\")\n",
        "\n",
        "# Read the dataset with column names as given above \n",
        "connect_4 = pd.read_csv(url_4_spatial_type, names = column_names)"
      ],
      "execution_count": 16,
      "outputs": []
    },
    {
      "cell_type": "code",
      "metadata": {
        "id": "5-QnUKaMLGe0",
        "colab_type": "code",
        "colab": {
          "base_uri": "https://localhost:8080/",
          "height": 379
        },
        "outputId": "698618a9-d412-47f7-b560-316b326b838f"
      },
      "source": [
        "# View 10 random rows to glance at the car\n",
        "connect_4.sample(10)"
      ],
      "execution_count": 17,
      "outputs": [
        {
          "output_type": "execute_result",
          "data": {
            "text/html": [
              "<div>\n",
              "<style scoped>\n",
              "    .dataframe tbody tr th:only-of-type {\n",
              "        vertical-align: middle;\n",
              "    }\n",
              "\n",
              "    .dataframe tbody tr th {\n",
              "        vertical-align: top;\n",
              "    }\n",
              "\n",
              "    .dataframe thead th {\n",
              "        text-align: right;\n",
              "    }\n",
              "</style>\n",
              "<table border=\"1\" class=\"dataframe\">\n",
              "  <thead>\n",
              "    <tr style=\"text-align: right;\">\n",
              "      <th></th>\n",
              "      <th>a1</th>\n",
              "      <th>a2</th>\n",
              "      <th>a3</th>\n",
              "      <th>a4</th>\n",
              "      <th>a5</th>\n",
              "      <th>a6</th>\n",
              "      <th>b1</th>\n",
              "      <th>b2</th>\n",
              "      <th>b3</th>\n",
              "      <th>b4</th>\n",
              "      <th>b5</th>\n",
              "      <th>b6</th>\n",
              "      <th>c1</th>\n",
              "      <th>c2</th>\n",
              "      <th>c3</th>\n",
              "      <th>c4</th>\n",
              "      <th>c5</th>\n",
              "      <th>c6</th>\n",
              "      <th>d1</th>\n",
              "      <th>d2</th>\n",
              "      <th>d3</th>\n",
              "      <th>d4</th>\n",
              "      <th>d5</th>\n",
              "      <th>d6</th>\n",
              "      <th>e1</th>\n",
              "      <th>e2</th>\n",
              "      <th>e3</th>\n",
              "      <th>e4</th>\n",
              "      <th>e5</th>\n",
              "      <th>e6</th>\n",
              "      <th>f1</th>\n",
              "      <th>f2</th>\n",
              "      <th>f3</th>\n",
              "      <th>f4</th>\n",
              "      <th>f5</th>\n",
              "      <th>f6</th>\n",
              "      <th>g1</th>\n",
              "      <th>g2</th>\n",
              "      <th>g3</th>\n",
              "      <th>g4</th>\n",
              "      <th>g5</th>\n",
              "      <th>g6</th>\n",
              "      <th>outcome</th>\n",
              "    </tr>\n",
              "  </thead>\n",
              "  <tbody>\n",
              "    <tr>\n",
              "      <th>62002</th>\n",
              "      <td>x</td>\n",
              "      <td>x</td>\n",
              "      <td>b</td>\n",
              "      <td>b</td>\n",
              "      <td>b</td>\n",
              "      <td>b</td>\n",
              "      <td>b</td>\n",
              "      <td>b</td>\n",
              "      <td>b</td>\n",
              "      <td>b</td>\n",
              "      <td>b</td>\n",
              "      <td>b</td>\n",
              "      <td>b</td>\n",
              "      <td>b</td>\n",
              "      <td>b</td>\n",
              "      <td>b</td>\n",
              "      <td>b</td>\n",
              "      <td>b</td>\n",
              "      <td>o</td>\n",
              "      <td>x</td>\n",
              "      <td>o</td>\n",
              "      <td>o</td>\n",
              "      <td>x</td>\n",
              "      <td>b</td>\n",
              "      <td>b</td>\n",
              "      <td>b</td>\n",
              "      <td>b</td>\n",
              "      <td>b</td>\n",
              "      <td>b</td>\n",
              "      <td>b</td>\n",
              "      <td>b</td>\n",
              "      <td>b</td>\n",
              "      <td>b</td>\n",
              "      <td>b</td>\n",
              "      <td>b</td>\n",
              "      <td>b</td>\n",
              "      <td>o</td>\n",
              "      <td>b</td>\n",
              "      <td>b</td>\n",
              "      <td>b</td>\n",
              "      <td>b</td>\n",
              "      <td>b</td>\n",
              "      <td>loss</td>\n",
              "    </tr>\n",
              "    <tr>\n",
              "      <th>34777</th>\n",
              "      <td>x</td>\n",
              "      <td>x</td>\n",
              "      <td>b</td>\n",
              "      <td>b</td>\n",
              "      <td>b</td>\n",
              "      <td>b</td>\n",
              "      <td>o</td>\n",
              "      <td>b</td>\n",
              "      <td>b</td>\n",
              "      <td>b</td>\n",
              "      <td>b</td>\n",
              "      <td>b</td>\n",
              "      <td>x</td>\n",
              "      <td>o</td>\n",
              "      <td>b</td>\n",
              "      <td>b</td>\n",
              "      <td>b</td>\n",
              "      <td>b</td>\n",
              "      <td>b</td>\n",
              "      <td>b</td>\n",
              "      <td>b</td>\n",
              "      <td>b</td>\n",
              "      <td>b</td>\n",
              "      <td>b</td>\n",
              "      <td>b</td>\n",
              "      <td>b</td>\n",
              "      <td>b</td>\n",
              "      <td>b</td>\n",
              "      <td>b</td>\n",
              "      <td>b</td>\n",
              "      <td>x</td>\n",
              "      <td>o</td>\n",
              "      <td>o</td>\n",
              "      <td>b</td>\n",
              "      <td>b</td>\n",
              "      <td>b</td>\n",
              "      <td>b</td>\n",
              "      <td>b</td>\n",
              "      <td>b</td>\n",
              "      <td>b</td>\n",
              "      <td>b</td>\n",
              "      <td>b</td>\n",
              "      <td>loss</td>\n",
              "    </tr>\n",
              "    <tr>\n",
              "      <th>62617</th>\n",
              "      <td>x</td>\n",
              "      <td>x</td>\n",
              "      <td>b</td>\n",
              "      <td>b</td>\n",
              "      <td>b</td>\n",
              "      <td>b</td>\n",
              "      <td>o</td>\n",
              "      <td>b</td>\n",
              "      <td>b</td>\n",
              "      <td>b</td>\n",
              "      <td>b</td>\n",
              "      <td>b</td>\n",
              "      <td>b</td>\n",
              "      <td>b</td>\n",
              "      <td>b</td>\n",
              "      <td>b</td>\n",
              "      <td>b</td>\n",
              "      <td>b</td>\n",
              "      <td>o</td>\n",
              "      <td>o</td>\n",
              "      <td>x</td>\n",
              "      <td>x</td>\n",
              "      <td>b</td>\n",
              "      <td>b</td>\n",
              "      <td>b</td>\n",
              "      <td>b</td>\n",
              "      <td>b</td>\n",
              "      <td>b</td>\n",
              "      <td>b</td>\n",
              "      <td>b</td>\n",
              "      <td>b</td>\n",
              "      <td>b</td>\n",
              "      <td>b</td>\n",
              "      <td>b</td>\n",
              "      <td>b</td>\n",
              "      <td>b</td>\n",
              "      <td>o</td>\n",
              "      <td>b</td>\n",
              "      <td>b</td>\n",
              "      <td>b</td>\n",
              "      <td>b</td>\n",
              "      <td>b</td>\n",
              "      <td>win</td>\n",
              "    </tr>\n",
              "    <tr>\n",
              "      <th>49707</th>\n",
              "      <td>x</td>\n",
              "      <td>o</td>\n",
              "      <td>x</td>\n",
              "      <td>b</td>\n",
              "      <td>b</td>\n",
              "      <td>b</td>\n",
              "      <td>x</td>\n",
              "      <td>x</td>\n",
              "      <td>b</td>\n",
              "      <td>b</td>\n",
              "      <td>b</td>\n",
              "      <td>b</td>\n",
              "      <td>o</td>\n",
              "      <td>o</td>\n",
              "      <td>b</td>\n",
              "      <td>b</td>\n",
              "      <td>b</td>\n",
              "      <td>b</td>\n",
              "      <td>o</td>\n",
              "      <td>b</td>\n",
              "      <td>b</td>\n",
              "      <td>b</td>\n",
              "      <td>b</td>\n",
              "      <td>b</td>\n",
              "      <td>b</td>\n",
              "      <td>b</td>\n",
              "      <td>b</td>\n",
              "      <td>b</td>\n",
              "      <td>b</td>\n",
              "      <td>b</td>\n",
              "      <td>b</td>\n",
              "      <td>b</td>\n",
              "      <td>b</td>\n",
              "      <td>b</td>\n",
              "      <td>b</td>\n",
              "      <td>b</td>\n",
              "      <td>b</td>\n",
              "      <td>b</td>\n",
              "      <td>b</td>\n",
              "      <td>b</td>\n",
              "      <td>b</td>\n",
              "      <td>b</td>\n",
              "      <td>win</td>\n",
              "    </tr>\n",
              "    <tr>\n",
              "      <th>24019</th>\n",
              "      <td>b</td>\n",
              "      <td>b</td>\n",
              "      <td>b</td>\n",
              "      <td>b</td>\n",
              "      <td>b</td>\n",
              "      <td>b</td>\n",
              "      <td>o</td>\n",
              "      <td>x</td>\n",
              "      <td>b</td>\n",
              "      <td>b</td>\n",
              "      <td>b</td>\n",
              "      <td>b</td>\n",
              "      <td>x</td>\n",
              "      <td>x</td>\n",
              "      <td>b</td>\n",
              "      <td>b</td>\n",
              "      <td>b</td>\n",
              "      <td>b</td>\n",
              "      <td>o</td>\n",
              "      <td>o</td>\n",
              "      <td>b</td>\n",
              "      <td>b</td>\n",
              "      <td>b</td>\n",
              "      <td>b</td>\n",
              "      <td>b</td>\n",
              "      <td>b</td>\n",
              "      <td>b</td>\n",
              "      <td>b</td>\n",
              "      <td>b</td>\n",
              "      <td>b</td>\n",
              "      <td>b</td>\n",
              "      <td>b</td>\n",
              "      <td>b</td>\n",
              "      <td>b</td>\n",
              "      <td>b</td>\n",
              "      <td>b</td>\n",
              "      <td>o</td>\n",
              "      <td>x</td>\n",
              "      <td>b</td>\n",
              "      <td>b</td>\n",
              "      <td>b</td>\n",
              "      <td>b</td>\n",
              "      <td>win</td>\n",
              "    </tr>\n",
              "    <tr>\n",
              "      <th>28314</th>\n",
              "      <td>b</td>\n",
              "      <td>b</td>\n",
              "      <td>b</td>\n",
              "      <td>b</td>\n",
              "      <td>b</td>\n",
              "      <td>b</td>\n",
              "      <td>b</td>\n",
              "      <td>b</td>\n",
              "      <td>b</td>\n",
              "      <td>b</td>\n",
              "      <td>b</td>\n",
              "      <td>b</td>\n",
              "      <td>x</td>\n",
              "      <td>x</td>\n",
              "      <td>o</td>\n",
              "      <td>b</td>\n",
              "      <td>b</td>\n",
              "      <td>b</td>\n",
              "      <td>o</td>\n",
              "      <td>b</td>\n",
              "      <td>b</td>\n",
              "      <td>b</td>\n",
              "      <td>b</td>\n",
              "      <td>b</td>\n",
              "      <td>b</td>\n",
              "      <td>b</td>\n",
              "      <td>b</td>\n",
              "      <td>b</td>\n",
              "      <td>b</td>\n",
              "      <td>b</td>\n",
              "      <td>x</td>\n",
              "      <td>o</td>\n",
              "      <td>o</td>\n",
              "      <td>x</td>\n",
              "      <td>b</td>\n",
              "      <td>b</td>\n",
              "      <td>b</td>\n",
              "      <td>b</td>\n",
              "      <td>b</td>\n",
              "      <td>b</td>\n",
              "      <td>b</td>\n",
              "      <td>b</td>\n",
              "      <td>win</td>\n",
              "    </tr>\n",
              "    <tr>\n",
              "      <th>6680</th>\n",
              "      <td>b</td>\n",
              "      <td>b</td>\n",
              "      <td>b</td>\n",
              "      <td>b</td>\n",
              "      <td>b</td>\n",
              "      <td>b</td>\n",
              "      <td>x</td>\n",
              "      <td>b</td>\n",
              "      <td>b</td>\n",
              "      <td>b</td>\n",
              "      <td>b</td>\n",
              "      <td>b</td>\n",
              "      <td>o</td>\n",
              "      <td>o</td>\n",
              "      <td>b</td>\n",
              "      <td>b</td>\n",
              "      <td>b</td>\n",
              "      <td>b</td>\n",
              "      <td>x</td>\n",
              "      <td>x</td>\n",
              "      <td>b</td>\n",
              "      <td>b</td>\n",
              "      <td>b</td>\n",
              "      <td>b</td>\n",
              "      <td>b</td>\n",
              "      <td>b</td>\n",
              "      <td>b</td>\n",
              "      <td>b</td>\n",
              "      <td>b</td>\n",
              "      <td>b</td>\n",
              "      <td>o</td>\n",
              "      <td>o</td>\n",
              "      <td>b</td>\n",
              "      <td>b</td>\n",
              "      <td>b</td>\n",
              "      <td>b</td>\n",
              "      <td>x</td>\n",
              "      <td>b</td>\n",
              "      <td>b</td>\n",
              "      <td>b</td>\n",
              "      <td>b</td>\n",
              "      <td>b</td>\n",
              "      <td>win</td>\n",
              "    </tr>\n",
              "    <tr>\n",
              "      <th>30591</th>\n",
              "      <td>b</td>\n",
              "      <td>b</td>\n",
              "      <td>b</td>\n",
              "      <td>b</td>\n",
              "      <td>b</td>\n",
              "      <td>b</td>\n",
              "      <td>b</td>\n",
              "      <td>b</td>\n",
              "      <td>b</td>\n",
              "      <td>b</td>\n",
              "      <td>b</td>\n",
              "      <td>b</td>\n",
              "      <td>x</td>\n",
              "      <td>o</td>\n",
              "      <td>x</td>\n",
              "      <td>o</td>\n",
              "      <td>x</td>\n",
              "      <td>b</td>\n",
              "      <td>b</td>\n",
              "      <td>b</td>\n",
              "      <td>b</td>\n",
              "      <td>b</td>\n",
              "      <td>b</td>\n",
              "      <td>b</td>\n",
              "      <td>o</td>\n",
              "      <td>b</td>\n",
              "      <td>b</td>\n",
              "      <td>b</td>\n",
              "      <td>b</td>\n",
              "      <td>b</td>\n",
              "      <td>o</td>\n",
              "      <td>x</td>\n",
              "      <td>b</td>\n",
              "      <td>b</td>\n",
              "      <td>b</td>\n",
              "      <td>b</td>\n",
              "      <td>b</td>\n",
              "      <td>b</td>\n",
              "      <td>b</td>\n",
              "      <td>b</td>\n",
              "      <td>b</td>\n",
              "      <td>b</td>\n",
              "      <td>draw</td>\n",
              "    </tr>\n",
              "    <tr>\n",
              "      <th>63921</th>\n",
              "      <td>x</td>\n",
              "      <td>b</td>\n",
              "      <td>b</td>\n",
              "      <td>b</td>\n",
              "      <td>b</td>\n",
              "      <td>b</td>\n",
              "      <td>b</td>\n",
              "      <td>b</td>\n",
              "      <td>b</td>\n",
              "      <td>b</td>\n",
              "      <td>b</td>\n",
              "      <td>b</td>\n",
              "      <td>o</td>\n",
              "      <td>x</td>\n",
              "      <td>x</td>\n",
              "      <td>o</td>\n",
              "      <td>b</td>\n",
              "      <td>b</td>\n",
              "      <td>b</td>\n",
              "      <td>b</td>\n",
              "      <td>b</td>\n",
              "      <td>b</td>\n",
              "      <td>b</td>\n",
              "      <td>b</td>\n",
              "      <td>b</td>\n",
              "      <td>b</td>\n",
              "      <td>b</td>\n",
              "      <td>b</td>\n",
              "      <td>b</td>\n",
              "      <td>b</td>\n",
              "      <td>b</td>\n",
              "      <td>b</td>\n",
              "      <td>b</td>\n",
              "      <td>b</td>\n",
              "      <td>b</td>\n",
              "      <td>b</td>\n",
              "      <td>o</td>\n",
              "      <td>x</td>\n",
              "      <td>o</td>\n",
              "      <td>b</td>\n",
              "      <td>b</td>\n",
              "      <td>b</td>\n",
              "      <td>win</td>\n",
              "    </tr>\n",
              "    <tr>\n",
              "      <th>54868</th>\n",
              "      <td>x</td>\n",
              "      <td>o</td>\n",
              "      <td>x</td>\n",
              "      <td>b</td>\n",
              "      <td>b</td>\n",
              "      <td>b</td>\n",
              "      <td>x</td>\n",
              "      <td>o</td>\n",
              "      <td>b</td>\n",
              "      <td>b</td>\n",
              "      <td>b</td>\n",
              "      <td>b</td>\n",
              "      <td>o</td>\n",
              "      <td>o</td>\n",
              "      <td>b</td>\n",
              "      <td>b</td>\n",
              "      <td>b</td>\n",
              "      <td>b</td>\n",
              "      <td>b</td>\n",
              "      <td>b</td>\n",
              "      <td>b</td>\n",
              "      <td>b</td>\n",
              "      <td>b</td>\n",
              "      <td>b</td>\n",
              "      <td>b</td>\n",
              "      <td>b</td>\n",
              "      <td>b</td>\n",
              "      <td>b</td>\n",
              "      <td>b</td>\n",
              "      <td>b</td>\n",
              "      <td>x</td>\n",
              "      <td>b</td>\n",
              "      <td>b</td>\n",
              "      <td>b</td>\n",
              "      <td>b</td>\n",
              "      <td>b</td>\n",
              "      <td>b</td>\n",
              "      <td>b</td>\n",
              "      <td>b</td>\n",
              "      <td>b</td>\n",
              "      <td>b</td>\n",
              "      <td>b</td>\n",
              "      <td>loss</td>\n",
              "    </tr>\n",
              "  </tbody>\n",
              "</table>\n",
              "</div>"
            ],
            "text/plain": [
              "      a1 a2 a3 a4 a5 a6 b1 b2 b3 b4 b5  ... f3 f4 f5 f6 g1 g2 g3 g4 g5 g6 outcome\n",
              "62002  x  x  b  b  b  b  b  b  b  b  b  ...  b  b  b  b  o  b  b  b  b  b    loss\n",
              "34777  x  x  b  b  b  b  o  b  b  b  b  ...  o  b  b  b  b  b  b  b  b  b    loss\n",
              "62617  x  x  b  b  b  b  o  b  b  b  b  ...  b  b  b  b  o  b  b  b  b  b     win\n",
              "49707  x  o  x  b  b  b  x  x  b  b  b  ...  b  b  b  b  b  b  b  b  b  b     win\n",
              "24019  b  b  b  b  b  b  o  x  b  b  b  ...  b  b  b  b  o  x  b  b  b  b     win\n",
              "28314  b  b  b  b  b  b  b  b  b  b  b  ...  o  x  b  b  b  b  b  b  b  b     win\n",
              "6680   b  b  b  b  b  b  x  b  b  b  b  ...  b  b  b  b  x  b  b  b  b  b     win\n",
              "30591  b  b  b  b  b  b  b  b  b  b  b  ...  b  b  b  b  b  b  b  b  b  b    draw\n",
              "63921  x  b  b  b  b  b  b  b  b  b  b  ...  b  b  b  b  o  x  o  b  b  b     win\n",
              "54868  x  o  x  b  b  b  x  o  b  b  b  ...  b  b  b  b  b  b  b  b  b  b    loss\n",
              "\n",
              "[10 rows x 43 columns]"
            ]
          },
          "metadata": {
            "tags": []
          },
          "execution_count": 17
        }
      ]
    },
    {
      "cell_type": "code",
      "metadata": {
        "id": "t5OLGIglLNq8",
        "colab_type": "code",
        "colab": {}
      },
      "source": [
        "# Store the connect_4 data in a CSV file for further functions\n",
        "connect_4.to_csv('connect_4.csv', index = False)"
      ],
      "execution_count": 18,
      "outputs": []
    },
    {
      "cell_type": "markdown",
      "metadata": {
        "id": "n5cn8RvEN7eQ",
        "colab_type": "text"
      },
      "source": [
        "Now, we will have a look at sequential data. "
      ]
    },
    {
      "cell_type": "code",
      "metadata": {
        "id": "1q9XPlAzOLGR",
        "colab_type": "code",
        "colab": {}
      },
      "source": [
        "# Sequential type \n",
        "# Description of the following dataset is on https://archive.ics.uci.edu/ml/datasets/Online+Retail\n",
        "url_5_sequential_type = \"https://archive.ics.uci.edu/ml/machine-learning-databases/00352/Online%20Retail.xlsx\"\n",
        "\n",
        "# Read the dataset \n",
        "online_retail = pd.read_excel(url_5_sequential_type)"
      ],
      "execution_count": 19,
      "outputs": []
    },
    {
      "cell_type": "code",
      "metadata": {
        "id": "XVtGTRdNOsF3",
        "colab_type": "code",
        "colab": {
          "base_uri": "https://localhost:8080/",
          "height": 359
        },
        "outputId": "40eb950b-ac52-46ba-ff26-12d9d0bd2bd8"
      },
      "source": [
        "# View 10 random rows to glance at the online_retail\n",
        "online_retail.sample(10)"
      ],
      "execution_count": 20,
      "outputs": [
        {
          "output_type": "execute_result",
          "data": {
            "text/html": [
              "<div>\n",
              "<style scoped>\n",
              "    .dataframe tbody tr th:only-of-type {\n",
              "        vertical-align: middle;\n",
              "    }\n",
              "\n",
              "    .dataframe tbody tr th {\n",
              "        vertical-align: top;\n",
              "    }\n",
              "\n",
              "    .dataframe thead th {\n",
              "        text-align: right;\n",
              "    }\n",
              "</style>\n",
              "<table border=\"1\" class=\"dataframe\">\n",
              "  <thead>\n",
              "    <tr style=\"text-align: right;\">\n",
              "      <th></th>\n",
              "      <th>InvoiceNo</th>\n",
              "      <th>StockCode</th>\n",
              "      <th>Description</th>\n",
              "      <th>Quantity</th>\n",
              "      <th>InvoiceDate</th>\n",
              "      <th>UnitPrice</th>\n",
              "      <th>CustomerID</th>\n",
              "      <th>Country</th>\n",
              "    </tr>\n",
              "  </thead>\n",
              "  <tbody>\n",
              "    <tr>\n",
              "      <th>395189</th>\n",
              "      <td>571028</td>\n",
              "      <td>22579</td>\n",
              "      <td>WOODEN TREE CHRISTMAS SCANDINAVIAN</td>\n",
              "      <td>4</td>\n",
              "      <td>2011-10-13 12:21:00</td>\n",
              "      <td>0.29</td>\n",
              "      <td>16770.0</td>\n",
              "      <td>United Kingdom</td>\n",
              "    </tr>\n",
              "    <tr>\n",
              "      <th>337309</th>\n",
              "      <td>566443</td>\n",
              "      <td>21232</td>\n",
              "      <td>STRAWBERRY CERAMIC TRINKET BOX</td>\n",
              "      <td>12</td>\n",
              "      <td>2011-09-12 15:31:00</td>\n",
              "      <td>1.25</td>\n",
              "      <td>17071.0</td>\n",
              "      <td>United Kingdom</td>\n",
              "    </tr>\n",
              "    <tr>\n",
              "      <th>466426</th>\n",
              "      <td>576329</td>\n",
              "      <td>23423</td>\n",
              "      <td>PANTRY 3 HOOK ROLLING PIN HANGER</td>\n",
              "      <td>1</td>\n",
              "      <td>2011-11-14 15:22:00</td>\n",
              "      <td>7.46</td>\n",
              "      <td>NaN</td>\n",
              "      <td>United Kingdom</td>\n",
              "    </tr>\n",
              "    <tr>\n",
              "      <th>238490</th>\n",
              "      <td>557938</td>\n",
              "      <td>85025B</td>\n",
              "      <td>EAU DE NILE HEART SHAPE PHOTO FRAME</td>\n",
              "      <td>1</td>\n",
              "      <td>2011-06-23 15:35:00</td>\n",
              "      <td>3.29</td>\n",
              "      <td>NaN</td>\n",
              "      <td>United Kingdom</td>\n",
              "    </tr>\n",
              "    <tr>\n",
              "      <th>128638</th>\n",
              "      <td>547358</td>\n",
              "      <td>22432</td>\n",
              "      <td>WATERING CAN PINK BUNNY</td>\n",
              "      <td>2</td>\n",
              "      <td>2011-03-22 12:25:00</td>\n",
              "      <td>1.95</td>\n",
              "      <td>15998.0</td>\n",
              "      <td>United Kingdom</td>\n",
              "    </tr>\n",
              "    <tr>\n",
              "      <th>254398</th>\n",
              "      <td>559311</td>\n",
              "      <td>22485</td>\n",
              "      <td>SET OF 2 WOODEN MARKET CRATES</td>\n",
              "      <td>6</td>\n",
              "      <td>2011-07-07 13:35:00</td>\n",
              "      <td>12.75</td>\n",
              "      <td>14459.0</td>\n",
              "      <td>United Kingdom</td>\n",
              "    </tr>\n",
              "    <tr>\n",
              "      <th>251149</th>\n",
              "      <td>559052</td>\n",
              "      <td>21706</td>\n",
              "      <td>FOLDING UMBRELLA RED/WHITE POLKADOT</td>\n",
              "      <td>4</td>\n",
              "      <td>2011-07-05 16:53:00</td>\n",
              "      <td>3.29</td>\n",
              "      <td>NaN</td>\n",
              "      <td>United Kingdom</td>\n",
              "    </tr>\n",
              "    <tr>\n",
              "      <th>120925</th>\n",
              "      <td>546684</td>\n",
              "      <td>22637</td>\n",
              "      <td>PIGGY BANK RETROSPOT</td>\n",
              "      <td>48</td>\n",
              "      <td>2011-03-16 09:47:00</td>\n",
              "      <td>2.10</td>\n",
              "      <td>16152.0</td>\n",
              "      <td>United Kingdom</td>\n",
              "    </tr>\n",
              "    <tr>\n",
              "      <th>50731</th>\n",
              "      <td>540551</td>\n",
              "      <td>90116</td>\n",
              "      <td>FRUIT SALAD BAG CHARM</td>\n",
              "      <td>3</td>\n",
              "      <td>2011-01-10 09:43:00</td>\n",
              "      <td>2.51</td>\n",
              "      <td>NaN</td>\n",
              "      <td>United Kingdom</td>\n",
              "    </tr>\n",
              "    <tr>\n",
              "      <th>279088</th>\n",
              "      <td>561236</td>\n",
              "      <td>22610</td>\n",
              "      <td>PENS ASSORTED FUNNY FACE</td>\n",
              "      <td>36</td>\n",
              "      <td>2011-07-26 10:27:00</td>\n",
              "      <td>0.19</td>\n",
              "      <td>15159.0</td>\n",
              "      <td>United Kingdom</td>\n",
              "    </tr>\n",
              "  </tbody>\n",
              "</table>\n",
              "</div>"
            ],
            "text/plain": [
              "       InvoiceNo StockCode  ... CustomerID         Country\n",
              "395189    571028     22579  ...    16770.0  United Kingdom\n",
              "337309    566443     21232  ...    17071.0  United Kingdom\n",
              "466426    576329     23423  ...        NaN  United Kingdom\n",
              "238490    557938    85025B  ...        NaN  United Kingdom\n",
              "128638    547358     22432  ...    15998.0  United Kingdom\n",
              "254398    559311     22485  ...    14459.0  United Kingdom\n",
              "251149    559052     21706  ...        NaN  United Kingdom\n",
              "120925    546684     22637  ...    16152.0  United Kingdom\n",
              "50731     540551     90116  ...        NaN  United Kingdom\n",
              "279088    561236     22610  ...    15159.0  United Kingdom\n",
              "\n",
              "[10 rows x 8 columns]"
            ]
          },
          "metadata": {
            "tags": []
          },
          "execution_count": 20
        }
      ]
    },
    {
      "cell_type": "code",
      "metadata": {
        "id": "Er5HDEf1d9Ek",
        "colab_type": "code",
        "colab": {}
      },
      "source": [
        "# Store the online_retail data in a CSV file for further functions\n",
        "online_retail.to_csv(\"online_retail.csv\", index=False)"
      ],
      "execution_count": 21,
      "outputs": []
    },
    {
      "cell_type": "markdown",
      "metadata": {
        "id": "iwD0JbU4PFC4",
        "colab_type": "text"
      },
      "source": [
        "## Identifying the Data Scale and Data Value"
      ]
    },
    {
      "cell_type": "markdown",
      "metadata": {
        "id": "_yW6yN6vPMiG",
        "colab_type": "text"
      },
      "source": [
        "### Problem Statement "
      ]
    },
    {
      "cell_type": "markdown",
      "metadata": {
        "id": "7atKh-sBoYPj",
        "colab_type": "text"
      },
      "source": [
        "Write Python code to input a dataset (CSV file) of Discrete data type, automatically identify and print the\n",
        "  * Number of attributes and number of entries\n",
        "  * Data scale (Ratio/ Interval/ Ordinal/ Nominal) of each attribute\n",
        "  * Data value (Discrete/ Continuous) of each attribute\n",
        "\n"
      ]
    },
    {
      "cell_type": "markdown",
      "metadata": {
        "id": "OUQJlKsKPW6R",
        "colab_type": "text"
      },
      "source": [
        "### Solution"
      ]
    },
    {
      "cell_type": "markdown",
      "metadata": {
        "id": "5LhWdP08PZNn",
        "colab_type": "text"
      },
      "source": [
        "Here, I will write Python code which will take a CSV file as an argument and print the following:\n",
        "\n",
        "* Number of entries and that of attributes \n",
        "* Print the data type, data scale, and data value of each attribute\n",
        "\n",
        "As of now, I have followed the following logic to identify the data scale and data value:\n",
        "\n",
        "Type | Number of categories | Data scale | Data value \n",
        "--- | --- | --- | --- | \n",
        "Float | Greater than 8 | Ratio | Continuous\n",
        "Integer | Less than 8 | Ordinal | Discrete \n",
        "Integer | Greater than 8 | Nominal | Discrete\n",
        "Object | NA | Nominal | Discrete "
      ]
    },
    {
      "cell_type": "code",
      "metadata": {
        "id": "RU9AadXUfMik",
        "colab_type": "code",
        "colab": {}
      },
      "source": [
        "def data_description(filename):\n",
        "\n",
        "  \"\"\" Prints the shape of the data along with its scale and value \n",
        "\n",
        "  Args:\n",
        "  dataset: CSV. The dataset to be identified. \n",
        "\n",
        "  Returns:\n",
        "  None \n",
        "  \"\"\"\n",
        "\n",
        "  # Read the CSV file \n",
        "  df = pd.read_csv(filename)\n",
        "\n",
        "  # Print the shape of the dataset \n",
        "  print(\"This dataset contains {} entries, each with {} attributes\".format(df.shape[0], df.shape[1]))\n",
        "  \n",
        "  # Create a list with well known ordinal categories \n",
        "  # This list can be populated with more categories \n",
        "  ordinal_levels = [\"excellent\", \"good\", \"fair\", \"bad\", \"like\", \"dislike\", \n",
        "                    \"extremely dislike\", \"neutral\", \"extremely like\", \"low\", \"high\"]\n",
        "  \n",
        "  # Traverse through each column of the dataset \n",
        "  # Apply the logic given above to print the data scale and data value \n",
        "  for col in df.columns:\n",
        "    if (df.dtypes[col] == 'float64' and df[col].nunique() > 8):\n",
        "      print(\"{}: ratio or interval, continuous\".format(col)) \n",
        "\n",
        "    elif (df.dtypes[col] == 'object' and df[col].any() not in ordinal_levels): \n",
        "      print(\"{}: nominal, discrete\".format(col))\n",
        "\n",
        "    elif (df.dtypes[col] == 'int64'):\n",
        "      if (df[col].nunique() < 8):\n",
        "        print(\"{}: ordinal, discrete\".format(col))\n",
        "      else:\n",
        "        print(\"{}: nominal, discrete\".format(col))\n"
      ],
      "execution_count": 22,
      "outputs": []
    },
    {
      "cell_type": "markdown",
      "metadata": {
        "id": "SZnBRStUTGD_",
        "colab_type": "text"
      },
      "source": [
        "## Perfoming Statistics on each Column "
      ]
    },
    {
      "cell_type": "markdown",
      "metadata": {
        "id": "bH5fe4w5TNjV",
        "colab_type": "text"
      },
      "source": [
        "### Problem Statment "
      ]
    },
    {
      "cell_type": "markdown",
      "metadata": {
        "id": "1kAOa4rxPQaO",
        "colab_type": "text"
      },
      "source": [
        "Write Python code to perform statistics on each data column based on its data scale. "
      ]
    },
    {
      "cell_type": "markdown",
      "metadata": {
        "id": "ZWI-kIjSTVuj",
        "colab_type": "text"
      },
      "source": [
        "### Solution "
      ]
    },
    {
      "cell_type": "markdown",
      "metadata": {
        "id": "9jyCrbWxTXXM",
        "colab_type": "text"
      },
      "source": [
        "Here, I will write Python code which will take a CSV file as an argument and print the following:\n",
        "\n",
        "* Mode for discrete data \n",
        "* Maximum, minimum, mean, etc. for continuous data \n",
        "\n",
        "Even for this function, I have applied the logic used in the previous problem statement of **Identifying the Data Scale and Data Value**. "
      ]
    },
    {
      "cell_type": "code",
      "metadata": {
        "id": "WXTgChk7oitW",
        "colab_type": "code",
        "colab": {}
      },
      "source": [
        "def stats(filename):\n",
        "\n",
        "  \"\"\" Prints the statistics of the attributes of the data  \n",
        "\n",
        "  Args:\n",
        "  dataset: CSV. The dataset to be analysed. \n",
        "\n",
        "  Returns:\n",
        "  None \n",
        "  \"\"\"\n",
        "\n",
        "  # Read the CSV file \n",
        "  df = pd.read_csv(filename)\n",
        "\n",
        "  # Traverse through each column of the dataset \n",
        "  # Apply the logic used previously to print various statistical results  \n",
        "  for col in df.columns:\n",
        "    if(df.dtypes[col] == \"int64\"):\n",
        "      if(df[col].nunique() < 8):\n",
        "        print(col)\n",
        "        print(\"Mode of {}: {}\".format(col, mode(df[col]).mode[0]))\n",
        "        print(df[col].value_counts())\n",
        "        print(\"=\"*40)\n",
        "\n",
        "      else:\n",
        "        print(col)\n",
        "        print(\"Mode of {}: {}\".format(col, mode(df[col]).mode[0]))\n",
        "        print(df[col].describe())\n",
        "        print(\"=\"*40)\n",
        "\n",
        "    elif(df.dtypes[col] == \"float64\" and df[col].nunique() > 8):\n",
        "      print(col)\n",
        "      print(df[col].describe())\n",
        "      print(\"=\"*40)\n",
        "    \n",
        "    elif(df.dtypes[col] == \"object\"):\n",
        "      print(col)\n",
        "      print(\"Mode of {}: {}\".format(col, mode(df[col]).mode[0]))\n",
        "      print(df[col].describe())\n",
        "      print(\"=\"*40)\n"
      ],
      "execution_count": 23,
      "outputs": []
    },
    {
      "cell_type": "markdown",
      "metadata": {
        "id": "y6jjV0RYUuB3",
        "colab_type": "text"
      },
      "source": [
        "## Recognizing the Utility of a Boxplot "
      ]
    },
    {
      "cell_type": "markdown",
      "metadata": {
        "id": "uj4Ay3axU1Px",
        "colab_type": "text"
      },
      "source": [
        "### Problem Statement "
      ]
    },
    {
      "cell_type": "markdown",
      "metadata": {
        "id": "IjIdCX8pU8xj",
        "colab_type": "text"
      },
      "source": [
        "Can we use a boxplot for visualizing ordinal data?"
      ]
    },
    {
      "cell_type": "markdown",
      "metadata": {
        "id": "Wrokr8D8U-mS",
        "colab_type": "text"
      },
      "source": [
        "### Solution "
      ]
    },
    {
      "cell_type": "markdown",
      "metadata": {
        "id": "WY5FllTxVAcf",
        "colab_type": "text"
      },
      "source": [
        "We know that a boxplot is used to display the distribution of data based on the following five numbers:\n",
        "* Minimum, \n",
        "* First quartile (Q1), \n",
        "* Median, \n",
        "* Third quartile (Q3), and \n",
        "* Maximum\n",
        "\n",
        "All the numbers mentioned above will have some significance when we have continuous data. Let us plot the two attributes named `horsepower` (continuous and ratio)  and `cylinders` (discrete and ordinal) of the `auto_mpg` data. "
      ]
    },
    {
      "cell_type": "code",
      "metadata": {
        "id": "nwDHpk5MWPyo",
        "colab_type": "code",
        "colab": {
          "base_uri": "https://localhost:8080/",
          "height": 265
        },
        "outputId": "5b654b4b-51ca-495b-97c5-9e39b3130278"
      },
      "source": [
        "# Draw boxplot for both horsepower and cylinders \n",
        "boxplot = auto_mpg.boxplot(column=['horsepower', 'cylinders'], return_type='axes')"
      ],
      "execution_count": 24,
      "outputs": [
        {
          "output_type": "display_data",
          "data": {
            "image/png": "[encoded data removed]",
            "text/plain": [
              "<Figure size 432x288 with 1 Axes>"
            ]
          },
          "metadata": {
            "tags": [],
            "needs_background": "light"
          }
        }
      ]
    },
    {
      "cell_type": "markdown",
      "metadata": {
        "id": "88nb4ahAY5qB",
        "colab_type": "text"
      },
      "source": [
        "From the above plots, we observe that the boxplot of `horsepower` (continuous and ratio) provides meaningful information. However, the boxplot of `cylinders` (discrete and ordinal) is not giving any useful statistical values. \n",
        "\n",
        "Thus, we **can** draw a boxplot for visualizing ordinal data, but it won't convey some vital information. "
      ]
    },
    {
      "cell_type": "markdown",
      "metadata": {
        "id": "hAPpqfoXaGfg",
        "colab_type": "text"
      },
      "source": [
        "## Visualizing Data "
      ]
    },
    {
      "cell_type": "markdown",
      "metadata": {
        "id": "79jNZL8yaJaM",
        "colab_type": "text"
      },
      "source": [
        "### Problem Statement "
      ]
    },
    {
      "cell_type": "markdown",
      "metadata": {
        "id": "QMI7LiRGaPOu",
        "colab_type": "text"
      },
      "source": [
        "Write Python code to visualize data in the CSV file (a generalized method depending upon data scale). "
      ]
    },
    {
      "cell_type": "markdown",
      "metadata": {
        "id": "YJfn0vVPaVN3",
        "colab_type": "text"
      },
      "source": [
        "### Solution "
      ]
    },
    {
      "cell_type": "markdown",
      "metadata": {
        "id": "MHljPqz9ac54",
        "colab_type": "text"
      },
      "source": [
        "Here, I will write Python code which will take a CSV file as an argument and plot the relevant plots (histogram, barplot, countplot, etc.) for each column. \n",
        "\n",
        "Even for this function, I have applied the logic used in the previous problem statement of **Identifying the Data Scale and Data Value**. \n"
      ]
    },
    {
      "cell_type": "code",
      "metadata": {
        "id": "tfeac_K8sbJR",
        "colab_type": "code",
        "colab": {}
      },
      "source": [
        "def visualize_data(filename):\n",
        "\n",
        "  \"\"\" Prints the statistics of the attributes of the data  \n",
        "\n",
        "  Args:\n",
        "  dataset: CSV. The dataset to be analysed. \n",
        "\n",
        "  Returns:\n",
        "  None \n",
        "  \"\"\"\n",
        "\n",
        "  # Read the CSV file \n",
        "  df = pd.read_csv(filename)\n",
        "\n",
        "  # Initialize a counter to draw seperate figures  \n",
        "  plt_count = 1\n",
        "\n",
        "  # Traverse through each column of the dataset \n",
        "  # Apply the logic used previously to draw various plots  \n",
        "  for col in df.columns:\n",
        "    if (df.dtypes[col] == 'float64' and df[col].nunique() > 8):\n",
        "      plt.figure(plt_count)\n",
        "      plt.hist(df[col])\n",
        "      plt.title(\"Histogram of {}\".format(col))\n",
        "      plt.show()\n",
        "      plt_count += 1\n",
        "    \n",
        "    elif (df.dtypes[col] == 'int64'):\n",
        "      if (df[col].nunique() < 8):\n",
        "        plt.figure(plt_count)\n",
        "        plt.title(\"Countplot of {}\".format(col))\n",
        "        sns.countplot(df[col])\n",
        "        plt.show()\n",
        "        plt_count += 1\n",
        "      else:\n",
        "        plt.figure(plt_count)\n",
        "        plt.hist(df[col])\n",
        "        plt.title(\"Histogram of {}\".format(col))\n",
        "        plt.show()\n",
        "        plt_count += 1\n",
        "\n",
        "    elif (df.dtypes[col] == \"object\" and df[col].nunique() < 8):\n",
        "      plt.figure(plt_count)\n",
        "      plt.title(\"Countplot of {}\".format(col))\n",
        "      sns.countplot(df[col])\n",
        "      plt.show()\n",
        "      plt_count += 1"
      ],
      "execution_count": 25,
      "outputs": []
    },
    {
      "cell_type": "markdown",
      "metadata": {
        "id": "0uqJaNSRa_l8",
        "colab_type": "text"
      },
      "source": [
        "## Results "
      ]
    },
    {
      "cell_type": "markdown",
      "metadata": {
        "id": "vyPF5gOsbBuw",
        "colab_type": "text"
      },
      "source": [
        "From the solution of the first problem statement, we have the following datasets:\n",
        "\n",
        "1. `auto-mpg.csv`\n",
        "2. `iris.csv`\n",
        "3. `car.csv`\n",
        "4. `connect_4.csv`\n",
        "5. `online_retail`\n",
        "\n",
        "Now, I will pass these files one by one to the functions given below:\n",
        "\n",
        "1. `data_description()` \n",
        "2. `stats()`\n",
        "3. `visualize_data()`\n",
        "\n"
      ]
    },
    {
      "cell_type": "markdown",
      "metadata": {
        "id": "t3dqLjRxcxbN",
        "colab_type": "text"
      },
      "source": [
        "### auto_mpg Data "
      ]
    },
    {
      "cell_type": "code",
      "metadata": {
        "id": "bKQIOWBYc1dx",
        "colab_type": "code",
        "colab": {
          "base_uri": "https://localhost:8080/",
          "height": 197
        },
        "outputId": "e2979749-af8d-4e7e-fe56-29e29076059c"
      },
      "source": [
        "data_description(\"auto-mpg.csv\")"
      ],
      "execution_count": 26,
      "outputs": [
        {
          "output_type": "stream",
          "text": [
            "This dataset contains 392 entries, each with 9 attributes\n",
            "mpg: ratio or interval, continuous\n",
            "cylinders: ordinal, discrete\n",
            "displacement: ratio or interval, continuous\n",
            "horsepower: ratio or interval, continuous\n",
            "weight: ratio or interval, continuous\n",
            "acceleration: ratio or interval, continuous\n",
            "model_year: nominal, discrete\n",
            "origin: ordinal, discrete\n",
            "car_name: nominal, discrete\n"
          ],
          "name": "stdout"
        }
      ]
    },
    {
      "cell_type": "code",
      "metadata": {
        "id": "QMh-zofmc6St",
        "colab_type": "code",
        "colab": {
          "base_uri": "https://localhost:8080/",
          "height": 1000
        },
        "outputId": "6755412c-f58a-46cc-822f-328abc35269f"
      },
      "source": [
        "stats(\"auto-mpg.csv\")"
      ],
      "execution_count": 27,
      "outputs": [
        {
          "output_type": "stream",
          "text": [
            "mpg\n",
            "count    392.000000\n",
            "mean      23.445918\n",
            "std        7.805007\n",
            "min        9.000000\n",
            "25%       17.000000\n",
            "50%       22.750000\n",
            "75%       29.000000\n",
            "max       46.600000\n",
            "Name: mpg, dtype: float64\n",
            "========================================\n",
            "cylinders\n",
            "Mode of cylinders: 4\n",
            "4    199\n",
            "8    103\n",
            "6     83\n",
            "3      4\n",
            "5      3\n",
            "Name: cylinders, dtype: int64\n",
            "========================================\n",
            "displacement\n",
            "count    392.000000\n",
            "mean     194.411990\n",
            "std      104.644004\n",
            "min       68.000000\n",
            "25%      105.000000\n",
            "50%      151.000000\n",
            "75%      275.750000\n",
            "max      455.000000\n",
            "Name: displacement, dtype: float64\n",
            "========================================\n",
            "horsepower\n",
            "count    392.000000\n",
            "mean     104.469388\n",
            "std       38.491160\n",
            "min       46.000000\n",
            "25%       75.000000\n",
            "50%       93.500000\n",
            "75%      126.000000\n",
            "max      230.000000\n",
            "Name: horsepower, dtype: float64\n",
            "========================================\n",
            "weight\n",
            "count     392.000000\n",
            "mean     2977.584184\n",
            "std       849.402560\n",
            "min      1613.000000\n",
            "25%      2225.250000\n",
            "50%      2803.500000\n",
            "75%      3614.750000\n",
            "max      5140.000000\n",
            "Name: weight, dtype: float64\n",
            "========================================\n",
            "acceleration\n",
            "count    392.000000\n",
            "mean      15.541327\n",
            "std        2.758864\n",
            "min        8.000000\n",
            "25%       13.775000\n",
            "50%       15.500000\n",
            "75%       17.025000\n",
            "max       24.800000\n",
            "Name: acceleration, dtype: float64\n",
            "========================================\n",
            "model_year\n",
            "Mode of model_year: 73\n",
            "count    392.000000\n",
            "mean      75.979592\n",
            "std        3.683737\n",
            "min       70.000000\n",
            "25%       73.000000\n",
            "50%       76.000000\n",
            "75%       79.000000\n",
            "max       82.000000\n",
            "Name: model_year, dtype: float64\n",
            "========================================\n",
            "origin\n",
            "Mode of origin: 1\n",
            "1    245\n",
            "3     79\n",
            "2     68\n",
            "Name: origin, dtype: int64\n",
            "========================================\n",
            "car_name\n",
            "Mode of car_name: amc matador\n",
            "count                392\n",
            "unique               301\n",
            "top       toyota corolla\n",
            "freq                   5\n",
            "Name: car_name, dtype: object\n",
            "========================================\n"
          ],
          "name": "stdout"
        }
      ]
    },
    {
      "cell_type": "code",
      "metadata": {
        "id": "bGcIkg_isjxy",
        "colab_type": "code",
        "colab": {
          "base_uri": "https://localhost:8080/",
          "height": 1000
        },
        "outputId": "6a83e021-c8da-40ec-9cde-71788e69e7e4"
      },
      "source": [
        "visualize_data(\"auto-mpg.csv\")"
      ],
      "execution_count": 28,
      "outputs": [
        {
          "output_type": "display_data",
          "data": {
            "image/png": "[encoded data removed]",
            "text/plain": [
              "<Figure size 432x288 with 1 Axes>"
            ]
          },
          "metadata": {
            "tags": [],
            "needs_background": "light"
          }
        },
        {
          "output_type": "display_data",
          "data": {
            "image/png": "[encoded data removed]",
            "text/plain": [
              "<Figure size 432x288 with 1 Axes>"
            ]
          },
          "metadata": {
            "tags": [],
            "needs_background": "light"
          }
        },
        {
          "output_type": "display_data",
          "data": {
            "image/png": "[encoded data removed]",
            "text/plain": [
              "<Figure size 432x288 with 1 Axes>"
            ]
          },
          "metadata": {
            "tags": [],
            "needs_background": "light"
          }
        },
        {
          "output_type": "display_data",
          "data": {
            "image/png": "[encoded data removed]",
            "text/plain": [
              "<Figure size 432x288 with 1 Axes>"
            ]
          },
          "metadata": {
            "tags": [],
            "needs_background": "light"
          }
        },
        {
          "output_type": "display_data",
          "data": {
            "image/png": "[encoded data removed]",
            "text/plain": [
              "<Figure size 432x288 with 1 Axes>"
            ]
          },
          "metadata": {
            "tags": [],
            "needs_background": "light"
          }
        },
        {
          "output_type": "display_data",
          "data": {
            "image/png": "[encoded data removed]",
            "text/plain": [
              "<Figure size 432x288 with 1 Axes>"
            ]
          },
          "metadata": {
            "tags": [],
            "needs_background": "light"
          }
        },
        {
          "output_type": "display_data",
          "data": {
            "image/png": "[encoded data removed]",
            "text/plain": [
              "<Figure size 432x288 with 1 Axes>"
            ]
          },
          "metadata": {
            "tags": [],
            "needs_background": "light"
          }
        },
        {
          "output_type": "display_data",
          "data": {
            "image/png": "[encoded data removed]",
            "text/plain": [
              "<Figure size 432x288 with 1 Axes>"
            ]
          },
          "metadata": {
            "tags": [],
            "needs_background": "light"
          }
        }
      ]
    },
    {
      "cell_type": "markdown",
      "metadata": {
        "id": "-fzz_H53dCdZ",
        "colab_type": "text"
      },
      "source": [
        "### iris Data "
      ]
    },
    {
      "cell_type": "code",
      "metadata": {
        "id": "f3juuN_44god",
        "colab_type": "code",
        "colab": {
          "base_uri": "https://localhost:8080/",
          "height": 125
        },
        "outputId": "053c8588-0a99-4ef0-d771-16f1010e3a19"
      },
      "source": [
        "data_description(\"iris.csv\")"
      ],
      "execution_count": 29,
      "outputs": [
        {
          "output_type": "stream",
          "text": [
            "This dataset contains 150 entries, each with 5 attributes\n",
            "sepal_length: ratio or interval, continuous\n",
            "sepal_width: ratio or interval, continuous\n",
            "petal_length: ratio or interval, continuous\n",
            "petal_width: ratio or interval, continuous\n",
            "species: nominal, discrete\n"
          ],
          "name": "stdout"
        }
      ]
    },
    {
      "cell_type": "code",
      "metadata": {
        "id": "6InYurLG4myi",
        "colab_type": "code",
        "colab": {
          "base_uri": "https://localhost:8080/",
          "height": 953
        },
        "outputId": "a04b34db-1035-4f97-9385-f67a3ba4dddb"
      },
      "source": [
        "stats(\"iris.csv\")"
      ],
      "execution_count": 30,
      "outputs": [
        {
          "output_type": "stream",
          "text": [
            "sepal_length\n",
            "count    150.000000\n",
            "mean       5.843333\n",
            "std        0.828066\n",
            "min        4.300000\n",
            "25%        5.100000\n",
            "50%        5.800000\n",
            "75%        6.400000\n",
            "max        7.900000\n",
            "Name: sepal_length, dtype: float64\n",
            "========================================\n",
            "sepal_width\n",
            "count    150.000000\n",
            "mean       3.054000\n",
            "std        0.433594\n",
            "min        2.000000\n",
            "25%        2.800000\n",
            "50%        3.000000\n",
            "75%        3.300000\n",
            "max        4.400000\n",
            "Name: sepal_width, dtype: float64\n",
            "========================================\n",
            "petal_length\n",
            "count    150.000000\n",
            "mean       3.758667\n",
            "std        1.764420\n",
            "min        1.000000\n",
            "25%        1.600000\n",
            "50%        4.350000\n",
            "75%        5.100000\n",
            "max        6.900000\n",
            "Name: petal_length, dtype: float64\n",
            "========================================\n",
            "petal_width\n",
            "count    150.000000\n",
            "mean       1.198667\n",
            "std        0.763161\n",
            "min        0.100000\n",
            "25%        0.300000\n",
            "50%        1.300000\n",
            "75%        1.800000\n",
            "max        2.500000\n",
            "Name: petal_width, dtype: float64\n",
            "========================================\n",
            "species\n",
            "Mode of species: Iris-setosa\n",
            "count             150\n",
            "unique              3\n",
            "top       Iris-setosa\n",
            "freq               50\n",
            "Name: species, dtype: object\n",
            "========================================\n"
          ],
          "name": "stdout"
        }
      ]
    },
    {
      "cell_type": "code",
      "metadata": {
        "id": "betmfJtA4sx1",
        "colab_type": "code",
        "colab": {
          "base_uri": "https://localhost:8080/",
          "height": 1000
        },
        "outputId": "f8f4793a-7a89-4314-d691-4e179e2fe789"
      },
      "source": [
        "visualize_data(\"iris.csv\")"
      ],
      "execution_count": 31,
      "outputs": [
        {
          "output_type": "display_data",
          "data": {
            "image/png": "[encoded data removed]",
            "text/plain": [
              "<Figure size 432x288 with 1 Axes>"
            ]
          },
          "metadata": {
            "tags": [],
            "needs_background": "light"
          }
        },
        {
          "output_type": "display_data",
          "data": {
            "image/png": "[encoded data removed]",
            "text/plain": [
              "<Figure size 432x288 with 1 Axes>"
            ]
          },
          "metadata": {
            "tags": [],
            "needs_background": "light"
          }
        },
        {
          "output_type": "display_data",
          "data": {
            "image/png": "[encoded data removed]",
            "text/plain": [
              "<Figure size 432x288 with 1 Axes>"
            ]
          },
          "metadata": {
            "tags": [],
            "needs_background": "light"
          }
        },
        {
          "output_type": "display_data",
          "data": {
            "image/png": "[encoded data removed]",
            "text/plain": [
              "<Figure size 432x288 with 1 Axes>"
            ]
          },
          "metadata": {
            "tags": [],
            "needs_background": "light"
          }
        },
        {
          "output_type": "display_data",
          "data": {
            "image/png": "[encoded data removed]",
            "text/plain": [
              "<Figure size 432x288 with 1 Axes>"
            ]
          },
          "metadata": {
            "tags": [],
            "needs_background": "light"
          }
        }
      ]
    },
    {
      "cell_type": "markdown",
      "metadata": {
        "id": "ZSAQ5DMkdUyf",
        "colab_type": "text"
      },
      "source": [
        "### car Data "
      ]
    },
    {
      "cell_type": "code",
      "metadata": {
        "id": "Mfpfmg6ydWz9",
        "colab_type": "code",
        "colab": {
          "base_uri": "https://localhost:8080/",
          "height": 143
        },
        "outputId": "56e33c00-aa8b-4d81-80e7-e0b2e4cda35a"
      },
      "source": [
        "data_description(\"car.csv\")"
      ],
      "execution_count": 32,
      "outputs": [
        {
          "output_type": "stream",
          "text": [
            "This dataset contains 1728 entries, each with 7 attributes\n",
            "buying: nominal, discrete\n",
            "maint: nominal, discrete\n",
            "doors: nominal, discrete\n",
            "persons: nominal, discrete\n",
            "lug_boot: nominal, discrete\n",
            "car_accept: nominal, discrete\n"
          ],
          "name": "stdout"
        }
      ]
    },
    {
      "cell_type": "code",
      "metadata": {
        "id": "fP19qTmidbNJ",
        "colab_type": "code",
        "colab": {
          "base_uri": "https://localhost:8080/",
          "height": 1000
        },
        "outputId": "8c216e97-f7b9-4100-b8b8-d0b080662838"
      },
      "source": [
        "stats(\"car.csv\")"
      ],
      "execution_count": 33,
      "outputs": [
        {
          "output_type": "stream",
          "text": [
            "buying\n",
            "Mode of buying: high\n",
            "count     1728\n",
            "unique       4\n",
            "top       high\n",
            "freq       432\n",
            "Name: buying, dtype: object\n",
            "========================================\n",
            "maint\n",
            "Mode of maint: high\n",
            "count     1728\n",
            "unique       4\n",
            "top       high\n",
            "freq       432\n",
            "Name: maint, dtype: object\n",
            "========================================\n",
            "doors\n",
            "Mode of doors: 2\n",
            "count     1728\n",
            "unique       4\n",
            "top          3\n",
            "freq       432\n",
            "Name: doors, dtype: object\n",
            "========================================\n",
            "persons\n",
            "Mode of persons: 2\n",
            "count     1728\n",
            "unique       3\n",
            "top          4\n",
            "freq       576\n",
            "Name: persons, dtype: object\n",
            "========================================\n",
            "lug_boot\n",
            "Mode of lug_boot: big\n",
            "count     1728\n",
            "unique       3\n",
            "top        med\n",
            "freq       576\n",
            "Name: lug_boot, dtype: object\n",
            "========================================\n",
            "safety\n",
            "Mode of safety: high\n",
            "count     1728\n",
            "unique       3\n",
            "top       high\n",
            "freq       576\n",
            "Name: safety, dtype: object\n",
            "========================================\n",
            "car_accept\n",
            "Mode of car_accept: unacc\n",
            "count      1728\n",
            "unique        4\n",
            "top       unacc\n",
            "freq       1210\n",
            "Name: car_accept, dtype: object\n",
            "========================================\n"
          ],
          "name": "stdout"
        }
      ]
    },
    {
      "cell_type": "code",
      "metadata": {
        "id": "OYUcAYIFdciT",
        "colab_type": "code",
        "colab": {
          "base_uri": "https://localhost:8080/",
          "height": 1000
        },
        "outputId": "161d267d-0bb3-4623-f6b9-557e42a666ea"
      },
      "source": [
        "visualize_data(\"car.csv\")"
      ],
      "execution_count": 34,
      "outputs": [
        {
          "output_type": "display_data",
          "data": {
            "image/png": "[encoded data removed]",
            "text/plain": [
              "<Figure size 432x288 with 1 Axes>"
            ]
          },
          "metadata": {
            "tags": [],
            "needs_background": "light"
          }
        },
        {
          "output_type": "display_data",
          "data": {
            "image/png": "[encoded data removed]",
            "text/plain": [
              "<Figure size 432x288 with 1 Axes>"
            ]
          },
          "metadata": {
            "tags": [],
            "needs_background": "light"
          }
        },
        {
          "output_type": "display_data",
          "data": {
            "image/png": "[encoded data removed]",
            "text/plain": [
              "<Figure size 432x288 with 1 Axes>"
            ]
          },
          "metadata": {
            "tags": [],
            "needs_background": "light"
          }
        },
        {
          "output_type": "display_data",
          "data": {
            "image/png": "[encoded data removed]",
            "text/plain": [
              "<Figure size 432x288 with 1 Axes>"
            ]
          },
          "metadata": {
            "tags": [],
            "needs_background": "light"
          }
        },
        {
          "output_type": "display_data",
          "data": {
            "image/png": "[encoded data removed]",
            "text/plain": [
              "<Figure size 432x288 with 1 Axes>"
            ]
          },
          "metadata": {
            "tags": [],
            "needs_background": "light"
          }
        },
        {
          "output_type": "display_data",
          "data": {
            "image/png": "[encoded data removed]",
            "text/plain": [
              "<Figure size 432x288 with 1 Axes>"
            ]
          },
          "metadata": {
            "tags": [],
            "needs_background": "light"
          }
        },
        {
          "output_type": "display_data",
          "data": {
            "image/png": "[encoded data removed]",
            "text/plain": [
              "<Figure size 432x288 with 1 Axes>"
            ]
          },
          "metadata": {
            "tags": [],
            "needs_background": "light"
          }
        }
      ]
    },
    {
      "cell_type": "markdown",
      "metadata": {
        "id": "I7tMrnxcdGxs",
        "colab_type": "text"
      },
      "source": [
        "### connect_4 Data "
      ]
    },
    {
      "cell_type": "code",
      "metadata": {
        "id": "kNAeareSD6ew",
        "colab_type": "code",
        "colab": {
          "base_uri": "https://localhost:8080/",
          "height": 809
        },
        "outputId": "7457e1af-4582-47c2-aa0d-aaeea633b925"
      },
      "source": [
        "data_description(\"connect_4.csv\")"
      ],
      "execution_count": 35,
      "outputs": [
        {
          "output_type": "stream",
          "text": [
            "This dataset contains 67557 entries, each with 43 attributes\n",
            "a1: nominal, discrete\n",
            "a2: nominal, discrete\n",
            "a3: nominal, discrete\n",
            "a4: nominal, discrete\n",
            "a5: nominal, discrete\n",
            "a6: nominal, discrete\n",
            "b1: nominal, discrete\n",
            "b2: nominal, discrete\n",
            "b3: nominal, discrete\n",
            "b4: nominal, discrete\n",
            "b5: nominal, discrete\n",
            "b6: nominal, discrete\n",
            "c1: nominal, discrete\n",
            "c2: nominal, discrete\n",
            "c3: nominal, discrete\n",
            "c4: nominal, discrete\n",
            "c5: nominal, discrete\n",
            "c6: nominal, discrete\n",
            "d1: nominal, discrete\n",
            "d2: nominal, discrete\n",
            "d3: nominal, discrete\n",
            "d4: nominal, discrete\n",
            "d5: nominal, discrete\n",
            "d6: nominal, discrete\n",
            "e1: nominal, discrete\n",
            "e2: nominal, discrete\n",
            "e3: nominal, discrete\n",
            "e4: nominal, discrete\n",
            "e5: nominal, discrete\n",
            "e6: nominal, discrete\n",
            "f1: nominal, discrete\n",
            "f2: nominal, discrete\n",
            "f3: nominal, discrete\n",
            "f4: nominal, discrete\n",
            "f5: nominal, discrete\n",
            "f6: nominal, discrete\n",
            "g1: nominal, discrete\n",
            "g2: nominal, discrete\n",
            "g3: nominal, discrete\n",
            "g4: nominal, discrete\n",
            "g5: nominal, discrete\n",
            "g6: nominal, discrete\n",
            "outcome: nominal, discrete\n"
          ],
          "name": "stdout"
        }
      ]
    },
    {
      "cell_type": "code",
      "metadata": {
        "id": "kzUaiH0FELx7",
        "colab_type": "code",
        "colab": {
          "base_uri": "https://localhost:8080/",
          "height": 1000
        },
        "outputId": "aa770a80-9667-45b5-9ba4-a4fd2de5edd7"
      },
      "source": [
        "stats(\"connect_4.csv\")"
      ],
      "execution_count": 36,
      "outputs": [
        {
          "output_type": "stream",
          "text": [
            "a1\n",
            "Mode of a1: b\n",
            "count     67557\n",
            "unique        3\n",
            "top           b\n",
            "freq      24982\n",
            "Name: a1, dtype: object\n",
            "========================================\n",
            "a2\n",
            "Mode of a2: b\n",
            "count     67557\n",
            "unique        3\n",
            "top           b\n",
            "freq      43385\n",
            "Name: a2, dtype: object\n",
            "========================================\n",
            "a3\n",
            "Mode of a3: b\n",
            "count     67557\n",
            "unique        3\n",
            "top           b\n",
            "freq      55333\n",
            "Name: a3, dtype: object\n",
            "========================================\n",
            "a4\n",
            "Mode of a4: b\n",
            "count     67557\n",
            "unique        3\n",
            "top           b\n",
            "freq      61616\n",
            "Name: a4, dtype: object\n",
            "========================================\n",
            "a5\n",
            "Mode of a5: b\n",
            "count     67557\n",
            "unique        3\n",
            "top           b\n",
            "freq      65265\n",
            "Name: a5, dtype: object\n",
            "========================================\n",
            "a6\n",
            "Mode of a6: b\n",
            "count     67557\n",
            "unique        3\n",
            "top           b\n",
            "freq      67040\n",
            "Name: a6, dtype: object\n",
            "========================================\n",
            "b1\n",
            "Mode of b1: x\n",
            "count     67557\n",
            "unique        3\n",
            "top           x\n",
            "freq      25889\n",
            "Name: b1, dtype: object\n",
            "========================================\n",
            "b2\n",
            "Mode of b2: b\n",
            "count     67557\n",
            "unique        3\n",
            "top           b\n",
            "freq      41180\n",
            "Name: b2, dtype: object\n",
            "========================================\n",
            "b3\n",
            "Mode of b3: b\n",
            "count     67557\n",
            "unique        3\n",
            "top           b\n",
            "freq      54352\n",
            "Name: b3, dtype: object\n",
            "========================================\n",
            "b4\n",
            "Mode of b4: b\n",
            "count     67557\n",
            "unique        3\n",
            "top           b\n",
            "freq      61206\n",
            "Name: b4, dtype: object\n",
            "========================================\n",
            "b5\n",
            "Mode of b5: b\n",
            "count     67557\n",
            "unique        3\n",
            "top           b\n",
            "freq      65204\n",
            "Name: b5, dtype: object\n",
            "========================================\n",
            "b6\n",
            "Mode of b6: b\n",
            "count     67557\n",
            "unique        3\n",
            "top           b\n",
            "freq      67042\n",
            "Name: b6, dtype: object\n",
            "========================================\n",
            "c1\n",
            "Mode of c1: x\n",
            "count     67557\n",
            "unique        3\n",
            "top           x\n",
            "freq      32033\n",
            "Name: c1, dtype: object\n",
            "========================================\n",
            "c2\n",
            "Mode of c2: b\n",
            "count     67557\n",
            "unique        3\n",
            "top           b\n",
            "freq      37671\n",
            "Name: c2, dtype: object\n",
            "========================================\n",
            "c3\n",
            "Mode of c3: b\n",
            "count     67557\n",
            "unique        3\n",
            "top           b\n",
            "freq      52898\n",
            "Name: c3, dtype: object\n",
            "========================================\n",
            "c4\n",
            "Mode of c4: b\n",
            "count     67557\n",
            "unique        3\n",
            "top           b\n",
            "freq      60723\n",
            "Name: c4, dtype: object\n",
            "========================================\n",
            "c5\n",
            "Mode of c5: b\n",
            "count     67557\n",
            "unique        3\n",
            "top           b\n",
            "freq      65143\n",
            "Name: c5, dtype: object\n",
            "========================================\n",
            "c6\n",
            "Mode of c6: b\n",
            "count     67557\n",
            "unique        3\n",
            "top           b\n",
            "freq      67044\n",
            "Name: c6, dtype: object\n",
            "========================================\n",
            "d1\n",
            "Mode of d1: b\n",
            "count     67557\n",
            "unique        3\n",
            "top           b\n",
            "freq      29016\n",
            "Name: d1, dtype: object\n",
            "========================================\n",
            "d2\n",
            "Mode of d2: b\n",
            "count     67557\n",
            "unique        3\n",
            "top           b\n",
            "freq      46933\n",
            "Name: d2, dtype: object\n",
            "========================================\n",
            "d3\n",
            "Mode of d3: b\n",
            "count     67557\n",
            "unique        3\n",
            "top           b\n",
            "freq      57856\n",
            "Name: d3, dtype: object\n",
            "========================================\n",
            "d4\n",
            "Mode of d4: b\n",
            "count     67557\n",
            "unique        3\n",
            "top           b\n",
            "freq      63096\n",
            "Name: d4, dtype: object\n",
            "========================================\n",
            "d5\n",
            "Mode of d5: b\n",
            "count     67557\n",
            "unique        3\n",
            "top           b\n",
            "freq      66041\n",
            "Name: d5, dtype: object\n",
            "========================================\n",
            "d6\n",
            "Mode of d6: b\n",
            "count     67557\n",
            "unique        3\n",
            "top           b\n",
            "freq      67245\n",
            "Name: d6, dtype: object\n",
            "========================================\n",
            "e1\n",
            "Mode of e1: b\n",
            "count     67557\n",
            "unique        3\n",
            "top           b\n",
            "freq      40847\n",
            "Name: e1, dtype: object\n",
            "========================================\n",
            "e2\n",
            "Mode of e2: b\n",
            "count     67557\n",
            "unique        3\n",
            "top           b\n",
            "freq      55527\n",
            "Name: e2, dtype: object\n",
            "========================================\n",
            "e3\n",
            "Mode of e3: b\n",
            "count     67557\n",
            "unique        3\n",
            "top           b\n",
            "freq      62352\n",
            "Name: e3, dtype: object\n",
            "========================================\n",
            "e4\n",
            "Mode of e4: b\n",
            "count     67557\n",
            "unique        3\n",
            "top           b\n",
            "freq      65450\n",
            "Name: e4, dtype: object\n",
            "========================================\n",
            "e5\n",
            "Mode of e5: b\n",
            "count     67557\n",
            "unique        3\n",
            "top           b\n",
            "freq      66928\n",
            "Name: e5, dtype: object\n",
            "========================================\n",
            "e6\n",
            "Mode of e6: b\n",
            "count     67557\n",
            "unique        3\n",
            "top           b\n",
            "freq      67473\n",
            "Name: e6, dtype: object\n",
            "========================================\n",
            "f1\n",
            "Mode of f1: b\n",
            "count     67557\n",
            "unique        3\n",
            "top           b\n",
            "freq      34167\n",
            "Name: f1, dtype: object\n",
            "========================================\n",
            "f2\n",
            "Mode of f2: b\n",
            "count     67557\n",
            "unique        3\n",
            "top           b\n",
            "freq      51169\n",
            "Name: f2, dtype: object\n",
            "========================================\n",
            "f3\n",
            "Mode of f3: b\n",
            "count     67557\n",
            "unique        3\n",
            "top           b\n",
            "freq      60374\n",
            "Name: f3, dtype: object\n",
            "========================================\n",
            "f4\n",
            "Mode of f4: b\n",
            "count     67557\n",
            "unique        3\n",
            "top           b\n",
            "freq      64839\n",
            "Name: f4, dtype: object\n",
            "========================================\n",
            "f5\n",
            "Mode of f5: b\n",
            "count     67557\n",
            "unique        3\n",
            "top           b\n",
            "freq      66819\n",
            "Name: f5, dtype: object\n",
            "========================================\n",
            "f6\n",
            "Mode of f6: b\n",
            "count     67557\n",
            "unique        3\n",
            "top           b\n",
            "freq      67469\n",
            "Name: f6, dtype: object\n",
            "========================================\n",
            "g1\n",
            "Mode of g1: b\n",
            "count     67557\n",
            "unique        3\n",
            "top           b\n",
            "freq      29729\n",
            "Name: g1, dtype: object\n",
            "========================================\n",
            "g2\n",
            "Mode of g2: b\n",
            "count     67557\n",
            "unique        3\n",
            "top           b\n",
            "freq      48104\n",
            "Name: g2, dtype: object\n",
            "========================================\n",
            "g3\n",
            "Mode of g3: b\n",
            "count     67557\n",
            "unique        3\n",
            "top           b\n",
            "freq      58869\n",
            "Name: g3, dtype: object\n",
            "========================================\n",
            "g4\n",
            "Mode of g4: b\n",
            "count     67557\n",
            "unique        3\n",
            "top           b\n",
            "freq      64301\n",
            "Name: g4, dtype: object\n",
            "========================================\n",
            "g5\n",
            "Mode of g5: b\n",
            "count     67557\n",
            "unique        3\n",
            "top           b\n",
            "freq      66710\n",
            "Name: g5, dtype: object\n",
            "========================================\n",
            "g6\n",
            "Mode of g6: b\n",
            "count     67557\n",
            "unique        3\n",
            "top           b\n",
            "freq      67465\n",
            "Name: g6, dtype: object\n",
            "========================================\n",
            "outcome\n",
            "Mode of outcome: win\n",
            "count     67557\n",
            "unique        3\n",
            "top         win\n",
            "freq      44473\n",
            "Name: outcome, dtype: object\n",
            "========================================\n"
          ],
          "name": "stdout"
        }
      ]
    },
    {
      "cell_type": "code",
      "metadata": {
        "id": "Hb7vvg4FEXF4",
        "colab_type": "code",
        "colab": {
          "base_uri": "https://localhost:8080/",
          "height": 1000
        },
        "outputId": "e9c9297a-3a52-426c-ebc8-39f0a2de0332"
      },
      "source": [
        "visualize_data(\"connect_4.csv\")"
      ],
      "execution_count": 37,
      "outputs": [
        {
          "output_type": "display_data",
          "data": {
            "image/png": "[encoded data removed]",
            "text/plain": [
              "<Figure size 432x288 with 1 Axes>"
            ]
          },
          "metadata": {
            "tags": [],
            "needs_background": "light"
          }
        },
        {
          "output_type": "display_data",
          "data": {
            "image/png": "[encoded data removed]",
            "text/plain": [
              "<Figure size 432x288 with 1 Axes>"
            ]
          },
          "metadata": {
            "tags": [],
            "needs_background": "light"
          }
        },
        {
          "output_type": "display_data",
          "data": {
            "image/png": "[encoded data removed]",
            "text/plain": [
              "<Figure size 432x288 with 1 Axes>"
            ]
          },
          "metadata": {
            "tags": [],
            "needs_background": "light"
          }
        },
        {
          "output_type": "display_data",
          "data": {
            "image/png": "[encoded data removed]",
            "text/plain": [
              "<Figure size 432x288 with 1 Axes>"
            ]
          },
          "metadata": {
            "tags": [],
            "needs_background": "light"
          }
        },
        {
          "output_type": "display_data",
          "data": {
            "image/png": "[encoded data removed]",
            "text/plain": [
              "<Figure size 432x288 with 1 Axes>"
            ]
          },
          "metadata": {
            "tags": [],
            "needs_background": "light"
          }
        },
        {
          "output_type": "display_data",
          "data": {
            "image/png": "[encoded data removed]",
            "text/plain": [
              "<Figure size 432x288 with 1 Axes>"
            ]
          },
          "metadata": {
            "tags": [],
            "needs_background": "light"
          }
        },
        {
          "output_type": "display_data",
          "data": {
            "image/png": "[encoded data removed]",
            "text/plain": [
              "<Figure size 432x288 with 1 Axes>"
            ]
          },
          "metadata": {
            "tags": [],
            "needs_background": "light"
          }
        },
        {
          "output_type": "display_data",
          "data": {
            "image/png": "[encoded data removed]",
            "text/plain": [
              "<Figure size 432x288 with 1 Axes>"
            ]
          },
          "metadata": {
            "tags": [],
            "needs_background": "light"
          }
        },
        {
          "output_type": "display_data",
          "data": {
            "image/png": "[encoded data removed]",
            "text/plain": [
              "<Figure size 432x288 with 1 Axes>"
            ]
          },
          "metadata": {
            "tags": [],
            "needs_background": "light"
          }
        },
        {
          "output_type": "display_data",
          "data": {
            "image/png": "[encoded data removed]",
            "text/plain": [
              "<Figure size 432x288 with 1 Axes>"
            ]
          },
          "metadata": {
            "tags": [],
            "needs_background": "light"
          }
        },
        {
          "output_type": "display_data",
          "data": {
            "image/png": "[encoded data removed]",
            "text/plain": [
              "<Figure size 432x288 with 1 Axes>"
            ]
          },
          "metadata": {
            "tags": [],
            "needs_background": "light"
          }
        },
        {
          "output_type": "display_data",
          "data": {
            "image/png": "[encoded data removed]",
            "text/plain": [
              "<Figure size 432x288 with 1 Axes>"
            ]
          },
          "metadata": {
            "tags": [],
            "needs_background": "light"
          }
        },
        {
          "output_type": "display_data",
          "data": {
            "image/png": "[encoded data removed]",
            "text/plain": [
              "<Figure size 432x288 with 1 Axes>"
            ]
          },
          "metadata": {
            "tags": [],
            "needs_background": "light"
          }
        },
        {
          "output_type": "display_data",
          "data": {
            "image/png": "[encoded data removed]",
            "text/plain": [
              "<Figure size 432x288 with 1 Axes>"
            ]
          },
          "metadata": {
            "tags": [],
            "needs_background": "light"
          }
        },
        {
          "output_type": "display_data",
          "data": {
            "image/png": "[encoded data removed]",
            "text/plain": [
              "<Figure size 432x288 with 1 Axes>"
            ]
          },
          "metadata": {
            "tags": [],
            "needs_background": "light"
          }
        },
        {
          "output_type": "display_data",
          "data": {
            "image/png": "[encoded data removed]",
            "text/plain": [
              "<Figure size 432x288 with 1 Axes>"
            ]
          },
          "metadata": {
            "tags": [],
            "needs_background": "light"
          }
        },
        {
          "output_type": "display_data",
          "data": {
            "image/png": "[encoded data removed]",
            "text/plain": [
              "<Figure size 432x288 with 1 Axes>"
            ]
          },
          "metadata": {
            "tags": [],
            "needs_background": "light"
          }
        },
        {
          "output_type": "display_data",
          "data": {
            "image/png": "[encoded data removed]",
            "text/plain": [
              "<Figure size 432x288 with 1 Axes>"
            ]
          },
          "metadata": {
            "tags": [],
            "needs_background": "light"
          }
        },
        {
          "output_type": "display_data",
          "data": {
            "image/png": "[encoded data removed]",
            "text/plain": [
              "<Figure size 432x288 with 1 Axes>"
            ]
          },
          "metadata": {
            "tags": [],
            "needs_background": "light"
          }
        },
        {
          "output_type": "display_data",
          "data": {
            "image/png": "[encoded data removed]",
            "text/plain": [
              "<Figure size 432x288 with 1 Axes>"
            ]
          },
          "metadata": {
            "tags": [],
            "needs_background": "light"
          }
        },
        {
          "output_type": "display_data",
          "data": {
            "image/png": "[encoded data removed]",
            "text/plain": [
              "<Figure size 432x288 with 1 Axes>"
            ]
          },
          "metadata": {
            "tags": [],
            "needs_background": "light"
          }
        },
        {
          "output_type": "display_data",
          "data": {
            "image/png": "[encoded data removed]",
            "text/plain": [
              "<Figure size 432x288 with 1 Axes>"
            ]
          },
          "metadata": {
            "tags": [],
            "needs_background": "light"
          }
        },
        {
          "output_type": "display_data",
          "data": {
            "image/png": "[encoded data removed]",
            "text/plain": [
              "<Figure size 432x288 with 1 Axes>"
            ]
          },
          "metadata": {
            "tags": [],
            "needs_background": "light"
          }
        },
        {
          "output_type": "display_data",
          "data": {
            "image/png": "[encoded data removed]",
            "text/plain": [
              "<Figure size 432x288 with 1 Axes>"
            ]
          },
          "metadata": {
            "tags": [],
            "needs_background": "light"
          }
        },
        {
          "output_type": "display_data",
          "data": {
            "image/png": "[encoded data removed]",
            "text/plain": [
              "<Figure size 432x288 with 1 Axes>"
            ]
          },
          "metadata": {
            "tags": [],
            "needs_background": "light"
          }
        },
        {
          "output_type": "display_data",
          "data": {
            "image/png": "[encoded data removed]",
            "text/plain": [
              "<Figure size 432x288 with 1 Axes>"
            ]
          },
          "metadata": {
            "tags": [],
            "needs_background": "light"
          }
        },
        {
          "output_type": "display_data",
          "data": {
            "image/png": "[encoded data removed]",
            "text/plain": [
              "<Figure size 432x288 with 1 Axes>"
            ]
          },
          "metadata": {
            "tags": [],
            "needs_background": "light"
          }
        },
        {
          "output_type": "display_data",
          "data": {
            "image/png": "[encoded data removed]",
            "text/plain": [
              "<Figure size 432x288 with 1 Axes>"
            ]
          },
          "metadata": {
            "tags": [],
            "needs_background": "light"
          }
        },
        {
          "output_type": "display_data",
          "data": {
            "image/png": "[encoded data removed]",
            "text/plain": [
              "<Figure size 432x288 with 1 Axes>"
            ]
          },
          "metadata": {
            "tags": [],
            "needs_background": "light"
          }
        },
        {
          "output_type": "display_data",
          "data": {
            "image/png": "[encoded data removed]",
            "text/plain": [
              "<Figure size 432x288 with 1 Axes>"
            ]
          },
          "metadata": {
            "tags": [],
            "needs_background": "light"
          }
        },
        {
          "output_type": "display_data",
          "data": {
            "image/png": "[encoded data removed]",
            "text/plain": [
              "<Figure size 432x288 with 1 Axes>"
            ]
          },
          "metadata": {
            "tags": [],
            "needs_background": "light"
          }
        },
        {
          "output_type": "display_data",
          "data": {
            "image/png": "[encoded data removed]",
            "text/plain": [
              "<Figure size 432x288 with 1 Axes>"
            ]
          },
          "metadata": {
            "tags": [],
            "needs_background": "light"
          }
        },
        {
          "output_type": "display_data",
          "data": {
            "image/png": "[encoded data removed]",
            "text/plain": [
              "<Figure size 432x288 with 1 Axes>"
            ]
          },
          "metadata": {
            "tags": [],
            "needs_background": "light"
          }
        },
        {
          "output_type": "display_data",
          "data": {
            "image/png": "[encoded data removed]",
            "text/plain": [
              "<Figure size 432x288 with 1 Axes>"
            ]
          },
          "metadata": {
            "tags": [],
            "needs_background": "light"
          }
        },
        {
          "output_type": "display_data",
          "data": {
            "image/png": "[encoded data removed]",
            "text/plain": [
              "<Figure size 432x288 with 1 Axes>"
            ]
          },
          "metadata": {
            "tags": [],
            "needs_background": "light"
          }
        },
        {
          "output_type": "display_data",
          "data": {
            "image/png": "[encoded data removed]",
            "text/plain": [
              "<Figure size 432x288 with 1 Axes>"
            ]
          },
          "metadata": {
            "tags": [],
            "needs_background": "light"
          }
        },
        {
          "output_type": "display_data",
          "data": {
            "image/png": "[encoded data removed]",
            "text/plain": [
              "<Figure size 432x288 with 1 Axes>"
            ]
          },
          "metadata": {
            "tags": [],
            "needs_background": "light"
          }
        },
        {
          "output_type": "display_data",
          "data": {
            "image/png": "[encoded data removed]",
            "text/plain": [
              "<Figure size 432x288 with 1 Axes>"
            ]
          },
          "metadata": {
            "tags": [],
            "needs_background": "light"
          }
        },
        {
          "output_type": "display_data",
          "data": {
            "image/png": "[encoded data removed]",
            "text/plain": [
              "<Figure size 432x288 with 1 Axes>"
            ]
          },
          "metadata": {
            "tags": [],
            "needs_background": "light"
          }
        },
        {
          "output_type": "display_data",
          "data": {
            "image/png": "[encoded data removed]",
            "text/plain": [
              "<Figure size 432x288 with 1 Axes>"
            ]
          },
          "metadata": {
            "tags": [],
            "needs_background": "light"
          }
        },
        {
          "output_type": "display_data",
          "data": {
            "image/png": "[encoded data removed]",
            "text/plain": [
              "<Figure size 432x288 with 1 Axes>"
            ]
          },
          "metadata": {
            "tags": [],
            "needs_background": "light"
          }
        },
        {
          "output_type": "display_data",
          "data": {
            "image/png": "[encoded data removed]",
            "text/plain": [
              "<Figure size 432x288 with 1 Axes>"
            ]
          },
          "metadata": {
            "tags": [],
            "needs_background": "light"
          }
        },
        {
          "output_type": "display_data",
          "data": {
            "image/png": "[encoded data removed]",
            "text/plain": [
              "<Figure size 432x288 with 1 Axes>"
            ]
          },
          "metadata": {
            "tags": [],
            "needs_background": "light"
          }
        }
      ]
    },
    {
      "cell_type": "markdown",
      "metadata": {
        "id": "_nGPtZveeN6H",
        "colab_type": "text"
      },
      "source": [
        "### online_retail Data "
      ]
    },
    {
      "cell_type": "code",
      "metadata": {
        "id": "YzIrvo0XeS_L",
        "colab_type": "code",
        "colab": {
          "base_uri": "https://localhost:8080/",
          "height": 179
        },
        "outputId": "252eab76-30fc-4e8b-eed2-bf0babad57c7"
      },
      "source": [
        "data_description(\"online_retail.csv\")"
      ],
      "execution_count": 38,
      "outputs": [
        {
          "output_type": "stream",
          "text": [
            "This dataset contains 541909 entries, each with 8 attributes\n",
            "InvoiceNo: nominal, discrete\n",
            "StockCode: nominal, discrete\n",
            "Description: nominal, discrete\n",
            "Quantity: nominal, discrete\n",
            "InvoiceDate: nominal, discrete\n",
            "UnitPrice: ratio or interval, continuous\n",
            "CustomerID: ratio or interval, continuous\n",
            "Country: nominal, discrete\n"
          ],
          "name": "stdout"
        }
      ]
    },
    {
      "cell_type": "code",
      "metadata": {
        "id": "QRx7cm6AeWN_",
        "colab_type": "code",
        "colab": {}
      },
      "source": [
        "# It will take several minutes to run. So, I have commented it. \n",
        "# stats(\"online_retail.csv\")"
      ],
      "execution_count": 39,
      "outputs": []
    },
    {
      "cell_type": "code",
      "metadata": {
        "id": "DQ2seVO0eJSQ",
        "colab_type": "code",
        "colab": {
          "base_uri": "https://localhost:8080/",
          "height": 881
        },
        "outputId": "087940f9-9320-45a3-8bf3-e59b83372c9c"
      },
      "source": [
        "visualize_data(\"online_retail.csv\")"
      ],
      "execution_count": 40,
      "outputs": [
        {
          "output_type": "display_data",
          "data": {
            "image/png": "[encoded data removed]",
            "text/plain": [
              "<Figure size 432x288 with 1 Axes>"
            ]
          },
          "metadata": {
            "tags": [],
            "needs_background": "light"
          }
        },
        {
          "output_type": "display_data",
          "data": {
            "image/png": "[encoded data removed]",
            "text/plain": [
              "<Figure size 432x288 with 1 Axes>"
            ]
          },
          "metadata": {
            "tags": [],
            "needs_background": "light"
          }
        },
        {
          "output_type": "stream",
          "text": [
            "/usr/local/lib/python3.6/dist-packages/numpy/lib/histograms.py:839: RuntimeWarning: invalid value encountered in greater_equal\n",
            "  keep = (tmp_a >= first_edge)\n",
            "/usr/local/lib/python3.6/dist-packages/numpy/lib/histograms.py:840: RuntimeWarning: invalid value encountered in less_equal\n",
            "  keep &= (tmp_a <= last_edge)\n"
          ],
          "name": "stderr"
        },
        {
          "output_type": "display_data",
          "data": {
            "image/png": "[encoded data removed]",
            "text/plain": [
              "<Figure size 432x288 with 1 Axes>"
            ]
          },
          "metadata": {
            "tags": [],
            "needs_background": "light"
          }
        }
      ]
    }
  ]
}