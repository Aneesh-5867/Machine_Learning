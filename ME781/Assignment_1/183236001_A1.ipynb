{
  "nbformat": 4,
  "nbformat_minor": 0,
  "metadata": {
    "colab": {
      "name": "183236001_A1.ipynb",
      "provenance": [],
      "collapsed_sections": []
    },
    "kernelspec": {
      "name": "python3",
      "display_name": "Python 3"
    }
  },
  "cells": [
    {
      "cell_type": "markdown",
      "metadata": {
        "id": "m7N9UOgM-f9f",
        "colab_type": "text"
      },
      "source": [
        "# Prime Numbers "
      ]
    },
    {
      "cell_type": "markdown",
      "metadata": {
        "id": "OsXjwoOV-5z-",
        "colab_type": "text"
      },
      "source": [
        "## Problem Statement \n",
        "\n",
        "Create a Python code that will take an integer as an input and output all prime numbers less than or equal to the input number. The Python code should be written from scratch without using any built-in libraries.\n",
        "\n",
        "However, you could later use `SymPy` libraries to compare your results. Please make sure that the program is so written that it can handle any invalid input (for example, a negative integer, float, string, etc.).\n",
        "\n",
        "References:\n",
        "\n",
        "* https://en.wikipedia.org/wiki/Prime_number \n",
        "\n",
        "* https://www.geeksforgeeks.org/prime-functions-python-sympy/"
      ]
    },
    {
      "cell_type": "markdown",
      "metadata": {
        "id": "fzMd_muN_MIv",
        "colab_type": "text"
      },
      "source": [
        "## Input Format\n",
        "\n",
        "Define a subroutine/function that takes a single input, where input could be any data type (string, integer, float, etc.)\n",
        "\n",
        "Hint: use `def get_primenumbers(n)`"
      ]
    },
    {
      "cell_type": "markdown",
      "metadata": {
        "id": "f85dqT0v_TIM",
        "colab_type": "text"
      },
      "source": [
        "## Output Format\n",
        "\n",
        "Generate the list of prime numbers in ascending order. "
      ]
    },
    {
      "cell_type": "markdown",
      "metadata": {
        "id": "Hqa6l5PXCh5j",
        "colab_type": "text"
      },
      "source": [
        "## Logic \n",
        "\n",
        "**Definition**: A positive integer greater than one which has no other factors except one and the number itself is called a prime number. So, a prime number must have only two factors (1 and the number itself). \n",
        "\n",
        "2, 3, 5, 7, etc. are prime numbers, but 6 is not prime. \n",
        "\n",
        "For this problem, I will write two functions, as given below:\n",
        "\n",
        "* `is_prime(num)` - to check whether `num` is prime or not. \n",
        "*  `get_primenumbers(n)` - to print all the prime numbers less than or equal to `n` by utilizing the function `is_prime(num)`. \n"
      ]
    },
    {
      "cell_type": "markdown",
      "metadata": {
        "id": "FRw-phLzN0bS",
        "colab_type": "text"
      },
      "source": [
        "## Code Implementation in Python\n"
      ]
    },
    {
      "cell_type": "code",
      "metadata": {
        "id": "bpVoEn0CCfFI",
        "colab_type": "code",
        "colab": {}
      },
      "source": [
        "################ Defining the function is_prime ##################\n",
        "\n",
        "def is_prime(num):\n",
        "\n",
        "  \"\"\" Checks whether a given number is prime or not\n",
        "\n",
        "  Args:\n",
        "  num: int. The number to be checked. \n",
        "\n",
        "  Returns:\n",
        "  True/ False: boolean. num is prime --> True, num is not prime --> False \n",
        "  \"\"\"\n",
        "\n",
        "  num_factors = 0 # to count the total number of factors of num\n",
        "  \n",
        "  for i in range(1, num + 1): \n",
        "    if(num % i == 0):\n",
        "      num_factors += 1\n",
        "    else:\n",
        "      num_factors += 0\n",
        "    \n",
        "  if(num_factors > 2):\n",
        "    return False\n",
        "  else:\n",
        "    return True\n",
        "\n",
        "\n",
        "############# Defining the function get_primenumbers ###############\n",
        "\n",
        "def get_primenumbers(n):\n",
        "  \"\"\" Returns a list of prime numbers less than or equal to n. \n",
        "\n",
        "  Args:\n",
        "  n: int. Value to find all prime numbers less than or equal to n\n",
        "\n",
        "  Returns:\n",
        "  list_prime_numbers: list. A list of prime numbers upto n \n",
        "  \"\"\"\n",
        "  # I will use try and except blocks to handle inputs of different data types. \n",
        "\n",
        "  try:\n",
        "    n = int(n)\n",
        "    assert n > 1\n",
        "    list_prime_numbers = []\n",
        "    for num in range(2, n + 1):\n",
        "      if(is_prime(num) == True):\n",
        "        list_prime_numbers.append(num)\n",
        "    return list_prime_numbers\n",
        "  \n",
        "  except (AssertionError, ValueError):\n",
        "    error_message = \"You have entered wrong input\"\n",
        "    return error_message"
      ],
      "execution_count": 1,
      "outputs": []
    },
    {
      "cell_type": "markdown",
      "metadata": {
        "id": "iAtHcTvTN_Je",
        "colab_type": "text"
      },
      "source": [
        "## Sample Results"
      ]
    },
    {
      "cell_type": "code",
      "metadata": {
        "id": "wxOx9Z8Q-Yo-",
        "colab_type": "code",
        "colab": {
          "base_uri": "https://localhost:8080/",
          "height": 89
        },
        "outputId": "4f8a56b5-d523-4e32-80c0-90d82d36b802"
      },
      "source": [
        "# Check with integer values\n",
        "print(\"Results from user defined function\")\n",
        "print(get_primenumbers(9))\n",
        "\n",
        "# Verify the result with SymPy\n",
        "import sympy \n",
        "print(\"Results from Sympy library\")\n",
        "print(list(sympy.primerange(0,9)))"
      ],
      "execution_count": 2,
      "outputs": [
        {
          "output_type": "stream",
          "text": [
            "Results from user defined function\n",
            "[2, 3, 5, 7]\n",
            "Results from Sympy library\n",
            "[2, 3, 5, 7]\n"
          ],
          "name": "stdout"
        }
      ]
    },
    {
      "cell_type": "code",
      "metadata": {
        "id": "Pedmn7IjOOkk",
        "colab_type": "code",
        "colab": {
          "base_uri": "https://localhost:8080/",
          "height": 125
        },
        "outputId": "1b4114df-85cf-4c36-86d2-0c9b903810d3"
      },
      "source": [
        "# Check with floating values\n",
        "print(\"Results from user defined function\")\n",
        "print(get_primenumbers(7.2))\n",
        "print(get_primenumbers(15.8))\n",
        "\n",
        "# Verify the result with SymPy\n",
        "import sympy \n",
        "print(\"Results from Sympy library\")\n",
        "print(list(sympy.primerange(0, 7.2)))\n",
        "print(list(sympy.primerange(0, 15.8)))\n"
      ],
      "execution_count": 3,
      "outputs": [
        {
          "output_type": "stream",
          "text": [
            "Results from user defined function\n",
            "[2, 3, 5, 7]\n",
            "[2, 3, 5, 7, 11, 13]\n",
            "Results from Sympy library\n",
            "[2, 3, 5, 7]\n",
            "[2, 3, 5, 7, 11, 13]\n"
          ],
          "name": "stdout"
        }
      ]
    },
    {
      "cell_type": "code",
      "metadata": {
        "id": "3eEkoSq1OUFM",
        "colab_type": "code",
        "colab": {
          "base_uri": "https://localhost:8080/",
          "height": 53
        },
        "outputId": "54e7fe77-c163-4166-c5cc-f7fa246c9108"
      },
      "source": [
        "# Check with a string \n",
        "print(get_primenumbers('xyz'))\n",
        "print(get_primenumbers('9'))"
      ],
      "execution_count": 4,
      "outputs": [
        {
          "output_type": "stream",
          "text": [
            "You have entered wrong input\n",
            "[2, 3, 5, 7]\n"
          ],
          "name": "stdout"
        }
      ]
    },
    {
      "cell_type": "code",
      "metadata": {
        "id": "c4fEp6UjOcWx",
        "colab_type": "code",
        "colab": {
          "base_uri": "https://localhost:8080/",
          "height": 35
        },
        "outputId": "b0d6858e-9a20-4af2-c4dc-d02a3d768589"
      },
      "source": [
        "# Check with a negative int \n",
        "print(get_primenumbers(-8))"
      ],
      "execution_count": 5,
      "outputs": [
        {
          "output_type": "stream",
          "text": [
            "You have entered wrong input\n"
          ],
          "name": "stdout"
        }
      ]
    },
    {
      "cell_type": "code",
      "metadata": {
        "id": "0lBKE13lOhoy",
        "colab_type": "code",
        "colab": {
          "base_uri": "https://localhost:8080/",
          "height": 35
        },
        "outputId": "e5da1639-9971-42bd-b31d-8a8c5821fa5d"
      },
      "source": [
        "# Check with a negative float\n",
        "print(get_primenumbers(-1.5))"
      ],
      "execution_count": 6,
      "outputs": [
        {
          "output_type": "stream",
          "text": [
            "You have entered wrong input\n"
          ],
          "name": "stdout"
        }
      ]
    },
    {
      "cell_type": "code",
      "metadata": {
        "id": "59ZPn_vQOnc_",
        "colab_type": "code",
        "colab": {
          "base_uri": "https://localhost:8080/",
          "height": 35
        },
        "outputId": "ff165a45-fa2c-4055-b139-be8f9850ab79"
      },
      "source": [
        "# Check with input as 1\n",
        "print(get_primenumbers(1))"
      ],
      "execution_count": 7,
      "outputs": [
        {
          "output_type": "stream",
          "text": [
            "You have entered wrong input\n"
          ],
          "name": "stdout"
        }
      ]
    },
    {
      "cell_type": "markdown",
      "metadata": {
        "id": "zLCyf2dVPN8u",
        "colab_type": "text"
      },
      "source": [
        "\n",
        "\n",
        "---------------------------------------------------------------------"
      ]
    },
    {
      "cell_type": "markdown",
      "metadata": {
        "id": "u41D03zOPUC6",
        "colab_type": "text"
      },
      "source": [
        "# Hanoi Tower "
      ]
    },
    {
      "cell_type": "markdown",
      "metadata": {
        "id": "gJK7mirjwaTL",
        "colab_type": "text"
      },
      "source": [
        "## Problem Statement \n",
        "\n",
        "Solve the problem of the Tower of Hanoi using recursion for a variable number of rings which is provided by the user. The famous Towers of Hanoi puzzle consists of 3 pegs (A, B, C) on one of which (A) are stacked `n` rings of different sizes, each ring resting on a larger ring. The objective is to move the `n` rings one by one until they are all stacked on another peg (B) in such a way that no ring is ever placed on a smaller ring; the other peg (C) can be used as a workspace.\n",
        "\n",
        "References:\n",
        "\n",
        "* https://www.youtube.com/watch?v=5QuiCcZKyYU \n",
        "\n",
        "* https://www.tutorialspoint.com/data_structures_algorithms/tower_of_hanoi.htm "
      ]
    },
    {
      "cell_type": "markdown",
      "metadata": {
        "id": "I-1yTYBYw9Yd",
        "colab_type": "text"
      },
      "source": [
        "## Input Format\n",
        "\n",
        "The program should take an integer as input.\n",
        "Let that integer be `n` where `n` = the number of rings. \n",
        "\n",
        "Use the function: `n = int(input('input = '))`\n",
        "\n",
        "**Input Constraints**:\n",
        "* `n > 0`, `n` is a natural number. \n",
        "* You should solve the problem in $2^n − 1$ steps. "
      ]
    },
    {
      "cell_type": "markdown",
      "metadata": {
        "id": "PBKmQXnUxtEW",
        "colab_type": "text"
      },
      "source": [
        "## Output Format\n",
        "\n",
        "Generate three lists corresponding to each tower and modify the list at each step i.e., if `n = 3`, the initial list will be as follows:\n",
        "\n",
        "* $A = [3,2,1] \\; \\; B = [\\;] \\; \\;  C = [\\;]$ where 3 means ring with higher diameter and so on. \n",
        "\n",
        "* $[3, 2, 1]$ means 3 at the bottom, 2 on top of 3, and 1 on top of 2. "
      ]
    },
    {
      "cell_type": "markdown",
      "metadata": {
        "id": "V4F6yze6yZbp",
        "colab_type": "text"
      },
      "source": [
        "## Logic\n",
        "\n",
        "For this problem, I will write one function `tower_of_hanoi`, which will require four arguments, namely:\n",
        "* `n` - number of rings on one peg\n",
        "* `source` - the peg on which all the rings are stacked initially\n",
        "* `destination` - the peg on which all the rings are to be shifted in $2^n - 1$ steps\n",
        "* `workspace` - the peg which can be used an auxiliary peg to assist in moving the rings from source to destination \n"
      ]
    },
    {
      "cell_type": "markdown",
      "metadata": {
        "id": "VPwE2BLD0RKM",
        "colab_type": "text"
      },
      "source": [
        "## Code Implementation in Python"
      ]
    },
    {
      "cell_type": "code",
      "metadata": {
        "id": "hs8Zn-IR0Q5H",
        "colab_type": "code",
        "colab": {}
      },
      "source": [
        "############## Defining the function tower_of_hanoi ####################\n",
        "\n",
        "def tower_of_hanoi(n, source, workspace, destination, pegs = None):\n",
        "  \"\"\" Returns the elements in the list of the Hanoi tower\n",
        "\n",
        "  Args:\n",
        "  n: int. Number of rings\n",
        "  source: char. Represents the peg on which the rings are stacked initially\n",
        "  workspace: char. Represents the auxiliary peg\n",
        "  destination: char. Represents the peg on which the rings are to be shifted \n",
        "\n",
        "  Returns:\n",
        "  pegs: list of lists. Contains the lists A, B, and C as they get modified \n",
        "  \"\"\"\n",
        "\n",
        "  global steps\n",
        "  if pegs is None:\n",
        "    pegs = [source, destination, workspace]  # build a list of lists\n",
        "  if n == 1:\n",
        "    destination.append(source.pop())\n",
        "    steps += 1\n",
        "    print('Step {} = {} {} {}'.format(steps, *pegs))\n",
        "  else:\n",
        "    tower_of_hanoi(n-1, source, destination, workspace, pegs) \n",
        "    tower_of_hanoi(1, source, workspace, destination, pegs)   \n",
        "    tower_of_hanoi(n-1, workspace, source, destination, pegs)"
      ],
      "execution_count": 8,
      "outputs": []
    },
    {
      "cell_type": "markdown",
      "metadata": {
        "id": "kuX5qvcN2EEv",
        "colab_type": "text"
      },
      "source": [
        "## Sample Results "
      ]
    },
    {
      "cell_type": "code",
      "metadata": {
        "id": "CJLZgSQt1WNg",
        "colab_type": "code",
        "colab": {
          "base_uri": "https://localhost:8080/",
          "height": 179
        },
        "outputId": "1bcc7c59-8e0d-4ea4-dbd0-ce7cf8c52ed4"
      },
      "source": [
        "############## Staging the initial values ####################\n",
        "\n",
        "num_of_rings = int(input(\"Enter the number of rings: \"))\n",
        "\n",
        "A = [n for n in range(1, num_of_rings + 1)] # Create list A \n",
        "A = sorted(A, reverse = True) # Sort the list A \n",
        "B, C = [], [] # Initialize lists B and C \n",
        "\n",
        "source, destination, workspace = A, B, C # as per the problem \n",
        "print(\"Initial Condition = {} {} {}\".format(A, B, C))\n",
        "steps = 0 # to keep track of the steps in recursion \n",
        "\n",
        "########## Calling the function tower_of_hanoi ##############\n",
        "\n",
        "tower_of_hanoi(num_of_rings, source, workspace, destination)"
      ],
      "execution_count": 9,
      "outputs": [
        {
          "output_type": "stream",
          "text": [
            "Enter the number of rings: 3\n",
            "Initial Condition = [3, 2, 1] [] []\n",
            "Step 1 = [3, 2] [1] []\n",
            "Step 2 = [3] [1] [2]\n",
            "Step 3 = [3] [] [2, 1]\n",
            "Step 4 = [] [3] [2, 1]\n",
            "Step 5 = [1] [3] [2]\n",
            "Step 6 = [1] [3, 2] []\n",
            "Step 7 = [] [3, 2, 1] []\n"
          ],
          "name": "stdout"
        }
      ]
    },
    {
      "cell_type": "markdown",
      "metadata": {
        "id": "IBSQ3Ikq33r4",
        "colab_type": "text"
      },
      "source": [
        "\n",
        "$\\ast\\ast\\ast\\ast\\ast\\ast\\ast\\ast\\ast\\ast\\ast\\ast\\ast\\ast\\ast\\ast\\ast\\ast\\ast\\ast\\ast\\ast\\ast\\ast\\ast\\ast\\ast\\ast\\ast\\ast\\ast\\ast\\ast\\ast\\ast\\ast\\ast\\ast\\ast\\ast\\ast\\ast\\ast\\ast\\ast\\ast\\ast\\ast\\ast\\ast\\ast\\ast\\ast\\ast\\ast\\ast\\ast\\ast\\ast\\ast\\ast\\ast\\ast\\ast\\ast$\n",
        "\n",
        "\n",
        "\n",
        "\n",
        "\n",
        "\n",
        "\n",
        "\n",
        "\n"
      ]
    }
  ]
}