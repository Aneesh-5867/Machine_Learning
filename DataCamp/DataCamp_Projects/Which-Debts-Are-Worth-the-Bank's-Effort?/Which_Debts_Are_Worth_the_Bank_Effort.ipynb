{
  "nbformat": 4,
  "nbformat_minor": 0,
  "metadata": {
    "kernelspec": {
      "name": "python3",
      "display_name": "Python 3",
      "language": "python"
    },
    "language_info": {
      "name": "python",
      "version": "3.6.7",
      "mimetype": "text/x-python",
      "codemirror_mode": {
        "name": "ipython",
        "version": 3
      },
      "pygments_lexer": "ipython3",
      "nbconvert_exporter": "python",
      "file_extension": ".py"
    },
    "colab": {
      "name": "Which_Debts_Are_Worth_the_Bank_Effort.ipynb",
      "provenance": [],
      "collapsed_sections": []
    }
  },
  "cells": [
    {
      "cell_type": "markdown",
      "metadata": {
        "dc": {
          "key": "4"
        },
        "deletable": false,
        "editable": false,
        "run_control": {
          "frozen": true
        },
        "tags": [
          "context"
        ],
        "id": "sun7FWrXGafG",
        "colab_type": "text"
      },
      "source": [
        "## 1. Regression discontinuity: banking recovery\n",
        "<p>After a debt has been legally declared \"uncollectable\" by a bank, the account is considered \"charged-off.\" But that doesn't mean the bank <strong><em>walks away</em></strong> from the debt. They still want to collect some of the money they are owed. The bank will score the account to assess the expected recovery amount, that is, the expected amount that the bank may be able to receive from the customer in the future. This amount is a function of the probability of the customer paying, the total debt, and other factors that impact the ability and willingness to pay.</p>\n",
        "<p>The bank has implemented different recovery strategies at different thresholds (\\$1000, \\$2000, etc.) where the greater the expected recovery amount, the more effort the bank puts into contacting the customer. For low recovery amounts (Level 0), the bank just adds the customer's contact information to their automatic dialer and emailing system. For higher recovery strategies, the bank incurs more costs as they leverage human resources in more efforts to obtain payments. Each additional level of recovery strategy requires an additional \\$50 per customer so that customers in the Recovery Strategy Level 1 cost the company \\$50 more than those in Level 0. Customers in Level 2 cost \\$50 more than those in Level 1, etc. </p>\n",
        "<p><strong>The big question</strong>: does the extra amount that is recovered at the higher strategy level exceed the extra \\$50 in costs? In other words, was there a jump (also called a \"discontinuity\") of more than \\$50 in the amount recovered at the higher strategy level? We'll find out in this notebook.</p>\n",
        "<p>![Regression discontinuity graph](https://assets.datacamp.com/production/project_504/img/Regression Discontinuity graph.png)</p>\n",
        "<p>First, we'll load the banking dataset and look at the first few rows of data. This lets us understand the dataset itself and begin thinking about how to analyze the data.</p>"
      ]
    },
    {
      "cell_type": "code",
      "metadata": {
        "dc": {
          "key": "4"
        },
        "tags": [
          "sample_code"
        ],
        "trusted": true,
        "id": "kw9ZNtcdGafI",
        "colab_type": "code",
        "colab": {},
        "outputId": "e570ac2c-4b82-4a19-faa2-4b7c6efccbd2"
      },
      "source": [
        "# Import modules\n",
        "import pandas as pd \n",
        "import numpy as np \n",
        "\n",
        "# Read in dataset\n",
        "df = pd.read_csv('datasets/bank_data.csv')\n",
        "\n",
        "# Print the first few rows of the DataFrame\n",
        "df.head()"
      ],
      "execution_count": null,
      "outputs": [
        {
          "output_type": "execute_result",
          "data": {
            "text/plain": [
              "     id  expected_recovery_amount  actual_recovery_amount recovery_strategy  \\\n",
              "0  2030                       194                 263.540  Level 0 Recovery   \n",
              "1  1150                       486                 416.090  Level 0 Recovery   \n",
              "2   380                       527                 429.350  Level 0 Recovery   \n",
              "3  1838                       536                 296.990  Level 0 Recovery   \n",
              "4  1995                       541                 346.385  Level 0 Recovery   \n",
              "\n",
              "   age     sex  \n",
              "0   19    Male  \n",
              "1   25  Female  \n",
              "2   27    Male  \n",
              "3   25    Male  \n",
              "4   34    Male  "
            ],
            "text/html": [
              "<div>\n",
              "<style scoped>\n",
              "    .dataframe tbody tr th:only-of-type {\n",
              "        vertical-align: middle;\n",
              "    }\n",
              "\n",
              "    .dataframe tbody tr th {\n",
              "        vertical-align: top;\n",
              "    }\n",
              "\n",
              "    .dataframe thead th {\n",
              "        text-align: right;\n",
              "    }\n",
              "</style>\n",
              "<table border=\"1\" class=\"dataframe\">\n",
              "  <thead>\n",
              "    <tr style=\"text-align: right;\">\n",
              "      <th></th>\n",
              "      <th>id</th>\n",
              "      <th>expected_recovery_amount</th>\n",
              "      <th>actual_recovery_amount</th>\n",
              "      <th>recovery_strategy</th>\n",
              "      <th>age</th>\n",
              "      <th>sex</th>\n",
              "    </tr>\n",
              "  </thead>\n",
              "  <tbody>\n",
              "    <tr>\n",
              "      <th>0</th>\n",
              "      <td>2030</td>\n",
              "      <td>194</td>\n",
              "      <td>263.540</td>\n",
              "      <td>Level 0 Recovery</td>\n",
              "      <td>19</td>\n",
              "      <td>Male</td>\n",
              "    </tr>\n",
              "    <tr>\n",
              "      <th>1</th>\n",
              "      <td>1150</td>\n",
              "      <td>486</td>\n",
              "      <td>416.090</td>\n",
              "      <td>Level 0 Recovery</td>\n",
              "      <td>25</td>\n",
              "      <td>Female</td>\n",
              "    </tr>\n",
              "    <tr>\n",
              "      <th>2</th>\n",
              "      <td>380</td>\n",
              "      <td>527</td>\n",
              "      <td>429.350</td>\n",
              "      <td>Level 0 Recovery</td>\n",
              "      <td>27</td>\n",
              "      <td>Male</td>\n",
              "    </tr>\n",
              "    <tr>\n",
              "      <th>3</th>\n",
              "      <td>1838</td>\n",
              "      <td>536</td>\n",
              "      <td>296.990</td>\n",
              "      <td>Level 0 Recovery</td>\n",
              "      <td>25</td>\n",
              "      <td>Male</td>\n",
              "    </tr>\n",
              "    <tr>\n",
              "      <th>4</th>\n",
              "      <td>1995</td>\n",
              "      <td>541</td>\n",
              "      <td>346.385</td>\n",
              "      <td>Level 0 Recovery</td>\n",
              "      <td>34</td>\n",
              "      <td>Male</td>\n",
              "    </tr>\n",
              "  </tbody>\n",
              "</table>\n",
              "</div>"
            ]
          },
          "metadata": {
            "tags": []
          },
          "execution_count": 167
        }
      ]
    },
    {
      "cell_type": "markdown",
      "metadata": {
        "dc": {
          "key": "11"
        },
        "deletable": false,
        "editable": false,
        "run_control": {
          "frozen": true
        },
        "tags": [
          "context"
        ],
        "id": "Nk6ZI9LlGafR",
        "colab_type": "text"
      },
      "source": [
        "## 2. Graphical exploratory data analysis\n",
        "<p>The bank has implemented different recovery strategies at different thresholds (\\$1000, \\$2000, \\$3000 and \\$5000) where the greater the Expected Recovery Amount, the more effort the bank puts into contacting the customer. Zeroing in on the first transition (between Level 0 and Level 1) means we are focused on the population with Expected Recovery Amounts between \\$0 and \\$2000 where the transition between Levels occurred at \\$1000. We know that the customers in Level 1 (expected recovery amounts between \\$1001 and \\$2000) received more attention from the bank and, by definition, they had higher Expected Recovery Amounts than the customers in Level 0 (between \\$1 and \\$1000).</p>\n",
        "<p>Here's a quick summary of the Levels and thresholds again:</p>\n",
        "<ul>\n",
        "<li>Level 0: Expected recovery amounts &gt;\\$0 and &lt;=\\$1000</li>\n",
        "<li>Level 1: Expected recovery amounts &gt;\\$1000 and &lt;=\\$2000</li>\n",
        "<li>The threshold of \\$1000 separates Level 0 from Level 1</li>\n",
        "</ul>\n",
        "<p>A key question is whether there are other factors besides Expected Recovery Amount that also varied systematically across the \\$1000 threshold. For example, does the customer age show a jump (discontinuity) at the \\$1000 threshold or does that age vary smoothly? We can examine this by first making a scatter plot of the age as a function of Expected Recovery Amount for a small window of Expected Recovery Amount, \\$0 to \\$2000. This range covers Levels 0 and 1.</p>"
      ]
    },
    {
      "cell_type": "code",
      "metadata": {
        "dc": {
          "key": "11"
        },
        "tags": [
          "sample_code"
        ],
        "trusted": true,
        "id": "PO7ESZgqGafS",
        "colab_type": "code",
        "colab": {},
        "outputId": "28b3d486-e121-4d70-8aab-e88373860a9a"
      },
      "source": [
        "# Scatter plot of Age vs. Expected Recovery Amount\n",
        "from matplotlib import pyplot as plt\n",
        "%matplotlib inline\n",
        "plt.scatter(x=df['expected_recovery_amount'], \n",
        "            y=df['age'], c=\"g\", s=2)\n",
        "plt.xlim(0, 2000)\n",
        "plt.ylim(0, 60)\n",
        "plt.xlabel('Expected recovery amount (in dollars)')\n",
        "plt.ylabel('Age of the customers')\n",
        "plt.legend(loc=2)\n",
        "plt.show()"
      ],
      "execution_count": null,
      "outputs": [
        {
          "output_type": "stream",
          "text": [
            "/usr/local/lib/python3.6/dist-packages/matplotlib/figure.py:2267: UserWarning: This figure includes Axes that are not compatible with tight_layout, so results might be incorrect.\n",
            "  warnings.warn(\"This figure includes Axes that are not compatible \"\n"
          ],
          "name": "stderr"
        },
        {
          "output_type": "display_data",
          "data": {
            "text/plain": [
              "<Figure size 432x288 with 1 Axes>"
            ],
            "image/png": "[encoded data removed]"
          },
          "metadata": {
            "tags": [],
            "needs_background": "light"
          }
        }
      ]
    },
    {
      "cell_type": "markdown",
      "metadata": {
        "dc": {
          "key": "18"
        },
        "deletable": false,
        "editable": false,
        "run_control": {
          "frozen": true
        },
        "tags": [
          "context"
        ],
        "id": "KlZypgyDGafY",
        "colab_type": "text"
      },
      "source": [
        "## 3. Statistical test:  age vs. expected recovery amount\n",
        "<p>We want to convince ourselves that variables such as age and sex are similar above and below the \\$1000 Expected Recovery Amount threshold. This is important because we want to be able to conclude that differences in the actual recovery amount are due to the higher Recovery Strategy and not due to some other difference like age or sex.</p>\n",
        "<p>The scatter plot of age versus Expected Recovery Amount did not show an obvious jump around \\$1000.  We will now do statistical analysis examining the average age of the customers just above and just below the threshold. We can start by exploring the range from \\$900 to \\$1100.</p>\n",
        "<p>For determining if there is a difference in the ages just above and just below the threshold, we will use the Kruskal-Wallis test, a statistical test that makes no distributional assumptions.</p>"
      ]
    },
    {
      "cell_type": "code",
      "metadata": {
        "dc": {
          "key": "18"
        },
        "tags": [
          "sample_code"
        ],
        "trusted": true,
        "id": "M1AAybAEGafZ",
        "colab_type": "code",
        "colab": {},
        "outputId": "475f1a75-bca7-4cba-8fab-10ce86ebdc99"
      },
      "source": [
        "# Import stats module\n",
        "from scipy import stats\n",
        "\n",
        "# Compute average age just below and above the threshold\n",
        "era_900_1100 = df.loc[(df['expected_recovery_amount']<1100) & \n",
        "                      (df['expected_recovery_amount']>=900)]\n",
        "by_recovery_strategy = era_900_1100.groupby(['recovery_strategy'])\n",
        "by_recovery_strategy['age'].describe().unstack()\n",
        "\n",
        "# Perform Kruskal-Wallis test \n",
        "Level_0_age = era_900_1100.loc[df['recovery_strategy']==\"Level 0 Recovery\"]['age']\n",
        "Level_1_age = era_900_1100.loc[df['recovery_strategy']==\"Level 1 Recovery\"]['age']\n",
        "stats.kruskal(Level_0_age, Level_1_age) "
      ],
      "execution_count": null,
      "outputs": [
        {
          "output_type": "execute_result",
          "data": {
            "text/plain": [
              "KruskalResult(statistic=3.4572342749517513, pvalue=0.06297556896097407)"
            ]
          },
          "metadata": {
            "tags": []
          },
          "execution_count": 171
        }
      ]
    },
    {
      "cell_type": "markdown",
      "metadata": {
        "dc": {
          "key": "26"
        },
        "deletable": false,
        "editable": false,
        "run_control": {
          "frozen": true
        },
        "tags": [
          "context"
        ],
        "id": "oeSFf6rGGaff",
        "colab_type": "text"
      },
      "source": [
        "## 4. Statistical test:  sex vs. expected recovery amount\n",
        "<p>We have seen that there is no major jump in the average customer age just above and just \n",
        "below the \\$1000 threshold by doing a statistical test as well as exploring it graphically with a scatter plot.  </p>\n",
        "<p>We want to also test that the percentage of customers that are male does not jump across the \\$1000 threshold. We can start by exploring the range of \\$900 to \\$1100 and later adjust this range.</p>\n",
        "<p>We can examine this question statistically by developing cross-tabs as well as doing chi-square tests of the percentage of customers that are male vs. female.</p>"
      ]
    },
    {
      "cell_type": "code",
      "metadata": {
        "dc": {
          "key": "26"
        },
        "tags": [
          "sample_code"
        ],
        "trusted": true,
        "id": "hJsikVmTGafg",
        "colab_type": "code",
        "colab": {},
        "outputId": "da1b2cf2-2660-4fb3-c9e2-68fa97c14f26"
      },
      "source": [
        "# Number of customers in each category\n",
        "crosstab = pd.crosstab(df.loc[(df['expected_recovery_amount']<1100) & \n",
        "                              (df['expected_recovery_amount']>=900)]['recovery_strategy'], \n",
        "                       df['sex'])\n",
        "print(crosstab)\n",
        "\n",
        "# Chi-square test\n",
        "chi2_stat, p_val, dof, ex = stats.chi2_contingency(crosstab)\n",
        "print(p_val)"
      ],
      "execution_count": null,
      "outputs": [
        {
          "output_type": "stream",
          "text": [
            "sex                Female  Male\n",
            "recovery_strategy              \n",
            "Level 0 Recovery       32    57\n",
            "Level 1 Recovery       39    55\n",
            "0.5377947810444592\n"
          ],
          "name": "stdout"
        }
      ]
    },
    {
      "cell_type": "markdown",
      "metadata": {
        "dc": {
          "key": "33"
        },
        "deletable": false,
        "editable": false,
        "run_control": {
          "frozen": true
        },
        "tags": [
          "context"
        ],
        "id": "SAp2QPhhGafm",
        "colab_type": "text"
      },
      "source": [
        "## 5. Exploratory graphical analysis: recovery amount\n",
        "<p>We are now reasonably confident that customers just above and just below the \\$1000 threshold are, on average, similar in their average age and the percentage that are male.  </p>\n",
        "<p>It is now time to focus on the key outcome of interest, the actual recovery amount.</p>\n",
        "<p>A first step in examining the relationship between the actual recovery amount and the expected recovery amount is to develop a scatter plot where we want to focus our attention at the range just below and just above the threshold. Specifically, we will develop a scatter plot of  Expected Recovery Amount (X) versus Actual Recovery Amount (Y) for Expected Recovery Amounts between \\$900 to \\$1100.  This range covers Levels 0 and 1.  A key question is whether or not we see a discontinuity (jump) around the \\$1000 threshold.</p>"
      ]
    },
    {
      "cell_type": "code",
      "metadata": {
        "dc": {
          "key": "33"
        },
        "tags": [
          "sample_code"
        ],
        "trusted": true,
        "id": "iSKhLt9vGafn",
        "colab_type": "code",
        "colab": {},
        "outputId": "f23fb7fc-72bb-4d3b-a50d-6d004ac3f7e3"
      },
      "source": [
        "# Scatter plot of Actual Recovery Amount vs. Expected Recovery Amount \n",
        "plt.scatter(x=df['expected_recovery_amount'], \n",
        "            y=df['actual_recovery_amount'], c=\"g\", s=2)\n",
        "plt.xlim(900, 1100)\n",
        "plt.ylim(0, 2000)\n",
        "plt.xlabel(\"Expected recovery amount\")\n",
        "plt.ylabel(\"Actual recovery amount\")\n",
        "plt.legend(loc=2)\n",
        "plt.show()"
      ],
      "execution_count": null,
      "outputs": [
        {
          "output_type": "stream",
          "text": [
            "/usr/local/lib/python3.6/dist-packages/matplotlib/figure.py:2267: UserWarning: This figure includes Axes that are not compatible with tight_layout, so results might be incorrect.\n",
            "  warnings.warn(\"This figure includes Axes that are not compatible \"\n"
          ],
          "name": "stderr"
        },
        {
          "output_type": "display_data",
          "data": {
            "text/plain": [
              "<Figure size 432x288 with 1 Axes>"
            ],
            "image/png": "[encoded data removed]"
          },
          "metadata": {
            "tags": [],
            "needs_background": "light"
          }
        }
      ]
    },
    {
      "cell_type": "markdown",
      "metadata": {
        "dc": {
          "key": "40"
        },
        "deletable": false,
        "editable": false,
        "run_control": {
          "frozen": true
        },
        "tags": [
          "context"
        ],
        "id": "GQ6AFAamGafs",
        "colab_type": "text"
      },
      "source": [
        "## 6. Statistical analysis:  recovery amount\n",
        "<p>As we did with age, we can perform statistical tests to see if the actual recovery amount has a discontinuity above the \\$1000 threshold. We are going to do this for two different windows of the expected recovery amount \\$900 to \\$1100 and for a narrow range of \\$950 to \\$1050 to see if our results are consistent.</p>\n",
        "<p>Again, we will use the Kruskal-Wallis test.</p>\n",
        "<p>We will first compute the average actual recovery amount for those customers just below and just above the threshold using a range from \\$900 to \\$1100.  Then we will perform a Kruskal-Wallis test to see if the actual recovery amounts are different just above and just below the threshold.  Once we do that, we will repeat these steps for a smaller window of \\$950 to \\$1050.</p>"
      ]
    },
    {
      "cell_type": "code",
      "metadata": {
        "dc": {
          "key": "40"
        },
        "tags": [
          "sample_code"
        ],
        "trusted": true,
        "id": "froHHLWbGaft",
        "colab_type": "code",
        "colab": {},
        "outputId": "8e0c5d08-e4be-45d1-8a5a-04447a114cdc"
      },
      "source": [
        "# Compute average actual recovery amount just below and above the threshold\n",
        "by_recovery_strategy['actual_recovery_amount'].describe().unstack()\n",
        "\n",
        "# Perform Kruskal-Wallis test\n",
        "Level_0_actual = era_900_1100.loc[df['recovery_strategy']=='Level 0 Recovery']['actual_recovery_amount']\n",
        "Level_1_actual = era_900_1100.loc[df['recovery_strategy']=='Level 1 Recovery']['actual_recovery_amount']\n",
        "stats.kruskal(Level_0_actual, Level_1_actual) \n",
        "\n",
        "# Repeat for a smaller range of $950 to $1050\n",
        "era_950_1050 = df.loc[(df['expected_recovery_amount']<1050) & \n",
        "                      (df['expected_recovery_amount']>=950)]\n",
        "Level_0_actual = era_950_1050.loc[df['recovery_strategy']=='Level 0 Recovery']['actual_recovery_amount']\n",
        "Level_1_actual = era_950_1050.loc[df['recovery_strategy']=='Level 1 Recovery']['actual_recovery_amount']\n",
        "stats.kruskal(Level_0_actual, Level_1_actual) "
      ],
      "execution_count": null,
      "outputs": [
        {
          "output_type": "execute_result",
          "data": {
            "text/plain": [
              "KruskalResult(statistic=30.246000000000038, pvalue=3.80575314300276e-08)"
            ]
          },
          "metadata": {
            "tags": []
          },
          "execution_count": 177
        }
      ]
    },
    {
      "cell_type": "markdown",
      "metadata": {
        "dc": {
          "key": "48"
        },
        "deletable": false,
        "editable": false,
        "run_control": {
          "frozen": true
        },
        "tags": [
          "context"
        ],
        "id": "0LunLWtGGaf1",
        "colab_type": "text"
      },
      "source": [
        "## 7. Regression modeling: no threshold\n",
        "<p>We now want to take a regression-based approach to estimate the program impact at the \\$1000 threshold using data that is just above and below the threshold. </p>\n",
        "<p>We will build two models. The first model does not have a threshold while the second will include a threshold.</p>\n",
        "<p>The first model predicts the actual recovery amount (dependent variable) as a function of the expected recovery amount (independent variable). We expect that there will be a strong positive relationship between these two variables.  </p>\n",
        "<p>We will examine the adjusted R-squared to see the percent of variance explained by the model.  In this model, we are not representing the threshold but simply seeing how the variable used for assigning the customers (expected recovery amount) relates to the outcome variable (actual recovery amount).</p>"
      ]
    },
    {
      "cell_type": "code",
      "metadata": {
        "dc": {
          "key": "48"
        },
        "tags": [
          "sample_code"
        ],
        "trusted": true,
        "id": "6BwOm9dnGaf3",
        "colab_type": "code",
        "colab": {},
        "outputId": "74c769a5-c8a7-4bea-e626-d7d4ea413806"
      },
      "source": [
        "# Import statsmodels\n",
        "import statsmodels.api as sm\n",
        "\n",
        "# Define X and y\n",
        "X = era_900_1100['expected_recovery_amount']\n",
        "y = era_900_1100['actual_recovery_amount']\n",
        "X = sm.add_constant(X)\n",
        "\n",
        "# Build linear regression model\n",
        "model = sm.OLS(y, X).fit()\n",
        "predictions = model.predict(X)\n",
        "\n",
        "# Print out the model summary statistics\n",
        "model.summary()"
      ],
      "execution_count": null,
      "outputs": [
        {
          "output_type": "execute_result",
          "data": {
            "text/plain": [
              "<class 'statsmodels.iolib.summary.Summary'>\n",
              "\"\"\"\n",
              "                              OLS Regression Results                              \n",
              "==================================================================================\n",
              "Dep. Variable:     actual_recovery_amount   R-squared:                       0.261\n",
              "Model:                                OLS   Adj. R-squared:                  0.256\n",
              "Method:                     Least Squares   F-statistic:                     63.78\n",
              "Date:                    Thu, 21 May 2020   Prob (F-statistic):           1.56e-13\n",
              "Time:                            17:46:38   Log-Likelihood:                -1278.9\n",
              "No. Observations:                     183   AIC:                             2562.\n",
              "Df Residuals:                         181   BIC:                             2568.\n",
              "Df Model:                               1                                         \n",
              "Covariance Type:                nonrobust                                         \n",
              "============================================================================================\n",
              "                               coef    std err          t      P>|t|      [0.025      0.975]\n",
              "--------------------------------------------------------------------------------------------\n",
              "const                    -1978.7597    347.741     -5.690      0.000   -2664.907   -1292.612\n",
              "expected_recovery_amount     2.7577      0.345      7.986      0.000       2.076       3.439\n",
              "==============================================================================\n",
              "Omnibus:                       64.493   Durbin-Watson:                   1.777\n",
              "Prob(Omnibus):                  0.000   Jarque-Bera (JB):              185.818\n",
              "Skew:                           1.463   Prob(JB):                     4.47e-41\n",
              "Kurtosis:                       6.977   Cond. No.                     1.80e+04\n",
              "==============================================================================\n",
              "\n",
              "Warnings:\n",
              "[1] Standard Errors assume that the covariance matrix of the errors is correctly specified.\n",
              "[2] The condition number is large, 1.8e+04. This might indicate that there are\n",
              "strong multicollinearity or other numerical problems.\n",
              "\"\"\""
            ],
            "text/html": [
              "<table class=\"simpletable\">\n",
              "<caption>OLS Regression Results</caption>\n",
              "<tr>\n",
              "  <th>Dep. Variable:</th>    <td>actual_recovery_amount</td> <th>  R-squared:         </th> <td>   0.261</td>\n",
              "</tr>\n",
              "<tr>\n",
              "  <th>Model:</th>                      <td>OLS</td>          <th>  Adj. R-squared:    </th> <td>   0.256</td>\n",
              "</tr>\n",
              "<tr>\n",
              "  <th>Method:</th>                <td>Least Squares</td>     <th>  F-statistic:       </th> <td>   63.78</td>\n",
              "</tr>\n",
              "<tr>\n",
              "  <th>Date:</th>                <td>Thu, 21 May 2020</td>    <th>  Prob (F-statistic):</th> <td>1.56e-13</td>\n",
              "</tr>\n",
              "<tr>\n",
              "  <th>Time:</th>                    <td>17:46:38</td>        <th>  Log-Likelihood:    </th> <td> -1278.9</td>\n",
              "</tr>\n",
              "<tr>\n",
              "  <th>No. Observations:</th>         <td>   183</td>         <th>  AIC:               </th> <td>   2562.</td>\n",
              "</tr>\n",
              "<tr>\n",
              "  <th>Df Residuals:</th>             <td>   181</td>         <th>  BIC:               </th> <td>   2568.</td>\n",
              "</tr>\n",
              "<tr>\n",
              "  <th>Df Model:</th>                 <td>     1</td>         <th>                     </th>     <td> </td>   \n",
              "</tr>\n",
              "<tr>\n",
              "  <th>Covariance Type:</th>         <td>nonrobust</td>       <th>                     </th>     <td> </td>   \n",
              "</tr>\n",
              "</table>\n",
              "<table class=\"simpletable\">\n",
              "<tr>\n",
              "              <td></td>                <th>coef</th>     <th>std err</th>      <th>t</th>      <th>P>|t|</th>  <th>[0.025</th>    <th>0.975]</th>  \n",
              "</tr>\n",
              "<tr>\n",
              "  <th>const</th>                    <td>-1978.7597</td> <td>  347.741</td> <td>   -5.690</td> <td> 0.000</td> <td>-2664.907</td> <td>-1292.612</td>\n",
              "</tr>\n",
              "<tr>\n",
              "  <th>expected_recovery_amount</th> <td>    2.7577</td> <td>    0.345</td> <td>    7.986</td> <td> 0.000</td> <td>    2.076</td> <td>    3.439</td>\n",
              "</tr>\n",
              "</table>\n",
              "<table class=\"simpletable\">\n",
              "<tr>\n",
              "  <th>Omnibus:</th>       <td>64.493</td> <th>  Durbin-Watson:     </th> <td>   1.777</td>\n",
              "</tr>\n",
              "<tr>\n",
              "  <th>Prob(Omnibus):</th> <td> 0.000</td> <th>  Jarque-Bera (JB):  </th> <td> 185.818</td>\n",
              "</tr>\n",
              "<tr>\n",
              "  <th>Skew:</th>          <td> 1.463</td> <th>  Prob(JB):          </th> <td>4.47e-41</td>\n",
              "</tr>\n",
              "<tr>\n",
              "  <th>Kurtosis:</th>      <td> 6.977</td> <th>  Cond. No.          </th> <td>1.80e+04</td>\n",
              "</tr>\n",
              "</table><br/><br/>Warnings:<br/>[1] Standard Errors assume that the covariance matrix of the errors is correctly specified.<br/>[2] The condition number is large, 1.8e+04. This might indicate that there are<br/>strong multicollinearity or other numerical problems."
            ]
          },
          "metadata": {
            "tags": []
          },
          "execution_count": 179
        }
      ]
    },
    {
      "cell_type": "markdown",
      "metadata": {
        "dc": {
          "key": "55"
        },
        "deletable": false,
        "editable": false,
        "run_control": {
          "frozen": true
        },
        "tags": [
          "context"
        ],
        "id": "xdSHyAzAGaf8",
        "colab_type": "text"
      },
      "source": [
        "## 8. Regression modeling: adding true threshold\n",
        "<p>From the first model, we see that the expected recovery amount's regression coefficient is statistically significant. </p>\n",
        "<p>The second model adds an indicator of the true threshold to the model (in this case at \\$1000).  </p>\n",
        "<p>We will create an indicator variable (either a 0 or a 1) that represents whether or not the expected recovery amount was greater than \\$1000. When we add the true threshold to the model, the regression coefficient for the true threshold represents the additional amount recovered due to the higher recovery strategy.  That is to say, the regression coefficient for the true threshold measures the size of the discontinuity for customers just above and just below the threshold.</p>\n",
        "<p>If the higher recovery strategy helped recovery more money, then the regression coefficient of the true threshold will be greater than zero.  If the higher recovery strategy did not help recovery more money, then the regression coefficient will not be statistically significant.</p>"
      ]
    },
    {
      "cell_type": "code",
      "metadata": {
        "dc": {
          "key": "55"
        },
        "tags": [
          "sample_code"
        ],
        "trusted": true,
        "id": "v8Fw3K40Gaf9",
        "colab_type": "code",
        "colab": {},
        "outputId": "295600b6-a132-41b6-946c-38df61faa329"
      },
      "source": [
        "# Create indicator (0 or 1) for expected recovery amount >= $1000\n",
        "df['indicator_1000'] = np.where(df['expected_recovery_amount']<1000, \n",
        "                                0, 1)\n",
        "era_900_1100 = df.loc[(df['expected_recovery_amount']<1100) & \n",
        "                      (df['expected_recovery_amount']>=900)]\n",
        "\n",
        "# Define X and y\n",
        "X = era_900_1100[['expected_recovery_amount', 'indicator_1000']]\n",
        "y = era_900_1100['actual_recovery_amount']\n",
        "X = sm.add_constant(X)\n",
        "\n",
        "# Build linear regression model\n",
        "model = sm.OLS(y,X).fit()\n",
        "\n",
        "# Print the model summary\n",
        "model.summary()"
      ],
      "execution_count": null,
      "outputs": [
        {
          "output_type": "execute_result",
          "data": {
            "text/plain": [
              "<class 'statsmodels.iolib.summary.Summary'>\n",
              "\"\"\"\n",
              "                              OLS Regression Results                              \n",
              "==================================================================================\n",
              "Dep. Variable:     actual_recovery_amount   R-squared:                       0.314\n",
              "Model:                                OLS   Adj. R-squared:                  0.307\n",
              "Method:                     Least Squares   F-statistic:                     41.22\n",
              "Date:                    Thu, 21 May 2020   Prob (F-statistic):           1.83e-15\n",
              "Time:                            17:46:38   Log-Likelihood:                -1272.0\n",
              "No. Observations:                     183   AIC:                             2550.\n",
              "Df Residuals:                         180   BIC:                             2560.\n",
              "Df Model:                               2                                         \n",
              "Covariance Type:                nonrobust                                         \n",
              "============================================================================================\n",
              "                               coef    std err          t      P>|t|      [0.025      0.975]\n",
              "--------------------------------------------------------------------------------------------\n",
              "const                        3.3440    626.274      0.005      0.996   -1232.440    1239.128\n",
              "expected_recovery_amount     0.6430      0.655      0.981      0.328      -0.650       1.936\n",
              "indicator_1000             277.6344     74.043      3.750      0.000     131.530     423.739\n",
              "==============================================================================\n",
              "Omnibus:                       65.977   Durbin-Watson:                   1.906\n",
              "Prob(Omnibus):                  0.000   Jarque-Bera (JB):              186.537\n",
              "Skew:                           1.510   Prob(JB):                     3.12e-41\n",
              "Kurtosis:                       6.917   Cond. No.                     3.37e+04\n",
              "==============================================================================\n",
              "\n",
              "Warnings:\n",
              "[1] Standard Errors assume that the covariance matrix of the errors is correctly specified.\n",
              "[2] The condition number is large, 3.37e+04. This might indicate that there are\n",
              "strong multicollinearity or other numerical problems.\n",
              "\"\"\""
            ],
            "text/html": [
              "<table class=\"simpletable\">\n",
              "<caption>OLS Regression Results</caption>\n",
              "<tr>\n",
              "  <th>Dep. Variable:</th>    <td>actual_recovery_amount</td> <th>  R-squared:         </th> <td>   0.314</td>\n",
              "</tr>\n",
              "<tr>\n",
              "  <th>Model:</th>                      <td>OLS</td>          <th>  Adj. R-squared:    </th> <td>   0.307</td>\n",
              "</tr>\n",
              "<tr>\n",
              "  <th>Method:</th>                <td>Least Squares</td>     <th>  F-statistic:       </th> <td>   41.22</td>\n",
              "</tr>\n",
              "<tr>\n",
              "  <th>Date:</th>                <td>Thu, 21 May 2020</td>    <th>  Prob (F-statistic):</th> <td>1.83e-15</td>\n",
              "</tr>\n",
              "<tr>\n",
              "  <th>Time:</th>                    <td>17:46:38</td>        <th>  Log-Likelihood:    </th> <td> -1272.0</td>\n",
              "</tr>\n",
              "<tr>\n",
              "  <th>No. Observations:</th>         <td>   183</td>         <th>  AIC:               </th> <td>   2550.</td>\n",
              "</tr>\n",
              "<tr>\n",
              "  <th>Df Residuals:</th>             <td>   180</td>         <th>  BIC:               </th> <td>   2560.</td>\n",
              "</tr>\n",
              "<tr>\n",
              "  <th>Df Model:</th>                 <td>     2</td>         <th>                     </th>     <td> </td>   \n",
              "</tr>\n",
              "<tr>\n",
              "  <th>Covariance Type:</th>         <td>nonrobust</td>       <th>                     </th>     <td> </td>   \n",
              "</tr>\n",
              "</table>\n",
              "<table class=\"simpletable\">\n",
              "<tr>\n",
              "              <td></td>                <th>coef</th>     <th>std err</th>      <th>t</th>      <th>P>|t|</th>  <th>[0.025</th>    <th>0.975]</th>  \n",
              "</tr>\n",
              "<tr>\n",
              "  <th>const</th>                    <td>    3.3440</td> <td>  626.274</td> <td>    0.005</td> <td> 0.996</td> <td>-1232.440</td> <td> 1239.128</td>\n",
              "</tr>\n",
              "<tr>\n",
              "  <th>expected_recovery_amount</th> <td>    0.6430</td> <td>    0.655</td> <td>    0.981</td> <td> 0.328</td> <td>   -0.650</td> <td>    1.936</td>\n",
              "</tr>\n",
              "<tr>\n",
              "  <th>indicator_1000</th>           <td>  277.6344</td> <td>   74.043</td> <td>    3.750</td> <td> 0.000</td> <td>  131.530</td> <td>  423.739</td>\n",
              "</tr>\n",
              "</table>\n",
              "<table class=\"simpletable\">\n",
              "<tr>\n",
              "  <th>Omnibus:</th>       <td>65.977</td> <th>  Durbin-Watson:     </th> <td>   1.906</td>\n",
              "</tr>\n",
              "<tr>\n",
              "  <th>Prob(Omnibus):</th> <td> 0.000</td> <th>  Jarque-Bera (JB):  </th> <td> 186.537</td>\n",
              "</tr>\n",
              "<tr>\n",
              "  <th>Skew:</th>          <td> 1.510</td> <th>  Prob(JB):          </th> <td>3.12e-41</td>\n",
              "</tr>\n",
              "<tr>\n",
              "  <th>Kurtosis:</th>      <td> 6.917</td> <th>  Cond. No.          </th> <td>3.37e+04</td>\n",
              "</tr>\n",
              "</table><br/><br/>Warnings:<br/>[1] Standard Errors assume that the covariance matrix of the errors is correctly specified.<br/>[2] The condition number is large, 3.37e+04. This might indicate that there are<br/>strong multicollinearity or other numerical problems."
            ]
          },
          "metadata": {
            "tags": []
          },
          "execution_count": 181
        }
      ]
    },
    {
      "cell_type": "markdown",
      "metadata": {
        "dc": {
          "key": "62"
        },
        "deletable": false,
        "editable": false,
        "run_control": {
          "frozen": true
        },
        "tags": [
          "context"
        ],
        "id": "swQRtrqpGagC",
        "colab_type": "text"
      },
      "source": [
        "## 9. Regression modeling: adjusting the window\n",
        "<p>The regression coefficient for the true threshold was statistically significant with an estimated impact of around \\$278.  This is much larger than the \\$50 per customer needed to run this higher recovery strategy. </p>\n",
        "<p>Before showing this to our manager, we want to convince ourselves that this result wasn't due to choosing an expected recovery amount window of \\$900 to \\$1100. Let's repeat this analysis for the window from \\$950 to \\$1050 to see if we get similar results.</p>\n",
        "<p>The answer? Whether we use a wide (\\$900 to \\$1100) or narrower window (\\$950 to \\$1050), the incremental recovery amount at the higher recovery strategy is much greater than the \\$50 per customer it costs for the higher recovery strategy.  So we conclude that the higher recovery strategy is worth the extra cost of \\$50 per customer.</p>"
      ]
    },
    {
      "cell_type": "code",
      "metadata": {
        "dc": {
          "key": "62"
        },
        "tags": [
          "sample_code"
        ],
        "trusted": true,
        "id": "UNRW-jprGagD",
        "colab_type": "code",
        "colab": {},
        "outputId": "874fefff-801f-4ed8-b41f-2757536e6941"
      },
      "source": [
        "# Redefine era_950_1050 so the indicator variable is included\n",
        "era_950_1050 = df.loc[(df['expected_recovery_amount']<1050) & \n",
        "                      (df['expected_recovery_amount']>=950)]\n",
        "\n",
        "# Define X and y \n",
        "X = era_950_1050[['expected_recovery_amount','indicator_1000']]\n",
        "y = era_950_1050['actual_recovery_amount']\n",
        "X = sm.add_constant(X)\n",
        "\n",
        "# Build linear regression model\n",
        "model = sm.OLS(y,X).fit()\n",
        "\n",
        "# Print the model summary\n",
        "model.summary()"
      ],
      "execution_count": null,
      "outputs": [
        {
          "output_type": "execute_result",
          "data": {
            "text/plain": [
              "<class 'statsmodels.iolib.summary.Summary'>\n",
              "\"\"\"\n",
              "                              OLS Regression Results                              \n",
              "==================================================================================\n",
              "Dep. Variable:     actual_recovery_amount   R-squared:                       0.283\n",
              "Model:                                OLS   Adj. R-squared:                  0.269\n",
              "Method:                     Least Squares   F-statistic:                     18.99\n",
              "Date:                    Thu, 21 May 2020   Prob (F-statistic):           1.12e-07\n",
              "Time:                            17:46:38   Log-Likelihood:                -692.92\n",
              "No. Observations:                      99   AIC:                             1392.\n",
              "Df Residuals:                          96   BIC:                             1400.\n",
              "Df Model:                               2                                         \n",
              "Covariance Type:                nonrobust                                         \n",
              "============================================================================================\n",
              "                               coef    std err          t      P>|t|      [0.025      0.975]\n",
              "--------------------------------------------------------------------------------------------\n",
              "const                     -279.5243   1840.707     -0.152      0.880   -3933.298    3374.250\n",
              "expected_recovery_amount     0.9189      1.886      0.487      0.627      -2.825       4.663\n",
              "indicator_1000             286.5337    111.352      2.573      0.012      65.502     507.566\n",
              "==============================================================================\n",
              "Omnibus:                       39.302   Durbin-Watson:                   1.955\n",
              "Prob(Omnibus):                  0.000   Jarque-Bera (JB):               82.258\n",
              "Skew:                           1.564   Prob(JB):                     1.37e-18\n",
              "Kurtosis:                       6.186   Cond. No.                     6.81e+04\n",
              "==============================================================================\n",
              "\n",
              "Warnings:\n",
              "[1] Standard Errors assume that the covariance matrix of the errors is correctly specified.\n",
              "[2] The condition number is large, 6.81e+04. This might indicate that there are\n",
              "strong multicollinearity or other numerical problems.\n",
              "\"\"\""
            ],
            "text/html": [
              "<table class=\"simpletable\">\n",
              "<caption>OLS Regression Results</caption>\n",
              "<tr>\n",
              "  <th>Dep. Variable:</th>    <td>actual_recovery_amount</td> <th>  R-squared:         </th> <td>   0.283</td>\n",
              "</tr>\n",
              "<tr>\n",
              "  <th>Model:</th>                      <td>OLS</td>          <th>  Adj. R-squared:    </th> <td>   0.269</td>\n",
              "</tr>\n",
              "<tr>\n",
              "  <th>Method:</th>                <td>Least Squares</td>     <th>  F-statistic:       </th> <td>   18.99</td>\n",
              "</tr>\n",
              "<tr>\n",
              "  <th>Date:</th>                <td>Thu, 21 May 2020</td>    <th>  Prob (F-statistic):</th> <td>1.12e-07</td>\n",
              "</tr>\n",
              "<tr>\n",
              "  <th>Time:</th>                    <td>17:46:38</td>        <th>  Log-Likelihood:    </th> <td> -692.92</td>\n",
              "</tr>\n",
              "<tr>\n",
              "  <th>No. Observations:</th>         <td>    99</td>         <th>  AIC:               </th> <td>   1392.</td>\n",
              "</tr>\n",
              "<tr>\n",
              "  <th>Df Residuals:</th>             <td>    96</td>         <th>  BIC:               </th> <td>   1400.</td>\n",
              "</tr>\n",
              "<tr>\n",
              "  <th>Df Model:</th>                 <td>     2</td>         <th>                     </th>     <td> </td>   \n",
              "</tr>\n",
              "<tr>\n",
              "  <th>Covariance Type:</th>         <td>nonrobust</td>       <th>                     </th>     <td> </td>   \n",
              "</tr>\n",
              "</table>\n",
              "<table class=\"simpletable\">\n",
              "<tr>\n",
              "              <td></td>                <th>coef</th>     <th>std err</th>      <th>t</th>      <th>P>|t|</th>  <th>[0.025</th>    <th>0.975]</th>  \n",
              "</tr>\n",
              "<tr>\n",
              "  <th>const</th>                    <td> -279.5243</td> <td> 1840.707</td> <td>   -0.152</td> <td> 0.880</td> <td>-3933.298</td> <td> 3374.250</td>\n",
              "</tr>\n",
              "<tr>\n",
              "  <th>expected_recovery_amount</th> <td>    0.9189</td> <td>    1.886</td> <td>    0.487</td> <td> 0.627</td> <td>   -2.825</td> <td>    4.663</td>\n",
              "</tr>\n",
              "<tr>\n",
              "  <th>indicator_1000</th>           <td>  286.5337</td> <td>  111.352</td> <td>    2.573</td> <td> 0.012</td> <td>   65.502</td> <td>  507.566</td>\n",
              "</tr>\n",
              "</table>\n",
              "<table class=\"simpletable\">\n",
              "<tr>\n",
              "  <th>Omnibus:</th>       <td>39.302</td> <th>  Durbin-Watson:     </th> <td>   1.955</td>\n",
              "</tr>\n",
              "<tr>\n",
              "  <th>Prob(Omnibus):</th> <td> 0.000</td> <th>  Jarque-Bera (JB):  </th> <td>  82.258</td>\n",
              "</tr>\n",
              "<tr>\n",
              "  <th>Skew:</th>          <td> 1.564</td> <th>  Prob(JB):          </th> <td>1.37e-18</td>\n",
              "</tr>\n",
              "<tr>\n",
              "  <th>Kurtosis:</th>      <td> 6.186</td> <th>  Cond. No.          </th> <td>6.81e+04</td>\n",
              "</tr>\n",
              "</table><br/><br/>Warnings:<br/>[1] Standard Errors assume that the covariance matrix of the errors is correctly specified.<br/>[2] The condition number is large, 6.81e+04. This might indicate that there are<br/>strong multicollinearity or other numerical problems."
            ]
          },
          "metadata": {
            "tags": []
          },
          "execution_count": 183
        }
      ]
    }
  ]
}