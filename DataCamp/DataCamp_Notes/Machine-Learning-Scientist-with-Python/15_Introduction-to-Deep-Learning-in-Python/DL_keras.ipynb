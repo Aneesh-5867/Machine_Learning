{
  "nbformat": 4,
  "nbformat_minor": 0,
  "metadata": {
    "colab": {
      "name": "DL_keras",
      "provenance": [],
      "collapsed_sections": []
    },
    "kernelspec": {
      "name": "python3",
      "display_name": "Python 3"
    }
  },
  "cells": [
    {
      "cell_type": "markdown",
      "metadata": {
        "id": "0YrUxW6fkd-3",
        "colab_type": "text"
      },
      "source": [
        "# **Building deep learning models with keras**\n",
        "---\n",
        "We'll use the Keras library to build deep learning models for both regression and classification. We'll learn about the Specify-Compile-Fit workflow. "
      ]
    },
    {
      "cell_type": "code",
      "metadata": {
        "id": "_zITVdW-kA6x",
        "colab_type": "code",
        "colab": {}
      },
      "source": [
        "import pandas as pd\n",
        "import numpy as np\n",
        "import matplotlib.pyplot as plt\n",
        "import tensorflow as tf"
      ],
      "execution_count": 0,
      "outputs": []
    },
    {
      "cell_type": "code",
      "metadata": {
        "id": "DI7v5brakSrE",
        "colab_type": "code",
        "outputId": "2e089506-e6c5-40ac-d267-fe9d48c8c97a",
        "colab": {
          "base_uri": "https://localhost:8080/",
          "height": 297
        }
      },
      "source": [
        "df = pd.read_csv('https://raw.githubusercontent.com/SudhakarKuma/Machine_Learning/master/DataCamp_Notes/15_Introduction-to-Deep-Learning-in-Python/Datasets/hourly_wages.csv')\n",
        "df.describe()"
      ],
      "execution_count": 0,
      "outputs": [
        {
          "output_type": "execute_result",
          "data": {
            "text/html": [
              "<div>\n",
              "<style scoped>\n",
              "    .dataframe tbody tr th:only-of-type {\n",
              "        vertical-align: middle;\n",
              "    }\n",
              "\n",
              "    .dataframe tbody tr th {\n",
              "        vertical-align: top;\n",
              "    }\n",
              "\n",
              "    .dataframe thead th {\n",
              "        text-align: right;\n",
              "    }\n",
              "</style>\n",
              "<table border=\"1\" class=\"dataframe\">\n",
              "  <thead>\n",
              "    <tr style=\"text-align: right;\">\n",
              "      <th></th>\n",
              "      <th>wage_per_hour</th>\n",
              "      <th>union</th>\n",
              "      <th>education_yrs</th>\n",
              "      <th>experience_yrs</th>\n",
              "      <th>age</th>\n",
              "      <th>female</th>\n",
              "      <th>marr</th>\n",
              "      <th>south</th>\n",
              "      <th>manufacturing</th>\n",
              "      <th>construction</th>\n",
              "    </tr>\n",
              "  </thead>\n",
              "  <tbody>\n",
              "    <tr>\n",
              "      <th>count</th>\n",
              "      <td>534.000000</td>\n",
              "      <td>534.000000</td>\n",
              "      <td>534.000000</td>\n",
              "      <td>534.000000</td>\n",
              "      <td>534.000000</td>\n",
              "      <td>534.000000</td>\n",
              "      <td>534.000000</td>\n",
              "      <td>534.000000</td>\n",
              "      <td>534.000000</td>\n",
              "      <td>534.000000</td>\n",
              "    </tr>\n",
              "    <tr>\n",
              "      <th>mean</th>\n",
              "      <td>9.024064</td>\n",
              "      <td>0.179775</td>\n",
              "      <td>13.018727</td>\n",
              "      <td>17.822097</td>\n",
              "      <td>36.833333</td>\n",
              "      <td>0.458801</td>\n",
              "      <td>0.655431</td>\n",
              "      <td>0.292135</td>\n",
              "      <td>0.185393</td>\n",
              "      <td>0.044944</td>\n",
              "    </tr>\n",
              "    <tr>\n",
              "      <th>std</th>\n",
              "      <td>5.139097</td>\n",
              "      <td>0.384360</td>\n",
              "      <td>2.615373</td>\n",
              "      <td>12.379710</td>\n",
              "      <td>11.726573</td>\n",
              "      <td>0.498767</td>\n",
              "      <td>0.475673</td>\n",
              "      <td>0.455170</td>\n",
              "      <td>0.388981</td>\n",
              "      <td>0.207375</td>\n",
              "    </tr>\n",
              "    <tr>\n",
              "      <th>min</th>\n",
              "      <td>1.000000</td>\n",
              "      <td>0.000000</td>\n",
              "      <td>2.000000</td>\n",
              "      <td>0.000000</td>\n",
              "      <td>18.000000</td>\n",
              "      <td>0.000000</td>\n",
              "      <td>0.000000</td>\n",
              "      <td>0.000000</td>\n",
              "      <td>0.000000</td>\n",
              "      <td>0.000000</td>\n",
              "    </tr>\n",
              "    <tr>\n",
              "      <th>25%</th>\n",
              "      <td>5.250000</td>\n",
              "      <td>0.000000</td>\n",
              "      <td>12.000000</td>\n",
              "      <td>8.000000</td>\n",
              "      <td>28.000000</td>\n",
              "      <td>0.000000</td>\n",
              "      <td>0.000000</td>\n",
              "      <td>0.000000</td>\n",
              "      <td>0.000000</td>\n",
              "      <td>0.000000</td>\n",
              "    </tr>\n",
              "    <tr>\n",
              "      <th>50%</th>\n",
              "      <td>7.780000</td>\n",
              "      <td>0.000000</td>\n",
              "      <td>12.000000</td>\n",
              "      <td>15.000000</td>\n",
              "      <td>35.000000</td>\n",
              "      <td>0.000000</td>\n",
              "      <td>1.000000</td>\n",
              "      <td>0.000000</td>\n",
              "      <td>0.000000</td>\n",
              "      <td>0.000000</td>\n",
              "    </tr>\n",
              "    <tr>\n",
              "      <th>75%</th>\n",
              "      <td>11.250000</td>\n",
              "      <td>0.000000</td>\n",
              "      <td>15.000000</td>\n",
              "      <td>26.000000</td>\n",
              "      <td>44.000000</td>\n",
              "      <td>1.000000</td>\n",
              "      <td>1.000000</td>\n",
              "      <td>1.000000</td>\n",
              "      <td>0.000000</td>\n",
              "      <td>0.000000</td>\n",
              "    </tr>\n",
              "    <tr>\n",
              "      <th>max</th>\n",
              "      <td>44.500000</td>\n",
              "      <td>1.000000</td>\n",
              "      <td>18.000000</td>\n",
              "      <td>55.000000</td>\n",
              "      <td>64.000000</td>\n",
              "      <td>1.000000</td>\n",
              "      <td>1.000000</td>\n",
              "      <td>1.000000</td>\n",
              "      <td>1.000000</td>\n",
              "      <td>1.000000</td>\n",
              "    </tr>\n",
              "  </tbody>\n",
              "</table>\n",
              "</div>"
            ],
            "text/plain": [
              "       wage_per_hour       union  ...  manufacturing  construction\n",
              "count     534.000000  534.000000  ...     534.000000    534.000000\n",
              "mean        9.024064    0.179775  ...       0.185393      0.044944\n",
              "std         5.139097    0.384360  ...       0.388981      0.207375\n",
              "min         1.000000    0.000000  ...       0.000000      0.000000\n",
              "25%         5.250000    0.000000  ...       0.000000      0.000000\n",
              "50%         7.780000    0.000000  ...       0.000000      0.000000\n",
              "75%        11.250000    0.000000  ...       0.000000      0.000000\n",
              "max        44.500000    1.000000  ...       1.000000      1.000000\n",
              "\n",
              "[8 rows x 10 columns]"
            ]
          },
          "metadata": {
            "tags": []
          },
          "execution_count": 31
        }
      ]
    },
    {
      "cell_type": "code",
      "metadata": {
        "id": "OdtMBsGRlUoN",
        "colab_type": "code",
        "colab": {}
      },
      "source": [
        "target = df['wage_per_hour'].to_numpy()\n",
        "predictors = df.drop(['wage_per_hour'], axis = 1 ).to_numpy()"
      ],
      "execution_count": 0,
      "outputs": []
    },
    {
      "cell_type": "code",
      "metadata": {
        "id": "ybEBHnoxpbIF",
        "colab_type": "code",
        "outputId": "e23daa1e-ecc1-400d-e4bd-79f493a12b89",
        "colab": {
          "base_uri": "https://localhost:8080/",
          "height": 827
        }
      },
      "source": [
        "target.shape\n",
        "type(target)\n",
        "print(target)"
      ],
      "execution_count": 0,
      "outputs": [
        {
          "output_type": "stream",
          "text": [
            "[ 5.1   4.95  6.67  4.    7.5  13.07  4.45 19.47 13.28  8.75 11.35 11.5\n",
            "  6.5   6.25 19.98  7.3   8.   22.2   3.65 20.55  5.71  7.    3.75  4.5\n",
            "  9.56  5.75  9.36  6.5   3.35  4.75  8.9   4.    4.7   5.    9.25 10.67\n",
            "  7.61 10.    7.5  12.2   3.35 11.   12.    4.85  4.3   6.   15.    4.85\n",
            "  9.    6.36  9.15 11.    4.5   4.8   4.    5.5   8.4   6.75 10.    5.\n",
            "  6.5  10.75  7.   11.43  4.    9.   13.   12.22  6.28  6.75  3.35 16.\n",
            "  5.25  3.5   4.22  3.    4.   10.    5.   16.   13.98 13.26  6.1   3.75\n",
            "  9.    9.45  5.5   8.93  6.25  9.75  6.73  7.78  2.85  3.35 19.98  8.5\n",
            "  9.75 15.    8.   11.25 14.   10.    6.5   9.83 18.5  12.5  26.   14.\n",
            " 10.5  11.   12.47 12.5  15.    6.    9.5   5.    3.75 12.57  6.88  5.5\n",
            "  7.    4.5   6.5  12.    5.    6.5   6.8   8.75  3.75  4.5   6.    5.5\n",
            " 13.    5.65  4.8   7.    5.25  3.35  8.5   6.    6.75  8.89 14.21 10.78\n",
            "  8.9   7.5   4.5  11.25 13.45  6.    4.62 10.58  5.    8.2   6.25  8.5\n",
            " 24.98 16.65  6.25  4.55 11.25 21.25 12.65  7.5  10.25  3.35 13.45  4.84\n",
            " 26.29  6.58 44.5  15.   11.25  7.   10.   14.53 20.   22.5   3.64 10.62\n",
            " 24.98  6.   19.   13.2  22.5  15.    6.88 11.84 16.14 13.95 13.16  5.3\n",
            "  4.5  10.   10.   10.    9.37  5.8  17.86  1.    8.8   9.   18.16  7.81\n",
            " 10.62  4.5  17.25 10.5   9.22 15.   22.5   4.55  9.   13.33 15.    7.5\n",
            "  4.25 12.5   5.13  3.35 11.11  3.84  6.4   5.56 10.    5.65 11.5   3.5\n",
            "  3.35  4.75 19.98  3.5   4.    7.    6.25  4.5  14.29  5.   13.75 13.71\n",
            "  7.5   3.8   5.    9.42  5.5   3.75  3.5   5.8  12.    5.    8.75 10.\n",
            "  8.5   8.63  9.    5.5  11.11 10.    5.2   8.    3.56  5.2  11.67 11.32\n",
            "  7.5   5.5   5.    7.75  5.25  9.    9.65  5.21  7.   12.16  5.25 10.32\n",
            "  3.35  7.7   9.17  8.43  4.    4.13  3.    4.25  7.53 10.53  5.   15.03\n",
            " 11.25  6.25  3.5   6.85 12.5  12.    6.    9.5   4.1  10.43  5.    7.69\n",
            "  5.5   6.4  12.5   6.25  8.    9.6   9.1   7.5   5.    7.    3.55  8.5\n",
            "  4.5   7.88  5.25  5.    9.33 10.5   7.5   9.5   9.6   5.87 11.02  5.\n",
            "  5.62 12.5  10.81  5.4   7.    4.59  6.   11.71  5.62  5.5   4.85  6.75\n",
            "  4.25  5.75  3.5   3.35 10.62  8.    4.75  8.5   8.85  8.    6.    7.14\n",
            "  3.4   6.    3.75  8.89  4.35 13.1   4.35  3.5   3.8   5.26  3.35 16.26\n",
            "  4.25  4.5   8.    4.    7.96  4.    4.15  5.95  3.6   8.75  3.4   4.28\n",
            "  5.35  5.    7.65  6.94  7.5   3.6   1.75  3.45  9.63  8.49  8.99  3.65\n",
            "  3.5   3.43  5.5   6.93  3.51  3.75  4.17  9.57 14.67 12.5   5.5   5.15\n",
            "  8.    5.83  3.35  7.   10.    8.    6.88  5.55  7.5   8.93  9.    3.5\n",
            "  5.77 25.    6.85  6.5   3.75  3.5   4.5   2.01  4.17 13.    3.98  7.5\n",
            " 13.12  4.    3.95 13.    9.    4.55  9.5   4.5   8.75 10.   18.   24.98\n",
            " 12.05 22.    8.75 22.2  17.25  6.    8.06  9.24 12.   10.61  5.71 10.\n",
            " 17.5  15.    7.78  7.8  10.   24.98 10.28 15.   12.   10.58  5.85 11.22\n",
            "  8.56 13.89  5.71 15.79  7.5  11.25  6.15 13.45  6.25  6.5  12.    8.5\n",
            "  8.    5.75 15.73  9.86 13.51  5.4   6.25  5.5   5.    6.25  5.75 20.5\n",
            "  5.    7.   18.   12.   20.4  22.2  16.42  8.63 19.38 14.   10.   15.95\n",
            " 20.   10.   24.98 11.25 22.83 10.2  10.   14.   12.5   5.79 24.98  4.35\n",
            " 11.25  6.67  8.   18.16 12.    8.89  9.5  13.65 12.   15.   12.67  7.38\n",
            " 15.56  7.45  6.25  6.25  9.37 22.5   7.5   7.    5.75  7.67 12.5  16.\n",
            " 11.79 11.36  6.1  23.25 19.88 15.38]\n"
          ],
          "name": "stdout"
        }
      ]
    },
    {
      "cell_type": "code",
      "metadata": {
        "id": "Cjw4eDXWpou1",
        "colab_type": "code",
        "outputId": "e64310f0-c62f-4835-b368-8b7a1216dfa0",
        "colab": {
          "base_uri": "https://localhost:8080/",
          "height": 143
        }
      },
      "source": [
        "predictors.shape\n",
        "type(predictors)\n",
        "print(predictors)"
      ],
      "execution_count": 0,
      "outputs": [
        {
          "output_type": "stream",
          "text": [
            "[[ 0  8 21 ...  0  1  0]\n",
            " [ 0  9 42 ...  0  1  0]\n",
            " [ 0 12  1 ...  0  1  0]\n",
            " ...\n",
            " [ 1 17 25 ...  0  0  0]\n",
            " [ 1 12 13 ...  1  0  0]\n",
            " [ 0 16 33 ...  0  1  0]]\n"
          ],
          "name": "stdout"
        }
      ]
    },
    {
      "cell_type": "markdown",
      "metadata": {
        "id": "H9rOzADfmNlQ",
        "colab_type": "text"
      },
      "source": [
        "---\n",
        "## Specifying a model \n",
        "---"
      ]
    },
    {
      "cell_type": "code",
      "metadata": {
        "id": "FixCXaB8lLXf",
        "colab_type": "code",
        "colab": {}
      },
      "source": [
        "# Import necessary modules\n",
        "import keras\n",
        "from keras.layers import Dense\n",
        "from keras.models import Sequential\n",
        "\n",
        "# Save the number of columns in predictors: n_cols\n",
        "n_cols = predictors.shape[1]\n",
        "\n",
        "# Set up the model: model\n",
        "model = Sequential()\n",
        "\n",
        "# Add the first layer\n",
        "model.add(Dense(50, activation='relu', input_shape=(n_cols,)))\n",
        "\n",
        "# Add the second layer\n",
        "model.add(Dense(32, activation='relu'))\n",
        "\n",
        "# Add the output layer\n",
        "model.add(Dense(1))"
      ],
      "execution_count": 0,
      "outputs": []
    },
    {
      "cell_type": "markdown",
      "metadata": {
        "id": "JKZzlaTYmUkx",
        "colab_type": "text"
      },
      "source": [
        "---\n",
        "## Compiling and fitting a model\n",
        "---"
      ]
    },
    {
      "cell_type": "code",
      "metadata": {
        "id": "T2jeyG0TmClu",
        "colab_type": "code",
        "outputId": "f378053f-637b-4f3e-a5d2-317d6fdb14ba",
        "colab": {
          "base_uri": "https://localhost:8080/",
          "height": 35
        }
      },
      "source": [
        "# Compile the model\n",
        "model.compile(optimizer = 'adam', loss = 'mean_squared_error')\n",
        "\n",
        "# Verify that model contains information from compiling\n",
        "print(\"Loss function: \" + model.loss)"
      ],
      "execution_count": 0,
      "outputs": [
        {
          "output_type": "stream",
          "text": [
            "Loss function: mean_squared_error\n"
          ],
          "name": "stdout"
        }
      ]
    },
    {
      "cell_type": "code",
      "metadata": {
        "id": "S5KNgkrYpSW7",
        "colab_type": "code",
        "outputId": "af9971a1-871d-42c3-ac95-285ce5ad3a5c",
        "colab": {
          "base_uri": "https://localhost:8080/",
          "height": 71
        }
      },
      "source": [
        "# Fit the model\n",
        "model.fit(predictors, target)"
      ],
      "execution_count": 0,
      "outputs": [
        {
          "output_type": "stream",
          "text": [
            "Epoch 1/1\n",
            "534/534 [==============================] - 0s 188us/step - loss: 131.0628\n"
          ],
          "name": "stdout"
        },
        {
          "output_type": "execute_result",
          "data": {
            "text/plain": [
              "<keras.callbacks.callbacks.History at 0x7f6cb2393cc0>"
            ]
          },
          "metadata": {
            "tags": []
          },
          "execution_count": 37
        }
      ]
    }
  ]
}