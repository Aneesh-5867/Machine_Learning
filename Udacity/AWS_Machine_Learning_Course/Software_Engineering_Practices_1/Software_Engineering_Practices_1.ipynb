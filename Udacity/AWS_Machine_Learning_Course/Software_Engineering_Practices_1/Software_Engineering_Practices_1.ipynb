{
  "nbformat": 4,
  "nbformat_minor": 0,
  "metadata": {
    "colab": {
      "name": "Software_Engineering_Practices_1.ipynb",
      "provenance": [],
      "collapsed_sections": [],
      "include_colab_link": true
    },
    "kernelspec": {
      "name": "python3",
      "display_name": "Python 3"
    }
  },
  "cells": [
    {
      "cell_type": "markdown",
      "metadata": {
        "id": "view-in-github",
        "colab_type": "text"
      },
      "source": [
        "<a href=\"https://colab.research.google.com/github/SudhakarKuma/Machine_Learning/blob/master/Udacity/AWS_Machine_Learning_Course/Software_Engineering_Practices_1/Software_Engineering_Practices_1.ipynb\" target=\"_parent\"><img src=\"https://colab.research.google.com/assets/colab-badge.svg\" alt=\"Open In Colab\"/></a>"
      ]
    },
    {
      "cell_type": "markdown",
      "metadata": {
        "id": "8MicymQ8KXVN",
        "colab_type": "text"
      },
      "source": [
        "# Clean and Modular Code\n"
      ]
    },
    {
      "cell_type": "markdown",
      "metadata": {
        "id": "9osIj5qdKgWa",
        "colab_type": "text"
      },
      "source": [
        "* **PRODUCTION CODE**: software running on production servers to handle live users and data of the intended audience. Note this is different from production quality code, which describes code that meets expectations in reliability, efficiency, etc., for production. Ideally, all code in production meets these expectations, but this is not always the case.\n",
        "\n",
        "* **CLEAN**: readable, simple, and concise. A characteristic of production quality code that is crucial for collaboration and maintainability in software development.\n",
        "\n",
        "* **MODULAR**: logically broken up into functions and modules. Also an important characteristic of production quality code that makes your code more organized, efficient, and reusable.\n",
        "\n",
        "* **MODULE**: a file. Modules allow code to be reused by encapsulating them into files that can be imported into other files."
      ]
    },
    {
      "cell_type": "markdown",
      "metadata": {
        "id": "flTwc57AL8xT",
        "colab_type": "text"
      },
      "source": [
        "# Refactoring Code "
      ]
    },
    {
      "cell_type": "markdown",
      "metadata": {
        "id": "IENvTJZ2KtgV",
        "colab_type": "text"
      },
      "source": [
        "* **REFACTORING**: restructuring your code to improve its internal structure, without changing its external functionality. This gives you a chance to clean and modularize your program after you've got it working.\n",
        "\n",
        "* Since it isn't easy to write your best code while you're still trying to just get it working, allocating time to do this is essential to producing high quality code. Despite the initial time and effort required, this really pays off by speeding up your development time in the long run.\n",
        "\n",
        "* You become a much stronger programmer when you're constantly looking to improve your code. The more you refactor, the easier it will be to structure and write good code the first time."
      ]
    },
    {
      "cell_type": "markdown",
      "metadata": {
        "id": "mv2qM04vMFVH",
        "colab_type": "text"
      },
      "source": [
        "# Writing Clean Code: Meaningful Names\n"
      ]
    },
    {
      "cell_type": "markdown",
      "metadata": {
        "id": "zXrQmXS9M3La",
        "colab_type": "text"
      },
      "source": [
        "**Tip: Use meaningful names**\n",
        "\n",
        "* **Be descriptive and imply type** - E.g. for booleans, you can prefix with `is_` or `has_` to make it clear it is a condition. You can also use part of speech to imply types, like verbs for functions and nouns for variables.\n",
        "\n",
        "* **Be consistent but clearly differentiate** - E.g. `age_list` and `age` is easier to differentiate than `ages` and `age`.\n",
        "\n",
        "* **Avoid abbreviations and especially single letters** - (Exception: counters and common math variables) Choosing when these exceptions can be made can be determined based on the audience for your code. If you work with other data scientists, certain variables may be common knowledge. While if you work with full stack engineers, it might be necessary to provide more descriptive names in these cases as well.\n",
        "\n",
        "* **Long names != descriptive names** - You should be descriptive, but only with relevant information. E.g. good functions names describe what they do well without including details about implementation or highly specific uses.\n",
        "\n",
        "Try testing how effective your names are by asking a fellow programmer to guess the purpose of a function or variable based on its name, without looking at your code. Coming up with meaningful names often requires effort to get right."
      ]
    },
    {
      "cell_type": "markdown",
      "metadata": {
        "id": "Ca275hi0N5bV",
        "colab_type": "text"
      },
      "source": [
        "# Writing Clean Code: Nice Whitespace\n"
      ]
    },
    {
      "cell_type": "markdown",
      "metadata": {
        "id": "r16hrFAXN7Id",
        "colab_type": "text"
      },
      "source": [
        "**Tip: Use whitespace properly**\n",
        "\n",
        "* Organize your code with consistent indentation - the standard is to use 4 spaces for each indent. You can make this a default in your text editor.\n",
        "\n",
        "* Separate sections with blank lines to keep your code well organized and readable.\n",
        "\n",
        "* Try to limit your lines to around 79 characters, which is the guideline given in the PEP 8 style guide. In many good text editors, there is a setting to display a subtle line that indicates where the 79 character limit is.\n",
        "\n",
        "For more guidelines, check out the [PEP 8 guidelines for code layout](https://www.python.org/dev/peps/pep-0008/?#code-lay-out).  "
      ]
    },
    {
      "cell_type": "markdown",
      "metadata": {
        "id": "5jA-EVA1ORVn",
        "colab_type": "text"
      },
      "source": [
        "# Writing Modular Code\n"
      ]
    },
    {
      "cell_type": "markdown",
      "metadata": {
        "id": "oJj51VRQy8jB",
        "colab_type": "text"
      },
      "source": [
        "**Tip: DRY (Don't Repeat Yourself)**\n",
        "\n",
        "Don't repeat yourself! Modularization allows you to reuse parts of your code. Generalize and consolidate repeated code in functions or loops.\n",
        "\n",
        "\n",
        "**Tip: Abstract out logic to improve readability**\n",
        "\n",
        "Abstracting out code into a function not only makes it less repetitive, but also improves readability with descriptive function names. Although your code can become more readable when you abstract out logic into functions, it is possible to over-engineer this and have way too many modules, so use your judgement.\n",
        "\n",
        "\n",
        "**Tip: Minimize the number of entities (functions, classes, modules, etc.)**\n",
        "\n",
        "There are tradeoffs to having function calls instead of inline logic. If you have broken up your code into an unnecessary amount of functions and modules, you'll have to jump around everywhere if you want to view the implementation details for something that may be too small to be worth it. Creating more modules doesn't necessarily result in effective modularization.\n",
        "\n",
        "\n",
        "**Tip: Functions should do one thing**\n",
        "\n",
        "Each function you write should be focused on doing one thing. If a function is doing multiple things, it becomes more difficult to generalize and reuse. Generally, if there's an \"and\" in your function name, consider refactoring.\n",
        "\n",
        "\n",
        "**Tip: Arbitrary variable names can be more effective in certain functions**\n",
        "\n",
        "Arbitrary variable names in general functions can actually make the code more readable.\n",
        "\n",
        "\n",
        "**Tip: Try to use fewer than three arguments per function**\n",
        "\n",
        "Try to use no more than three arguments when possible. This is not a hard rule and there are times it is more appropriate to use many parameters. But in many cases, it's more effective to use fewer arguments. Remember we are modularizing to simplify our code and make it more efficient to work with. If your function has a lot of parameters, you may want to rethink how you are splitting this up."
      ]
    },
    {
      "cell_type": "markdown",
      "metadata": {
        "id": "Er62ZBUdzSBq",
        "colab_type": "text"
      },
      "source": [
        "# Quiz: Refactoring - Wine Quality"
      ]
    },
    {
      "cell_type": "markdown",
      "metadata": {
        "id": "4MExksdWZZn1",
        "colab_type": "text"
      },
      "source": [
        "In this exercise, we will write refactored code that analyzes a wine quality dataset taken from the UCI Machine Learning Repository [here](https://archive.ics.uci.edu/ml/datasets/wine+quality). Each row contains data on a wine sample, including several physicochemical properties gathered from tests, as well as a quality rating evaluated by wine experts."
      ]
    },
    {
      "cell_type": "code",
      "metadata": {
        "id": "BB6QSNjTas68",
        "colab_type": "code",
        "colab": {
          "base_uri": "https://localhost:8080/",
          "height": 258
        },
        "outputId": "d9dfcce7-87d7-47fd-dace-b4a6e8732dba"
      },
      "source": [
        "import pandas as pd\n",
        "df = pd.read_csv('https://raw.githubusercontent.com/SudhakarKuma/Machine_Learning/master/Udacity/AWS_Machine_Learning_Course/Software_Engineering_Practices_1/winequality-red.csv', sep=';')\n",
        "df.head()"
      ],
      "execution_count": 1,
      "outputs": [
        {
          "output_type": "execute_result",
          "data": {
            "text/html": [
              "<div>\n",
              "<style scoped>\n",
              "    .dataframe tbody tr th:only-of-type {\n",
              "        vertical-align: middle;\n",
              "    }\n",
              "\n",
              "    .dataframe tbody tr th {\n",
              "        vertical-align: top;\n",
              "    }\n",
              "\n",
              "    .dataframe thead th {\n",
              "        text-align: right;\n",
              "    }\n",
              "</style>\n",
              "<table border=\"1\" class=\"dataframe\">\n",
              "  <thead>\n",
              "    <tr style=\"text-align: right;\">\n",
              "      <th></th>\n",
              "      <th>fixed acidity</th>\n",
              "      <th>volatile acidity</th>\n",
              "      <th>citric acid</th>\n",
              "      <th>residual sugar</th>\n",
              "      <th>chlorides</th>\n",
              "      <th>free sulfur dioxide</th>\n",
              "      <th>total sulfur dioxide</th>\n",
              "      <th>density</th>\n",
              "      <th>pH</th>\n",
              "      <th>sulphates</th>\n",
              "      <th>alcohol</th>\n",
              "      <th>quality</th>\n",
              "    </tr>\n",
              "  </thead>\n",
              "  <tbody>\n",
              "    <tr>\n",
              "      <th>0</th>\n",
              "      <td>7.4</td>\n",
              "      <td>0.70</td>\n",
              "      <td>0.00</td>\n",
              "      <td>1.9</td>\n",
              "      <td>0.076</td>\n",
              "      <td>11.0</td>\n",
              "      <td>34.0</td>\n",
              "      <td>0.9978</td>\n",
              "      <td>3.51</td>\n",
              "      <td>0.56</td>\n",
              "      <td>9.4</td>\n",
              "      <td>5</td>\n",
              "    </tr>\n",
              "    <tr>\n",
              "      <th>1</th>\n",
              "      <td>7.8</td>\n",
              "      <td>0.88</td>\n",
              "      <td>0.00</td>\n",
              "      <td>2.6</td>\n",
              "      <td>0.098</td>\n",
              "      <td>25.0</td>\n",
              "      <td>67.0</td>\n",
              "      <td>0.9968</td>\n",
              "      <td>3.20</td>\n",
              "      <td>0.68</td>\n",
              "      <td>9.8</td>\n",
              "      <td>5</td>\n",
              "    </tr>\n",
              "    <tr>\n",
              "      <th>2</th>\n",
              "      <td>7.8</td>\n",
              "      <td>0.76</td>\n",
              "      <td>0.04</td>\n",
              "      <td>2.3</td>\n",
              "      <td>0.092</td>\n",
              "      <td>15.0</td>\n",
              "      <td>54.0</td>\n",
              "      <td>0.9970</td>\n",
              "      <td>3.26</td>\n",
              "      <td>0.65</td>\n",
              "      <td>9.8</td>\n",
              "      <td>5</td>\n",
              "    </tr>\n",
              "    <tr>\n",
              "      <th>3</th>\n",
              "      <td>11.2</td>\n",
              "      <td>0.28</td>\n",
              "      <td>0.56</td>\n",
              "      <td>1.9</td>\n",
              "      <td>0.075</td>\n",
              "      <td>17.0</td>\n",
              "      <td>60.0</td>\n",
              "      <td>0.9980</td>\n",
              "      <td>3.16</td>\n",
              "      <td>0.58</td>\n",
              "      <td>9.8</td>\n",
              "      <td>6</td>\n",
              "    </tr>\n",
              "    <tr>\n",
              "      <th>4</th>\n",
              "      <td>7.4</td>\n",
              "      <td>0.70</td>\n",
              "      <td>0.00</td>\n",
              "      <td>1.9</td>\n",
              "      <td>0.076</td>\n",
              "      <td>11.0</td>\n",
              "      <td>34.0</td>\n",
              "      <td>0.9978</td>\n",
              "      <td>3.51</td>\n",
              "      <td>0.56</td>\n",
              "      <td>9.4</td>\n",
              "      <td>5</td>\n",
              "    </tr>\n",
              "  </tbody>\n",
              "</table>\n",
              "</div>"
            ],
            "text/plain": [
              "   fixed acidity  volatile acidity  citric acid  ...  sulphates  alcohol  quality\n",
              "0            7.4              0.70         0.00  ...       0.56      9.4        5\n",
              "1            7.8              0.88         0.00  ...       0.68      9.8        5\n",
              "2            7.8              0.76         0.04  ...       0.65      9.8        5\n",
              "3           11.2              0.28         0.56  ...       0.58      9.8        6\n",
              "4            7.4              0.70         0.00  ...       0.56      9.4        5\n",
              "\n",
              "[5 rows x 12 columns]"
            ]
          },
          "metadata": {
            "tags": []
          },
          "execution_count": 1
        }
      ]
    },
    {
      "cell_type": "markdown",
      "metadata": {
        "id": "XWMn6OjMa2Ad",
        "colab_type": "text"
      },
      "source": [
        "## Renaming columns "
      ]
    },
    {
      "cell_type": "markdown",
      "metadata": {
        "id": "Cx__vMFOa9L1",
        "colab_type": "text"
      },
      "source": [
        "You want to replace the spaces in the column labels with underscores to be able to reference columns with dot notation. Here's one way you could've done it."
      ]
    },
    {
      "cell_type": "code",
      "metadata": {
        "id": "IE3JlW0GaxB-",
        "colab_type": "code",
        "colab": {
          "base_uri": "https://localhost:8080/",
          "height": 224
        },
        "outputId": "39afbfb0-22d3-40e1-aa98-12dbb2a5d6f7"
      },
      "source": [
        "############### One way to rename the column ###############\n",
        "############################################################\n",
        "\n",
        "# new_df = df.rename(columns={'fixed acidity': 'fixed_acidity',\n",
        "#                              'volatile acidity': 'volatile_acidity',\n",
        "#                              'citric acid': 'citric_acid',\n",
        "#                              'residual sugar': 'residual_sugar',\n",
        "#                              'free sulfur dioxide': 'free_sulfur_dioxide',\n",
        "#                              'total sulfur dioxide': 'total_sulfur_dioxide'\n",
        "#                             })\n",
        "# new_df.head()\n",
        "\n",
        "############### Another way to rename the column ###########\n",
        "############################################################\n",
        "\n",
        "# labels = list(df.columns)\n",
        "# labels[0] = labels[0].replace(' ', '_')\n",
        "# labels[1] = labels[1].replace(' ', '_')\n",
        "# labels[2] = labels[2].replace(' ', '_')\n",
        "# labels[3] = labels[3].replace(' ', '_')\n",
        "# labels[5] = labels[5].replace(' ', '_')\n",
        "# labels[6] = labels[6].replace(' ', '_')\n",
        "# df.columns = labels\n",
        "\n",
        "\n",
        "df.columns = ['_'.join(column.split(' ')) for column in df.columns]\n",
        "df.head()"
      ],
      "execution_count": 2,
      "outputs": [
        {
          "output_type": "execute_result",
          "data": {
            "text/html": [
              "<div>\n",
              "<style scoped>\n",
              "    .dataframe tbody tr th:only-of-type {\n",
              "        vertical-align: middle;\n",
              "    }\n",
              "\n",
              "    .dataframe tbody tr th {\n",
              "        vertical-align: top;\n",
              "    }\n",
              "\n",
              "    .dataframe thead th {\n",
              "        text-align: right;\n",
              "    }\n",
              "</style>\n",
              "<table border=\"1\" class=\"dataframe\">\n",
              "  <thead>\n",
              "    <tr style=\"text-align: right;\">\n",
              "      <th></th>\n",
              "      <th>fixed_acidity</th>\n",
              "      <th>volatile_acidity</th>\n",
              "      <th>citric_acid</th>\n",
              "      <th>residual_sugar</th>\n",
              "      <th>chlorides</th>\n",
              "      <th>free_sulfur_dioxide</th>\n",
              "      <th>total_sulfur_dioxide</th>\n",
              "      <th>density</th>\n",
              "      <th>pH</th>\n",
              "      <th>sulphates</th>\n",
              "      <th>alcohol</th>\n",
              "      <th>quality</th>\n",
              "    </tr>\n",
              "  </thead>\n",
              "  <tbody>\n",
              "    <tr>\n",
              "      <th>0</th>\n",
              "      <td>7.4</td>\n",
              "      <td>0.70</td>\n",
              "      <td>0.00</td>\n",
              "      <td>1.9</td>\n",
              "      <td>0.076</td>\n",
              "      <td>11.0</td>\n",
              "      <td>34.0</td>\n",
              "      <td>0.9978</td>\n",
              "      <td>3.51</td>\n",
              "      <td>0.56</td>\n",
              "      <td>9.4</td>\n",
              "      <td>5</td>\n",
              "    </tr>\n",
              "    <tr>\n",
              "      <th>1</th>\n",
              "      <td>7.8</td>\n",
              "      <td>0.88</td>\n",
              "      <td>0.00</td>\n",
              "      <td>2.6</td>\n",
              "      <td>0.098</td>\n",
              "      <td>25.0</td>\n",
              "      <td>67.0</td>\n",
              "      <td>0.9968</td>\n",
              "      <td>3.20</td>\n",
              "      <td>0.68</td>\n",
              "      <td>9.8</td>\n",
              "      <td>5</td>\n",
              "    </tr>\n",
              "    <tr>\n",
              "      <th>2</th>\n",
              "      <td>7.8</td>\n",
              "      <td>0.76</td>\n",
              "      <td>0.04</td>\n",
              "      <td>2.3</td>\n",
              "      <td>0.092</td>\n",
              "      <td>15.0</td>\n",
              "      <td>54.0</td>\n",
              "      <td>0.9970</td>\n",
              "      <td>3.26</td>\n",
              "      <td>0.65</td>\n",
              "      <td>9.8</td>\n",
              "      <td>5</td>\n",
              "    </tr>\n",
              "    <tr>\n",
              "      <th>3</th>\n",
              "      <td>11.2</td>\n",
              "      <td>0.28</td>\n",
              "      <td>0.56</td>\n",
              "      <td>1.9</td>\n",
              "      <td>0.075</td>\n",
              "      <td>17.0</td>\n",
              "      <td>60.0</td>\n",
              "      <td>0.9980</td>\n",
              "      <td>3.16</td>\n",
              "      <td>0.58</td>\n",
              "      <td>9.8</td>\n",
              "      <td>6</td>\n",
              "    </tr>\n",
              "    <tr>\n",
              "      <th>4</th>\n",
              "      <td>7.4</td>\n",
              "      <td>0.70</td>\n",
              "      <td>0.00</td>\n",
              "      <td>1.9</td>\n",
              "      <td>0.076</td>\n",
              "      <td>11.0</td>\n",
              "      <td>34.0</td>\n",
              "      <td>0.9978</td>\n",
              "      <td>3.51</td>\n",
              "      <td>0.56</td>\n",
              "      <td>9.4</td>\n",
              "      <td>5</td>\n",
              "    </tr>\n",
              "  </tbody>\n",
              "</table>\n",
              "</div>"
            ],
            "text/plain": [
              "   fixed_acidity  volatile_acidity  citric_acid  ...  sulphates  alcohol  quality\n",
              "0            7.4              0.70         0.00  ...       0.56      9.4        5\n",
              "1            7.8              0.88         0.00  ...       0.68      9.8        5\n",
              "2            7.8              0.76         0.04  ...       0.65      9.8        5\n",
              "3           11.2              0.28         0.56  ...       0.58      9.8        6\n",
              "4            7.4              0.70         0.00  ...       0.56      9.4        5\n",
              "\n",
              "[5 rows x 12 columns]"
            ]
          },
          "metadata": {
            "tags": []
          },
          "execution_count": 2
        }
      ]
    },
    {
      "cell_type": "markdown",
      "metadata": {
        "id": "mjQvuDZ1c1dA",
        "colab_type": "text"
      },
      "source": [
        "## Analyzing Features"
      ]
    },
    {
      "cell_type": "markdown",
      "metadata": {
        "id": "0vZXSi-6cztw",
        "colab_type": "text"
      },
      "source": [
        "Now that your columns are ready, you want to see how different features of this dataset relate to the quality rating of the wine. A very simple way you could do this is by observing the mean quality rating for the top and bottom half of each feature. The code below does this for four features. It looks pretty repetitive right now. Can you make this more concise?\n",
        "\n",
        "You might challenge yourself to figure out how to make this code more efficient! But you don't need to worry too much about efficiency right now - we will cover that more in the next section."
      ]
    },
    {
      "cell_type": "code",
      "metadata": {
        "id": "1YCe9Oc0dTwL",
        "colab_type": "code",
        "colab": {}
      },
      "source": [
        "############### One way to analyse the feature ###########\n",
        "##########################################################\n",
        "\n",
        "# median_alcohol = df.alcohol.median()\n",
        "# for i, alcohol in enumerate(df.alcohol):\n",
        "#     if alcohol >= median_alcohol:\n",
        "#         df.loc[i, 'alcohol'] = 'high'\n",
        "#     else:\n",
        "#         df.loc[i, 'alcohol'] = 'low'\n",
        "# df.groupby('alcohol').quality.mean()\n",
        "\n",
        "\n",
        "def numeric_to_buckets(df, column_name):\n",
        "    median = df[column_name].median()\n",
        "    for i, val in enumerate(df[column_name]):\n",
        "        if val >= median:\n",
        "            df.loc[i, column_name] = 'high'\n",
        "        else:\n",
        "            df.loc[i, column_name] = 'low' "
      ],
      "execution_count": 3,
      "outputs": []
    },
    {
      "cell_type": "code",
      "metadata": {
        "id": "9qU6eTKjfuMY",
        "colab_type": "code",
        "colab": {
          "base_uri": "https://localhost:8080/",
          "height": 1000
        },
        "outputId": "881c15f5-7c92-49b0-e150-69cccbe1b92c"
      },
      "source": [
        "for feature in df.columns[:-1]:\n",
        "    numeric_to_buckets(df, feature)\n",
        "    print(df.groupby(feature).quality.mean(), '\\n')"
      ],
      "execution_count": 4,
      "outputs": [
        {
          "output_type": "stream",
          "text": [
            "fixed_acidity\n",
            "high    5.726061\n",
            "low     5.540052\n",
            "Name: quality, dtype: float64 \n",
            "\n",
            "volatile_acidity\n",
            "high    5.392157\n",
            "low     5.890166\n",
            "Name: quality, dtype: float64 \n",
            "\n",
            "citric_acid\n",
            "high    5.822360\n",
            "low     5.447103\n",
            "Name: quality, dtype: float64 \n",
            "\n",
            "residual_sugar\n",
            "high    5.665880\n",
            "low     5.602394\n",
            "Name: quality, dtype: float64 \n",
            "\n",
            "chlorides\n",
            "high    5.507194\n",
            "low     5.776471\n",
            "Name: quality, dtype: float64 \n",
            "\n",
            "free_sulfur_dioxide\n",
            "high    5.595268\n",
            "low     5.677136\n",
            "Name: quality, dtype: float64 \n",
            "\n",
            "total_sulfur_dioxide\n",
            "high    5.522981\n",
            "low     5.750630\n",
            "Name: quality, dtype: float64 \n",
            "\n",
            "density\n",
            "high    5.540574\n",
            "low     5.731830\n",
            "Name: quality, dtype: float64 \n",
            "\n",
            "pH\n",
            "high    5.598039\n",
            "low     5.675607\n",
            "Name: quality, dtype: float64 \n",
            "\n",
            "sulphates\n",
            "high    5.898917\n",
            "low     5.351562\n",
            "Name: quality, dtype: float64 \n",
            "\n",
            "alcohol\n",
            "high    5.958904\n",
            "low     5.310302\n",
            "Name: quality, dtype: float64 \n",
            "\n"
          ],
          "name": "stdout"
        }
      ]
    },
    {
      "cell_type": "markdown",
      "metadata": {
        "id": "xeOd8cZugzu-",
        "colab_type": "text"
      },
      "source": [
        "# Efficient Code"
      ]
    },
    {
      "cell_type": "markdown",
      "metadata": {
        "id": "E1fcqwp0gzGQ",
        "colab_type": "text"
      },
      "source": [
        "Knowing how to write code that runs efficiently is another essential skill in software development. Optimizing code to be more efficient can mean making it:\n",
        "\n",
        "* Execute faster\n",
        "* Take up less space in memory/storage\n",
        "\n",
        "The project you're working on would determine which of these is more important to optimize for your company or product. When we are performing lots of different transformations on large amounts of data, this can make orders of magnitudes of difference in performance. \n",
        "\n",
        "For more guidelines, check [What makes sets faster than lists](https://stackoverflow.com/questions/8929284/what-makes-sets-faster-than-lists-in-python/8929445) "
      ]
    },
    {
      "cell_type": "markdown",
      "metadata": {
        "id": "wHgUOX_EhtiF",
        "colab_type": "text"
      },
      "source": [
        "# Quiz: Optimizing - Common Books\n"
      ]
    },
    {
      "cell_type": "markdown",
      "metadata": {
        "id": "mD3jY_0ui3Fm",
        "colab_type": "text"
      },
      "source": [
        "Here's the code your coworker wrote to find the common book ids in `books_published_last_two_years.txt` and `all_coding_books.txt` to obtain a list of recent coding books."
      ]
    },
    {
      "cell_type": "code",
      "metadata": {
        "id": "7cyn_gPyjXOJ",
        "colab_type": "code",
        "colab": {}
      },
      "source": [
        "import time\n",
        "import pandas as pd\n",
        "import numpy as np"
      ],
      "execution_count": 5,
      "outputs": []
    },
    {
      "cell_type": "code",
      "metadata": {
        "id": "oRm9_rPhjX-V",
        "colab_type": "code",
        "colab": {}
      },
      "source": [
        "with open('books_published_last_two_years.txt') as f:\n",
        "    recent_books = f.read().split('\\n')\n",
        "    \n",
        "with open('all_coding_books.txt') as f:\n",
        "    coding_books = f.read().split('\\n')"
      ],
      "execution_count": 6,
      "outputs": []
    },
    {
      "cell_type": "code",
      "metadata": {
        "id": "mODhPYA-jbXV",
        "colab_type": "code",
        "colab": {
          "base_uri": "https://localhost:8080/",
          "height": 53
        },
        "outputId": "7fd2275b-315f-4cc1-95ad-be1fa9299343"
      },
      "source": [
        "start = time.time()\n",
        "recent_coding_books = []\n",
        "\n",
        "for book in recent_books:\n",
        "    if book in coding_books:\n",
        "        recent_coding_books.append(book)\n",
        "\n",
        "print(len(recent_coding_books))\n",
        "print('Duration: {} seconds'.format(time.time() - start))"
      ],
      "execution_count": 7,
      "outputs": [
        {
          "output_type": "stream",
          "text": [
            "96\n",
            "Duration: 14.665112018585205 seconds\n"
          ],
          "name": "stdout"
        }
      ]
    },
    {
      "cell_type": "markdown",
      "metadata": {
        "id": "OBB4vbFrjgKw",
        "colab_type": "text"
      },
      "source": [
        "**Tip #1: Use vector operations over loops when possible** \n",
        "\n",
        "Use numpy's `intersect1d` method to get the intersection of the `recent_books` and `coding_books` arrays."
      ]
    },
    {
      "cell_type": "code",
      "metadata": {
        "id": "ivIYyldmjo28",
        "colab_type": "code",
        "colab": {
          "base_uri": "https://localhost:8080/",
          "height": 53
        },
        "outputId": "35722ab9-cf0d-450c-d202-e09024b0e53a"
      },
      "source": [
        "start = time.time()\n",
        "recent_coding_books =  np.intersect1d(recent_books, coding_books)\n",
        "print(len(recent_coding_books))\n",
        "print('Duration: {} seconds'.format(time.time() - start))"
      ],
      "execution_count": 8,
      "outputs": [
        {
          "output_type": "stream",
          "text": [
            "96\n",
            "Duration: 0.05867123603820801 seconds\n"
          ],
          "name": "stdout"
        }
      ]
    },
    {
      "cell_type": "markdown",
      "metadata": {
        "id": "I3RPVrcWjw_X",
        "colab_type": "text"
      },
      "source": [
        "**Tip #2: Know your data structures and which methods are faster**\n",
        "\n",
        "Use the set's `intersection` method to get the common elements in `recent_books` and `coding_books`."
      ]
    },
    {
      "cell_type": "code",
      "metadata": {
        "id": "y4rK0sgyj3eK",
        "colab_type": "code",
        "colab": {
          "base_uri": "https://localhost:8080/",
          "height": 53
        },
        "outputId": "0595b77d-e2ed-42d8-ec45-831b887a7fea"
      },
      "source": [
        "start = time.time()\n",
        "recent_coding_books =  set(recent_books).intersection(coding_books)\n",
        "print(len(recent_coding_books))\n",
        "print('Duration: {} seconds'.format(time.time() - start))"
      ],
      "execution_count": 9,
      "outputs": [
        {
          "output_type": "stream",
          "text": [
            "96\n",
            "Duration: 0.0146942138671875 seconds\n"
          ],
          "name": "stdout"
        }
      ]
    },
    {
      "cell_type": "markdown",
      "metadata": {
        "id": "bdp7oCNwkRez",
        "colab_type": "text"
      },
      "source": [
        "# Quiz: Optimizing - Holiday Gifts\n"
      ]
    },
    {
      "cell_type": "markdown",
      "metadata": {
        "id": "70oTyvZnkTP6",
        "colab_type": "text"
      },
      "source": [
        "In the last example, you learned that using vectorized operations and more efficient data structures can optimize your code. Let's use these tips for one more example.\n",
        "\n",
        "Say your online gift store has one million users that each listed a gift on a wish list. You have the prices for each of these gifts stored in `gift_costs.txt`. For the holidays, you're going to give each customer their wish list gift for free if it is under 25 dollars. Now, you want to calculate the total cost of all gifts under 25 dollars to see how much you'd spend on free gifts. Here's one way you could've done it."
      ]
    },
    {
      "cell_type": "code",
      "metadata": {
        "id": "7sHk3ojzktnO",
        "colab_type": "code",
        "colab": {}
      },
      "source": [
        "import time\n",
        "import numpy as np"
      ],
      "execution_count": 10,
      "outputs": []
    },
    {
      "cell_type": "code",
      "metadata": {
        "id": "i70q4kwPkuTF",
        "colab_type": "code",
        "colab": {}
      },
      "source": [
        "with open('gift_costs.txt') as f:\n",
        "    gift_costs = f.read().split('\\n')\n",
        "    \n",
        "gift_costs = np.array(gift_costs).astype(int)  # convert string to int"
      ],
      "execution_count": 11,
      "outputs": []
    },
    {
      "cell_type": "code",
      "metadata": {
        "id": "84VWfh1LkxiL",
        "colab_type": "code",
        "colab": {
          "base_uri": "https://localhost:8080/",
          "height": 53
        },
        "outputId": "95cc423c-3a27-40a2-ab5a-488525a1781b"
      },
      "source": [
        "start = time.time()\n",
        "\n",
        "total_price = 0\n",
        "for cost in gift_costs:\n",
        "    if cost < 25:\n",
        "        total_price += cost * 1.08  # add cost after tax\n",
        "\n",
        "print(total_price)\n",
        "print('Duration: {} seconds'.format(time.time() - start))"
      ],
      "execution_count": 12,
      "outputs": [
        {
          "output_type": "stream",
          "text": [
            "10624575.600000037\n",
            "Duration: 3.7863593101501465 seconds\n"
          ],
          "name": "stdout"
        }
      ]
    },
    {
      "cell_type": "markdown",
      "metadata": {
        "id": "4eesEkzJk1fo",
        "colab_type": "text"
      },
      "source": [
        "Here you iterate through each cost in the list, and check if it's less than 25. If so, you add the cost to the total price after tax. This works, but there is a much faster way to do this. Can you refactor this to run under half a second?"
      ]
    },
    {
      "cell_type": "markdown",
      "metadata": {
        "id": "uwOQyEc4lTQC",
        "colab_type": "text"
      },
      "source": [
        "**Refactor Code**\n",
        "\n",
        "Hint: Using numpy makes it very easy to select all the elements in an array that meet a certain condition, and then perform operations on them together all at once. You can them find the sum of what those values end up being."
      ]
    },
    {
      "cell_type": "code",
      "metadata": {
        "id": "HLZG1VD2lXjn",
        "colab_type": "code",
        "colab": {
          "base_uri": "https://localhost:8080/",
          "height": 53
        },
        "outputId": "76e0cb32-c6fa-4fc8-b3cf-508efb73951e"
      },
      "source": [
        "start = time.time()\n",
        "total_price = sum(gift_costs[gift_costs < 25]*1.08)\n",
        "\n",
        "print(total_price)\n",
        "print('Duration: {} seconds'.format(time.time() - start))"
      ],
      "execution_count": 13,
      "outputs": [
        {
          "output_type": "stream",
          "text": [
            "10624575.600000037\n",
            "Duration: 0.19068527221679688 seconds\n"
          ],
          "name": "stdout"
        }
      ]
    },
    {
      "cell_type": "markdown",
      "metadata": {
        "id": "Q8xGuJdgpEHA",
        "colab_type": "text"
      },
      "source": [
        "# Documentation"
      ]
    },
    {
      "cell_type": "markdown",
      "metadata": {
        "id": "NsFekm7fpGLr",
        "colab_type": "text"
      },
      "source": [
        "* **DOCUMENTATION**: additional text or illustrated information that comes with or is embedded in the code of software.\n",
        "\n",
        "* Helpful for clarifying complex parts of code, making your code easier to navigate, and quickly conveying how and why different components of your program are used.\n",
        "\n",
        "* Several types of documentation can be added at different levels of your program:\n",
        "\n",
        " * In-line Comments - line level\n",
        " * Docstrings - module and function level\n",
        " * Project Documentation - project level like README file or a document "
      ]
    },
    {
      "cell_type": "markdown",
      "metadata": {
        "id": "eW7Ny-IYpve3",
        "colab_type": "text"
      },
      "source": [
        "## In-line comments "
      ]
    },
    {
      "cell_type": "markdown",
      "metadata": {
        "id": "b9pwj0rtpuMg",
        "colab_type": "text"
      },
      "source": [
        "* In-line comments are text following hash symbols throughout your code. They are used to explain parts of your code, and really help future contributors understand your work.\n",
        "\n",
        "* One way comments are used is to document the major steps of complex code to help readers follow. Then, you may not have to understand the code to follow what it does. However, others would argue that this is using comments to justify bad code, and that if code requires comments to follow, it is a sign refactoring is needed.\n",
        "\n",
        "* Comments are valuable for explaining where code cannot. For example, the history behind why a certain method was implemented a specific way. Sometimes an unconventional or seemingly arbitrary approach may be applied because of some obscure external variable causing side effects. These things are difficult to explain with code."
      ]
    },
    {
      "cell_type": "markdown",
      "metadata": {
        "id": "0iYu_0X2qYFT",
        "colab_type": "text"
      },
      "source": [
        "## Docstrings "
      ]
    },
    {
      "cell_type": "markdown",
      "metadata": {
        "id": "WF7snCEjqZrA",
        "colab_type": "text"
      },
      "source": [
        "Docstring, or documentation strings, are valuable pieces of documentation that explain the functionality of any function or module in your code. Ideally, each of your functions should always have a docstring.\n",
        "\n",
        "Docstrings are surrounded by triple quotes. The first line of the docstring is a brief explanation of the function's purpose."
      ]
    },
    {
      "cell_type": "markdown",
      "metadata": {
        "id": "J7mun8p-qdmu",
        "colab_type": "text"
      },
      "source": [
        "**One line docstring** "
      ]
    },
    {
      "cell_type": "code",
      "metadata": {
        "id": "w_-JIk3AqfUx",
        "colab_type": "code",
        "colab": {}
      },
      "source": [
        "def population_density(population, land_area):\n",
        "    \"\"\"Calculate the population density of an area.\"\"\"\n",
        "    return population / land_area"
      ],
      "execution_count": 14,
      "outputs": []
    },
    {
      "cell_type": "markdown",
      "metadata": {
        "id": "wOnAuvEPqhGL",
        "colab_type": "text"
      },
      "source": [
        "If you think that the function is complicated enough to warrant a longer description, you can add a more thorough paragraph after the one line summary."
      ]
    },
    {
      "cell_type": "markdown",
      "metadata": {
        "id": "p91X5yS7qj-F",
        "colab_type": "text"
      },
      "source": [
        "**Multi line docstring** "
      ]
    },
    {
      "cell_type": "code",
      "metadata": {
        "id": "73uJ1fTvqwII",
        "colab_type": "code",
        "colab": {}
      },
      "source": [
        "def population_density(population, land_area):\n",
        "    \"\"\"Calculate the population density of an area.\n",
        "\n",
        "    Args:\n",
        "    population: int. The population of the area\n",
        "    land_area: int or float. This function is unit-agnostic, if you pass in values in terms of square km or square miles the function will return a density in those units.\n",
        "\n",
        "    Returns:\n",
        "    population_density: population/land_area. The population density of a \n",
        "    particular area.\n",
        "    \"\"\"\n",
        "    return population / land_area"
      ],
      "execution_count": 15,
      "outputs": []
    },
    {
      "cell_type": "markdown",
      "metadata": {
        "id": "XWmV40cbq0Xh",
        "colab_type": "text"
      },
      "source": [
        "The next element of a docstring is an explanation of the function's arguments. Here you list the arguments, state their purpose, and state what types the arguments should be. Finally it is common to provide some description of the output of the function. Every piece of the docstring is optional; however, doc strings are a part of good coding practice.\n",
        "\n",
        "**Resources**:\n",
        "\n",
        "* [PEP 257 - Docstring Conventions](https://www.python.org/dev/peps/pep-0257/)\n",
        "* [NumPy Docstring Guide](https://numpydoc.readthedocs.io/en/latest/format.html)"
      ]
    },
    {
      "cell_type": "markdown",
      "metadata": {
        "id": "yF5e47QArc0L",
        "colab_type": "text"
      },
      "source": [
        "## Project Documentation "
      ]
    },
    {
      "cell_type": "markdown",
      "metadata": {
        "id": "qyuf-v9mrgom",
        "colab_type": "text"
      },
      "source": [
        "Project documentation is essential for getting others to understand why and how your code is relevant to them, whether they are potentials users of your project or developers who may contribute to your code. A great first step in project documentation is your README file. It will often be the first interaction most users will have with your project.\n",
        "\n",
        "Whether it's an application or a package, your project should absolutely come with a README file. At a minimum, this should explain what it does, list its dependencies, and provide sufficiently detailed instructions on how to use it. You want to make it as simple as possible for others to understand the purpose of your project, and quickly get something working.\n",
        "\n",
        "Translating all your ideas and thoughts formally on paper can be a little difficult, but you'll get better over time and makes a significant difference in helping others realize the value of your project. Writing this documentation can also help you improve the design of your code, as you're forced to think through your design decisions more thoroughly. This also allows future contributors to know how to follow your original intentions.\n",
        "\n",
        "Here are a few READMEs from some popular projects:\n",
        "\n",
        "* [Bootstrap](https://github.com/twbs/bootstrap)\n",
        "* [Scikit-learn](https://github.com/scikit-learn/scikit-learn)\n",
        "* [Stack Overflow Blog](https://github.com/jjrunner/stackoverflow)"
      ]
    },
    {
      "cell_type": "markdown",
      "metadata": {
        "id": "h3-MxVV3sSXl",
        "colab_type": "text"
      },
      "source": [
        "# Version Control in Data Science \n"
      ]
    },
    {
      "cell_type": "markdown",
      "metadata": {
        "id": "t-9O5fApu90n",
        "colab_type": "text"
      },
      "source": [
        "## Scenario #1"
      ]
    },
    {
      "cell_type": "markdown",
      "metadata": {
        "id": "qFExdNePsVfN",
        "colab_type": "text"
      },
      "source": [
        "**Scenario #1**\n",
        "\n",
        "**STEP 1: You have a local version of this repository on your laptop, and to get the latest stable version, you pull from the develop branch.** \n",
        "\n",
        "* Switch to the develop branch\n",
        "\n",
        "  ```git checkout develop```\n",
        "\n",
        "* Pull latest changes in the develop branch\n",
        "\n",
        "  ```git pull```\n",
        "\n",
        "\n",
        "**STEP 2: When you start working on this demographic feature, you create a new branch for this called demographic, and start working on your code in this branch.**\n",
        "\n",
        "* Create and switch to new branch called demographic from develop branch\n",
        "\n",
        "  ```git checkout -b demographic```\n",
        "\n",
        "* Work on this new feature and commit as you go\n",
        "\n",
        "  ```git commit -m 'added gender recommendations'```\n",
        "\n",
        "  ```git commit -m 'added location specific recommendations'```\n",
        "\n",
        "  ```...```\n",
        "\n",
        "**STEP 3: However, in the middle of your work, you need to work on another feature. So you commit your changes on this demographic branch, and switch back to the develop branch.**\n",
        "\n",
        "* Commit changes before switching\n",
        "\n",
        "  ```git commit -m 'refactored demographic gender and location recommendations'```\n",
        "\n",
        "* Switch to the develop branch\n",
        "\n",
        "  ```git checkout develop```\n",
        "\n",
        "**STEP 4: From this stable develop branch, you create another branch for a new feature called friend_groups.**\n",
        "\n",
        "* Create and switch to new branch called friend_groups from develop branch\n",
        "\n",
        "  ```git checkout -b friend_groups```\n",
        "\n",
        "**STEP 5: After you finish your work on the friend_groups branch, you commit your changes, switch back to the development branch, merge it back to the develop branch, and push this to the remote repository’s develop branch.**\n",
        "\n",
        "* Commit changes before switching\n",
        "\n",
        "  ```git commit -m 'finalized friend_groups recommendations'```\n",
        "\n",
        "* Switch to the develop branch\n",
        "\n",
        "  ```git checkout develop```\n",
        "\n",
        "* Merge friend_groups branch to develop\n",
        "\n",
        "  ```git merge --no-ff friends_groups```\n",
        "\n",
        "* Push to remote repository\n",
        "\n",
        "  ```git push origin develop```\n",
        "\n",
        "**STEP 6: Now, you can switch back to the demographic branch to continue your progress on that feature.**\n",
        "\n",
        "* Switch to the demographic branch\n",
        "\n",
        "  ```git checkout demographic```\n",
        "\n",
        "\n",
        "\n"
      ]
    },
    {
      "cell_type": "markdown",
      "metadata": {
        "id": "bv7FvGBhw3L7",
        "colab_type": "text"
      },
      "source": [
        "## Scenario #2"
      ]
    },
    {
      "cell_type": "markdown",
      "metadata": {
        "id": "DPLM-9uIvSsw",
        "colab_type": "text"
      },
      "source": [
        "**Scenario #2**\n",
        "\n",
        "\n",
        "**Step 1: You check your commit history, seeing messages of the changes you made and how well it performed.**\n",
        "\n",
        "* View log history\n",
        "\n",
        "  ```git log```\n",
        "\n",
        "**Step 2: The model at this commit seemed to score the highest, so you decide to take a look.**\n",
        "\n",
        "* Checkout a commit\n",
        "\n",
        "  ```git checkout bc90f2cbc9dc4e802b46e7a153aa106dc9a88560```\n",
        "\n",
        "After inspecting your code, you realize what modifications made this perform well, and use those for your model.\n",
        "\n",
        "**Step 3: Now, you’re pretty confident merging this back into the development branch, and pushing the updated recommendation engine.**\n",
        "\n",
        "* Switch to develop branch\n",
        "\n",
        "  ```git checkout develop```\n",
        "\n",
        "* Merge friend_groups branch to develop\n",
        "\n",
        "  ```git merge --no-ff friend_groups```\n",
        "\n",
        "* Push changes to remote repository\n",
        "\n",
        "  ```git push origin develop```"
      ]
    },
    {
      "cell_type": "markdown",
      "metadata": {
        "id": "fIbXV3U9wwo4",
        "colab_type": "text"
      },
      "source": [
        "## Resources "
      ]
    },
    {
      "cell_type": "markdown",
      "metadata": {
        "id": "OqmYaFbXwt_p",
        "colab_type": "text"
      },
      "source": [
        "There's a great article on a successful git branching strategy that you should really read [here](http://nvie.com/posts/a-successful-git-branching-model/).\n",
        "\n",
        "**Note on Merge Conflicts**\n",
        "\n",
        "For the most part, git makes merging changes between branches really simple. However, there are some cases where git will be confused on how to combine two changes, and asks you for help. This is called a merge conflict.\n",
        "\n",
        "Mostly commonly, this happens when two branches modify the same file.\n",
        "\n",
        "For example, in this situation, let’s say I deleted a line that Andrew modified on his branch. Git wouldn’t know whether to delete the line or modify it. Here, you need to tell git which change to take, and some tools even allow you to edit the change manually. If it isn’t straightforward, you may have to consult with the developer of the other branch to handle a merge conflict.\n",
        "\n",
        "You can learn more about merge conflicts and methods to handle them [here](https://help.github.com/articles/about-merge-conflicts/).\n",
        "\n",
        "Some other useful resource are:\n",
        "\n",
        "* [How to Version Control Your Production Machine Learning Models](https://blog.algorithmia.com/how-to-version-control-your-production-machine-learning-models/)\n",
        "* [Versioning Data Science](https://shuaiw.github.io/2017/07/30/versioning-data-science.html)"
      ]
    }
  ]
}