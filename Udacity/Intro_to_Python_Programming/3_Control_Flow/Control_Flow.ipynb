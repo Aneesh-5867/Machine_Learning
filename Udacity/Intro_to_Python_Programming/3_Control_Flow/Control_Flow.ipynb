{
  "nbformat": 4,
  "nbformat_minor": 0,
  "metadata": {
    "colab": {
      "name": "Control_Flow.ipynb",
      "provenance": [],
      "collapsed_sections": [],
      "include_colab_link": true
    },
    "kernelspec": {
      "name": "python3",
      "display_name": "Python 3"
    }
  },
  "cells": [
    {
      "cell_type": "markdown",
      "metadata": {
        "id": "view-in-github",
        "colab_type": "text"
      },
      "source": [
        "<a href=\"https://colab.research.google.com/github/SudhakarKuma/Machine_Learning/blob/master/Udacity/Intro_to_Python_Programming/3_Control_Flow/Control_Flow.ipynb\" target=\"_parent\"><img src=\"https://colab.research.google.com/assets/colab-badge.svg\" alt=\"Open In Colab\"/></a>"
      ]
    },
    {
      "cell_type": "markdown",
      "metadata": {
        "id": "88e_h7FHVAL1"
      },
      "source": [
        "* Conditional Statements\n",
        "* Boolean Expressions\n",
        "* For and While Loops\n",
        "* Break and Continue\n",
        "* Zip and Enumerate\n",
        "* List Comprehensions"
      ]
    },
    {
      "cell_type": "markdown",
      "metadata": {
        "id": "-7K5rP0wVGkp"
      },
      "source": [
        "# Conditional Statements\n"
      ]
    },
    {
      "cell_type": "markdown",
      "metadata": {
        "id": "aKRYMak8WB6f"
      },
      "source": [
        "**If Statement**\n",
        "\n",
        "An `if` statement is a conditional statement that runs or skips code based on whether a condition is true or false. Here's a simple example.\n",
        "\n",
        "```\n",
        "if phone_balance < 5:\n",
        "    phone_balance += 10\n",
        "    bank_balance -= 10\n",
        "```\n",
        "\n",
        "**Use Comparison Operators in Conditional Statements**\n",
        "\n",
        "Python's comparison operators (e.g. `==` and `!=`) are different from assignment operators (e.g. `=`). In conditional statements, we want to use comparison operators. For example, we'd want to use if `x == 5` rather than if `x = 5`. \n",
        "\n",
        "**If, Elif, Else**\n",
        "\n",
        "In addition to the `if` clause, there are two other optional clauses often used with an `if` statement. For example:\n",
        "\n",
        "```\n",
        "if season == 'spring':\n",
        "    print('plant the garden!')\n",
        "elif season == 'summer':\n",
        "    print('water the garden!')\n",
        "elif season == 'fall':\n",
        "    print('harvest the garden!')\n",
        "elif season == 'winter':\n",
        "    print('stay indoors!')\n",
        "else:\n",
        "    print('unrecognized season')\n",
        "```\n",
        "\n",
        "As we can see in the example, we can have multiple `elif` blocks to handle different situations.\n",
        "\n",
        "# Indentation\n",
        "\n",
        "Some other languages use braces to show where blocks of code begin and end. In Python we use indentation to enclose blocks of code. For example, `if` statements use indentation to tell Python what code is inside and outside of different clauses.\n",
        "\n",
        "In Python, indents conventionally come in multiples of four spaces. Be strict about following this convention, because changing the indentation can completely change the meaning of the code. If you are working on a team of Python programmers, it's important that everyone follows the same indentation convention!\n",
        "\n",
        "**Spaces or Tabs?**\n",
        "\n",
        "The [Python Style Guide](https://www.python.org/dev/peps/pep-0008/#tabs-or-spaces) recommends using 4 spaces to indent, rather than using a tab. Whichever you use, be aware that \"Python 3 disallows mixing the use of tabs and spaces for indentation.\""
      ]
    },
    {
      "cell_type": "markdown",
      "metadata": {
        "id": "ECJpi2W1ayr3"
      },
      "source": [
        "# Boolean Expressions for Conditions\n"
      ]
    },
    {
      "cell_type": "markdown",
      "metadata": {
        "id": "93iUOojAbP3C"
      },
      "source": [
        "**Complex Boolean Expressions**\n",
        "\n",
        "`if` statements sometimes use more complicated boolean expressions for their conditions. They may contain multiple comparisons operators, logical operators, and even calculations. Examples:\n",
        "\n",
        "```\n",
        "if 18.5 <= weight / height**2 < 25:\n",
        "    print(\"BMI is considered 'normal'\")\n",
        "\n",
        "if is_raining and is_sunny:\n",
        "    print(\"Is there a rainbow?\")\n",
        "\n",
        "if (not unsubscribed) and (location == \"USA\" or location == \"CAN\"):\n",
        "    print(\"send email\")\n",
        "```\n",
        "\n",
        "For really complicated conditions you might need to combine some `and`s, `or`s and `not`s together. Use parentheses if you need to make the combinations clear.\n",
        "\n",
        "However simple or complex, the condition in an `if` statement must be a boolean expression that evaluates to either True or False and it is this value that decides whether the indented block in an `if` statement executes or not.\n",
        "\n",
        "**Good and Bad Examples**\n",
        "\n",
        "1. **Be careful writing expressions that use logical operators**\n",
        "\n",
        "Logical operators `and`, `or` and `not` have specific meanings that aren't quite the same as their meanings in plain English. Make sure your boolean expressions are being evaluated the way you expect them to.\n",
        "\n",
        "```\n",
        "# Bad example\n",
        "if weather == \"snow\" or \"rain\":\n",
        "    print(\"Wear boots!\")\n",
        "```\n",
        "This code is valid in Python, but it is not a boolean expression, although it reads like one. The reason is that the expression to the right of the `or` operator, `\"rain\"`, is not a boolean expression - it's a string! \n",
        "\n",
        "2. **Don't compare a boolean variable with == True or == False**\n",
        "\n",
        "This comparison isn’t necessary, since the boolean variable itself is a boolean expression.\n",
        "\n",
        "```\n",
        "# Bad example\n",
        "if is_cold == True:\n",
        "    print(\"The weather is cold!\")\n",
        "```\n",
        "\n",
        "This is a valid condition, but we can make the code more readable by using the variable itself as the condition instead, as below.\n",
        "\n",
        "```\n",
        "# Good example\n",
        "if is_cold:\n",
        "    print(\"The weather is cold!\")\n",
        "```\n",
        "\n",
        "If one wants to check whether a boolean is False, he/she can use the `not` operator.\n",
        "\n",
        "**Truth Value Testing**\n",
        "\n",
        "If we use a non-boolean object as a condition in an `if` statement in place of the boolean expression, Python will check for its truth value and use that to decide whether or not to run the indented code. By default, the truth value of an object in Python is considered True unless specified as False in the documentation.\n",
        "\n",
        "Here are most of the built-in objects that are considered False in Python:\n",
        "\n",
        "* constants defined to be false: `None` and `False`\n",
        "* zero of any numeric type: `0`, `0.0`, `0j`, `Decimal(0)`, `Fraction(0, 1)`\n",
        "* empty sequences and collections: `'\"\"`, `()`, `[]`, `{}`, `set()`, `range(0)`\n",
        "\n",
        "Example:\n",
        "\n"
      ]
    },
    {
      "cell_type": "code",
      "metadata": {
        "id": "qlZ5iYqCiQMc",
        "outputId": "1d1aa32f-5def-43a5-d215-1bb0d5fca401",
        "colab": {
          "base_uri": "https://localhost:8080/",
          "height": 35
        }
      },
      "source": [
        "errors = 3\n",
        "if errors:\n",
        "    print(\"You have {} errors to fix!\".format(errors))\n",
        "else:\n",
        "    print(\"No errors to fix!\")"
      ],
      "execution_count": 1,
      "outputs": [
        {
          "output_type": "stream",
          "text": [
            "You have 3 errors to fix!\n"
          ],
          "name": "stdout"
        }
      ]
    },
    {
      "cell_type": "markdown",
      "metadata": {
        "id": "xII5U-bOiVUo"
      },
      "source": [
        "In this code, `errors` has the truth value True because it's a non-zero number, so the error message is printed. This is a nice, succinct way of writing an `if` statement."
      ]
    },
    {
      "cell_type": "markdown",
      "metadata": {
        "id": "GDmJRjdri7SY"
      },
      "source": [
        "# For Loops"
      ]
    },
    {
      "cell_type": "markdown",
      "metadata": {
        "id": "RTdQkfQgjMrX"
      },
      "source": [
        "**For Loops**\n",
        "\n",
        "Python has two kinds of loops - `for` loops and `while` loops. A `for` loop is used to \"iterate\", or do something repeatedly, over an **iterable**.\n",
        "\n",
        "An **iterable** is an object that can return one of its elements at a time. This can include sequence types, such as strings, lists, and tuples, as well as non-sequence types, such as dictionaries and files.\n",
        "\n",
        "Example\n",
        "Let's break down the components of a `for` loop, using this example with the list cities:"
      ]
    },
    {
      "cell_type": "code",
      "metadata": {
        "id": "UuAhdfDVjaRU",
        "outputId": "6405d7da-ef87-44c9-beb5-3a057c204ad0",
        "colab": {
          "base_uri": "https://localhost:8080/",
          "height": 107
        }
      },
      "source": [
        "cities = ['new york city', 'mountain view', 'chicago', 'los angeles']\n",
        "for city in cities:\n",
        "  print(city)\n",
        "print(\"Done!\")"
      ],
      "execution_count": 2,
      "outputs": [
        {
          "output_type": "stream",
          "text": [
            "new york city\n",
            "mountain view\n",
            "chicago\n",
            "los angeles\n",
            "Done!\n"
          ],
          "name": "stdout"
        }
      ]
    },
    {
      "cell_type": "markdown",
      "metadata": {
        "id": "NP_XgaU3jwCu"
      },
      "source": [
        "You can name iteration variables however you like. A common pattern is to give the iteration variable and iterable the same names, except the singular and plural versions respectively (e.g., 'city' and 'cities').\n",
        "\n",
        "**Using the range() Function with for Loops**\n",
        "\n",
        "`range()` is a built-in function used to create an iterable sequence of numbers. You will frequently use `range()` with a `for` loop to repeat an action a certain number of times. Any variable can be used to iterate through the numbers, but Python programmers conventionally use i, as in this example:"
      ]
    },
    {
      "cell_type": "code",
      "metadata": {
        "id": "155xJfe3j66B",
        "outputId": "e1984a2b-68a5-4f33-ac32-c2f127762ab1",
        "colab": {
          "base_uri": "https://localhost:8080/",
          "height": 71
        }
      },
      "source": [
        "for i in range(3):\n",
        "  print(\"Hello!\")"
      ],
      "execution_count": 3,
      "outputs": [
        {
          "output_type": "stream",
          "text": [
            "Hello!\n",
            "Hello!\n",
            "Hello!\n"
          ],
          "name": "stdout"
        }
      ]
    },
    {
      "cell_type": "markdown",
      "metadata": {
        "id": "HGACvE4kkDBT"
      },
      "source": [
        "**`range(start=0, stop, step=1)`**\n",
        "\n",
        "The `range()` function takes three integer arguments, the first and third of which are optional:\n",
        "\n",
        "* The 'start' argument is the first number of the sequence. If unspecified, 'start' defaults to 0.\n",
        "* The 'stop' argument is 1 more than the last number of the sequence. This argument must be specified.\n",
        "* The 'step' argument is the difference between each number in the sequence. If unspecified, 'step' defaults to 1.\n",
        "\n",
        "\n",
        "**Notes on using range():**\n",
        "\n",
        "* If you specify one integer inside the parentheses with `range()`, it's used as the value for 'stop,' and the defaults are used for the other two.\n",
        "\n",
        "> e.g. - `range(4)` returns `0, 1, 2, 3`\n",
        "\n",
        "* If you specify two integers inside the parentheses with `range()`, they're used for 'start' and 'stop,' and the default is used for 'step.'\n",
        "\n",
        "> e.g. - `range(2, 6)` returns `2, 3, 4, 5`\n",
        "\n",
        "* Or you can specify all three integers for 'start', 'stop', and 'step.'\n",
        "\n",
        "> e.g. - `range(1, 10, 2)` returns `1, 3, 5, 7, 9`"
      ]
    },
    {
      "cell_type": "markdown",
      "metadata": {
        "id": "AKGLJd3WmQ9Y"
      },
      "source": [
        "**Creating and Modifying Lists**\n",
        "\n",
        "We can also create and modify lists with `for` loops. We can create a list by appending to a new list at each iteration of the `for` loop like this:"
      ]
    },
    {
      "cell_type": "code",
      "metadata": {
        "id": "FWxtO1FcmaRp",
        "outputId": "56885492-2f37-47c7-ff3e-d2398c18cf78",
        "colab": {
          "base_uri": "https://localhost:8080/",
          "height": 35
        }
      },
      "source": [
        "cities = ['new york city', 'mountain view', 'chicago', 'los angeles']\n",
        "capitalized_cities = []\n",
        "\n",
        "for city in cities:\n",
        "  capitalized_cities.append(city.title())\n",
        "\n",
        "print(capitalized_cities)"
      ],
      "execution_count": 4,
      "outputs": [
        {
          "output_type": "stream",
          "text": [
            "['New York City', 'Mountain View', 'Chicago', 'Los Angeles']\n"
          ],
          "name": "stdout"
        }
      ]
    },
    {
      "cell_type": "markdown",
      "metadata": {
        "id": "AKOCrh_Wm5Dy"
      },
      "source": [
        "**Modifying** a list is a bit more involved, and requires the use of the `range()` function.\n",
        "\n",
        "We can use the `range()` function to generate the indices for each value in the `cities` list. This lets us access the elements of the list with `cities[index]` so that we can modify the values in the `cities` list in place."
      ]
    },
    {
      "cell_type": "code",
      "metadata": {
        "id": "aF1lyD0om4ib",
        "outputId": "13854117-00be-4a1e-c749-9331f41a77dd",
        "colab": {
          "base_uri": "https://localhost:8080/",
          "height": 35
        }
      },
      "source": [
        "cities = ['new york city', 'mountain view', 'chicago', 'los angeles']\n",
        "\n",
        "for i in range(len(cities)):\n",
        "  cities[i] = cities[i].title()\n",
        "\n",
        "print(cities)"
      ],
      "execution_count": 5,
      "outputs": [
        {
          "output_type": "stream",
          "text": [
            "['New York City', 'Mountain View', 'Chicago', 'Los Angeles']\n"
          ],
          "name": "stdout"
        }
      ]
    },
    {
      "cell_type": "markdown",
      "metadata": {
        "id": "LjYfWBRprkXE"
      },
      "source": [
        "# Building Dictionaries\n"
      ]
    },
    {
      "cell_type": "markdown",
      "metadata": {
        "id": "wtJiA718rmPx"
      },
      "source": [
        "We are familiar with two important concepts: \n",
        "1. counting with for loops, and \n",
        "2. the dictionary get method. \n",
        "\n",
        "These two can actually be combined to create a useful counter dictionary. For example, we can create a dictionary, `word_counter`, that keeps track of the total count of each word in a string.\n",
        "\n",
        "The following are a couple of ways to do it:\n",
        "\n",
        "**Method 1: Using a `for` loop to create a set of counters**\n",
        "\n",
        "Let's start with a list containing the words in a series of book titles:"
      ]
    },
    {
      "cell_type": "code",
      "metadata": {
        "id": "rBx6EX37r_y2",
        "outputId": "5efbd887-0d11-4453-fe05-7c0923bff0d8",
        "colab": {
          "base_uri": "https://localhost:8080/",
          "height": 91
        }
      },
      "source": [
        "book_title =  ['great', 'expectations','the', 'adventures', 'of', 'sherlock','holmes','the','great','gasby','hamlet','adventures','of','huckleberry','fin']\n",
        "\n",
        "word_counter = {}\n",
        "for word in book_title:\n",
        "  if word not in word_counter:\n",
        "    word_counter[word] = 1\n",
        "  else:\n",
        "    word_counter[word] += 1\n",
        "\n",
        "print(word_counter) \n",
        "\n",
        "# To print the key with the maximum value in the dictionary \n",
        "print(max(word_counter, key = word_counter.get))\n",
        "\n",
        "# To print the key with the maximum value in the sorted dictionary \n",
        "print(max(sorted(word_counter), key = word_counter.get))"
      ],
      "execution_count": 6,
      "outputs": [
        {
          "output_type": "stream",
          "text": [
            "{'great': 2, 'expectations': 1, 'the': 2, 'adventures': 2, 'of': 2, 'sherlock': 1, 'holmes': 1, 'gasby': 1, 'hamlet': 1, 'huckleberry': 1, 'fin': 1}\n",
            "great\n",
            "adventures\n"
          ],
          "name": "stdout"
        }
      ]
    },
    {
      "cell_type": "markdown",
      "metadata": {
        "id": "PrbX9-hWr_Wc"
      },
      "source": [
        "**Method 2: Using the `get` method**\n",
        "\n",
        "We will use the same list for this example:\n"
      ]
    },
    {
      "cell_type": "code",
      "metadata": {
        "id": "igIaG2Bhs4F8"
      },
      "source": [
        "book_title =  ['great', 'expectations','the', 'adventures', 'of', 'sherlock','holmes','the','great','gasby','hamlet','adventures','of','huckleberry','fin']"
      ],
      "execution_count": 7,
      "outputs": []
    },
    {
      "cell_type": "markdown",
      "metadata": {
        "id": "TBkgQI87tAkw"
      },
      "source": [
        "**Step 1**: Create an empty dictionary.\n",
        "\n"
      ]
    },
    {
      "cell_type": "code",
      "metadata": {
        "id": "8afbVBOXtgD5"
      },
      "source": [
        "get_word_counter = {}"
      ],
      "execution_count": 8,
      "outputs": []
    },
    {
      "cell_type": "markdown",
      "metadata": {
        "id": "oRJtR-Zktinv"
      },
      "source": [
        "**Step 2. Iterate through each element, `get()` its value in the dictionary, and add 1.**\n",
        "\n",
        "Recall that the dictionary `get` method is another way to retrieve the value of a key in a dictionary. Except unlike indexing, this will return a default value if the key is not found. If unspecified, this default value is set to None. We can use get with a default value of 0 to simplify the code from the first method above."
      ]
    },
    {
      "cell_type": "code",
      "metadata": {
        "id": "3oaQd1VYtuCy",
        "outputId": "8d5c11b9-cc44-4dc0-e7a3-0701d24fa74c",
        "colab": {
          "base_uri": "https://localhost:8080/",
          "height": 55
        }
      },
      "source": [
        "for word in book_title:\n",
        "    get_word_counter[word] = get_word_counter.get(word, 0) + 1\n",
        "\n",
        "print(get_word_counter)"
      ],
      "execution_count": 9,
      "outputs": [
        {
          "output_type": "stream",
          "text": [
            "{'great': 2, 'expectations': 1, 'the': 2, 'adventures': 2, 'of': 2, 'sherlock': 1, 'holmes': 1, 'gasby': 1, 'hamlet': 1, 'huckleberry': 1, 'fin': 1}\n"
          ],
          "name": "stdout"
        }
      ]
    },
    {
      "cell_type": "markdown",
      "metadata": {
        "id": "VOfqW-NAu1Oo"
      },
      "source": [
        "# Iterating Through Dictionaries with For Loops\n"
      ]
    },
    {
      "cell_type": "markdown",
      "metadata": {
        "id": "-uOYLrnkvgcn"
      },
      "source": [
        "When you iterate through a dictionary using a `for` loop, doing it the normal way (`for n in some_dict`) will only give you access to the keys in the dictionary. In some cases, you'd want to iterate through both the keys and values in the dictionary. Let's see how this is done in an example. Consider this dictionary that uses names of actors as keys and their characters as values."
      ]
    },
    {
      "cell_type": "code",
      "metadata": {
        "id": "1YcfbD_evxhY",
        "outputId": "1b71bba4-92a6-49e7-a9e9-525a620a5f4e",
        "colab": {
          "base_uri": "https://localhost:8080/",
          "height": 89
        }
      },
      "source": [
        "cast = {\n",
        "           \"Jerry Seinfeld\": \"Jerry Seinfeld\",\n",
        "           \"Julia Louis-Dreyfus\": \"Elaine Benes\",\n",
        "           \"Jason Alexander\": \"George Costanza\",\n",
        "           \"Michael Richards\": \"Cosmo Kramer\"\n",
        "       }\n",
        "\n",
        "for key in cast:\n",
        "  print(key)"
      ],
      "execution_count": 10,
      "outputs": [
        {
          "output_type": "stream",
          "text": [
            "Jerry Seinfeld\n",
            "Julia Louis-Dreyfus\n",
            "Jason Alexander\n",
            "Michael Richards\n"
          ],
          "name": "stdout"
        }
      ]
    },
    {
      "cell_type": "markdown",
      "metadata": {
        "id": "R8uLVBC5v8cB"
      },
      "source": [
        "If you wish to iterate through both keys and values, you can use the built-in method `items` like this:"
      ]
    },
    {
      "cell_type": "code",
      "metadata": {
        "id": "pn8rf6ZMv3Jb",
        "outputId": "6e869f2f-dfd2-40b0-bd6d-cbadd8bdf9b3",
        "colab": {
          "base_uri": "https://localhost:8080/",
          "height": 89
        }
      },
      "source": [
        "cast = {\n",
        "           \"Jerry Seinfeld\": \"Jerry Seinfeld\",\n",
        "           \"Julia Louis-Dreyfus\": \"Elaine Benes\",\n",
        "           \"Jason Alexander\": \"George Costanza\",\n",
        "           \"Michael Richards\": \"Cosmo Kramer\"\n",
        "       }\n",
        "\n",
        "for key, value in cast.items():\n",
        "  print(\"Actor: {}, Role: {}\".format(key, value))"
      ],
      "execution_count": 11,
      "outputs": [
        {
          "output_type": "stream",
          "text": [
            "Actor: Jerry Seinfeld, Role: Jerry Seinfeld\n",
            "Actor: Julia Louis-Dreyfus, Role: Elaine Benes\n",
            "Actor: Jason Alexander, Role: George Costanza\n",
            "Actor: Michael Richards, Role: Cosmo Kramer\n"
          ],
          "name": "stdout"
        }
      ]
    },
    {
      "cell_type": "markdown",
      "metadata": {
        "id": "zd9FLAQXwthV"
      },
      "source": [
        "# While Loops\n"
      ]
    },
    {
      "cell_type": "markdown",
      "metadata": {
        "id": "E3GDewxRyDfS"
      },
      "source": [
        "**`While` Loops**\n",
        "\n",
        "`For` loops are an example of \"definite iteration\" meaning that the loop's body is run a predefined number of times. This differs from \"indefinite iteration\" which is when a loop repeats an unknown number of times and ends when some condition is met, which is what happens in a `while` loop. Here's an example of a `while` loop."
      ]
    },
    {
      "cell_type": "code",
      "metadata": {
        "id": "4HLox2odyOvU",
        "outputId": "b0d915fd-5c9b-4606-8796-a85bf0e0e107",
        "colab": {
          "base_uri": "https://localhost:8080/",
          "height": 35
        }
      },
      "source": [
        "card_deck = [4, 11, 8, 5, 13, 2, 8, 10]\n",
        "hand = []\n",
        "\n",
        "# adds the last element of the card_deck list to the hand list\n",
        "# until the values in hand add up to 17 or more\n",
        "while sum(hand)  < 17:\n",
        "    hand.append(card_deck.pop())\n",
        "\n",
        "print(hand)"
      ],
      "execution_count": 12,
      "outputs": [
        {
          "output_type": "stream",
          "text": [
            "[10, 8]\n"
          ],
          "name": "stdout"
        }
      ]
    },
    {
      "cell_type": "markdown",
      "metadata": {
        "id": "p8A4bKCMyokj"
      },
      "source": [
        "This example features two new functions. `sum` returns the sum of the elements in a list, and `pop` is a list method that removes the last element from a list and returns it.\n",
        "\n",
        "The indented body of the loop should modify at least one variable in the test condition. **If the value of the test condition never changes, the result is an infinite loop!**"
      ]
    },
    {
      "cell_type": "markdown",
      "metadata": {
        "id": "kFt93qy1zhuA"
      },
      "source": [
        "# For Loops vs. While Loops"
      ]
    },
    {
      "cell_type": "markdown",
      "metadata": {
        "id": "k_tizZYTzkS1"
      },
      "source": [
        "**For Loops Vs. While Loops**\n",
        "\n",
        "`for` loops are ideal when the number of iterations is known or finite.\n",
        "\n",
        "**Examples**:\n",
        "\n",
        "* When you have an iterable collection (list, string, set, tuple, dictionary)\n",
        "  * `for name in names:`\n",
        "* When you want to iterate through a loop for a definite number of times, using `range()`\n",
        "  * `for i in range(5):`\n",
        "\n",
        "`while` loops are ideal when the iterations need to continue until a condition is met.\n",
        "\n",
        "**Examples**:\n",
        "\n",
        "* When you want to use comparison operators\n",
        "  * `while count <= 100:`\n",
        "* When you want to loop based on receiving specific user input.\n",
        "  * `while user_input == 'y':`\n",
        "\n",
        "Relevant resources:\n",
        "\n",
        "* StackOverflow [discussion](https://stackoverflow.com/questions/920645/when-to-use-while-or-for-in-python).\n",
        "* Wiki page on [Python.org](https://wiki.python.org/moin/WhileLoop)"
      ]
    },
    {
      "cell_type": "markdown",
      "metadata": {
        "id": "wC4WBZq71PTD"
      },
      "source": [
        "# Break, Continue"
      ]
    },
    {
      "cell_type": "markdown",
      "metadata": {
        "id": "05e4leYs1Spr"
      },
      "source": [
        "Sometimes we need more control over when a loop should end, or skip an iteration. In these cases, we use the `break` and `continue` keywords, which can be used in both `for` and `while` loops.\n",
        "\n",
        "* `break` terminates a loop\n",
        "* `continue` skips one iteration of a loop"
      ]
    },
    {
      "cell_type": "markdown",
      "metadata": {
        "id": "yNh017zN2qoc"
      },
      "source": [
        "# Zip and Enumerate\n"
      ]
    },
    {
      "cell_type": "markdown",
      "metadata": {
        "id": "wEypVjY12uX3"
      },
      "source": [
        "`zip` and `enumerate` are useful built-in functions that can come in handy when dealing with loops.\n",
        "\n",
        "**Zip**\n",
        "\n",
        "`zip` returns an iterator that combines multiple iterables into one sequence of tuples. Each tuple contains the elements in that position from all the iterables. For example, printing\n",
        "\n",
        "`list(zip(['a', 'b', 'c'], [1, 2, 3]))` would output `[('a', 1), ('b', 2), ('c', 3)]`.\n",
        "\n",
        "Like we did for `range()` we need to convert it to a list or iterate through it with a loop to see the elements.\n",
        "\n",
        "You could unpack each tuple in a `for` loop like this.\n"
      ]
    },
    {
      "cell_type": "code",
      "metadata": {
        "id": "g4l0c9jO3CG0",
        "outputId": "1707abee-8e1f-4898-f0eb-db19ec586cfe",
        "colab": {
          "base_uri": "https://localhost:8080/",
          "height": 71
        }
      },
      "source": [
        "letters = ['a', 'b', 'c']\n",
        "nums = [1, 2, 3]\n",
        "\n",
        "for letter, num in zip(letters, nums):\n",
        "  print(\"{}: {}\".format(letter, num))"
      ],
      "execution_count": 13,
      "outputs": [
        {
          "output_type": "stream",
          "text": [
            "a: 1\n",
            "b: 2\n",
            "c: 3\n"
          ],
          "name": "stdout"
        }
      ]
    },
    {
      "cell_type": "markdown",
      "metadata": {
        "id": "Ha5S8wpT3ZO3"
      },
      "source": [
        "In addition to zipping two lists together, we can also unzip a list into tuples using an asterisk."
      ]
    },
    {
      "cell_type": "code",
      "metadata": {
        "id": "4X1tSt8k3cTi",
        "outputId": "100655c8-3e4b-4b4d-9ea0-210bebb40c71",
        "colab": {
          "base_uri": "https://localhost:8080/",
          "height": 53
        }
      },
      "source": [
        "some_list = [('a', 1), ('b', 2), ('c', 3)]\n",
        "letters, nums = zip(*some_list)\n",
        "\n",
        "print(letters)\n",
        "print(nums)"
      ],
      "execution_count": 14,
      "outputs": [
        {
          "output_type": "stream",
          "text": [
            "('a', 'b', 'c')\n",
            "(1, 2, 3)\n"
          ],
          "name": "stdout"
        }
      ]
    },
    {
      "cell_type": "markdown",
      "metadata": {
        "id": "pLiA-MGX3ryv"
      },
      "source": [
        "**Enumerate**\n",
        "\n",
        "`enumerate` is a built in function that returns an iterator of tuples containing indices and values of a list. We'll often use this when we want the index along with each element of an iterable in a loop."
      ]
    },
    {
      "cell_type": "code",
      "metadata": {
        "id": "ayNJw2tO30hv",
        "outputId": "9ada706f-0268-4078-9325-b877b94aec40",
        "colab": {
          "base_uri": "https://localhost:8080/",
          "height": 107
        }
      },
      "source": [
        "letters = ['a', 'b', 'c', 'd', 'e']\n",
        "for i, letter in enumerate(letters):\n",
        "    print(i, letter)"
      ],
      "execution_count": 15,
      "outputs": [
        {
          "output_type": "stream",
          "text": [
            "0 a\n",
            "1 b\n",
            "2 c\n",
            "3 d\n",
            "4 e\n"
          ],
          "name": "stdout"
        }
      ]
    },
    {
      "cell_type": "markdown",
      "metadata": {
        "id": "dwVU5LiX41M4"
      },
      "source": [
        "# List Comprehensions"
      ]
    },
    {
      "cell_type": "markdown",
      "metadata": {
        "id": "LSkHwTUZ44uM"
      },
      "source": [
        "List Comprehensions\n",
        "In Python, we can create lists really quickly and concisely with list comprehensions. This example from earlier:"
      ]
    },
    {
      "cell_type": "code",
      "metadata": {
        "id": "cg-nayVY485t"
      },
      "source": [
        "capitalized_cities = []\n",
        "for city in cities:\n",
        "    capitalized_cities.append(city.title())"
      ],
      "execution_count": 16,
      "outputs": []
    },
    {
      "cell_type": "markdown",
      "metadata": {
        "id": "Tw9DpCk65Be1"
      },
      "source": [
        "can be reduced to: "
      ]
    },
    {
      "cell_type": "code",
      "metadata": {
        "id": "jZXhHS3r5Ebl"
      },
      "source": [
        "capitalized_cities = [city.title() for city in cities]"
      ],
      "execution_count": 17,
      "outputs": []
    },
    {
      "cell_type": "markdown",
      "metadata": {
        "id": "rPnzQuUz5Rm-"
      },
      "source": [
        "List comprehensions allow us to create a list using a `for` loop in one step.\n",
        "\n",
        "You create a list comprehension with brackets `[]`, including an expression to evaluate for each element in an iterable. This list comprehension above calls `city.title()` for each element `city` in `cities`, to create each element in the new list, `capitalized_cities`."
      ]
    },
    {
      "cell_type": "markdown",
      "metadata": {
        "id": "oWcuCpsL5d0d"
      },
      "source": [
        "**Conditionals in List Comprehensions**\n",
        "\n",
        "We can also add conditionals to list comprehensions (listcomps). After the iterable, we can use the `if` keyword to check a condition in each iteration."
      ]
    },
    {
      "cell_type": "code",
      "metadata": {
        "id": "X682QB8i5mqA",
        "outputId": "77e308bb-8170-4521-9e69-99983305a80d",
        "colab": {
          "base_uri": "https://localhost:8080/",
          "height": 35
        }
      },
      "source": [
        "squares = [x**2 for x in range(9) if x % 2 == 0]\n",
        "print(squares)"
      ],
      "execution_count": 18,
      "outputs": [
        {
          "output_type": "stream",
          "text": [
            "[0, 4, 16, 36, 64]\n"
          ],
          "name": "stdout"
        }
      ]
    },
    {
      "cell_type": "markdown",
      "metadata": {
        "id": "HvaGCvEE5wWx"
      },
      "source": [
        "The code above sets `squares` equal to the list `[0, 4, 16, 36, 64]`, as x to the power of 2 is only evaluated if x is even. If we want to add an `else`, we will get a syntax error doing this."
      ]
    },
    {
      "cell_type": "code",
      "metadata": {
        "id": "EDP6NL_d5264",
        "outputId": "4c8294c9-39fc-4ffb-ab0a-84971c41ac92",
        "colab": {
          "base_uri": "https://localhost:8080/",
          "height": 136
        }
      },
      "source": [
        "squares = [x**2 for x in range(9) if x % 2 == 0 else x + 3]"
      ],
      "execution_count": 19,
      "outputs": [
        {
          "output_type": "error",
          "ename": "SyntaxError",
          "evalue": "ignored",
          "traceback": [
            "\u001b[0;36m  File \u001b[0;32m\"<ipython-input-19-0d53fcb29c35>\"\u001b[0;36m, line \u001b[0;32m1\u001b[0m\n\u001b[0;31m    squares = [x**2 for x in range(9) if x % 2 == 0 else x + 3]\u001b[0m\n\u001b[0m                                                       ^\u001b[0m\n\u001b[0;31mSyntaxError\u001b[0m\u001b[0;31m:\u001b[0m invalid syntax\n"
          ]
        }
      ]
    },
    {
      "cell_type": "markdown",
      "metadata": {
        "id": "OSzpvEMN587X"
      },
      "source": [
        "If we would like to add `else`, we have to move the conditionals to the beginning of the listcomp, right after the expression, like this."
      ]
    },
    {
      "cell_type": "code",
      "metadata": {
        "id": "HmLG_sOi6BtZ",
        "outputId": "09b03d81-c061-448d-d906-960ff01c3662",
        "colab": {
          "base_uri": "https://localhost:8080/",
          "height": 35
        }
      },
      "source": [
        "squares = [x**2 if x % 2 == 0 else x + 3 for x in range(9)]\n",
        "print(squares)"
      ],
      "execution_count": 20,
      "outputs": [
        {
          "output_type": "stream",
          "text": [
            "[0, 4, 4, 6, 16, 8, 36, 10, 64]\n"
          ],
          "name": "stdout"
        }
      ]
    },
    {
      "cell_type": "markdown",
      "metadata": {
        "id": "CWu2dpmk6Opv"
      },
      "source": [
        "List comprehensions are not found in other languages, but are very common in Python."
      ]
    }
  ]
}