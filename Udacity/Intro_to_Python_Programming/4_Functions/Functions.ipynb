{
  "nbformat": 4,
  "nbformat_minor": 0,
  "metadata": {
    "colab": {
      "name": "Functions.ipynb",
      "provenance": [],
      "collapsed_sections": []
    },
    "kernelspec": {
      "name": "python3",
      "display_name": "Python 3"
    }
  },
  "cells": [
    {
      "cell_type": "markdown",
      "metadata": {
        "id": "yzRvr0uocCaC",
        "colab_type": "text"
      },
      "source": [
        "* Defining Functions\n",
        "* Variable Scope\n",
        "* Documentation\n",
        "* Lambda Expressions\n",
        "* Iterators and Generators"
      ]
    },
    {
      "cell_type": "markdown",
      "metadata": {
        "id": "xcyu1cXxdKS6",
        "colab_type": "text"
      },
      "source": [
        "# Defining Functions\n"
      ]
    },
    {
      "cell_type": "markdown",
      "metadata": {
        "id": "V9rsdNnTdMzR",
        "colab_type": "text"
      },
      "source": [
        "Example of a function definition:"
      ]
    },
    {
      "cell_type": "code",
      "metadata": {
        "id": "P2XnqJV2aX6v",
        "colab_type": "code",
        "colab": {}
      },
      "source": [
        "def cylinder_volume(height, radius):\n",
        "    pi = 3.14159\n",
        "    return height * pi * radius ** 2"
      ],
      "execution_count": 1,
      "outputs": []
    },
    {
      "cell_type": "markdown",
      "metadata": {
        "id": "k9d1A3JYdTqp",
        "colab_type": "text"
      },
      "source": [
        "After defining the cylinder_volume function, we can call the function like this."
      ]
    },
    {
      "cell_type": "code",
      "metadata": {
        "id": "gzeT5NJUdTLo",
        "colab_type": "code",
        "colab": {
          "base_uri": "https://localhost:8080/",
          "height": 35
        },
        "outputId": "9ce4cde6-c1bc-4cd2-fc9d-e7b30ad56655"
      },
      "source": [
        "cylinder_volume(10, 3)"
      ],
      "execution_count": 2,
      "outputs": [
        {
          "output_type": "execute_result",
          "data": {
            "text/plain": [
              "282.7431"
            ]
          },
          "metadata": {
            "tags": []
          },
          "execution_count": 2
        }
      ]
    },
    {
      "cell_type": "markdown",
      "metadata": {
        "id": "oc-3Oeffdltq",
        "colab_type": "text"
      },
      "source": [
        "**Naming Conventions for Functions**\n",
        "\n",
        "Function names follow the same naming conventions as variables.\n",
        "\n",
        "1. Only use ordinary letters, numbers and underscores in your function names. They can’t have spaces, and need to start with a letter or underscore.\n",
        "\n",
        "2. **You can’t use reserved words or built-in identifiers** that have important purposes in Python. A list of Python reserved words is described [here](https://pentangle.net/python/handbook/node52.html).\n",
        "\n",
        "3. Try to use descriptive names that can help readers understand what the function does.\n",
        "\n",
        "Please note that `print` provides output to the console while `return` provides the value that you can store and work with and code later.  "
      ]
    },
    {
      "cell_type": "markdown",
      "metadata": {
        "id": "TPnACz3XfU-b",
        "colab_type": "text"
      },
      "source": [
        "# Default Arguments"
      ]
    },
    {
      "cell_type": "markdown",
      "metadata": {
        "id": "2YHOdj6MfiZe",
        "colab_type": "text"
      },
      "source": [
        "We can add default arguments in a function to have default values for parameters that are unspecified in a function call."
      ]
    },
    {
      "cell_type": "code",
      "metadata": {
        "id": "heUKCKdMfoOt",
        "colab_type": "code",
        "colab": {}
      },
      "source": [
        "def cylinder_volume(height, radius=5):\n",
        "    pi = 3.14159\n",
        "    return height * pi * radius ** 2"
      ],
      "execution_count": 3,
      "outputs": []
    },
    {
      "cell_type": "markdown",
      "metadata": {
        "id": "YYKdWEB5fpvl",
        "colab_type": "text"
      },
      "source": [
        "In the example above, `radius` is set to 5 if that parameter is omitted in a function call. If we call `cylinder_volume(10)`, the function will use 10 as the height and 5 as the radius. However, if we call `cylinder_volume(10, 7)` the 7 will simply overwrite the default value of 5.\n",
        "\n",
        "Also notice here we are passing values to our arguments by position. It is possible to pass values in two ways - **by position** and **by name**. Each of these function calls are evaluated the same way."
      ]
    },
    {
      "cell_type": "code",
      "metadata": {
        "id": "IFXvmeTpgF-8",
        "colab_type": "code",
        "colab": {
          "base_uri": "https://localhost:8080/",
          "height": 35
        },
        "outputId": "f88a4e20-d2a8-40c6-866b-b0940b44f560"
      },
      "source": [
        "cylinder_volume(10, 7)  # pass in arguments by position\n",
        "cylinder_volume(radius = 7, height = 10)  # pass in arguments by name"
      ],
      "execution_count": 4,
      "outputs": [
        {
          "output_type": "execute_result",
          "data": {
            "text/plain": [
              "1539.3791"
            ]
          },
          "metadata": {
            "tags": []
          },
          "execution_count": 4
        }
      ]
    },
    {
      "cell_type": "markdown",
      "metadata": {
        "id": "lBCXLijchKDm",
        "colab_type": "text"
      },
      "source": [
        "# Variable Scope"
      ]
    },
    {
      "cell_type": "markdown",
      "metadata": {
        "id": "6pbrnLm1hIP3",
        "colab_type": "text"
      },
      "source": [
        "**Variable scope** refers to which parts of a program a variable can be referenced, or used, from.\n",
        "\n",
        "It's important to consider scope when using variables in functions. If a variable is created inside a function, it can only be used within that function. Accessing it outside that function is not possible."
      ]
    },
    {
      "cell_type": "code",
      "metadata": {
        "id": "1queypLlhWGO",
        "colab_type": "code",
        "colab": {
          "base_uri": "https://localhost:8080/",
          "height": 208
        },
        "outputId": "096c502b-f0f2-411a-d87e-59cafbdff019"
      },
      "source": [
        "# This will result in an error\n",
        "def some_function():\n",
        "    word = \"hello\"\n",
        "\n",
        "print(word)"
      ],
      "execution_count": 5,
      "outputs": [
        {
          "output_type": "error",
          "ename": "NameError",
          "evalue": "ignored",
          "traceback": [
            "\u001b[0;31m---------------------------------------------------------------------------\u001b[0m",
            "\u001b[0;31mNameError\u001b[0m                                 Traceback (most recent call last)",
            "\u001b[0;32m<ipython-input-5-0ddf329b8322>\u001b[0m in \u001b[0;36m<module>\u001b[0;34m()\u001b[0m\n\u001b[1;32m      3\u001b[0m     \u001b[0mword\u001b[0m \u001b[0;34m=\u001b[0m \u001b[0;34m\"hello\"\u001b[0m\u001b[0;34m\u001b[0m\u001b[0;34m\u001b[0m\u001b[0m\n\u001b[1;32m      4\u001b[0m \u001b[0;34m\u001b[0m\u001b[0m\n\u001b[0;32m----> 5\u001b[0;31m \u001b[0mprint\u001b[0m\u001b[0;34m(\u001b[0m\u001b[0mword\u001b[0m\u001b[0;34m)\u001b[0m\u001b[0;34m\u001b[0m\u001b[0;34m\u001b[0m\u001b[0m\n\u001b[0m",
            "\u001b[0;31mNameError\u001b[0m: name 'word' is not defined"
          ]
        }
      ]
    },
    {
      "cell_type": "markdown",
      "metadata": {
        "id": "ZrYN2kPDhY7u",
        "colab_type": "text"
      },
      "source": [
        "In the example above and the example below, `word` is said to have scope that is only local to each function. This means we can use the same name for different variables that are used in different functions."
      ]
    },
    {
      "cell_type": "code",
      "metadata": {
        "id": "b5Wr945QhiKs",
        "colab_type": "code",
        "colab": {}
      },
      "source": [
        "# This works fine\n",
        "def some_function():\n",
        "    word = \"hello\"\n",
        "\n",
        "def another_function():\n",
        "    word = \"goodbye\""
      ],
      "execution_count": 6,
      "outputs": []
    },
    {
      "cell_type": "markdown",
      "metadata": {
        "id": "yOGR-SPLhjd2",
        "colab_type": "text"
      },
      "source": [
        "Variables defined outside functions, as in the example below, can still be accessed within a function. Here, `word` is said to have a global scope."
      ]
    },
    {
      "cell_type": "code",
      "metadata": {
        "id": "yO02kP8tho-7",
        "colab_type": "code",
        "colab": {
          "base_uri": "https://localhost:8080/",
          "height": 35
        },
        "outputId": "84eea026-a9ef-4142-c26b-28ab5c8651d4"
      },
      "source": [
        "# This works fine\n",
        "word = \"hello\"\n",
        "\n",
        "def some_function():\n",
        "    print(word)\n",
        "\n",
        "some_function()"
      ],
      "execution_count": 7,
      "outputs": [
        {
          "output_type": "stream",
          "text": [
            "hello\n"
          ],
          "name": "stdout"
        }
      ]
    },
    {
      "cell_type": "markdown",
      "metadata": {
        "id": "xR53HvYmh4Md",
        "colab_type": "text"
      },
      "source": [
        "Notice that we can still access the value of the global variable `word` within this function. However, the value of a global variable can not be **modified** inside the function. If you want to modify that variable's value inside this function, it should be passed in as an argument. \n",
        "\n",
        "Scope is essential to understanding how information is passed throughout programs in Python and really any programming language."
      ]
    },
    {
      "cell_type": "code",
      "metadata": {
        "id": "nE96vsSWipcu",
        "colab_type": "code",
        "colab": {
          "base_uri": "https://localhost:8080/",
          "height": 334
        },
        "outputId": "8c06f2e4-78b4-46d7-b68f-1a0611eac62f"
      },
      "source": [
        "egg_count = 0\n",
        "\n",
        "def buy_eggs():\n",
        "    egg_count += 12 # purchase a dozen eggs\n",
        "\n",
        "buy_eggs()"
      ],
      "execution_count": 8,
      "outputs": [
        {
          "output_type": "error",
          "ename": "UnboundLocalError",
          "evalue": "ignored",
          "traceback": [
            "\u001b[0;31m---------------------------------------------------------------------------\u001b[0m",
            "\u001b[0;31mUnboundLocalError\u001b[0m                         Traceback (most recent call last)",
            "\u001b[0;32m<ipython-input-8-32dca0f4d031>\u001b[0m in \u001b[0;36m<module>\u001b[0;34m()\u001b[0m\n\u001b[1;32m      4\u001b[0m     \u001b[0megg_count\u001b[0m \u001b[0;34m+=\u001b[0m \u001b[0;36m12\u001b[0m \u001b[0;31m# purchase a dozen eggs\u001b[0m\u001b[0;34m\u001b[0m\u001b[0;34m\u001b[0m\u001b[0m\n\u001b[1;32m      5\u001b[0m \u001b[0;34m\u001b[0m\u001b[0m\n\u001b[0;32m----> 6\u001b[0;31m \u001b[0mbuy_eggs\u001b[0m\u001b[0;34m(\u001b[0m\u001b[0;34m)\u001b[0m\u001b[0;34m\u001b[0m\u001b[0;34m\u001b[0m\u001b[0m\n\u001b[0m",
            "\u001b[0;32m<ipython-input-8-32dca0f4d031>\u001b[0m in \u001b[0;36mbuy_eggs\u001b[0;34m()\u001b[0m\n\u001b[1;32m      2\u001b[0m \u001b[0;34m\u001b[0m\u001b[0m\n\u001b[1;32m      3\u001b[0m \u001b[0;32mdef\u001b[0m \u001b[0mbuy_eggs\u001b[0m\u001b[0;34m(\u001b[0m\u001b[0;34m)\u001b[0m\u001b[0;34m:\u001b[0m\u001b[0;34m\u001b[0m\u001b[0;34m\u001b[0m\u001b[0m\n\u001b[0;32m----> 4\u001b[0;31m     \u001b[0megg_count\u001b[0m \u001b[0;34m+=\u001b[0m \u001b[0;36m12\u001b[0m \u001b[0;31m# purchase a dozen eggs\u001b[0m\u001b[0;34m\u001b[0m\u001b[0;34m\u001b[0m\u001b[0m\n\u001b[0m\u001b[1;32m      5\u001b[0m \u001b[0;34m\u001b[0m\u001b[0m\n\u001b[1;32m      6\u001b[0m \u001b[0mbuy_eggs\u001b[0m\u001b[0;34m(\u001b[0m\u001b[0;34m)\u001b[0m\u001b[0;34m\u001b[0m\u001b[0;34m\u001b[0m\u001b[0m\n",
            "\u001b[0;31mUnboundLocalError\u001b[0m: local variable 'egg_count' referenced before assignment"
          ]
        }
      ]
    },
    {
      "cell_type": "markdown",
      "metadata": {
        "id": "OTO1OLhOithX",
        "colab_type": "text"
      },
      "source": [
        "The code given above causes an `UnboundLocalError`, since Python doesn't allow functions to modify variables that are outside the function's scope. A better way would be to pass the variable as an argument and reassign it outside the function. "
      ]
    },
    {
      "cell_type": "markdown",
      "metadata": {
        "id": "pM78WQvfjAFf",
        "colab_type": "text"
      },
      "source": [
        "Within a function, we can print a global variable's value successfully without an error. This worked because we were simply accessing the value of the variable. If we try to **change** or **reassign** this global variable, however, as we do in the code given above, we get an error. Python doesn't allow functions to modify variables that aren't in the function's scope.\n",
        "\n",
        "A better way to write this would be:"
      ]
    },
    {
      "cell_type": "code",
      "metadata": {
        "id": "8ulUHr5ejJPo",
        "colab_type": "code",
        "colab": {
          "base_uri": "https://localhost:8080/",
          "height": 35
        },
        "outputId": "c21c33c5-56af-4bb1-c830-2054bfbf59fb"
      },
      "source": [
        "egg_count = 0\n",
        "\n",
        "def buy_eggs(count):\n",
        "    return count + 12 # purchase a dozen eggs\n",
        "\n",
        "egg_count = buy_eggs(egg_count)\n",
        "\n",
        "print(egg_count)"
      ],
      "execution_count": 9,
      "outputs": [
        {
          "output_type": "stream",
          "text": [
            "12\n"
          ],
          "name": "stdout"
        }
      ]
    },
    {
      "cell_type": "markdown",
      "metadata": {
        "id": "siw-KQIpkmLX",
        "colab_type": "text"
      },
      "source": [
        "# Documentation"
      ]
    },
    {
      "cell_type": "markdown",
      "metadata": {
        "id": "iRr__0HLkjSj",
        "colab_type": "text"
      },
      "source": [
        "**Documentation** is used to make your code easier to understand and use. Functions are especially readable because they often use **documentation strings**, or **docstrings**. Docstrings are a type of comment used to explain the purpose of a function, and how it should be used. Here's a function for population density with a docstring."
      ]
    },
    {
      "cell_type": "code",
      "metadata": {
        "id": "T8DAy3l-krHq",
        "colab_type": "code",
        "colab": {}
      },
      "source": [
        "def population_density(population, land_area):\n",
        "    \"\"\"Calculate the population density of an area. \"\"\"\n",
        "    return population / land_area"
      ],
      "execution_count": 10,
      "outputs": []
    },
    {
      "cell_type": "markdown",
      "metadata": {
        "id": "Xn-E4Hkskt8V",
        "colab_type": "text"
      },
      "source": [
        "Docstrings are surrounded by triple quotes. The first line of the docstring is a brief explanation of the function's purpose. If you feel that this is sufficient documentation you can end the docstring at this point; single line docstrings are perfectly acceptable, as in the example above."
      ]
    },
    {
      "cell_type": "code",
      "metadata": {
        "id": "kjp9gWQwkypg",
        "colab_type": "code",
        "colab": {}
      },
      "source": [
        "def population_density(population, land_area):\n",
        "    \"\"\"Calculate the population density of an area.\n",
        "\n",
        "    INPUT:\n",
        "    population: int. The population of that area\n",
        "    land_area: int or float. This function is unit-agnostic, if you pass in values in terms\n",
        "    of square km or square miles the function will return a density in those units.\n",
        "\n",
        "    OUTPUT: \n",
        "    population_density: population / land_area. The population density of a particular area.\n",
        "    \"\"\"\n",
        "    return population / land_area"
      ],
      "execution_count": 11,
      "outputs": []
    },
    {
      "cell_type": "markdown",
      "metadata": {
        "id": "d9EKFjQblLCV",
        "colab_type": "text"
      },
      "source": [
        "If you think that a longer description would be appropriate for the function, you can add more information after the one-line summary. In the example above, we can see that we wrote an explanation of the function's arguments, stating the purpose and types of each one. It's also common to provide some description of the function's output.\n",
        "\n",
        "Every piece of the docstring is optional, however, docstrings are a part of good coding practice. You can read more about docstring conventions [here](https://www.python.org/dev/peps/pep-0257)."
      ]
    },
    {
      "cell_type": "markdown",
      "metadata": {
        "id": "woYVslUBl-Oa",
        "colab_type": "text"
      },
      "source": [
        "# Lambda Expressions"
      ]
    },
    {
      "cell_type": "markdown",
      "metadata": {
        "id": "xefmhEuLl6-F",
        "colab_type": "text"
      },
      "source": [
        "You can use **lambda expressions** to create anonymous functions. That is, functions that don’t have a name. They are helpful for creating quick functions that aren’t needed later in your code. This can be especially useful for higher order functions, or functions that take in other functions as arguments.\n",
        "\n",
        "With a lambda expression, this function:"
      ]
    },
    {
      "cell_type": "code",
      "metadata": {
        "id": "ltfvPsRGmDTy",
        "colab_type": "code",
        "colab": {}
      },
      "source": [
        "def multiply(x, y):\n",
        "    return x * y"
      ],
      "execution_count": 12,
      "outputs": []
    },
    {
      "cell_type": "markdown",
      "metadata": {
        "id": "ejfceccWmEUQ",
        "colab_type": "text"
      },
      "source": [
        "can be reduced to:"
      ]
    },
    {
      "cell_type": "code",
      "metadata": {
        "id": "yI5cjzBKmGuN",
        "colab_type": "code",
        "colab": {}
      },
      "source": [
        "multiply = lambda x, y : x * y"
      ],
      "execution_count": 13,
      "outputs": []
    },
    {
      "cell_type": "markdown",
      "metadata": {
        "id": "G8tFf9DLmRc2",
        "colab_type": "text"
      },
      "source": [
        "Both of these functions are used in the same way. In either case, we can call `multiply` like this:"
      ]
    },
    {
      "cell_type": "code",
      "metadata": {
        "id": "5dS2tS-zmTu7",
        "colab_type": "code",
        "colab": {
          "base_uri": "https://localhost:8080/",
          "height": 35
        },
        "outputId": "0e40f75e-f69d-45fe-f299-3cd2ce01883e"
      },
      "source": [
        "multiply(4, 7)"
      ],
      "execution_count": 14,
      "outputs": [
        {
          "output_type": "execute_result",
          "data": {
            "text/plain": [
              "28"
            ]
          },
          "metadata": {
            "tags": []
          },
          "execution_count": 14
        }
      ]
    },
    {
      "cell_type": "markdown",
      "metadata": {
        "id": "4mxDAuT3mYU4",
        "colab_type": "text"
      },
      "source": [
        "**Components of a Lambda Function**\n",
        "\n",
        "1. The `lambda` keyword is used to indicate that this is a lambda expression.\n",
        "\n",
        "2. Following `lambda` are one or more arguments for the anonymous function separated by commas, followed by a colon `:`. Similar to functions, the way the arguments are named in a lambda expression is arbitrary.\n",
        "\n",
        "3. Last is an expression that is evaluated and returned in this function. This is a lot like an expression we might see as a return statement in a function.\n",
        "\n",
        "With this structure, lambda expressions aren’t ideal for complex functions, but can be very useful for short, simple functions."
      ]
    },
    {
      "cell_type": "markdown",
      "metadata": {
        "id": "pkpccz-tnzql",
        "colab_type": "text"
      },
      "source": [
        "**Lambda with Map**\n",
        "\n",
        "`map()` is a higher-order built-in function that takes a function and iterable as inputs, and returns an iterator that applies the function to each element of the iterable. The code below uses `map()` to find the mean of each list in `numbers` to create the list averages. "
      ]
    },
    {
      "cell_type": "code",
      "metadata": {
        "id": "PEtKNxqZn_B5",
        "colab_type": "code",
        "colab": {
          "base_uri": "https://localhost:8080/",
          "height": 35
        },
        "outputId": "73d780b9-ebf8-4aca-b2ea-22050222f178"
      },
      "source": [
        "numbers = [\n",
        "              [34, 63, 88, 71, 29],\n",
        "              [90, 78, 51, 27, 45],\n",
        "              [63, 37, 85, 46, 22],\n",
        "              [51, 22, 34, 11, 18]\n",
        "           ]\n",
        "\n",
        "averages = list(map(lambda x: sum(x)/len(x), numbers))\n",
        "print(averages)"
      ],
      "execution_count": 15,
      "outputs": [
        {
          "output_type": "stream",
          "text": [
            "[57.0, 58.2, 50.6, 27.2]\n"
          ],
          "name": "stdout"
        }
      ]
    },
    {
      "cell_type": "markdown",
      "metadata": {
        "id": "fcMBr90_nRBk",
        "colab_type": "text"
      },
      "source": [
        "**Lambda with Filter**\n",
        "\n",
        "`filter()` is a higher-order built-in function that takes a function and iterable as inputs and returns an iterator with the elements from the iterable for which the function returns True. The code below uses `filter()` to get the names in `cities` that are fewer than 10 characters long to create the list `short_cities`.\n"
      ]
    },
    {
      "cell_type": "code",
      "metadata": {
        "id": "moLSpkTTnhQr",
        "colab_type": "code",
        "colab": {
          "base_uri": "https://localhost:8080/",
          "height": 35
        },
        "outputId": "659d0642-4c6d-494d-c46e-38695e09d61f"
      },
      "source": [
        "cities = [\"New York City\", \"Los Angeles\", \"Chicago\", \"Mountain View\", \"Denver\", \"Boston\"]\n",
        "\n",
        "short_cities = list(filter(lambda city: len(city) < 10, cities))\n",
        "print(short_cities)"
      ],
      "execution_count": 16,
      "outputs": [
        {
          "output_type": "stream",
          "text": [
            "['Chicago', 'Denver', 'Boston']\n"
          ],
          "name": "stdout"
        }
      ]
    }
  ]
}