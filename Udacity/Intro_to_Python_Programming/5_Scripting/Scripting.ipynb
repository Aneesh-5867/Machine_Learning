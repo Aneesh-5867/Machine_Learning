{
  "nbformat": 4,
  "nbformat_minor": 0,
  "metadata": {
    "colab": {
      "name": "Scripting.ipynb",
      "provenance": [],
      "collapsed_sections": []
    },
    "kernelspec": {
      "name": "python3",
      "display_name": "Python 3"
    }
  },
  "cells": [
    {
      "cell_type": "markdown",
      "metadata": {
        "id": "RtmAeM2EVSlB",
        "colab_type": "text"
      },
      "source": [
        "# Scripting with Raw Input\n"
      ]
    },
    {
      "cell_type": "markdown",
      "metadata": {
        "id": "ccY1Yq-4VWIy",
        "colab_type": "text"
      },
      "source": [
        "We can get raw input from the user with the built-in function `input`, which takes in an optional string argument that we can use to specify a message to show to the user when asking for input."
      ]
    },
    {
      "cell_type": "code",
      "metadata": {
        "id": "Vnyo6vV3VK_D",
        "colab_type": "code",
        "colab": {
          "base_uri": "https://localhost:8080/",
          "height": 53
        },
        "outputId": "bf74523d-f6bd-4e8e-b07f-b79bda3d2ba1"
      },
      "source": [
        "name = input(\"Enter your name: \")\n",
        "print(\"Hello there, {}!\".format(name.title()))"
      ],
      "execution_count": 1,
      "outputs": [
        {
          "output_type": "stream",
          "text": [
            "Enter your name: Sudhakar\n",
            "Hello there, Sudhakar!\n"
          ],
          "name": "stdout"
        }
      ]
    },
    {
      "cell_type": "markdown",
      "metadata": {
        "id": "1P1X6mWZVe9C",
        "colab_type": "text"
      },
      "source": [
        "This prompts the user to enter a name and then uses the input in a greeting. The `input` function takes in whatever the user types and stores it as a string. If we want to interpret their input as something other than a string, like an integer, as in the example below, we need to wrap the result with the new type to convert it from a string."
      ]
    },
    {
      "cell_type": "code",
      "metadata": {
        "id": "4m8XAXvcVrcX",
        "colab_type": "code",
        "colab": {
          "base_uri": "https://localhost:8080/",
          "height": 53
        },
        "outputId": "dc2e0e28-8ea5-47e9-c6e1-026ff44e7be5"
      },
      "source": [
        "num = int(input(\"Enter an integer: \"))\n",
        "print(\"hello\" * num)"
      ],
      "execution_count": 2,
      "outputs": [
        {
          "output_type": "stream",
          "text": [
            "Enter an integer: 3\n",
            "hellohellohello\n"
          ],
          "name": "stdout"
        }
      ]
    },
    {
      "cell_type": "markdown",
      "metadata": {
        "id": "5gzmZSIlVvTy",
        "colab_type": "text"
      },
      "source": [
        "We can also interpret user input as a Python expression using the built-in function `eval`. This function evaluates a string as a line of Python."
      ]
    },
    {
      "cell_type": "code",
      "metadata": {
        "id": "OoNHFH0fV1GV",
        "colab_type": "code",
        "colab": {
          "base_uri": "https://localhost:8080/",
          "height": 53
        },
        "outputId": "efe203f2-7450-4b8d-d8d9-62ca369663a8"
      },
      "source": [
        "result = eval(input(\"Enter an expression: \"))\n",
        "print(result)"
      ],
      "execution_count": 3,
      "outputs": [
        {
          "output_type": "stream",
          "text": [
            "Enter an expression: 2*9\n",
            "18\n"
          ],
          "name": "stdout"
        }
      ]
    },
    {
      "cell_type": "markdown",
      "metadata": {
        "id": "KXWIecSkW7m-",
        "colab_type": "text"
      },
      "source": [
        "# Errors and Exceptions\n"
      ]
    },
    {
      "cell_type": "markdown",
      "metadata": {
        "id": "RP5PaalvW9Ww",
        "colab_type": "text"
      },
      "source": [
        "**Errors And Exceptions**\n",
        "\n",
        "* **Syntax errors** occur when Python can’t interpret our code, since we didn’t follow the correct syntax for Python. These are errors you’re likely to get when you make a typo, or you’re first starting to learn Python.\n",
        "\n",
        "* **Exceptions** occur when unexpected things happen during execution of a program, even if the code is syntactically correct. There are different types of built-in exceptions in Python, and you can see which exception is thrown in the error message."
      ]
    },
    {
      "cell_type": "markdown",
      "metadata": {
        "id": "6txFTW37Y4ol",
        "colab_type": "text"
      },
      "source": [
        "# Handling Errors "
      ]
    },
    {
      "cell_type": "markdown",
      "metadata": {
        "id": "Tmq8jCVSY7ee",
        "colab_type": "text"
      },
      "source": [
        "**Try Statement**\n",
        "\n",
        "We can use `try` statements to handle exceptions. There are four clauses you can use.\n",
        "\n",
        "* `try`: This is the only mandatory clause in a `try` statement. The code in this block is the first thing that Python runs in a `try` statement.\n",
        "\n",
        "* `except`: If Python runs into an exception while running the try block, it will jump to the `except` block that handles that exception.\n",
        "\n",
        "* `else`: If Python runs into no exceptions while running the `try` block, it will run the code in this block after running the `try` block.\n",
        "\n",
        "* `finally`: Before Python leaves this `try` statement, it will run the code in this `finally` block under any conditions, even if it's ending the program. E.g., if Python ran into an error while running code in the `except` or `else` block, this `finally` block will still be executed before stopping the program.\n",
        "\n",
        "\n",
        "[Why do we need the `finally` clause in Python?](https://stackoverflow.com/questions/11551996/why-do-we-need-the-finally-clause-in-python) "
      ]
    },
    {
      "cell_type": "code",
      "metadata": {
        "id": "TfYSBNxyZq1f",
        "colab_type": "code",
        "colab": {
          "base_uri": "https://localhost:8080/",
          "height": 190
        },
        "outputId": "8ee7b3ab-8661-48f0-fb76-05fbe2ac0c3c"
      },
      "source": [
        "x = int(input(\"Enter a number: \"))"
      ],
      "execution_count": 4,
      "outputs": [
        {
          "output_type": "stream",
          "text": [
            "Enter a number: ten\n"
          ],
          "name": "stdout"
        },
        {
          "output_type": "error",
          "ename": "ValueError",
          "evalue": "ignored",
          "traceback": [
            "\u001b[0;31m---------------------------------------------------------------------------\u001b[0m",
            "\u001b[0;31mValueError\u001b[0m                                Traceback (most recent call last)",
            "\u001b[0;32m<ipython-input-4-7b8c0f238a1f>\u001b[0m in \u001b[0;36m<module>\u001b[0;34m()\u001b[0m\n\u001b[0;32m----> 1\u001b[0;31m \u001b[0mx\u001b[0m \u001b[0;34m=\u001b[0m \u001b[0mint\u001b[0m\u001b[0;34m(\u001b[0m\u001b[0minput\u001b[0m\u001b[0;34m(\u001b[0m\u001b[0;34m\"Enter a number: \"\u001b[0m\u001b[0;34m)\u001b[0m\u001b[0;34m)\u001b[0m\u001b[0;34m\u001b[0m\u001b[0;34m\u001b[0m\u001b[0m\n\u001b[0m",
            "\u001b[0;31mValueError\u001b[0m: invalid literal for int() with base 10: 'ten'"
          ]
        }
      ]
    },
    {
      "cell_type": "code",
      "metadata": {
        "id": "hHV8vJ3NZ3Fy",
        "colab_type": "code",
        "colab": {
          "base_uri": "https://localhost:8080/",
          "height": 53
        },
        "outputId": "cb631d92-fdaa-4a7f-cb56-29545fd6d574"
      },
      "source": [
        "try:\n",
        "  x = int(input(\"Enter a number: \"))\n",
        "\n",
        "except:\n",
        "  print('That\\'s not a valid number!')"
      ],
      "execution_count": 5,
      "outputs": [
        {
          "output_type": "stream",
          "text": [
            "Enter a number: ten\n",
            "That's not a valid number!\n"
          ],
          "name": "stdout"
        }
      ]
    },
    {
      "cell_type": "code",
      "metadata": {
        "id": "zPxPRvQzahsb",
        "colab_type": "code",
        "colab": {
          "base_uri": "https://localhost:8080/",
          "height": 107
        },
        "outputId": "dc7792dd-bd06-4d79-f74a-e36a7a2b2e4f"
      },
      "source": [
        "while True:\n",
        "  try:\n",
        "    x = int(input(\"Enter a number: \"))\n",
        "    break \n",
        "  \n",
        "  except: \n",
        "    print(\"That's not a valid number!\")"
      ],
      "execution_count": 6,
      "outputs": [
        {
          "output_type": "stream",
          "text": [
            "Enter a number: ten\n",
            "That's not a valid number!\n",
            "Enter a number: nope\n",
            "That's not a valid number!\n",
            "Enter a number: 10\n"
          ],
          "name": "stdout"
        }
      ]
    },
    {
      "cell_type": "code",
      "metadata": {
        "id": "M8qjhS_ka9H4",
        "colab_type": "code",
        "colab": {
          "base_uri": "https://localhost:8080/",
          "height": 35
        },
        "outputId": "434be62d-0465-4b2c-e332-f6f6c6ecae51"
      },
      "source": [
        "while True:\n",
        "  try:\n",
        "    x = int(input(\"Enter a number: \"))\n",
        "    break \n",
        "  \n",
        "  except: \n",
        "    print(\"That's not a valid number!\")\n",
        "\n",
        "  print(\"\\n Attempted input\\n\")"
      ],
      "execution_count": 7,
      "outputs": [
        {
          "output_type": "stream",
          "text": [
            "Enter a number: 10\n"
          ],
          "name": "stdout"
        }
      ]
    },
    {
      "cell_type": "code",
      "metadata": {
        "id": "H7bNA8xmbLFK",
        "colab_type": "code",
        "colab": {
          "base_uri": "https://localhost:8080/",
          "height": 89
        },
        "outputId": "deb6cfd5-5a7b-4db3-c95d-a387b078d415"
      },
      "source": [
        "while True:\n",
        "  try:\n",
        "    x = int(input(\"Enter a number: \"))\n",
        "    break \n",
        "  \n",
        "  except: \n",
        "    print(\"That's not a valid number!\")\n",
        "  \n",
        "  finally: \n",
        "    print(\"\\n Attempted input\\n\")"
      ],
      "execution_count": 8,
      "outputs": [
        {
          "output_type": "stream",
          "text": [
            "Enter a number: 5\n",
            "\n",
            " Attempted input\n",
            "\n"
          ],
          "name": "stdout"
        }
      ]
    },
    {
      "cell_type": "markdown",
      "metadata": {
        "id": "_Mb_hhd6bdCZ",
        "colab_type": "text"
      },
      "source": [
        "# Specifying Exceptions \n"
      ]
    },
    {
      "cell_type": "markdown",
      "metadata": {
        "id": "Gkik7NMbbht4",
        "colab_type": "text"
      },
      "source": [
        "We can actually specify which error we want to handle in an `except` block like this:\n",
        "```\n",
        "try:\n",
        "    # some code\n",
        "except ValueError:\n",
        "    # some code\n",
        "```\n",
        "\n",
        "Now, it catches the `ValueError` exception, but not other exceptions. If we want this handler to address more than one type of exception, we can include a parenthesized tuple after the `except` with the exceptions.\n",
        "\n",
        "```\n",
        "try:\n",
        "    # some code\n",
        "except (ValueError, KeyboardInterrupt):\n",
        "    # some code\n",
        "```\n",
        "\n",
        "Or, if we want to execute different blocks of code depending on the exception, you can have multiple except blocks.\n",
        "\n",
        "```\n",
        "try:\n",
        "    # some code\n",
        "except ValueError:\n",
        "    # some code\n",
        "except KeyboardInterrupt:\n",
        "    # some code\n",
        "```"
      ]
    },
    {
      "cell_type": "code",
      "metadata": {
        "id": "nQCy6MZIbjuh",
        "colab_type": "code",
        "colab": {
          "base_uri": "https://localhost:8080/",
          "height": 179
        },
        "outputId": "584af5cb-18b5-41a8-a680-43a311a6d005"
      },
      "source": [
        "while True:\n",
        "  try:\n",
        "    x = int(input(\"Enter a number: \"))\n",
        "    break \n",
        "  \n",
        "  except ValueError: \n",
        "    print(\"That's not a valid number!\")\n",
        "  \n",
        "  finally: \n",
        "    print(\"\\n Attempted input\\n\")"
      ],
      "execution_count": 9,
      "outputs": [
        {
          "output_type": "stream",
          "text": [
            "Enter a number: ten\n",
            "That's not a valid number!\n",
            "\n",
            " Attempted input\n",
            "\n",
            "Enter a number: 10\n",
            "\n",
            " Attempted input\n",
            "\n"
          ],
          "name": "stdout"
        }
      ]
    },
    {
      "cell_type": "markdown",
      "metadata": {
        "id": "6SbEHQKBdl9A",
        "colab_type": "text"
      },
      "source": [
        "# Accessing Error Messages\n"
      ]
    },
    {
      "cell_type": "markdown",
      "metadata": {
        "id": "hj7TGGDQdpIK",
        "colab_type": "text"
      },
      "source": [
        "When you handle an exception, you can still access its error message like this:\n",
        "\n",
        "```\n",
        "try:\n",
        "    # some code\n",
        "except ZeroDivisionError as e:\n",
        "   # some code\n",
        "   print(\"ZeroDivisionError occurred: {}\".format(e))\n",
        "```\n",
        "\n",
        "This would print something like this:\n",
        "\n",
        "```\n",
        "ZeroDivisionError occurred: integer division or modulo by zero\n",
        "```\n",
        "\n",
        "So you can still access error messages, even if you handle them to keep your program from crashing!\n",
        "\n",
        "If you don't have a specific error you're handling, you can still access the message like this:\n",
        "\n",
        "```\n",
        "try:\n",
        "    # some code\n",
        "except Exception as e:\n",
        "   # some code\n",
        "   print(\"Exception occurred: {}\".format(e))\n",
        "```\n",
        "\n",
        "**Exception** is just the base class for all built-in exceptions. Learn more about Python's exceptions [here](https://docs.python.org/3/library/exceptions.html#bltin-exceptions)."
      ]
    },
    {
      "cell_type": "markdown",
      "metadata": {
        "id": "mCF5O9iOfXQO",
        "colab_type": "text"
      },
      "source": [
        "# Reading and Writing Files\n"
      ]
    },
    {
      "cell_type": "markdown",
      "metadata": {
        "id": "cfJycFdEfYc6",
        "colab_type": "text"
      },
      "source": [
        "Here's how we read and write files in Python.\n",
        "\n",
        "**Reading a File**"
      ]
    },
    {
      "cell_type": "code",
      "metadata": {
        "id": "wvkRvJsjf_UB",
        "colab_type": "code",
        "colab": {
          "base_uri": "https://localhost:8080/",
          "height": 89
        },
        "outputId": "21aa788c-d287-4716-c45c-ac413f49be37"
      },
      "source": [
        "f = open('my_file.txt', 'r')\n",
        "file_data = f.read()\n",
        "f.close()\n",
        "\n",
        "print(file_data)"
      ],
      "execution_count": 10,
      "outputs": [
        {
          "output_type": "stream",
          "text": [
            "Hello!!\n",
            "\n",
            "You've read the contents of this file!\n",
            "\n"
          ],
          "name": "stdout"
        }
      ]
    },
    {
      "cell_type": "markdown",
      "metadata": {
        "id": "0TUx37k7gKLL",
        "colab_type": "text"
      },
      "source": [
        "1. First open the file using the built-in function, `open`. This requires a string that shows the path to the file. The `open` function returns a file object, which is a Python object through which Python interacts with the file itself. Here, we assign this object to the variable `f`.\n",
        "\n",
        "2. There are optional parameters you can specify in the `open` function. One is the mode in which we open the file. Here, we use `r` or read only. This is actually the default value for the mode argument.\n",
        "\n",
        "3. Use the `read` method to access the contents from the file object. This read method takes the text contained in a file and puts it into a string. Here, we assign the string returned from this method into the variable `file_data`.\n",
        "\n",
        "4. When finished with the file, use the `close` method to free up any system resources taken up by the file."
      ]
    },
    {
      "cell_type": "markdown",
      "metadata": {
        "id": "YGxmNvUngize",
        "colab_type": "text"
      },
      "source": [
        "**Writing to a File**\n",
        "\n",
        "\n"
      ]
    },
    {
      "cell_type": "markdown",
      "metadata": {
        "id": "FI62Qimqgolb",
        "colab_type": "text"
      },
      "source": [
        "1. Open the file in writing ('`w`') mode. If the file does not exist, Python will create it for you. If you open an existing file in writing mode, any content that it had contained previously will be deleted. If you're interested in adding to an existing file, without deleting its content, you should use the append ('`a`') mode instead of write.\n",
        "\n",
        "2. Use the write method to add text to the file.\n",
        "\n",
        "3. Close the file when finished."
      ]
    },
    {
      "cell_type": "code",
      "metadata": {
        "id": "D24Wpy2xgnr5",
        "colab_type": "code",
        "colab": {}
      },
      "source": [
        "f = open('my_file.txt', 'w')\n",
        "f.write(\"Hello there!\")\n",
        "f.close()"
      ],
      "execution_count": 11,
      "outputs": []
    },
    {
      "cell_type": "markdown",
      "metadata": {
        "id": "_FTulEbKhEsG",
        "colab_type": "text"
      },
      "source": [
        "**Too Many Open Files**\n",
        "\n",
        "Run the following script in Python to see what happens when you open too many files without closing them!\n",
        "\n"
      ]
    },
    {
      "cell_type": "code",
      "metadata": {
        "id": "vCuY89i_hJqe",
        "colab_type": "code",
        "colab": {}
      },
      "source": [
        "files = []\n",
        "for i in range(10000):\n",
        "    files.append(open('my_file.txt', 'r'))\n",
        "    print(i)"
      ],
      "execution_count": null,
      "outputs": []
    },
    {
      "cell_type": "markdown",
      "metadata": {
        "id": "bClvuPPmjjGv",
        "colab_type": "text"
      },
      "source": [
        "**With**\n",
        "\n",
        "Python provides a special syntax that auto-closes a file for you once you're finished using it.\n",
        "\n",
        "```\n",
        "with open('my_file.txt', 'r') as f:\n",
        "    file_data = f.read()\n",
        "```\n",
        "This `with` keyword allows you to open a file, do operations on it, and automatically close it after the indented code is executed, in this case, reading from the file. Now, we don’t have to call `f.close()`! You can only access the file object, `f`, within this indented block."
      ]
    }
  ]
}