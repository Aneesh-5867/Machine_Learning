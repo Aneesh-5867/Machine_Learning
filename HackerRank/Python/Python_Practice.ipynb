{
  "nbformat": 4,
  "nbformat_minor": 0,
  "metadata": {
    "colab": {
      "name": "Python_Practice.ipynb",
      "provenance": [],
      "collapsed_sections": [],
      "include_colab_link": true
    },
    "kernelspec": {
      "name": "python3",
      "display_name": "Python 3"
    }
  },
  "cells": [
    {
      "cell_type": "markdown",
      "metadata": {
        "id": "view-in-github",
        "colab_type": "text"
      },
      "source": [
        "<a href=\"https://colab.research.google.com/github/SudhakarKuma/Machine_Learning/blob/master/HackerRank/Python/Python_Practice.ipynb\" target=\"_parent\"><img src=\"https://colab.research.google.com/assets/colab-badge.svg\" alt=\"Open In Colab\"/></a>"
      ]
    },
    {
      "cell_type": "markdown",
      "metadata": {
        "id": "L1he74v_NQVP",
        "colab_type": "text"
      },
      "source": [
        "# Python built-in methods for strings \n",
        "\n"
      ]
    },
    {
      "cell_type": "markdown",
      "metadata": {
        "id": "DOeMsSYKxX0j",
        "colab_type": "text"
      },
      "source": [
        "## `strip()`\n",
        "\n",
        "The `strip()` method removes characters from both left and right based on the argument (a string specifying the set of characters to be removed)\n",
        "\n",
        "Working of the `strip()` method: \n",
        "\n",
        "* When the character of the string in the left mismatches with all the characters in the `chars` argument, it stops removing the leading characters.\n",
        "* Similarly, when the character of the string in the right mismatches with all the characters in the `chars` argument, it stops removing the trailing characters.\n",
        "\n",
        "Reference: https://www.programiz.com/python-programming/methods/string/strip "
      ]
    },
    {
      "cell_type": "code",
      "metadata": {
        "id": "Xd_uHHAjOXfE",
        "colab_type": "code",
        "colab": {
          "base_uri": "https://localhost:8080/",
          "height": 89
        },
        "outputId": "ee39d5eb-7c0f-4584-922b-0626e52590e7"
      },
      "source": [
        "string = '  xoxo love xoxo   '\n",
        "\n",
        "# Leading and trailing whitespaces are removed\n",
        "print(string.strip())\n",
        "\n",
        "# All <whitespace>,x,o,e characters in the left\n",
        "# and right of string are removed\n",
        "print(string.strip(' xoe'))\n",
        "\n",
        "# Argument doesn't contain space\n",
        "# No characters are removed.\n",
        "print(string.strip('stx'))\n",
        "\n",
        "string = 'android is awesome'\n",
        "print(string.strip('an'))"
      ],
      "execution_count": 1,
      "outputs": [
        {
          "output_type": "stream",
          "text": [
            "xoxo love xoxo\n",
            "lov\n",
            "  xoxo love xoxo   \n",
            "droid is awesome\n"
          ],
          "name": "stdout"
        }
      ]
    },
    {
      "cell_type": "markdown",
      "metadata": {
        "id": "4uW5IkgIS3WS",
        "colab_type": "text"
      },
      "source": [
        "## `join()`\n",
        "\n",
        "The `join()` method returns a string by joining all the elements of an iterable, separated by a string separator.\n",
        "\n",
        "Reference: https://www.programiz.com/python-programming/methods/string/join "
      ]
    },
    {
      "cell_type": "code",
      "metadata": {
        "id": "NkbsnL9BTGyz",
        "colab_type": "code",
        "colab": {
          "base_uri": "https://localhost:8080/",
          "height": 53
        },
        "outputId": "8a059c94-fee6-4c5f-a8f8-7c852521c72c"
      },
      "source": [
        "s1 = 'abc'\n",
        "s2 = '123'\n",
        "\n",
        "# each element of s2 is separated by s1\n",
        "# '1'+ 'abc'+ '2'+ 'abc'+ '3'\n",
        "print('s1.join(s2):', s1.join(s2))\n",
        "\n",
        "# each element of s1 is separated by s2\n",
        "# 'a'+ '123'+ 'b'+ '123'+ 'b'\n",
        "print('s2.join(s1):', s2.join(s1))"
      ],
      "execution_count": 2,
      "outputs": [
        {
          "output_type": "stream",
          "text": [
            "s1.join(s2): 1abc2abc3\n",
            "s2.join(s1): a123b123c\n"
          ],
          "name": "stdout"
        }
      ]
    },
    {
      "cell_type": "code",
      "metadata": {
        "id": "ziy0t8ieTPo0",
        "colab_type": "code",
        "colab": {
          "base_uri": "https://localhost:8080/",
          "height": 107
        },
        "outputId": "92cfcacc-b414-4c67-83bb-21da64ce143c"
      },
      "source": [
        "n = 5\n",
        " \n",
        "print('\\n'.join(str(i * i) for i in range(0, n, 1)))"
      ],
      "execution_count": 3,
      "outputs": [
        {
          "output_type": "stream",
          "text": [
            "0\n",
            "1\n",
            "4\n",
            "9\n",
            "16\n"
          ],
          "name": "stdout"
        }
      ]
    },
    {
      "cell_type": "code",
      "metadata": {
        "id": "PqjPaRq9WDxl",
        "colab_type": "code",
        "colab": {
          "base_uri": "https://localhost:8080/",
          "height": 35
        },
        "outputId": "869e1a15-163b-4094-ce33-1c2195d2cd23"
      },
      "source": [
        "n = 6\n",
        "\n",
        "print(' '.join(str(i) for i in range(1, n + 1)))"
      ],
      "execution_count": 4,
      "outputs": [
        {
          "output_type": "stream",
          "text": [
            "1 2 3 4 5 6\n"
          ],
          "name": "stdout"
        }
      ]
    },
    {
      "cell_type": "markdown",
      "metadata": {
        "id": "JKwKHUODQpxz",
        "colab_type": "text"
      },
      "source": [
        "# Arithmetic Operators in Python\n",
        "\n",
        "* **Modulus** - remainder of the division of left operand by the right\t(x % y)\n",
        "* **Floor division** - division that results into whole number adjusted to the left in the number line\t(x // y)\n",
        "* **Exponent** - left operand raised to the power of right\t(x**y)"
      ]
    },
    {
      "cell_type": "code",
      "metadata": {
        "id": "WWxIsOyzRH6-",
        "colab_type": "code",
        "colab": {
          "base_uri": "https://localhost:8080/",
          "height": 161
        },
        "outputId": "c4b5403b-baf6-483d-9e71-ae441fd4a876"
      },
      "source": [
        "# Modulus \n",
        "print(9 % 2)\n",
        "print(\"=\"*25)\n",
        "\n",
        "# Floor division\n",
        "print(9//2) \n",
        "print(9.0//2.0)\n",
        "print(-11//3)\n",
        "print(11.0//3)\n",
        "print(\"=\"*25)\n",
        "\n",
        "# Exponent \n",
        "print(10**2)"
      ],
      "execution_count": 5,
      "outputs": [
        {
          "output_type": "stream",
          "text": [
            "1\n",
            "=========================\n",
            "4\n",
            "4.0\n",
            "-4\n",
            "3.0\n",
            "=========================\n",
            "100\n"
          ],
          "name": "stdout"
        }
      ]
    },
    {
      "cell_type": "markdown",
      "metadata": {
        "id": "DBtZLBY0UiJy",
        "colab_type": "text"
      },
      "source": [
        "# Concept of Leap year\n",
        "\n",
        "In the Gregorian calendar, three conditions are used to identify leap years:\n",
        "\n",
        "* The year can be evenly divided by 4, is a leap year, unless:\n",
        "  * The year can be evenly divided by 100, it is NOT a leap year, unless:\n",
        "    * The year is also evenly divisible by 400. Then it is a leap year.\n",
        "\n",
        "This means that in the Gregorian calendar, the years 2000 and 2400 are leap years, while 1800, 1900, 2100, 2200, 2300 and 2500 are NOT leap years. \n",
        "\n",
        "Reference: http://www.timeanddate.com/date/leapyear.html "
      ]
    },
    {
      "cell_type": "code",
      "metadata": {
        "id": "Qe52giSxT3RX",
        "colab_type": "code",
        "colab": {
          "base_uri": "https://localhost:8080/",
          "height": 35
        },
        "outputId": "be9e0680-e4f5-41b3-8792-169f942a0441"
      },
      "source": [
        "year = 1900\n",
        "# A/c to Gregorian calendar, the years 2000 and 2400 are leap years, \n",
        "# while 1800, 1900, 2100, 2200, 2300 and 2500 are NOT leap years\n",
        "\n",
        "def leap_year(year):\n",
        "  leap = False \n",
        "  if (year % 4 == 0):\n",
        "    if (year % 100 == 0):\n",
        "      if (year % 400 == 0):\n",
        "        leap = True \n",
        "      else:\n",
        "        leap = False\n",
        "    else:\n",
        "      leap = False\n",
        "  else:\n",
        "    leap = False\n",
        "\n",
        "  return leap\n",
        "\n",
        "print(leap_year(year)) "
      ],
      "execution_count": 6,
      "outputs": [
        {
          "output_type": "stream",
          "text": [
            "False\n"
          ],
          "name": "stdout"
        }
      ]
    },
    {
      "cell_type": "markdown",
      "metadata": {
        "id": "LDBD7VAdWvZ5",
        "colab_type": "text"
      },
      "source": [
        "# Python Dictionary\n",
        "\n",
        "Python dictionary is an unordered collection of items. Each item of a dictionary has a `key/value` pair. Dictionaries are optimized to retrieve values when the key is known."
      ]
    },
    {
      "cell_type": "code",
      "metadata": {
        "id": "r4oJTyiZW48W",
        "colab_type": "code",
        "colab": {
          "base_uri": "https://localhost:8080/",
          "height": 53
        },
        "outputId": "271054d2-7b72-4897-94bb-90b2a1a70c37"
      },
      "source": [
        "# empty dictionary\n",
        "my_dict = {}\n",
        "\n",
        "# dictionary with integer keys\n",
        "my_dict = {1: 'apple', 2: 'ball'}\n",
        "\n",
        "# dictionary with mixed keys\n",
        "my_dict = {'name': 'John', 1: [2, 4, 3]}\n",
        "\n",
        "# using dict()\n",
        "my_dict = dict({1:'apple', 2:'ball'})\n",
        "\n",
        "# from sequence having each item as a pair\n",
        "my_dict = dict([(1,'apple'), (2,'ball')])\n",
        "\n",
        "for key, value in my_dict.items():\n",
        "  print(key, value)"
      ],
      "execution_count": 7,
      "outputs": [
        {
          "output_type": "stream",
          "text": [
            "1 apple\n",
            "2 ball\n"
          ],
          "name": "stdout"
        }
      ]
    },
    {
      "cell_type": "markdown",
      "metadata": {
        "id": "mx2v9mAdXTV4",
        "colab_type": "text"
      },
      "source": [
        "**Accessing Elements from Dictionary**\n",
        "\n",
        "While indexing is used with other data types to access values, a dictionary uses `keys`. Keys can be used either inside square brackets `[]` or with the `get()` method.\n",
        "\n",
        "If we use the square brackets `[]`, `KeyError` is raised in case a key is not found in the dictionary. On the other hand, the `get()` method returns `None` if the key is not found."
      ]
    },
    {
      "cell_type": "code",
      "metadata": {
        "id": "TsOJlJiBXjLF",
        "colab_type": "code",
        "colab": {
          "base_uri": "https://localhost:8080/",
          "height": 262
        },
        "outputId": "54f8def5-c26f-4869-80e7-c6e1987c6097"
      },
      "source": [
        "# get vs [] for retrieving elements\n",
        "my_dict = {'name': 'Jack', 'age': 26}\n",
        "\n",
        "# Output: Jack\n",
        "print(my_dict['name'])\n",
        "\n",
        "# Output: 26\n",
        "print(my_dict.get('age'))\n",
        "\n",
        "# Trying to access keys which doesn't exist throws error\n",
        "# Output None\n",
        "print(my_dict.get('address'))\n",
        "\n",
        "# KeyError\n",
        "print(my_dict['address'])"
      ],
      "execution_count": 8,
      "outputs": [
        {
          "output_type": "stream",
          "text": [
            "Jack\n",
            "26\n",
            "None\n"
          ],
          "name": "stdout"
        },
        {
          "output_type": "error",
          "ename": "KeyError",
          "evalue": "ignored",
          "traceback": [
            "\u001b[0;31m---------------------------------------------------------------------------\u001b[0m",
            "\u001b[0;31mKeyError\u001b[0m                                  Traceback (most recent call last)",
            "\u001b[0;32m<ipython-input-8-2ec6dc01caba>\u001b[0m in \u001b[0;36m<module>\u001b[0;34m()\u001b[0m\n\u001b[1;32m     13\u001b[0m \u001b[0;34m\u001b[0m\u001b[0m\n\u001b[1;32m     14\u001b[0m \u001b[0;31m# KeyError\u001b[0m\u001b[0;34m\u001b[0m\u001b[0;34m\u001b[0m\u001b[0;34m\u001b[0m\u001b[0m\n\u001b[0;32m---> 15\u001b[0;31m \u001b[0mprint\u001b[0m\u001b[0;34m(\u001b[0m\u001b[0mmy_dict\u001b[0m\u001b[0;34m[\u001b[0m\u001b[0;34m'address'\u001b[0m\u001b[0;34m]\u001b[0m\u001b[0;34m)\u001b[0m\u001b[0;34m\u001b[0m\u001b[0;34m\u001b[0m\u001b[0m\n\u001b[0m",
            "\u001b[0;31mKeyError\u001b[0m: 'address'"
          ]
        }
      ]
    },
    {
      "cell_type": "code",
      "metadata": {
        "id": "LdnY3MduXst1",
        "colab_type": "code",
        "colab": {
          "base_uri": "https://localhost:8080/",
          "height": 53
        },
        "outputId": "c9bf0fb0-5693-433b-ba16-9568b7845e75"
      },
      "source": [
        "students_marks = {'Krishna': [67.0, 68.0, 69.0], \n",
        "                  'Arjun': [70.0, 98.0, 63.0], \n",
        "                  'Malika': [52.0, 56.0, 60.0]}\n",
        "                  \n",
        "query_name = 'Malika'\n",
        "marks = students_marks.get('Malika')\n",
        "\n",
        "print(\"The marks of {} are {}\".format(query_name, marks))\n",
        "print(\"The average marks of {} is {:.2f}\".format(query_name, sum(marks)/len(marks)))"
      ],
      "execution_count": 10,
      "outputs": [
        {
          "output_type": "stream",
          "text": [
            "The marks of Malika are [52.0, 56.0, 60.0]\n",
            "The average marks of Malika is 56.00\n"
          ],
          "name": "stdout"
        }
      ]
    },
    {
      "cell_type": "markdown",
      "metadata": {
        "id": "cGtGHqWaywO9",
        "colab_type": "text"
      },
      "source": [
        "# Python built-in methods for lists "
      ]
    },
    {
      "cell_type": "markdown",
      "metadata": {
        "id": "fWh3nAnWyxvi",
        "colab_type": "text"
      },
      "source": [
        "## `insert()`\n",
        "\n",
        "The list `insert()` method inserts an element to the list at the specified index. The syntax of the `insert()` method is\n",
        "```\n",
        "list.insert(i, elem)\n",
        "```\n",
        "\n",
        "Here, `elem` is inserted to the list at the $i^{th}$ index. All the elements after `elem` are shifted to the right."
      ]
    },
    {
      "cell_type": "code",
      "metadata": {
        "id": "ofSUGnOZzM66",
        "colab_type": "code",
        "colab": {
          "base_uri": "https://localhost:8080/",
          "height": 35
        },
        "outputId": "593951a9-1c98-4b6a-f2c3-b145cf85e66d"
      },
      "source": [
        "# vowel list\n",
        "vowel = ['a', 'e', 'i', 'u']\n",
        "\n",
        "# 'o' is inserted at index 3\n",
        "# the position of 'o' will be 4th\n",
        "vowel.insert(3, 'o')\n",
        "\n",
        "print('Updated List:', vowel)"
      ],
      "execution_count": 11,
      "outputs": [
        {
          "output_type": "stream",
          "text": [
            "Updated List: ['a', 'e', 'i', 'o', 'u']\n"
          ],
          "name": "stdout"
        }
      ]
    },
    {
      "cell_type": "markdown",
      "metadata": {
        "id": "kNJky21MzwIm",
        "colab_type": "text"
      },
      "source": [
        "## `remove()`\n",
        "\n",
        "The `remove()` method removes the first matching element (which is passed as an argument) from the list.\n",
        "\n",
        "The syntax of the `remove()` method is:\n",
        "```\n",
        "list.remove(element)\n",
        "```\n",
        "\n",
        "If the `element` doesn't exist, it throws `ValueError: list.remove(x): x not in list` exception."
      ]
    },
    {
      "cell_type": "code",
      "metadata": {
        "id": "xg5PNV9o0K6A",
        "colab_type": "code",
        "colab": {
          "base_uri": "https://localhost:8080/",
          "height": 35
        },
        "outputId": "f590481e-5977-4dfe-c956-abec9461837c"
      },
      "source": [
        "# animals list\n",
        "animals = ['cat', 'dog', 'rabbit', 'guinea pig']\n",
        "\n",
        "# 'rabbit' is removed\n",
        "animals.remove('rabbit')\n",
        "\n",
        "# Updated animals List\n",
        "print('Updated animals list: ', animals)"
      ],
      "execution_count": 12,
      "outputs": [
        {
          "output_type": "stream",
          "text": [
            "Updated animals list:  ['cat', 'dog', 'guinea pig']\n"
          ],
          "name": "stdout"
        }
      ]
    },
    {
      "cell_type": "code",
      "metadata": {
        "id": "uMWb-u7m0Cng",
        "colab_type": "code",
        "colab": {
          "base_uri": "https://localhost:8080/",
          "height": 35
        },
        "outputId": "23ee6fd7-c480-43ce-ddff-f778b8646538"
      },
      "source": [
        "# animals list\n",
        "animals = ['cat', 'dog', 'dog', 'guinea pig', 'dog']\n",
        "\n",
        "# 'dog' is removed\n",
        "animals.remove('dog')\n",
        "\n",
        "# Updated animals list\n",
        "print('Updated animals list: ', animals)"
      ],
      "execution_count": 13,
      "outputs": [
        {
          "output_type": "stream",
          "text": [
            "Updated animals list:  ['cat', 'dog', 'guinea pig', 'dog']\n"
          ],
          "name": "stdout"
        }
      ]
    },
    {
      "cell_type": "markdown",
      "metadata": {
        "id": "uvgLdIGy0c12",
        "colab_type": "text"
      },
      "source": [
        "## `append()`\n",
        "\n",
        "The `append()` method adds an item to the end of the list. The syntax of the `append()` method is:\n",
        "```\n",
        "list.append(item)\n",
        "```"
      ]
    },
    {
      "cell_type": "code",
      "metadata": {
        "id": "956gm2lZ0uMB",
        "colab_type": "code",
        "colab": {
          "base_uri": "https://localhost:8080/",
          "height": 35
        },
        "outputId": "0d0502fe-6c4f-4442-e900-8e687b6f325e"
      },
      "source": [
        "# animals list\n",
        "animals = ['cat', 'dog', 'rabbit']\n",
        "\n",
        "# 'guinea pig' is appended to the animals list\n",
        "animals.append('guinea pig')\n",
        "\n",
        "# Updated animals list\n",
        "print('Updated animals list: ', animals)"
      ],
      "execution_count": 14,
      "outputs": [
        {
          "output_type": "stream",
          "text": [
            "Updated animals list:  ['cat', 'dog', 'rabbit', 'guinea pig']\n"
          ],
          "name": "stdout"
        }
      ]
    },
    {
      "cell_type": "markdown",
      "metadata": {
        "id": "cAXjCkZR2Gq2",
        "colab_type": "text"
      },
      "source": [
        "## `sort()`\n",
        "\n",
        "The sort() method sorts the elements of a given list in a specific ascending or descending order. The syntax of the sort() method is:\n",
        "```\n",
        "list.sort(key=..., reverse=...)\n",
        "```\n",
        "\n",
        "Alternatively, we can also use Python's built-in `sorted()` function for the same purpose.\n",
        "```\n",
        "sorted(list, key=..., reverse=...)\n",
        "```\n",
        "\n",
        "> **Note**: `sort()` changes the list directly and doesn't return any value, while `sorted()` doesn't change the list and returns the sorted list.\n",
        "\n",
        "\n",
        "\n"
      ]
    },
    {
      "cell_type": "code",
      "metadata": {
        "id": "_3s5iQxH2lXI",
        "colab_type": "code",
        "colab": {
          "base_uri": "https://localhost:8080/",
          "height": 35
        },
        "outputId": "f47f6545-6ec3-4e6a-c2f2-f4eca3df2c09"
      },
      "source": [
        "# vowels list\n",
        "vowels = ['e', 'a', 'u', 'o', 'i']\n",
        "\n",
        "# sort the vowels\n",
        "vowels.sort()\n",
        "\n",
        "# print vowels\n",
        "print('Sorted list:', vowels)"
      ],
      "execution_count": 15,
      "outputs": [
        {
          "output_type": "stream",
          "text": [
            "Sorted list: ['a', 'e', 'i', 'o', 'u']\n"
          ],
          "name": "stdout"
        }
      ]
    },
    {
      "cell_type": "code",
      "metadata": {
        "id": "iNM83gQd2qWi",
        "colab_type": "code",
        "colab": {
          "base_uri": "https://localhost:8080/",
          "height": 35
        },
        "outputId": "730fbe6d-dbe9-47c2-9351-3e18dd1c5216"
      },
      "source": [
        "# vowels list\n",
        "vowels = ['e', 'a', 'u', 'o', 'i']\n",
        "\n",
        "# sort the vowels\n",
        "vowels.sort(reverse=True)\n",
        "\n",
        "# print vowels\n",
        "print('Sorted list (in Descending):', vowels)"
      ],
      "execution_count": 16,
      "outputs": [
        {
          "output_type": "stream",
          "text": [
            "Sorted list (in Descending): ['u', 'o', 'i', 'e', 'a']\n"
          ],
          "name": "stdout"
        }
      ]
    },
    {
      "cell_type": "markdown",
      "metadata": {
        "id": "WptofgUA21sr",
        "colab_type": "text"
      },
      "source": [
        "## `pop()`\n",
        "\n",
        "The `pop()` method removes the item at the given index from the list and returns the removed item. The syntax of the `pop()` method is:\n",
        "```\n",
        "list.pop(index)\n",
        "```\n",
        "\n",
        "**`pop()` parameters**\n",
        "\n",
        "* The `pop()` method takes a single argument (`index`).\n",
        "* The argument passed to the method is optional. If not passed, the default index -1 is passed as an argument (index of the last item).\n",
        "* If the index passed to the method is not in range, it throws `IndexError: pop index out of range exception`. "
      ]
    },
    {
      "cell_type": "code",
      "metadata": {
        "id": "aZHo37wl3QJH",
        "colab_type": "code",
        "colab": {
          "base_uri": "https://localhost:8080/",
          "height": 53
        },
        "outputId": "2b676a7e-6bf0-4ef0-fc3c-9ee727b5e151"
      },
      "source": [
        "# programming languages list\n",
        "languages = ['Python', 'Java', 'C++', 'French', 'C']\n",
        "\n",
        "# remove and return the 4th item\n",
        "return_value = languages.pop(3)\n",
        "print('Return Value:', return_value)\n",
        "\n",
        "# Updated List\n",
        "print('Updated List:', languages)"
      ],
      "execution_count": 17,
      "outputs": [
        {
          "output_type": "stream",
          "text": [
            "Return Value: French\n",
            "Updated List: ['Python', 'Java', 'C++', 'C']\n"
          ],
          "name": "stdout"
        }
      ]
    },
    {
      "cell_type": "markdown",
      "metadata": {
        "id": "uhTKJ9kh3oPj",
        "colab_type": "text"
      },
      "source": [
        "## `reverse()`\n",
        "\n",
        "The `reverse()` method reverses the elements of the list. The syntax of the `reverse()` method is:\n",
        "```\n",
        "list.reverse()\n",
        "```"
      ]
    },
    {
      "cell_type": "code",
      "metadata": {
        "id": "idftmq4-3_dm",
        "colab_type": "code",
        "colab": {
          "base_uri": "https://localhost:8080/",
          "height": 53
        },
        "outputId": "b95ce09a-a03f-42cc-c7e0-2a30a050b7b3"
      },
      "source": [
        "# Operating System List\n",
        "systems = ['Windows', 'macOS', 'Linux']\n",
        "print('Original List:', systems)\n",
        "\n",
        "# List Reverse\n",
        "systems.reverse()\n",
        "\n",
        "# updated list\n",
        "print('Updated List:', systems)"
      ],
      "execution_count": 18,
      "outputs": [
        {
          "output_type": "stream",
          "text": [
            "Original List: ['Windows', 'macOS', 'Linux']\n",
            "Updated List: ['Linux', 'macOS', 'Windows']\n"
          ],
          "name": "stdout"
        }
      ]
    },
    {
      "cell_type": "code",
      "metadata": {
        "id": "E9eklOZc4CJh",
        "colab_type": "code",
        "colab": {
          "base_uri": "https://localhost:8080/",
          "height": 53
        },
        "outputId": "7188486c-a2ea-412d-9bfa-9e5d03879376"
      },
      "source": [
        "# Reverse a List Using Slicing Operator\n",
        "\n",
        "# Operating System List\n",
        "systems = ['Windows', 'macOS', 'Linux']\n",
        "print('Original List:', systems)\n",
        "\n",
        "# Reversing a list\t\n",
        "#Syntax: reversed_list = systems[start:stop:step] \n",
        "reversed_list = systems[::-1]\n",
        "\n",
        "# updated list\n",
        "print('Updated List:', reversed_list)"
      ],
      "execution_count": 19,
      "outputs": [
        {
          "output_type": "stream",
          "text": [
            "Original List: ['Windows', 'macOS', 'Linux']\n",
            "Updated List: ['Linux', 'macOS', 'Windows']\n"
          ],
          "name": "stdout"
        }
      ]
    },
    {
      "cell_type": "markdown",
      "metadata": {
        "id": "01jAzxQv5G36",
        "colab_type": "text"
      },
      "source": [
        "# Mutations"
      ]
    },
    {
      "cell_type": "markdown",
      "metadata": {
        "id": "JEr2K2jS5IV2",
        "colab_type": "text"
      },
      "source": [
        "Lists are mutable (they can be changed), and tuples are immutable (they cannot be changed)."
      ]
    },
    {
      "cell_type": "code",
      "metadata": {
        "id": "XZzcK_-w5R6i",
        "colab_type": "code",
        "colab": {
          "base_uri": "https://localhost:8080/",
          "height": 35
        },
        "outputId": "71f9f86d-d20e-4bb8-b8e5-a7c447f553f1"
      },
      "source": [
        "string = \"abracadabra\"\n",
        "print(string[5])"
      ],
      "execution_count": 20,
      "outputs": [
        {
          "output_type": "stream",
          "text": [
            "a\n"
          ],
          "name": "stdout"
        }
      ]
    },
    {
      "cell_type": "markdown",
      "metadata": {
        "id": "y9lI548q5cTZ",
        "colab_type": "text"
      },
      "source": [
        "What if we would like to assign a value at a certain index?"
      ]
    },
    {
      "cell_type": "code",
      "metadata": {
        "id": "tDE-1WZL5ZMA",
        "colab_type": "code",
        "colab": {
          "base_uri": "https://localhost:8080/",
          "height": 172
        },
        "outputId": "23b3c3eb-d21a-4fca-a47d-4b4c2183997a"
      },
      "source": [
        "string[5] = 'k' "
      ],
      "execution_count": 22,
      "outputs": [
        {
          "output_type": "error",
          "ename": "TypeError",
          "evalue": "ignored",
          "traceback": [
            "\u001b[0;31m---------------------------------------------------------------------------\u001b[0m",
            "\u001b[0;31mTypeError\u001b[0m                                 Traceback (most recent call last)",
            "\u001b[0;32m<ipython-input-22-68cc1f139bdb>\u001b[0m in \u001b[0;36m<module>\u001b[0;34m()\u001b[0m\n\u001b[0;32m----> 1\u001b[0;31m \u001b[0mstring\u001b[0m\u001b[0;34m[\u001b[0m\u001b[0;36m5\u001b[0m\u001b[0;34m]\u001b[0m \u001b[0;34m=\u001b[0m \u001b[0;34m'k'\u001b[0m\u001b[0;34m\u001b[0m\u001b[0;34m\u001b[0m\u001b[0m\n\u001b[0m",
            "\u001b[0;31mTypeError\u001b[0m: 'str' object does not support item assignment"
          ]
        }
      ]
    },
    {
      "cell_type": "markdown",
      "metadata": {
        "id": "yb3wqHgM5kFd",
        "colab_type": "text"
      },
      "source": [
        "One solution is to convert the string to a list and then change the value."
      ]
    },
    {
      "cell_type": "code",
      "metadata": {
        "id": "ekbu2JIU5owd",
        "colab_type": "code",
        "colab": {
          "base_uri": "https://localhost:8080/",
          "height": 35
        },
        "outputId": "a030bf2c-78f3-448a-f96a-ae09d6d65c32"
      },
      "source": [
        "string = \"abracadabra\"\n",
        "l = list(string)\n",
        "l[5] = 'k'\n",
        "string = ''.join(l)\n",
        "print(string)"
      ],
      "execution_count": 23,
      "outputs": [
        {
          "output_type": "stream",
          "text": [
            "abrackdabra\n"
          ],
          "name": "stdout"
        }
      ]
    },
    {
      "cell_type": "markdown",
      "metadata": {
        "id": "wV9ooSdv5w8j",
        "colab_type": "text"
      },
      "source": [
        "Another approach is to slice the string and join it back."
      ]
    },
    {
      "cell_type": "code",
      "metadata": {
        "id": "40v-PNB151UW",
        "colab_type": "code",
        "colab": {
          "base_uri": "https://localhost:8080/",
          "height": 35
        },
        "outputId": "bd1bd959-a15a-4f0a-a83b-e00337442ee1"
      },
      "source": [
        "string = string[:5] + \"k\" + string[6:]\n",
        "print(string)"
      ],
      "execution_count": 24,
      "outputs": [
        {
          "output_type": "stream",
          "text": [
            "abrackdabra\n"
          ],
          "name": "stdout"
        }
      ]
    },
    {
      "cell_type": "markdown",
      "metadata": {
        "id": "fdJsBp036OYF",
        "colab_type": "text"
      },
      "source": [
        "# Python built-in function for sets"
      ]
    },
    {
      "cell_type": "markdown",
      "metadata": {
        "id": "hqjlzBHl6Rhy",
        "colab_type": "text"
      },
      "source": [
        "A set is an unordered collection of elements without duplicate entries. When printed, iterated or converted into a sequence, its elements will appear in an arbitrary order."
      ]
    },
    {
      "cell_type": "code",
      "metadata": {
        "id": "5-jJnETY6Tb_",
        "colab_type": "code",
        "colab": {
          "base_uri": "https://localhost:8080/",
          "height": 35
        },
        "outputId": "fe87712b-18d0-4d14-8b23-808919d61fa3"
      },
      "source": [
        "print(set('Sudhakar'))"
      ],
      "execution_count": 25,
      "outputs": [
        {
          "output_type": "stream",
          "text": [
            "{'u', 'd', 'k', 'h', 'S', 'a', 'r'}\n"
          ],
          "name": "stdout"
        }
      ]
    },
    {
      "cell_type": "markdown",
      "metadata": {
        "id": "X5b9m1z185jK",
        "colab_type": "text"
      },
      "source": [
        "## `add()`\n",
        "\n",
        "If we want to add a single element to an existing set, we can use the `add()` operation. It adds the element to the set and returns 'None'."
      ]
    },
    {
      "cell_type": "code",
      "metadata": {
        "id": "DBMGSYmB9IbQ",
        "colab_type": "code",
        "colab": {
          "base_uri": "https://localhost:8080/",
          "height": 35
        },
        "outputId": "124cfc4b-98e9-421c-e41d-3c48d4f2e4c4"
      },
      "source": [
        "s = set('HackerRank')\n",
        "s.add('Sudhakar')\n",
        "print(s)"
      ],
      "execution_count": 26,
      "outputs": [
        {
          "output_type": "stream",
          "text": [
            "{'e', 'c', 'k', 'a', 'Sudhakar', 'H', 'n', 'r', 'R'}\n"
          ],
          "name": "stdout"
        }
      ]
    },
    {
      "cell_type": "markdown",
      "metadata": {
        "id": "hcUPVTAd9kAT",
        "colab_type": "text"
      },
      "source": [
        "## `remove()`\n",
        "\n",
        "This operation removes the specified element from the set.\n",
        "If element does not exist, it raises a `KeyError`."
      ]
    },
    {
      "cell_type": "code",
      "metadata": {
        "id": "lBhorLo69va6",
        "colab_type": "code",
        "colab": {
          "base_uri": "https://localhost:8080/",
          "height": 35
        },
        "outputId": "70b25aae-f671-450a-b7b3-e67627bf00e5"
      },
      "source": [
        "s = set([1, 2, 3, 4, 5, 6, 7, 8, 9])\n",
        "s.remove(5)\n",
        "print(s)"
      ],
      "execution_count": 27,
      "outputs": [
        {
          "output_type": "stream",
          "text": [
            "{1, 2, 3, 4, 6, 7, 8, 9}\n"
          ],
          "name": "stdout"
        }
      ]
    },
    {
      "cell_type": "code",
      "metadata": {
        "id": "ZeqhfKB7905J",
        "colab_type": "code",
        "colab": {
          "base_uri": "https://localhost:8080/",
          "height": 35
        },
        "outputId": "970f83ee-cdbc-4fcd-9dc8-92f7976a0004"
      },
      "source": [
        "print(s.remove(4))"
      ],
      "execution_count": 28,
      "outputs": [
        {
          "output_type": "stream",
          "text": [
            "None\n"
          ],
          "name": "stdout"
        }
      ]
    },
    {
      "cell_type": "code",
      "metadata": {
        "id": "cnWJkdGX-BRR",
        "colab_type": "code",
        "colab": {
          "base_uri": "https://localhost:8080/",
          "height": 172
        },
        "outputId": "724c035a-5e84-46d7-f185-5801d35aa529"
      },
      "source": [
        "s.remove(0)"
      ],
      "execution_count": 30,
      "outputs": [
        {
          "output_type": "error",
          "ename": "KeyError",
          "evalue": "ignored",
          "traceback": [
            "\u001b[0;31m---------------------------------------------------------------------------\u001b[0m",
            "\u001b[0;31mKeyError\u001b[0m                                  Traceback (most recent call last)",
            "\u001b[0;32m<ipython-input-30-88ed82f2fe6e>\u001b[0m in \u001b[0;36m<module>\u001b[0;34m()\u001b[0m\n\u001b[0;32m----> 1\u001b[0;31m \u001b[0ms\u001b[0m\u001b[0;34m.\u001b[0m\u001b[0mremove\u001b[0m\u001b[0;34m(\u001b[0m\u001b[0;36m0\u001b[0m\u001b[0;34m)\u001b[0m\u001b[0;34m\u001b[0m\u001b[0;34m\u001b[0m\u001b[0m\n\u001b[0m",
            "\u001b[0;31mKeyError\u001b[0m: 0"
          ]
        }
      ]
    },
    {
      "cell_type": "markdown",
      "metadata": {
        "id": "xHa6xpEg-KsK",
        "colab_type": "text"
      },
      "source": [
        "## `discard()`\n",
        "\n",
        "This operation also removes a specified element from the set.\n",
        "If element does not exist, it does not raise a `KeyError`."
      ]
    },
    {
      "cell_type": "code",
      "metadata": {
        "id": "GggnRIec-TX4",
        "colab_type": "code",
        "colab": {
          "base_uri": "https://localhost:8080/",
          "height": 35
        },
        "outputId": "7ab5e93f-b9ba-49a9-a976-a89c2bdf3337"
      },
      "source": [
        "s = set([1, 2, 3, 4, 5, 6, 7, 8, 9])\n",
        "s.discard(0) # 0 does not exist in the set s\n",
        "print(s)"
      ],
      "execution_count": 31,
      "outputs": [
        {
          "output_type": "stream",
          "text": [
            "{1, 2, 3, 4, 5, 6, 7, 8, 9}\n"
          ],
          "name": "stdout"
        }
      ]
    },
    {
      "cell_type": "markdown",
      "metadata": {
        "id": "56Ul2YGp-hxS",
        "colab_type": "text"
      },
      "source": [
        "## `pop()`\n",
        "\n",
        "This operation removes and return an arbitrary element from the set.\n",
        "If there are no elements to remove, it raises a `IndexError`.\n"
      ]
    },
    {
      "cell_type": "code",
      "metadata": {
        "id": "KM3lEGQo-mzY",
        "colab_type": "code",
        "colab": {
          "base_uri": "https://localhost:8080/",
          "height": 53
        },
        "outputId": "1df01a33-55ef-4e0f-bda2-48a5ffaac469"
      },
      "source": [
        "my_set = {1, 2, 3, 4, 5, 6}\n",
        "print(my_set.pop())\n",
        "print(my_set)"
      ],
      "execution_count": 32,
      "outputs": [
        {
          "output_type": "stream",
          "text": [
            "1\n",
            "{2, 3, 4, 5, 6}\n"
          ],
          "name": "stdout"
        }
      ]
    },
    {
      "cell_type": "code",
      "metadata": {
        "id": "SSurlzuE-zYE",
        "colab_type": "code",
        "colab": {
          "base_uri": "https://localhost:8080/",
          "height": 190
        },
        "outputId": "01b74b0b-3d5e-4990-e1f2-56805dafe491"
      },
      "source": [
        "my_set = []\n",
        "print(my_set.pop())"
      ],
      "execution_count": 34,
      "outputs": [
        {
          "output_type": "error",
          "ename": "IndexError",
          "evalue": "ignored",
          "traceback": [
            "\u001b[0;31m---------------------------------------------------------------------------\u001b[0m",
            "\u001b[0;31mIndexError\u001b[0m                                Traceback (most recent call last)",
            "\u001b[0;32m<ipython-input-34-6c9a2602fd70>\u001b[0m in \u001b[0;36m<module>\u001b[0;34m()\u001b[0m\n\u001b[1;32m      1\u001b[0m \u001b[0mmy_set\u001b[0m \u001b[0;34m=\u001b[0m \u001b[0;34m[\u001b[0m\u001b[0;34m]\u001b[0m\u001b[0;34m\u001b[0m\u001b[0;34m\u001b[0m\u001b[0m\n\u001b[0;32m----> 2\u001b[0;31m \u001b[0mprint\u001b[0m\u001b[0;34m(\u001b[0m\u001b[0mmy_set\u001b[0m\u001b[0;34m.\u001b[0m\u001b[0mpop\u001b[0m\u001b[0;34m(\u001b[0m\u001b[0;34m)\u001b[0m\u001b[0;34m)\u001b[0m\u001b[0;34m\u001b[0m\u001b[0;34m\u001b[0m\u001b[0m\n\u001b[0m",
            "\u001b[0;31mIndexError\u001b[0m: pop from empty list"
          ]
        }
      ]
    },
    {
      "cell_type": "markdown",
      "metadata": {
        "id": "vy-7t6lg_fpZ",
        "colab_type": "text"
      },
      "source": [
        "## `update()`\n",
        "\n",
        "It updates the set by adding elements from an iterable/another set.\n"
      ]
    },
    {
      "cell_type": "code",
      "metadata": {
        "id": "BjfxJCVt_nhA",
        "colab_type": "code",
        "colab": {
          "base_uri": "https://localhost:8080/",
          "height": 35
        },
        "outputId": "12a7c2aa-9bc9-47a9-e42e-b634c18ddcef"
      },
      "source": [
        "H = set(\"Hacker\")\n",
        "R = set(\"Rank\")\n",
        "H.update(R)\n",
        "print(H)"
      ],
      "execution_count": 35,
      "outputs": [
        {
          "output_type": "stream",
          "text": [
            "{'e', 'c', 'k', 'a', 'H', 'n', 'r', 'R'}\n"
          ],
          "name": "stdout"
        }
      ]
    },
    {
      "cell_type": "markdown",
      "metadata": {
        "id": "BWOgxjLu6kjs",
        "colab_type": "text"
      },
      "source": [
        "# Exceptions\n"
      ]
    },
    {
      "cell_type": "markdown",
      "metadata": {
        "id": "jmdHUu686mVl",
        "colab_type": "text"
      },
      "source": [
        "Errors detected during execution are called exceptions."
      ]
    },
    {
      "cell_type": "code",
      "metadata": {
        "id": "7u1Rw6G26o2V",
        "colab_type": "code",
        "colab": {
          "base_uri": "https://localhost:8080/",
          "height": 172
        },
        "outputId": "ad9514cc-7310-45b2-b754-954636db1a35"
      },
      "source": [
        "print(1/0)"
      ],
      "execution_count": 37,
      "outputs": [
        {
          "output_type": "error",
          "ename": "ZeroDivisionError",
          "evalue": "ignored",
          "traceback": [
            "\u001b[0;31m---------------------------------------------------------------------------\u001b[0m",
            "\u001b[0;31mZeroDivisionError\u001b[0m                         Traceback (most recent call last)",
            "\u001b[0;32m<ipython-input-37-2fc232d1511a>\u001b[0m in \u001b[0;36m<module>\u001b[0;34m()\u001b[0m\n\u001b[0;32m----> 1\u001b[0;31m \u001b[0mprint\u001b[0m\u001b[0;34m(\u001b[0m\u001b[0;36m1\u001b[0m\u001b[0;34m/\u001b[0m\u001b[0;36m0\u001b[0m\u001b[0;34m)\u001b[0m\u001b[0;34m\u001b[0m\u001b[0;34m\u001b[0m\u001b[0m\n\u001b[0m",
            "\u001b[0;31mZeroDivisionError\u001b[0m: division by zero"
          ]
        }
      ]
    },
    {
      "cell_type": "code",
      "metadata": {
        "id": "NJ2mE7ZY6s3x",
        "colab_type": "code",
        "colab": {
          "base_uri": "https://localhost:8080/",
          "height": 172
        },
        "outputId": "97b2f329-63ce-4c01-af72-736e25b3d7e6"
      },
      "source": [
        "print(1/int('#'))"
      ],
      "execution_count": 39,
      "outputs": [
        {
          "output_type": "error",
          "ename": "ValueError",
          "evalue": "ignored",
          "traceback": [
            "\u001b[0;31m---------------------------------------------------------------------------\u001b[0m",
            "\u001b[0;31mValueError\u001b[0m                                Traceback (most recent call last)",
            "\u001b[0;32m<ipython-input-39-3e731cc47253>\u001b[0m in \u001b[0;36m<module>\u001b[0;34m()\u001b[0m\n\u001b[0;32m----> 1\u001b[0;31m \u001b[0mprint\u001b[0m\u001b[0;34m(\u001b[0m\u001b[0;36m1\u001b[0m\u001b[0;34m/\u001b[0m\u001b[0mint\u001b[0m\u001b[0;34m(\u001b[0m\u001b[0;34m'#'\u001b[0m\u001b[0;34m)\u001b[0m\u001b[0;34m)\u001b[0m\u001b[0;34m\u001b[0m\u001b[0;34m\u001b[0m\u001b[0m\n\u001b[0m",
            "\u001b[0;31mValueError\u001b[0m: invalid literal for int() with base 10: '#'"
          ]
        }
      ]
    },
    {
      "cell_type": "code",
      "metadata": {
        "id": "rKzGO8l_667h",
        "colab_type": "code",
        "colab": {
          "base_uri": "https://localhost:8080/",
          "height": 35
        },
        "outputId": "a95227ef-bbbe-4527-9f9b-219b9c99250e"
      },
      "source": [
        "a, b = 10, 0\n",
        "try:\n",
        "  print(a / b)\n",
        "except ZeroDivisionError as e:\n",
        "  print(\"Error code:\", e)"
      ],
      "execution_count": 40,
      "outputs": [
        {
          "output_type": "stream",
          "text": [
            "Error code: division by zero\n"
          ],
          "name": "stdout"
        }
      ]
    },
    {
      "cell_type": "code",
      "metadata": {
        "id": "4PB5m_QG7E-z",
        "colab_type": "code",
        "colab": {
          "base_uri": "https://localhost:8080/",
          "height": 35
        },
        "outputId": "3802834e-9401-4417-a0e0-c38fbaf83127"
      },
      "source": [
        "a, b = 5, '#'\n",
        "try:\n",
        "  print(a / int(b))\n",
        "except ValueError as e:\n",
        "  print(\"Error code:\", e)"
      ],
      "execution_count": 41,
      "outputs": [
        {
          "output_type": "stream",
          "text": [
            "Error code: invalid literal for int() with base 10: '#'\n"
          ],
          "name": "stdout"
        }
      ]
    }
  ]
}