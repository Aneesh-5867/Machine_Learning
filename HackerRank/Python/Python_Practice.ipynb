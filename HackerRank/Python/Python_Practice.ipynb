{
  "nbformat": 4,
  "nbformat_minor": 0,
  "metadata": {
    "colab": {
      "name": "Python_Practice.ipynb",
      "provenance": [],
      "collapsed_sections": []
    },
    "kernelspec": {
      "name": "python3",
      "display_name": "Python 3"
    }
  },
  "cells": [
    {
      "cell_type": "markdown",
      "metadata": {
        "id": "L1he74v_NQVP",
        "colab_type": "text"
      },
      "source": [
        "# Python built-in methods for strings \n",
        "\n"
      ]
    },
    {
      "cell_type": "markdown",
      "metadata": {
        "id": "DOeMsSYKxX0j",
        "colab_type": "text"
      },
      "source": [
        "## `strip()`\n",
        "\n",
        "The `strip()` method removes characters from both left and right based on the argument (a string specifying the set of characters to be removed)\n",
        "\n",
        "Working of the `strip()` method: \n",
        "\n",
        "* When the character of the string in the left mismatches with all the characters in the `chars` argument, it stops removing the leading characters.\n",
        "* Similarly, when the character of the string in the right mismatches with all the characters in the `chars` argument, it stops removing the trailing characters.\n",
        "\n",
        "Reference: https://www.programiz.com/python-programming/methods/string/strip "
      ]
    },
    {
      "cell_type": "code",
      "metadata": {
        "id": "Xd_uHHAjOXfE",
        "colab_type": "code",
        "colab": {
          "base_uri": "https://localhost:8080/",
          "height": 89
        },
        "outputId": "f96b1f75-91b3-4a7c-9e52-ab9fa9dbfe57"
      },
      "source": [
        "string = '  xoxo love xoxo   '\n",
        "\n",
        "# Leading and trailing whitespaces are removed\n",
        "print(string.strip())\n",
        "\n",
        "# All <whitespace>,x,o,e characters in the left\n",
        "# and right of string are removed\n",
        "print(string.strip(' xoe'))\n",
        "\n",
        "# Argument doesn't contain space\n",
        "# No characters are removed.\n",
        "print(string.strip('stx'))\n",
        "\n",
        "string = 'android is awesome'\n",
        "print(string.strip('an'))"
      ],
      "execution_count": null,
      "outputs": [
        {
          "output_type": "stream",
          "text": [
            "xoxo love xoxo\n",
            "lov\n",
            "  xoxo love xoxo   \n",
            "droid is awesome\n"
          ],
          "name": "stdout"
        }
      ]
    },
    {
      "cell_type": "markdown",
      "metadata": {
        "id": "4uW5IkgIS3WS",
        "colab_type": "text"
      },
      "source": [
        "## `join()`\n",
        "\n",
        "The `join()` method returns a string by joining all the elements of an iterable, separated by a string separator.\n",
        "\n",
        "Reference: https://www.programiz.com/python-programming/methods/string/join "
      ]
    },
    {
      "cell_type": "code",
      "metadata": {
        "id": "NkbsnL9BTGyz",
        "colab_type": "code",
        "colab": {
          "base_uri": "https://localhost:8080/",
          "height": 53
        },
        "outputId": "fe979048-5cdc-467f-de22-7ac56c72e673"
      },
      "source": [
        "s1 = 'abc'\n",
        "s2 = '123'\n",
        "\n",
        "# each element of s2 is separated by s1\n",
        "# '1'+ 'abc'+ '2'+ 'abc'+ '3'\n",
        "print('s1.join(s2):', s1.join(s2))\n",
        "\n",
        "# each element of s1 is separated by s2\n",
        "# 'a'+ '123'+ 'b'+ '123'+ 'b'\n",
        "print('s2.join(s1):', s2.join(s1))"
      ],
      "execution_count": null,
      "outputs": [
        {
          "output_type": "stream",
          "text": [
            "s1.join(s2): 1abc2abc3\n",
            "s2.join(s1): a123b123c\n"
          ],
          "name": "stdout"
        }
      ]
    },
    {
      "cell_type": "code",
      "metadata": {
        "id": "ziy0t8ieTPo0",
        "colab_type": "code",
        "colab": {
          "base_uri": "https://localhost:8080/",
          "height": 107
        },
        "outputId": "7ab7f7fa-ad3d-4677-9ff3-7adbb3c69e3a"
      },
      "source": [
        "n = 5\n",
        " \n",
        "print('\\n'.join(str(i * i) for i in range(0, n, 1)))"
      ],
      "execution_count": null,
      "outputs": [
        {
          "output_type": "stream",
          "text": [
            "0\n",
            "1\n",
            "4\n",
            "9\n",
            "16\n"
          ],
          "name": "stdout"
        }
      ]
    },
    {
      "cell_type": "code",
      "metadata": {
        "id": "PqjPaRq9WDxl",
        "colab_type": "code",
        "colab": {
          "base_uri": "https://localhost:8080/",
          "height": 35
        },
        "outputId": "98866bf1-b2c6-4d1d-ec01-c92c673cb273"
      },
      "source": [
        "n = 6\n",
        "\n",
        "print(' '.join(str(i) for i in range(1, n + 1)))"
      ],
      "execution_count": null,
      "outputs": [
        {
          "output_type": "stream",
          "text": [
            "1 2 3 4 5 6\n"
          ],
          "name": "stdout"
        }
      ]
    },
    {
      "cell_type": "markdown",
      "metadata": {
        "id": "JKwKHUODQpxz",
        "colab_type": "text"
      },
      "source": [
        "# Arithmetic Operators in Python\n",
        "\n",
        "* **Modulus** - remainder of the division of left operand by the right\t(x % y)\n",
        "* **Floor division** - division that results into whole number adjusted to the left in the number line\t(x // y)\n",
        "* **Exponent** - left operand raised to the power of right\t(x**y)"
      ]
    },
    {
      "cell_type": "code",
      "metadata": {
        "id": "WWxIsOyzRH6-",
        "colab_type": "code",
        "colab": {
          "base_uri": "https://localhost:8080/",
          "height": 161
        },
        "outputId": "0f04b281-f226-4897-991d-04247700c849"
      },
      "source": [
        "# Modulus \n",
        "print(9 % 2)\n",
        "print(\"=\"*25)\n",
        "\n",
        "# Floor division\n",
        "print(9//2) \n",
        "print(9.0//2.0)\n",
        "print(-11//3)\n",
        "print(11.0//3)\n",
        "print(\"=\"*25)\n",
        "\n",
        "# Exponent \n",
        "print(10**2)"
      ],
      "execution_count": null,
      "outputs": [
        {
          "output_type": "stream",
          "text": [
            "1\n",
            "=========================\n",
            "4\n",
            "4.0\n",
            "-4\n",
            "3.0\n",
            "=========================\n",
            "100\n"
          ],
          "name": "stdout"
        }
      ]
    },
    {
      "cell_type": "markdown",
      "metadata": {
        "id": "DBtZLBY0UiJy",
        "colab_type": "text"
      },
      "source": [
        "# Concept of Leap year\n",
        "\n",
        "In the Gregorian calendar, three conditions are used to identify leap years:\n",
        "\n",
        "* The year can be evenly divided by 4, is a leap year, unless:\n",
        "  * The year can be evenly divided by 100, it is NOT a leap year, unless:\n",
        "    * The year is also evenly divisible by 400. Then it is a leap year.\n",
        "\n",
        "This means that in the Gregorian calendar, the years 2000 and 2400 are leap years, while 1800, 1900, 2100, 2200, 2300 and 2500 are NOT leap years. \n",
        "\n",
        "Reference: http://www.timeanddate.com/date/leapyear.html "
      ]
    },
    {
      "cell_type": "code",
      "metadata": {
        "id": "Qe52giSxT3RX",
        "colab_type": "code",
        "colab": {
          "base_uri": "https://localhost:8080/",
          "height": 35
        },
        "outputId": "a6c4dd0b-21f9-4c4c-e89c-b8cddadf1cef"
      },
      "source": [
        "year = 1900\n",
        "# A/c to Gregorian calendar, the years 2000 and 2400 are leap years, \n",
        "# while 1800, 1900, 2100, 2200, 2300 and 2500 are NOT leap years\n",
        "\n",
        "def leap_year(year):\n",
        "  leap = False \n",
        "  if (year % 4 == 0):\n",
        "    if (year % 100 == 0):\n",
        "      if (year % 400 == 0):\n",
        "        leap = True \n",
        "      else:\n",
        "        leap = False\n",
        "    else:\n",
        "      leap = False\n",
        "  else:\n",
        "    leap = False\n",
        "\n",
        "  return leap\n",
        "\n",
        "print(leap_year(year)) "
      ],
      "execution_count": null,
      "outputs": [
        {
          "output_type": "stream",
          "text": [
            "False\n"
          ],
          "name": "stdout"
        }
      ]
    },
    {
      "cell_type": "markdown",
      "metadata": {
        "id": "LDBD7VAdWvZ5",
        "colab_type": "text"
      },
      "source": [
        "# Python Dictionary\n",
        "\n",
        "Python dictionary is an unordered collection of items. Each item of a dictionary has a `key/value` pair. Dictionaries are optimized to retrieve values when the key is known."
      ]
    },
    {
      "cell_type": "code",
      "metadata": {
        "id": "r4oJTyiZW48W",
        "colab_type": "code",
        "colab": {
          "base_uri": "https://localhost:8080/",
          "height": 53
        },
        "outputId": "3f69b79f-f5b7-4e62-cbfc-cf15b58215f5"
      },
      "source": [
        "# empty dictionary\n",
        "my_dict = {}\n",
        "\n",
        "# dictionary with integer keys\n",
        "my_dict = {1: 'apple', 2: 'ball'}\n",
        "\n",
        "# dictionary with mixed keys\n",
        "my_dict = {'name': 'John', 1: [2, 4, 3]}\n",
        "\n",
        "# using dict()\n",
        "my_dict = dict({1:'apple', 2:'ball'})\n",
        "\n",
        "# from sequence having each item as a pair\n",
        "my_dict = dict([(1,'apple'), (2,'ball')])\n",
        "\n",
        "for key, value in my_dict.items():\n",
        "  print(key, value)"
      ],
      "execution_count": null,
      "outputs": [
        {
          "output_type": "stream",
          "text": [
            "1 apple\n",
            "2 ball\n"
          ],
          "name": "stdout"
        }
      ]
    },
    {
      "cell_type": "markdown",
      "metadata": {
        "id": "mx2v9mAdXTV4",
        "colab_type": "text"
      },
      "source": [
        "**Accessing Elements from Dictionary**\n",
        "\n",
        "While indexing is used with other data types to access values, a dictionary uses `keys`. Keys can be used either inside square brackets `[]` or with the `get()` method.\n",
        "\n",
        "If we use the square brackets `[]`, `KeyError` is raised in case a key is not found in the dictionary. On the other hand, the `get()` method returns `None` if the key is not found."
      ]
    },
    {
      "cell_type": "code",
      "metadata": {
        "id": "TsOJlJiBXjLF",
        "colab_type": "code",
        "colab": {
          "base_uri": "https://localhost:8080/",
          "height": 262
        },
        "outputId": "afa14629-7924-4b47-89c4-4faff454f2c1"
      },
      "source": [
        "# get vs [] for retrieving elements\n",
        "my_dict = {'name': 'Jack', 'age': 26}\n",
        "\n",
        "# Output: Jack\n",
        "print(my_dict['name'])\n",
        "\n",
        "# Output: 26\n",
        "print(my_dict.get('age'))\n",
        "\n",
        "# Trying to access keys which doesn't exist throws error\n",
        "# Output None\n",
        "print(my_dict.get('address'))\n",
        "\n",
        "# KeyError\n",
        "print(my_dict['address'])"
      ],
      "execution_count": null,
      "outputs": [
        {
          "output_type": "stream",
          "text": [
            "Jack\n",
            "26\n",
            "None\n"
          ],
          "name": "stdout"
        },
        {
          "output_type": "error",
          "ename": "KeyError",
          "evalue": "ignored",
          "traceback": [
            "\u001b[0;31m---------------------------------------------------------------------------\u001b[0m",
            "\u001b[0;31mKeyError\u001b[0m                                  Traceback (most recent call last)",
            "\u001b[0;32m<ipython-input-8-2ec6dc01caba>\u001b[0m in \u001b[0;36m<module>\u001b[0;34m()\u001b[0m\n\u001b[1;32m     13\u001b[0m \u001b[0;34m\u001b[0m\u001b[0m\n\u001b[1;32m     14\u001b[0m \u001b[0;31m# KeyError\u001b[0m\u001b[0;34m\u001b[0m\u001b[0;34m\u001b[0m\u001b[0;34m\u001b[0m\u001b[0m\n\u001b[0;32m---> 15\u001b[0;31m \u001b[0mprint\u001b[0m\u001b[0;34m(\u001b[0m\u001b[0mmy_dict\u001b[0m\u001b[0;34m[\u001b[0m\u001b[0;34m'address'\u001b[0m\u001b[0;34m]\u001b[0m\u001b[0;34m)\u001b[0m\u001b[0;34m\u001b[0m\u001b[0;34m\u001b[0m\u001b[0m\n\u001b[0m",
            "\u001b[0;31mKeyError\u001b[0m: 'address'"
          ]
        }
      ]
    },
    {
      "cell_type": "code",
      "metadata": {
        "id": "LdnY3MduXst1",
        "colab_type": "code",
        "colab": {
          "base_uri": "https://localhost:8080/",
          "height": 53
        },
        "outputId": "bc42f65e-3a59-47dd-ac29-f6ef86e9e244"
      },
      "source": [
        "students_marks = {'Krishna': [67.0, 68.0, 69.0], \n",
        "                  'Arjun': [70.0, 98.0, 63.0], \n",
        "                  'Malika': [52.0, 56.0, 60.0]}\n",
        "                  \n",
        "query_name = 'Malika'\n",
        "marks = students_marks.get('Malika')\n",
        "\n",
        "print(\"The marks of {} are {}\".format(query_name, marks))\n",
        "print(\"The average marks of {} is {:.2f}\".format(query_name, sum(marks)/len(marks)))"
      ],
      "execution_count": null,
      "outputs": [
        {
          "output_type": "stream",
          "text": [
            "The marks of Malika are [52.0, 56.0, 60.0]\n",
            "The average marks of Malika is 56.00\n"
          ],
          "name": "stdout"
        }
      ]
    },
    {
      "cell_type": "markdown",
      "metadata": {
        "id": "cGtGHqWaywO9",
        "colab_type": "text"
      },
      "source": [
        "# Python built-in methods for lists "
      ]
    },
    {
      "cell_type": "markdown",
      "metadata": {
        "id": "fWh3nAnWyxvi",
        "colab_type": "text"
      },
      "source": [
        "## `insert()`\n",
        "\n",
        "The list `insert()` method inserts an element to the list at the specified index. The syntax of the `insert()` method is\n",
        "```\n",
        "list.insert(i, elem)\n",
        "```\n",
        "\n",
        "Here, `elem` is inserted to the list at the $i^{th}$ index. All the elements after `elem` are shifted to the right."
      ]
    },
    {
      "cell_type": "code",
      "metadata": {
        "id": "ofSUGnOZzM66",
        "colab_type": "code",
        "colab": {
          "base_uri": "https://localhost:8080/",
          "height": 35
        },
        "outputId": "5a614cfb-bff2-44c1-f364-521995ff1306"
      },
      "source": [
        "# vowel list\n",
        "vowel = ['a', 'e', 'i', 'u']\n",
        "\n",
        "# 'o' is inserted at index 3\n",
        "# the position of 'o' will be 4th\n",
        "vowel.insert(3, 'o')\n",
        "\n",
        "print('Updated List:', vowel)"
      ],
      "execution_count": 1,
      "outputs": [
        {
          "output_type": "stream",
          "text": [
            "Updated List: ['a', 'e', 'i', 'o', 'u']\n"
          ],
          "name": "stdout"
        }
      ]
    },
    {
      "cell_type": "markdown",
      "metadata": {
        "id": "kNJky21MzwIm",
        "colab_type": "text"
      },
      "source": [
        "## `remove()`\n",
        "\n",
        "The `remove()` method removes the first matching element (which is passed as an argument) from the list.\n",
        "\n",
        "The syntax of the `remove()` method is:\n",
        "```\n",
        "list.remove(element)\n",
        "```\n",
        "\n",
        "If the `element` doesn't exist, it throws `ValueError: list.remove(x): x not in list` exception."
      ]
    },
    {
      "cell_type": "code",
      "metadata": {
        "id": "xg5PNV9o0K6A",
        "colab_type": "code",
        "colab": {
          "base_uri": "https://localhost:8080/",
          "height": 35
        },
        "outputId": "6e309145-652d-47c5-8012-1672224de112"
      },
      "source": [
        "# animals list\n",
        "animals = ['cat', 'dog', 'rabbit', 'guinea pig']\n",
        "\n",
        "# 'rabbit' is removed\n",
        "animals.remove('rabbit')\n",
        "\n",
        "# Updated animals List\n",
        "print('Updated animals list: ', animals)"
      ],
      "execution_count": 3,
      "outputs": [
        {
          "output_type": "stream",
          "text": [
            "Updated animals list:  ['cat', 'dog', 'guinea pig']\n"
          ],
          "name": "stdout"
        }
      ]
    },
    {
      "cell_type": "code",
      "metadata": {
        "id": "uMWb-u7m0Cng",
        "colab_type": "code",
        "colab": {
          "base_uri": "https://localhost:8080/",
          "height": 35
        },
        "outputId": "b69b5c2d-abc1-479a-f487-d9feed437816"
      },
      "source": [
        "# animals list\n",
        "animals = ['cat', 'dog', 'dog', 'guinea pig', 'dog']\n",
        "\n",
        "# 'dog' is removed\n",
        "animals.remove('dog')\n",
        "\n",
        "# Updated animals list\n",
        "print('Updated animals list: ', animals)"
      ],
      "execution_count": 2,
      "outputs": [
        {
          "output_type": "stream",
          "text": [
            "Updated animals list:  ['cat', 'dog', 'guinea pig', 'dog']\n"
          ],
          "name": "stdout"
        }
      ]
    },
    {
      "cell_type": "markdown",
      "metadata": {
        "id": "uvgLdIGy0c12",
        "colab_type": "text"
      },
      "source": [
        "## `append()`\n",
        "\n",
        "The `append()` method adds an item to the end of the list. The syntax of the `append()` method is:\n",
        "```\n",
        "list.append(item)\n",
        "```"
      ]
    },
    {
      "cell_type": "code",
      "metadata": {
        "id": "956gm2lZ0uMB",
        "colab_type": "code",
        "colab": {
          "base_uri": "https://localhost:8080/",
          "height": 35
        },
        "outputId": "cfb3499f-1581-4d2d-9a57-ec480301cee6"
      },
      "source": [
        "# animals list\n",
        "animals = ['cat', 'dog', 'rabbit']\n",
        "\n",
        "# 'guinea pig' is appended to the animals list\n",
        "animals.append('guinea pig')\n",
        "\n",
        "# Updated animals list\n",
        "print('Updated animals list: ', animals)"
      ],
      "execution_count": 4,
      "outputs": [
        {
          "output_type": "stream",
          "text": [
            "Updated animals list:  ['cat', 'dog', 'rabbit', 'guinea pig']\n"
          ],
          "name": "stdout"
        }
      ]
    },
    {
      "cell_type": "markdown",
      "metadata": {
        "id": "cAXjCkZR2Gq2",
        "colab_type": "text"
      },
      "source": [
        "## `sort()`\n",
        "\n",
        "The sort() method sorts the elements of a given list in a specific ascending or descending order. The syntax of the sort() method is:\n",
        "```\n",
        "list.sort(key=..., reverse=...)\n",
        "```\n",
        "\n",
        "Alternatively, we can also use Python's built-in `sorted()` function for the same purpose.\n",
        "```\n",
        "sorted(list, key=..., reverse=...)\n",
        "```\n",
        "\n",
        "> **Note**: `sort()` changes the list directly and doesn't return any value, while `sorted()` doesn't change the list and returns the sorted list.\n",
        "\n",
        "\n",
        "\n"
      ]
    },
    {
      "cell_type": "code",
      "metadata": {
        "id": "_3s5iQxH2lXI",
        "colab_type": "code",
        "colab": {
          "base_uri": "https://localhost:8080/",
          "height": 35
        },
        "outputId": "bedc8265-cd32-4407-bf40-f296f100770e"
      },
      "source": [
        "# vowels list\n",
        "vowels = ['e', 'a', 'u', 'o', 'i']\n",
        "\n",
        "# sort the vowels\n",
        "vowels.sort()\n",
        "\n",
        "# print vowels\n",
        "print('Sorted list:', vowels)"
      ],
      "execution_count": 5,
      "outputs": [
        {
          "output_type": "stream",
          "text": [
            "Sorted list: ['a', 'e', 'i', 'o', 'u']\n"
          ],
          "name": "stdout"
        }
      ]
    },
    {
      "cell_type": "code",
      "metadata": {
        "id": "iNM83gQd2qWi",
        "colab_type": "code",
        "colab": {
          "base_uri": "https://localhost:8080/",
          "height": 35
        },
        "outputId": "00ca564a-6d8f-4e8f-b1e7-74fedc8be8f6"
      },
      "source": [
        "# vowels list\n",
        "vowels = ['e', 'a', 'u', 'o', 'i']\n",
        "\n",
        "# sort the vowels\n",
        "vowels.sort(reverse=True)\n",
        "\n",
        "# print vowels\n",
        "print('Sorted list (in Descending):', vowels)"
      ],
      "execution_count": 6,
      "outputs": [
        {
          "output_type": "stream",
          "text": [
            "Sorted list (in Descending): ['u', 'o', 'i', 'e', 'a']\n"
          ],
          "name": "stdout"
        }
      ]
    },
    {
      "cell_type": "markdown",
      "metadata": {
        "id": "WptofgUA21sr",
        "colab_type": "text"
      },
      "source": [
        "## `pop()`\n",
        "\n",
        "The `pop()` method removes the item at the given index from the list and returns the removed item. The syntax of the `pop()` method is:\n",
        "```\n",
        "list.pop(index)\n",
        "```\n",
        "\n",
        "**`pop()` parameters**\n",
        "\n",
        "* The `pop()` method takes a single argument (`index`).\n",
        "* The argument passed to the method is optional. If not passed, the default index -1 is passed as an argument (index of the last item).\n",
        "* If the index passed to the method is not in range, it throws `IndexError: pop index out of range exception`. "
      ]
    },
    {
      "cell_type": "code",
      "metadata": {
        "id": "aZHo37wl3QJH",
        "colab_type": "code",
        "colab": {
          "base_uri": "https://localhost:8080/",
          "height": 53
        },
        "outputId": "cafbdc34-9ee5-4057-b6de-e95c5ed52d88"
      },
      "source": [
        "# programming languages list\n",
        "languages = ['Python', 'Java', 'C++', 'French', 'C']\n",
        "\n",
        "# remove and return the 4th item\n",
        "return_value = languages.pop(3)\n",
        "print('Return Value:', return_value)\n",
        "\n",
        "# Updated List\n",
        "print('Updated List:', languages)"
      ],
      "execution_count": 7,
      "outputs": [
        {
          "output_type": "stream",
          "text": [
            "Return Value: French\n",
            "Updated List: ['Python', 'Java', 'C++', 'C']\n"
          ],
          "name": "stdout"
        }
      ]
    },
    {
      "cell_type": "markdown",
      "metadata": {
        "id": "uhTKJ9kh3oPj",
        "colab_type": "text"
      },
      "source": [
        "## `reverse()`\n",
        "\n",
        "The `reverse()` method reverses the elements of the list. The syntax of the `reverse()` method is:\n",
        "```\n",
        "list.reverse()\n",
        "```"
      ]
    },
    {
      "cell_type": "code",
      "metadata": {
        "id": "idftmq4-3_dm",
        "colab_type": "code",
        "colab": {
          "base_uri": "https://localhost:8080/",
          "height": 53
        },
        "outputId": "6c9b4285-43bd-4192-9950-5873fa5641d8"
      },
      "source": [
        "# Operating System List\n",
        "systems = ['Windows', 'macOS', 'Linux']\n",
        "print('Original List:', systems)\n",
        "\n",
        "# List Reverse\n",
        "systems.reverse()\n",
        "\n",
        "# updated list\n",
        "print('Updated List:', systems)"
      ],
      "execution_count": 8,
      "outputs": [
        {
          "output_type": "stream",
          "text": [
            "Original List: ['Windows', 'macOS', 'Linux']\n",
            "Updated List: ['Linux', 'macOS', 'Windows']\n"
          ],
          "name": "stdout"
        }
      ]
    },
    {
      "cell_type": "code",
      "metadata": {
        "id": "E9eklOZc4CJh",
        "colab_type": "code",
        "colab": {
          "base_uri": "https://localhost:8080/",
          "height": 53
        },
        "outputId": "1a9600f6-641d-493f-ec9a-e5f8b03663f9"
      },
      "source": [
        "# Reverse a List Using Slicing Operator\n",
        "\n",
        "# Operating System List\n",
        "systems = ['Windows', 'macOS', 'Linux']\n",
        "print('Original List:', systems)\n",
        "\n",
        "# Reversing a list\t\n",
        "#Syntax: reversed_list = systems[start:stop:step] \n",
        "reversed_list = systems[::-1]\n",
        "\n",
        "# updated list\n",
        "print('Updated List:', reversed_list)"
      ],
      "execution_count": 9,
      "outputs": [
        {
          "output_type": "stream",
          "text": [
            "Original List: ['Windows', 'macOS', 'Linux']\n",
            "Updated List: ['Linux', 'macOS', 'Windows']\n"
          ],
          "name": "stdout"
        }
      ]
    },
    {
      "cell_type": "markdown",
      "metadata": {
        "id": "01jAzxQv5G36",
        "colab_type": "text"
      },
      "source": [
        "# Mutations"
      ]
    },
    {
      "cell_type": "markdown",
      "metadata": {
        "id": "JEr2K2jS5IV2",
        "colab_type": "text"
      },
      "source": [
        "Lists are mutable (they can be changed), and tuples are immutable (they cannot be changed)."
      ]
    },
    {
      "cell_type": "code",
      "metadata": {
        "id": "XZzcK_-w5R6i",
        "colab_type": "code",
        "colab": {
          "base_uri": "https://localhost:8080/",
          "height": 35
        },
        "outputId": "b5342de5-6472-4d83-c677-53ae49ed23e5"
      },
      "source": [
        "string = \"abracadabra\"\n",
        "print(string[5])"
      ],
      "execution_count": 10,
      "outputs": [
        {
          "output_type": "stream",
          "text": [
            "a\n"
          ],
          "name": "stdout"
        }
      ]
    },
    {
      "cell_type": "markdown",
      "metadata": {
        "id": "y9lI548q5cTZ",
        "colab_type": "text"
      },
      "source": [
        "What if we would like to assign a value at a certain index?"
      ]
    },
    {
      "cell_type": "code",
      "metadata": {
        "id": "tDE-1WZL5ZMA",
        "colab_type": "code",
        "colab": {
          "base_uri": "https://localhost:8080/",
          "height": 172
        },
        "outputId": "d7c9cfbd-8a40-47d7-97f1-6c77471cfe0a"
      },
      "source": [
        "string[5] = 'k' "
      ],
      "execution_count": 11,
      "outputs": [
        {
          "output_type": "error",
          "ename": "TypeError",
          "evalue": "ignored",
          "traceback": [
            "\u001b[0;31m---------------------------------------------------------------------------\u001b[0m",
            "\u001b[0;31mTypeError\u001b[0m                                 Traceback (most recent call last)",
            "\u001b[0;32m<ipython-input-11-68cc1f139bdb>\u001b[0m in \u001b[0;36m<module>\u001b[0;34m()\u001b[0m\n\u001b[0;32m----> 1\u001b[0;31m \u001b[0mstring\u001b[0m\u001b[0;34m[\u001b[0m\u001b[0;36m5\u001b[0m\u001b[0;34m]\u001b[0m \u001b[0;34m=\u001b[0m \u001b[0;34m'k'\u001b[0m\u001b[0;34m\u001b[0m\u001b[0;34m\u001b[0m\u001b[0m\n\u001b[0m",
            "\u001b[0;31mTypeError\u001b[0m: 'str' object does not support item assignment"
          ]
        }
      ]
    },
    {
      "cell_type": "markdown",
      "metadata": {
        "id": "yb3wqHgM5kFd",
        "colab_type": "text"
      },
      "source": [
        "One solution is to convert the string to a list and then change the value."
      ]
    },
    {
      "cell_type": "code",
      "metadata": {
        "id": "ekbu2JIU5owd",
        "colab_type": "code",
        "colab": {
          "base_uri": "https://localhost:8080/",
          "height": 35
        },
        "outputId": "791b724a-db98-4fbb-fad9-02a6f8c93a2a"
      },
      "source": [
        "string = \"abracadabra\"\n",
        "l = list(string)\n",
        "l[5] = 'k'\n",
        "string = ''.join(l)\n",
        "print(string)"
      ],
      "execution_count": 12,
      "outputs": [
        {
          "output_type": "stream",
          "text": [
            "abrackdabra\n"
          ],
          "name": "stdout"
        }
      ]
    },
    {
      "cell_type": "markdown",
      "metadata": {
        "id": "wV9ooSdv5w8j",
        "colab_type": "text"
      },
      "source": [
        "Another approach is to slice the string and join it back."
      ]
    },
    {
      "cell_type": "code",
      "metadata": {
        "id": "40v-PNB151UW",
        "colab_type": "code",
        "colab": {
          "base_uri": "https://localhost:8080/",
          "height": 35
        },
        "outputId": "eb178c22-35b4-4d7e-b08b-b1976da36932"
      },
      "source": [
        "string = string[:5] + \"k\" + string[6:]\n",
        "print(string)"
      ],
      "execution_count": 13,
      "outputs": [
        {
          "output_type": "stream",
          "text": [
            "abrackdabra\n"
          ],
          "name": "stdout"
        }
      ]
    },
    {
      "cell_type": "markdown",
      "metadata": {
        "id": "fdJsBp036OYF",
        "colab_type": "text"
      },
      "source": [
        "# Python built-in function for sets"
      ]
    },
    {
      "cell_type": "markdown",
      "metadata": {
        "id": "hqjlzBHl6Rhy",
        "colab_type": "text"
      },
      "source": [
        "A set is an unordered collection of elements without duplicate entries. When printed, iterated or converted into a sequence, its elements will appear in an arbitrary order."
      ]
    },
    {
      "cell_type": "code",
      "metadata": {
        "id": "5-jJnETY6Tb_",
        "colab_type": "code",
        "colab": {
          "base_uri": "https://localhost:8080/",
          "height": 35
        },
        "outputId": "50bd5d8b-460a-4309-c821-7dd50d8a8b2c"
      },
      "source": [
        "print(set('Sudhakar'))"
      ],
      "execution_count": 14,
      "outputs": [
        {
          "output_type": "stream",
          "text": [
            "{'u', 'r', 'a', 'd', 'h', 'k', 'S'}\n"
          ],
          "name": "stdout"
        }
      ]
    },
    {
      "cell_type": "markdown",
      "metadata": {
        "id": "X5b9m1z185jK",
        "colab_type": "text"
      },
      "source": [
        "## `add()`\n",
        "\n",
        "If we want to add a single element to an existing set, we can use the `add()` operation. It adds the element to the set and returns 'None'."
      ]
    },
    {
      "cell_type": "code",
      "metadata": {
        "id": "DBMGSYmB9IbQ",
        "colab_type": "code",
        "colab": {
          "base_uri": "https://localhost:8080/",
          "height": 35
        },
        "outputId": "7831e757-13b1-423c-a054-2581fc8afd9a"
      },
      "source": [
        "s = set('HackerRank')\n",
        "s.add('Sudhakar')\n",
        "print(s)"
      ],
      "execution_count": 24,
      "outputs": [
        {
          "output_type": "stream",
          "text": [
            "{'r', 'R', 'a', 'c', 'e', 'H', 'Sudhakar', 'k', 'n'}\n"
          ],
          "name": "stdout"
        }
      ]
    },
    {
      "cell_type": "markdown",
      "metadata": {
        "id": "hcUPVTAd9kAT",
        "colab_type": "text"
      },
      "source": [
        "## `remove()`\n",
        "\n",
        "This operation removes the specified element from the set.\n",
        "If element does not exist, it raises a `KeyError`."
      ]
    },
    {
      "cell_type": "code",
      "metadata": {
        "id": "lBhorLo69va6",
        "colab_type": "code",
        "colab": {
          "base_uri": "https://localhost:8080/",
          "height": 35
        },
        "outputId": "41b1f0ad-b053-46fd-ea10-fc12a1a9103d"
      },
      "source": [
        "s = set([1, 2, 3, 4, 5, 6, 7, 8, 9])\n",
        "s.remove(5)\n",
        "print(s)"
      ],
      "execution_count": 25,
      "outputs": [
        {
          "output_type": "stream",
          "text": [
            "{1, 2, 3, 4, 6, 7, 8, 9}\n"
          ],
          "name": "stdout"
        }
      ]
    },
    {
      "cell_type": "code",
      "metadata": {
        "id": "ZeqhfKB7905J",
        "colab_type": "code",
        "colab": {
          "base_uri": "https://localhost:8080/",
          "height": 35
        },
        "outputId": "dfdc438e-dd06-4f8e-b7fc-0e22d5523ad1"
      },
      "source": [
        "print(s.remove(4))"
      ],
      "execution_count": 28,
      "outputs": [
        {
          "output_type": "stream",
          "text": [
            "None\n"
          ],
          "name": "stdout"
        }
      ]
    },
    {
      "cell_type": "code",
      "metadata": {
        "id": "cnWJkdGX-BRR",
        "colab_type": "code",
        "colab": {
          "base_uri": "https://localhost:8080/",
          "height": 172
        },
        "outputId": "28592120-7ceb-4e08-b114-ed68b9036fc7"
      },
      "source": [
        "s.remove(0)"
      ],
      "execution_count": 29,
      "outputs": [
        {
          "output_type": "error",
          "ename": "KeyError",
          "evalue": "ignored",
          "traceback": [
            "\u001b[0;31m---------------------------------------------------------------------------\u001b[0m",
            "\u001b[0;31mKeyError\u001b[0m                                  Traceback (most recent call last)",
            "\u001b[0;32m<ipython-input-29-88ed82f2fe6e>\u001b[0m in \u001b[0;36m<module>\u001b[0;34m()\u001b[0m\n\u001b[0;32m----> 1\u001b[0;31m \u001b[0ms\u001b[0m\u001b[0;34m.\u001b[0m\u001b[0mremove\u001b[0m\u001b[0;34m(\u001b[0m\u001b[0;36m0\u001b[0m\u001b[0;34m)\u001b[0m\u001b[0;34m\u001b[0m\u001b[0;34m\u001b[0m\u001b[0m\n\u001b[0m",
            "\u001b[0;31mKeyError\u001b[0m: 0"
          ]
        }
      ]
    },
    {
      "cell_type": "markdown",
      "metadata": {
        "id": "xHa6xpEg-KsK",
        "colab_type": "text"
      },
      "source": [
        "## `discard()`\n",
        "\n",
        "This operation also removes a specified element from the set.\n",
        "If element does not exist, it does not raise a `KeyError`."
      ]
    },
    {
      "cell_type": "code",
      "metadata": {
        "id": "GggnRIec-TX4",
        "colab_type": "code",
        "colab": {
          "base_uri": "https://localhost:8080/",
          "height": 35
        },
        "outputId": "2b027e5d-27e0-4c86-eec8-238b1995185a"
      },
      "source": [
        "s = set([1, 2, 3, 4, 5, 6, 7, 8, 9])\n",
        "s.discard(0) # 0 does not exist in the set s\n",
        "print(s)"
      ],
      "execution_count": 31,
      "outputs": [
        {
          "output_type": "stream",
          "text": [
            "{1, 2, 3, 4, 5, 6, 7, 8, 9}\n"
          ],
          "name": "stdout"
        }
      ]
    },
    {
      "cell_type": "markdown",
      "metadata": {
        "id": "56Ul2YGp-hxS",
        "colab_type": "text"
      },
      "source": [
        "## `pop()`\n",
        "\n",
        "This operation removes and return an arbitrary element from the set.\n",
        "If there are no elements to remove, it raises a `IndexError`.\n"
      ]
    },
    {
      "cell_type": "code",
      "metadata": {
        "id": "KM3lEGQo-mzY",
        "colab_type": "code",
        "colab": {
          "base_uri": "https://localhost:8080/",
          "height": 53
        },
        "outputId": "6ace2ae3-334e-4874-cbfd-3218c852b7e0"
      },
      "source": [
        "my_set = {1, 2, 3, 4, 5, 6}\n",
        "print(my_set.pop())\n",
        "print(my_set)"
      ],
      "execution_count": 34,
      "outputs": [
        {
          "output_type": "stream",
          "text": [
            "1\n",
            "{2, 3, 4, 5, 6}\n"
          ],
          "name": "stdout"
        }
      ]
    },
    {
      "cell_type": "code",
      "metadata": {
        "id": "SSurlzuE-zYE",
        "colab_type": "code",
        "colab": {
          "base_uri": "https://localhost:8080/",
          "height": 190
        },
        "outputId": "b6aad4be-0919-48f1-86ae-7e7553f54988"
      },
      "source": [
        "my_set = []\n",
        "print(my_set.pop())"
      ],
      "execution_count": 38,
      "outputs": [
        {
          "output_type": "error",
          "ename": "IndexError",
          "evalue": "ignored",
          "traceback": [
            "\u001b[0;31m---------------------------------------------------------------------------\u001b[0m",
            "\u001b[0;31mIndexError\u001b[0m                                Traceback (most recent call last)",
            "\u001b[0;32m<ipython-input-38-6c9a2602fd70>\u001b[0m in \u001b[0;36m<module>\u001b[0;34m()\u001b[0m\n\u001b[1;32m      1\u001b[0m \u001b[0mmy_set\u001b[0m \u001b[0;34m=\u001b[0m \u001b[0;34m[\u001b[0m\u001b[0;34m]\u001b[0m\u001b[0;34m\u001b[0m\u001b[0;34m\u001b[0m\u001b[0m\n\u001b[0;32m----> 2\u001b[0;31m \u001b[0mprint\u001b[0m\u001b[0;34m(\u001b[0m\u001b[0mmy_set\u001b[0m\u001b[0;34m.\u001b[0m\u001b[0mpop\u001b[0m\u001b[0;34m(\u001b[0m\u001b[0;34m)\u001b[0m\u001b[0;34m)\u001b[0m\u001b[0;34m\u001b[0m\u001b[0;34m\u001b[0m\u001b[0m\n\u001b[0m",
            "\u001b[0;31mIndexError\u001b[0m: pop from empty list"
          ]
        }
      ]
    },
    {
      "cell_type": "markdown",
      "metadata": {
        "id": "vy-7t6lg_fpZ",
        "colab_type": "text"
      },
      "source": [
        "## `update()`\n",
        "\n",
        "It updates the set by adding elements from an iterable/another set.\n"
      ]
    },
    {
      "cell_type": "code",
      "metadata": {
        "id": "BjfxJCVt_nhA",
        "colab_type": "code",
        "colab": {
          "base_uri": "https://localhost:8080/",
          "height": 35
        },
        "outputId": "3dd299da-cbff-4b25-dd4d-47d6db403cef"
      },
      "source": [
        "H = set(\"Hacker\")\n",
        "R = set(\"Rank\")\n",
        "H.update(R)\n",
        "print(H)"
      ],
      "execution_count": 39,
      "outputs": [
        {
          "output_type": "stream",
          "text": [
            "{'r', 'R', 'a', 'c', 'e', 'H', 'k', 'n'}\n"
          ],
          "name": "stdout"
        }
      ]
    },
    {
      "cell_type": "markdown",
      "metadata": {
        "id": "BWOgxjLu6kjs",
        "colab_type": "text"
      },
      "source": [
        "# Exceptions\n"
      ]
    },
    {
      "cell_type": "markdown",
      "metadata": {
        "id": "jmdHUu686mVl",
        "colab_type": "text"
      },
      "source": [
        "Errors detected during execution are called exceptions."
      ]
    },
    {
      "cell_type": "code",
      "metadata": {
        "id": "7u1Rw6G26o2V",
        "colab_type": "code",
        "colab": {
          "base_uri": "https://localhost:8080/",
          "height": 172
        },
        "outputId": "009ceb41-c3f4-433d-8676-322fc1366d92"
      },
      "source": [
        "print(1/0)"
      ],
      "execution_count": 15,
      "outputs": [
        {
          "output_type": "error",
          "ename": "ZeroDivisionError",
          "evalue": "ignored",
          "traceback": [
            "\u001b[0;31m---------------------------------------------------------------------------\u001b[0m",
            "\u001b[0;31mZeroDivisionError\u001b[0m                         Traceback (most recent call last)",
            "\u001b[0;32m<ipython-input-15-2fc232d1511a>\u001b[0m in \u001b[0;36m<module>\u001b[0;34m()\u001b[0m\n\u001b[0;32m----> 1\u001b[0;31m \u001b[0mprint\u001b[0m\u001b[0;34m(\u001b[0m\u001b[0;36m1\u001b[0m\u001b[0;34m/\u001b[0m\u001b[0;36m0\u001b[0m\u001b[0;34m)\u001b[0m\u001b[0;34m\u001b[0m\u001b[0;34m\u001b[0m\u001b[0m\n\u001b[0m",
            "\u001b[0;31mZeroDivisionError\u001b[0m: division by zero"
          ]
        }
      ]
    },
    {
      "cell_type": "code",
      "metadata": {
        "id": "NJ2mE7ZY6s3x",
        "colab_type": "code",
        "colab": {
          "base_uri": "https://localhost:8080/",
          "height": 172
        },
        "outputId": "f270d8a3-7e6f-4c3a-f9bb-5f4812896eeb"
      },
      "source": [
        "print(1/int('#'))"
      ],
      "execution_count": 18,
      "outputs": [
        {
          "output_type": "error",
          "ename": "ValueError",
          "evalue": "ignored",
          "traceback": [
            "\u001b[0;31m---------------------------------------------------------------------------\u001b[0m",
            "\u001b[0;31mValueError\u001b[0m                                Traceback (most recent call last)",
            "\u001b[0;32m<ipython-input-18-3e731cc47253>\u001b[0m in \u001b[0;36m<module>\u001b[0;34m()\u001b[0m\n\u001b[0;32m----> 1\u001b[0;31m \u001b[0mprint\u001b[0m\u001b[0;34m(\u001b[0m\u001b[0;36m1\u001b[0m\u001b[0;34m/\u001b[0m\u001b[0mint\u001b[0m\u001b[0;34m(\u001b[0m\u001b[0;34m'#'\u001b[0m\u001b[0;34m)\u001b[0m\u001b[0;34m)\u001b[0m\u001b[0;34m\u001b[0m\u001b[0;34m\u001b[0m\u001b[0m\n\u001b[0m",
            "\u001b[0;31mValueError\u001b[0m: invalid literal for int() with base 10: '#'"
          ]
        }
      ]
    },
    {
      "cell_type": "code",
      "metadata": {
        "id": "rKzGO8l_667h",
        "colab_type": "code",
        "colab": {
          "base_uri": "https://localhost:8080/",
          "height": 35
        },
        "outputId": "66df0035-aa50-4f41-b4d2-4f4f58e55229"
      },
      "source": [
        "a, b = 10, 0\n",
        "try:\n",
        "  print(a / b)\n",
        "except ZeroDivisionError as e:\n",
        "  print(\"Error code:\", e)"
      ],
      "execution_count": 20,
      "outputs": [
        {
          "output_type": "stream",
          "text": [
            "Error code: division by zero\n"
          ],
          "name": "stdout"
        }
      ]
    },
    {
      "cell_type": "code",
      "metadata": {
        "id": "4PB5m_QG7E-z",
        "colab_type": "code",
        "colab": {
          "base_uri": "https://localhost:8080/",
          "height": 35
        },
        "outputId": "9cf8aa1c-296a-4471-d606-14e956a869a8"
      },
      "source": [
        "a, b = 5, '#'\n",
        "try:\n",
        "  print(a / int(b))\n",
        "except ValueError as e:\n",
        "  print(\"Error code:\", e)"
      ],
      "execution_count": 22,
      "outputs": [
        {
          "output_type": "stream",
          "text": [
            "Error code: invalid literal for int() with base 10: '#'\n"
          ],
          "name": "stdout"
        }
      ]
    }
  ]
}