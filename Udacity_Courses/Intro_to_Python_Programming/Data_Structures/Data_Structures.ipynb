{
  "nbformat": 4,
  "nbformat_minor": 0,
  "metadata": {
    "colab": {
      "name": "Data_Structures.ipynb",
      "provenance": [],
      "collapsed_sections": []
    },
    "kernelspec": {
      "name": "python3",
      "display_name": "Python 3"
    }
  },
  "cells": [
    {
      "cell_type": "markdown",
      "metadata": {
        "id": "D9rqBHY4UlLU",
        "colab_type": "text"
      },
      "source": [
        "* Types of Data Structures: Lists, Tuples, Sets, Dictionaries, Compound Data Structures\n",
        "* Operators: Membership, Identity\n",
        "* Built-In Functions or Methods"
      ]
    },
    {
      "cell_type": "markdown",
      "metadata": {
        "id": "6xph8_TPbgmJ",
        "colab_type": "text"
      },
      "source": [
        "# Lists and Membership Operators\n"
      ]
    },
    {
      "cell_type": "markdown",
      "metadata": {
        "id": "_vURuG8vWy1b",
        "colab_type": "text"
      },
      "source": [
        "**Lists**\n",
        "\n",
        "Data structures are containers that organize and group data types together in different ways. A list is one of the most common and basic data structures in Python.\n",
        "\n",
        "Lists can contain any mix and match of the data types. "
      ]
    },
    {
      "cell_type": "code",
      "metadata": {
        "id": "rlY6G7FDW6qO",
        "colab_type": "code",
        "colab": {}
      },
      "source": [
        "list_of_random_things = [1, 3.4, 'a string', True]"
      ],
      "execution_count": 1,
      "outputs": []
    },
    {
      "cell_type": "markdown",
      "metadata": {
        "id": "13TPXo-DXGdY",
        "colab_type": "text"
      },
      "source": [
        "This is a list of 4 elements. All ordered containers (like lists) are indexed in python using a starting index of 0. Therefore, to pull the first value from the above list, we can write:"
      ]
    },
    {
      "cell_type": "code",
      "metadata": {
        "id": "Gzu3Mf6rXITk",
        "colab_type": "code",
        "colab": {
          "base_uri": "https://localhost:8080/",
          "height": 35
        },
        "outputId": "94ca4727-6001-4925-e322-921db49346d6"
      },
      "source": [
        "list_of_random_things[0]"
      ],
      "execution_count": 2,
      "outputs": [
        {
          "output_type": "execute_result",
          "data": {
            "text/plain": [
              "1"
            ]
          },
          "metadata": {
            "tags": []
          },
          "execution_count": 2
        }
      ]
    },
    {
      "cell_type": "markdown",
      "metadata": {
        "id": "VDqVowTeXRTW",
        "colab_type": "text"
      },
      "source": [
        "One can index from the end of a list by using negative values, where -1 is the last element, -2 is the second to last element and so on."
      ]
    },
    {
      "cell_type": "code",
      "metadata": {
        "id": "1euSszzDXSdW",
        "colab_type": "code",
        "colab": {
          "base_uri": "https://localhost:8080/",
          "height": 35
        },
        "outputId": "1bd3927b-22d6-4f6f-840e-9600ede28657"
      },
      "source": [
        "list_of_random_things[-1]"
      ],
      "execution_count": 3,
      "outputs": [
        {
          "output_type": "execute_result",
          "data": {
            "text/plain": [
              "True"
            ]
          },
          "metadata": {
            "tags": []
          },
          "execution_count": 3
        }
      ]
    },
    {
      "cell_type": "code",
      "metadata": {
        "id": "-t1eaAKkXXUL",
        "colab_type": "code",
        "colab": {
          "base_uri": "https://localhost:8080/",
          "height": 35
        },
        "outputId": "f349a6ee-f50b-42e8-e091-b3aee3f81f2f"
      },
      "source": [
        "list_of_random_things[-2]"
      ],
      "execution_count": 4,
      "outputs": [
        {
          "output_type": "execute_result",
          "data": {
            "application/vnd.google.colaboratory.intrinsic": {
              "type": "string"
            },
            "text/plain": [
              "'a string'"
            ]
          },
          "metadata": {
            "tags": []
          },
          "execution_count": 4
        }
      ]
    },
    {
      "cell_type": "markdown",
      "metadata": {
        "id": "mQKR-i1_ZcHW",
        "colab_type": "text"
      },
      "source": [
        "There is a two colon extended slicing method, which provides a reversed copy. "
      ]
    },
    {
      "cell_type": "code",
      "metadata": {
        "id": "msT1_dhJXzZz",
        "colab_type": "code",
        "colab": {
          "base_uri": "https://localhost:8080/",
          "height": 35
        },
        "outputId": "1d485828-319a-40e2-d3af-29b49a7081d3"
      },
      "source": [
        "list_of_random_things[::-1]"
      ],
      "execution_count": 5,
      "outputs": [
        {
          "output_type": "execute_result",
          "data": {
            "text/plain": [
              "[True, 'a string', 3.4, 1]"
            ]
          },
          "metadata": {
            "tags": []
          },
          "execution_count": 5
        }
      ]
    },
    {
      "cell_type": "code",
      "metadata": {
        "id": "QcLcd9QRZndQ",
        "colab_type": "code",
        "colab": {
          "base_uri": "https://localhost:8080/",
          "height": 35
        },
        "outputId": "82052639-dc87-47e3-c94d-73ea99d67734"
      },
      "source": [
        "print(\"Hello World\"[::-1])"
      ],
      "execution_count": 6,
      "outputs": [
        {
          "output_type": "stream",
          "text": [
            "dlroW olleH\n"
          ],
          "name": "stdout"
        }
      ]
    },
    {
      "cell_type": "markdown",
      "metadata": {
        "id": "Gy2Imc0obYv_",
        "colab_type": "text"
      },
      "source": [
        "**Slice and Dice with Lists**\n",
        "\n",
        "We can pull more than one value from a list at a time by using slicing. When using slicing, it is important to remember that the lower index is inclusive and the upper index is exclusive."
      ]
    },
    {
      "cell_type": "code",
      "metadata": {
        "id": "3LOwO6ujbrad",
        "colab_type": "code",
        "colab": {
          "base_uri": "https://localhost:8080/",
          "height": 35
        },
        "outputId": "f4b527e9-a990-4b40-f5ae-b36c75b90b92"
      },
      "source": [
        "list_of_random_things = [1, 3.4, 'a string', True]\n",
        "list_of_random_things[1:2]"
      ],
      "execution_count": 7,
      "outputs": [
        {
          "output_type": "execute_result",
          "data": {
            "text/plain": [
              "[3.4]"
            ]
          },
          "metadata": {
            "tags": []
          },
          "execution_count": 7
        }
      ]
    },
    {
      "cell_type": "markdown",
      "metadata": {
        "id": "x9WfJNJpb2KB",
        "colab_type": "text"
      },
      "source": [
        "Notice this is still different than just indexing a single element, because you get a list back with this indexing. The colon tells us to go from the starting value on the left of the colon up to, but not including, the element on the right.\n",
        "\n",
        "If you know that you want to start at the beginning, of the list you can also leave out this value."
      ]
    },
    {
      "cell_type": "code",
      "metadata": {
        "id": "lxDlvRYub0pY",
        "colab_type": "code",
        "colab": {
          "base_uri": "https://localhost:8080/",
          "height": 35
        },
        "outputId": "7d251d3d-c7d0-410a-8a57-2a34b84ab8f1"
      },
      "source": [
        "list_of_random_things[:2]"
      ],
      "execution_count": 8,
      "outputs": [
        {
          "output_type": "execute_result",
          "data": {
            "text/plain": [
              "[1, 3.4]"
            ]
          },
          "metadata": {
            "tags": []
          },
          "execution_count": 8
        }
      ]
    },
    {
      "cell_type": "markdown",
      "metadata": {
        "id": "bp_MTi12cD7S",
        "colab_type": "text"
      },
      "source": [
        "or to return all of the elements to the end of the list, we can leave off a final element."
      ]
    },
    {
      "cell_type": "code",
      "metadata": {
        "id": "c1lfHk23cFM_",
        "colab_type": "code",
        "colab": {
          "base_uri": "https://localhost:8080/",
          "height": 35
        },
        "outputId": "8128ef3d-07a7-48e6-f534-9ed1220619fc"
      },
      "source": [
        "list_of_random_things[1:]\n"
      ],
      "execution_count": 9,
      "outputs": [
        {
          "output_type": "execute_result",
          "data": {
            "text/plain": [
              "[3.4, 'a string', True]"
            ]
          },
          "metadata": {
            "tags": []
          },
          "execution_count": 9
        }
      ]
    },
    {
      "cell_type": "markdown",
      "metadata": {
        "id": "4ppPxn_bcQuZ",
        "colab_type": "text"
      },
      "source": [
        "This type of indexing works exactly the same on strings, where the returned value will be a string."
      ]
    },
    {
      "cell_type": "markdown",
      "metadata": {
        "id": "vFfglVsFcV_i",
        "colab_type": "text"
      },
      "source": [
        "**Are you `in` OR `not in`?**\n",
        "\n",
        "`in` and `not in` are known as membership operators. We can use `in` and `not in` to return a **bool** of whether an element exists within our list, or if one string is a substring of another."
      ]
    },
    {
      "cell_type": "code",
      "metadata": {
        "id": "ENuag39RclRG",
        "colab_type": "code",
        "colab": {
          "base_uri": "https://localhost:8080/",
          "height": 107
        },
        "outputId": "22d5d9b6-2e4b-4c6c-db4b-f6614a3d2c3b"
      },
      "source": [
        "print('this' in 'this is a string')\n",
        "\n",
        "print('in' in 'this is a string')\n",
        "\n",
        "print('isa' in 'this is a string')\n",
        "\n",
        "print(5 not in [1, 2, 3, 4, 6])\n",
        "\n",
        "print(5 in [1, 2, 3, 4, 6])"
      ],
      "execution_count": 10,
      "outputs": [
        {
          "output_type": "stream",
          "text": [
            "True\n",
            "True\n",
            "False\n",
            "True\n",
            "False\n"
          ],
          "name": "stdout"
        }
      ]
    },
    {
      "cell_type": "markdown",
      "metadata": {
        "id": "wzC9ypr3d7dn",
        "colab_type": "text"
      },
      "source": [
        "**Mutability and Order**\n",
        "\n",
        "Mutability is about whether or not we can change an object once it has been created. If an object (like a list or string) can be changed (like a list can), then it is called mutable. However, if an object cannot be changed with creating a completely new object (like strings), then the object is considered immutable."
      ]
    },
    {
      "cell_type": "code",
      "metadata": {
        "id": "flFkbWMQeDPU",
        "colab_type": "code",
        "colab": {
          "base_uri": "https://localhost:8080/",
          "height": 35
        },
        "outputId": "a95168b1-f2aa-474a-c87c-01b1a47f138a"
      },
      "source": [
        "my_lst = [1, 2, 3, 4, 5]\n",
        "my_lst[0] = 'one'\n",
        "print(my_lst)"
      ],
      "execution_count": 11,
      "outputs": [
        {
          "output_type": "stream",
          "text": [
            "['one', 2, 3, 4, 5]\n"
          ],
          "name": "stdout"
        }
      ]
    },
    {
      "cell_type": "markdown",
      "metadata": {
        "id": "PdtI_lHPeKYb",
        "colab_type": "text"
      },
      "source": [
        "As shown above, we are able to replace 1 with 'one' in the above list. This is because lists are mutable.\n",
        "\n",
        "However, the following does not work:"
      ]
    },
    {
      "cell_type": "code",
      "metadata": {
        "id": "zqkHpO6lrV9p",
        "colab_type": "code",
        "colab": {
          "base_uri": "https://localhost:8080/",
          "height": 190
        },
        "outputId": "844c7c92-b3d1-466d-9ab7-0a8864e13f5c"
      },
      "source": [
        "greeting = \"Hello there\"\n",
        "greeting[0] = 'M'"
      ],
      "execution_count": 13,
      "outputs": [
        {
          "output_type": "error",
          "ename": "TypeError",
          "evalue": "ignored",
          "traceback": [
            "\u001b[0;31m---------------------------------------------------------------------------\u001b[0m",
            "\u001b[0;31mTypeError\u001b[0m                                 Traceback (most recent call last)",
            "\u001b[0;32m<ipython-input-13-023028cc6e1a>\u001b[0m in \u001b[0;36m<module>\u001b[0;34m()\u001b[0m\n\u001b[1;32m      1\u001b[0m \u001b[0mgreeting\u001b[0m \u001b[0;34m=\u001b[0m \u001b[0;34m\"Hello there\"\u001b[0m\u001b[0;34m\u001b[0m\u001b[0;34m\u001b[0m\u001b[0m\n\u001b[0;32m----> 2\u001b[0;31m \u001b[0mgreeting\u001b[0m\u001b[0;34m[\u001b[0m\u001b[0;36m0\u001b[0m\u001b[0;34m]\u001b[0m \u001b[0;34m=\u001b[0m \u001b[0;34m'M'\u001b[0m\u001b[0;34m\u001b[0m\u001b[0;34m\u001b[0m\u001b[0m\n\u001b[0m",
            "\u001b[0;31mTypeError\u001b[0m: 'str' object does not support item assignment"
          ]
        }
      ]
    },
    {
      "cell_type": "markdown",
      "metadata": {
        "id": "kjyiyw8WrcRE",
        "colab_type": "text"
      },
      "source": [
        "This is because strings are **immutable**. This means to change this string, you will need to create a completely new string.\n",
        "\n",
        "There are two things to keep in mind for each of the data types we are using:\n",
        "\n",
        "* Are they **mutable**?\n",
        "* Are they **ordered**?\n",
        "\n",
        "Order is about whether the position of an element in the object can be used to access the element. Both strings and lists are ordered. We can use the order to access parts of a list and string."
      ]
    },
    {
      "cell_type": "markdown",
      "metadata": {
        "id": "PUrga27wsurh",
        "colab_type": "text"
      },
      "source": [
        "# List Methods\n"
      ]
    },
    {
      "cell_type": "markdown",
      "metadata": {
        "id": "3lyTZl-3sv_f",
        "colab_type": "text"
      },
      "source": [
        "**Useful Functions for Lists**\n",
        "\n",
        "1. `len()` returns how many elements are in a list.\n",
        "2. `max()` returns the greatest element of the list. How the greatest element is determined depends on what type objects are in the list. The maximum element in a list of numbers is the largest number. **The maximum elements in a list of strings is element that would occur last if the list were sorted alphabetically.** This works because the the max function is defined in terms of the greater than comparison operator. The max function is undefined for lists that contain elements from different, incomparable types.\n",
        "3. `min()` returns the smallest element in a list. min is the opposite of max, which returns the largest element in a list.\n",
        "4. `sorted()` returns a copy of a list in order from smallest to largest, leaving the list unchanged.\n",
        "\n",
        "**`join` method**\n",
        "\n",
        "`join` is a string method that takes a list of strings as an argument, and returns a string consisting of the list elements joined by a separator string."
      ]
    },
    {
      "cell_type": "code",
      "metadata": {
        "id": "fW6EHNpyuE6E",
        "colab_type": "code",
        "colab": {
          "base_uri": "https://localhost:8080/",
          "height": 89
        },
        "outputId": "11f3de17-1647-4291-cc3c-24b1086d1ed4"
      },
      "source": [
        "new_str = \"\\n\".join([\"fore\", \"aft\", \"starboard\", \"port\"])\n",
        "print(new_str)"
      ],
      "execution_count": 14,
      "outputs": [
        {
          "output_type": "stream",
          "text": [
            "fore\n",
            "aft\n",
            "starboard\n",
            "port\n"
          ],
          "name": "stdout"
        }
      ]
    },
    {
      "cell_type": "markdown",
      "metadata": {
        "id": "GuDE8qfyuMrh",
        "colab_type": "text"
      },
      "source": [
        "In this example we use the string \"\\n\" as the separator so that there is a newline between each element. We can also use other strings as separators with `.join`. Here we use a hyphen."
      ]
    },
    {
      "cell_type": "code",
      "metadata": {
        "id": "8nyZc34csuCy",
        "colab_type": "code",
        "colab": {
          "base_uri": "https://localhost:8080/",
          "height": 35
        },
        "outputId": "7c3fab43-54b1-4338-f46c-b11b19e129f1"
      },
      "source": [
        "name = \"-\".join([\"García\", \"O'Kelly\"])\n",
        "print(name)"
      ],
      "execution_count": 15,
      "outputs": [
        {
          "output_type": "stream",
          "text": [
            "García-O'Kelly\n"
          ],
          "name": "stdout"
        }
      ]
    },
    {
      "cell_type": "markdown",
      "metadata": {
        "id": "K04JbkXouXni",
        "colab_type": "text"
      },
      "source": [
        "It is important to remember to separate each of the items in the list you are joining with a comma (,). Forgetting to do so will not trigger an error, but will also give you unexpected results."
      ]
    },
    {
      "cell_type": "markdown",
      "metadata": {
        "id": "goKmazmvu29n",
        "colab_type": "text"
      },
      "source": [
        "**`append` method**\n",
        "\n",
        "A helpful method called append adds an element to the end of a list."
      ]
    },
    {
      "cell_type": "code",
      "metadata": {
        "id": "KvWXhJBXu8VC",
        "colab_type": "code",
        "colab": {
          "base_uri": "https://localhost:8080/",
          "height": 35
        },
        "outputId": "14a6d312-d681-47f8-acbf-87d300c96519"
      },
      "source": [
        "letters = ['a', 'b', 'c', 'd']\n",
        "letters.append('z')\n",
        "print(letters)"
      ],
      "execution_count": 16,
      "outputs": [
        {
          "output_type": "stream",
          "text": [
            "['a', 'b', 'c', 'd', 'z']\n"
          ],
          "name": "stdout"
        }
      ]
    },
    {
      "cell_type": "markdown",
      "metadata": {
        "id": "OuxLZi1TvSsZ",
        "colab_type": "text"
      },
      "source": [
        "# Tuples"
      ]
    },
    {
      "cell_type": "markdown",
      "metadata": {
        "id": "sVdk0eMpvT2z",
        "colab_type": "text"
      },
      "source": [
        "A tuple is another useful container. It's a data type for **immutable** **ordered** sequences of elements. They are often used to store related pieces of information. Consider this example involving latitude and longitude:"
      ]
    },
    {
      "cell_type": "code",
      "metadata": {
        "id": "Brg7veY7vixq",
        "colab_type": "code",
        "colab": {
          "base_uri": "https://localhost:8080/",
          "height": 53
        },
        "outputId": "9f73569a-f12b-467b-ded1-2e86cfa73393"
      },
      "source": [
        "location = (13.4125, 103.866667)\n",
        "print(\"Latitude:\", location[0])\n",
        "print(\"Longitude:\", location[1])"
      ],
      "execution_count": 17,
      "outputs": [
        {
          "output_type": "stream",
          "text": [
            "Latitude: 13.4125\n",
            "Longitude: 103.866667\n"
          ],
          "name": "stdout"
        }
      ]
    },
    {
      "cell_type": "markdown",
      "metadata": {
        "id": "ftGHNaRhvnPU",
        "colab_type": "text"
      },
      "source": [
        "Tuples are similar to lists in that they store an ordered collection of objects which can be accessed by their indices. Unlike lists, however, tuples are immutable - you can't add and remove items from tuples, or sort them in place.\n",
        "\n",
        "Tuples can also be used to assign multiple variables in a compact way."
      ]
    },
    {
      "cell_type": "code",
      "metadata": {
        "id": "YBLA0Gz2vrp7",
        "colab_type": "code",
        "colab": {
          "base_uri": "https://localhost:8080/",
          "height": 35
        },
        "outputId": "039a2c6f-12be-47d9-80b1-7d883ff79d1b"
      },
      "source": [
        "dimensions = 52, 40, 100\n",
        "length, width, height = dimensions\n",
        "print(\"The dimensions are {} x {} x {}\".format(length, width, height))"
      ],
      "execution_count": 20,
      "outputs": [
        {
          "output_type": "stream",
          "text": [
            "The dimensions are 52 x 40 x 100\n"
          ],
          "name": "stdout"
        }
      ]
    },
    {
      "cell_type": "markdown",
      "metadata": {
        "id": "xHkQHtEgvySs",
        "colab_type": "text"
      },
      "source": [
        "The parentheses are optional when defining tuples, and programmers frequently omit them if parentheses don't clarify the code.\n",
        "\n",
        "In the second line, three variables are assigned from the content of the tuple dimensions. This is called **tuple unpacking**. We can use tuple unpacking to assign the information from a tuple into multiple variables without having to access them one by one and make multiple assignment statements.\n",
        "\n",
        "If we won't need to use dimensions directly, we could shorten those two lines of code into a single line that assigns three variables in one go!"
      ]
    },
    {
      "cell_type": "code",
      "metadata": {
        "id": "B2fqX6g_v-oR",
        "colab_type": "code",
        "colab": {
          "base_uri": "https://localhost:8080/",
          "height": 35
        },
        "outputId": "e0aa7469-565b-4a82-a256-f023de68ea2d"
      },
      "source": [
        "length, width, height =  52, 40, 100\n",
        "print(\"The dimensions are {} x {} x {}\".format(length, width, height))"
      ],
      "execution_count": 21,
      "outputs": [
        {
          "output_type": "stream",
          "text": [
            "The dimensions are 52 x 40 x 100\n"
          ],
          "name": "stdout"
        }
      ]
    },
    {
      "cell_type": "markdown",
      "metadata": {
        "id": "A6JyZjfCyrQY",
        "colab_type": "text"
      },
      "source": [
        "# Sets "
      ]
    },
    {
      "cell_type": "markdown",
      "metadata": {
        "id": "YtenT4DQyuhQ",
        "colab_type": "text"
      },
      "source": [
        "A **set** is a data type for **mutable** **unordered** collections of unique elements. One application of a set is to quickly remove duplicates from a list.\n",
        "\n"
      ]
    },
    {
      "cell_type": "code",
      "metadata": {
        "id": "O_GfvzyKyxYz",
        "colab_type": "code",
        "colab": {
          "base_uri": "https://localhost:8080/",
          "height": 35
        },
        "outputId": "7015d897-da7f-412e-cf15-ef111af8ebf8"
      },
      "source": [
        "numbers = [1, 2, 6, 3, 1, 1, 6]\n",
        "unique_nums = set(numbers)\n",
        "print(unique_nums)"
      ],
      "execution_count": 22,
      "outputs": [
        {
          "output_type": "stream",
          "text": [
            "{1, 2, 3, 6}\n"
          ],
          "name": "stdout"
        }
      ]
    },
    {
      "cell_type": "markdown",
      "metadata": {
        "id": "wtcqY8wXy7Xh",
        "colab_type": "text"
      },
      "source": [
        "Sets support the `in` operator the same as lists do. We can add elements to sets using the `add` method, and remove elements using the `pop` method, similar to lists. Although, when you pop an element from a set, a random element is removed. Remember that sets, unlike lists, are unordered so there is no \"last element\"."
      ]
    },
    {
      "cell_type": "code",
      "metadata": {
        "id": "wqsxwpQ3zFfL",
        "colab_type": "code",
        "colab": {
          "base_uri": "https://localhost:8080/",
          "height": 89
        },
        "outputId": "091296a7-1091-433e-c28d-7501f476cdc9"
      },
      "source": [
        "fruit = {\"apple\", \"banana\", \"orange\", \"grapefruit\"}  # define a set\n",
        "\n",
        "print(\"watermelon\" in fruit)  # check for element\n",
        "\n",
        "fruit.add(\"watermelon\")  # add an element\n",
        "print(fruit)\n",
        "\n",
        "print(fruit.pop())  # remove a random element\n",
        "print(fruit)"
      ],
      "execution_count": 24,
      "outputs": [
        {
          "output_type": "stream",
          "text": [
            "False\n",
            "{'apple', 'orange', 'grapefruit', 'banana', 'watermelon'}\n",
            "apple\n",
            "{'orange', 'grapefruit', 'banana', 'watermelon'}\n"
          ],
          "name": "stdout"
        }
      ]
    },
    {
      "cell_type": "markdown",
      "metadata": {
        "id": "WyTnv3sFzQ80",
        "colab_type": "text"
      },
      "source": [
        "Methods like **union**, **intersection**, and **difference** are easy to perform with sets, and are much faster than such operators with other containers."
      ]
    }
  ]
}