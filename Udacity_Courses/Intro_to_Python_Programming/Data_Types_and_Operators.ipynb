{
  "nbformat": 4,
  "nbformat_minor": 0,
  "metadata": {
    "colab": {
      "name": "Data_Types_and_Operators.ipynb",
      "provenance": [],
      "collapsed_sections": []
    },
    "kernelspec": {
      "name": "python3",
      "display_name": "Python 3"
    }
  },
  "cells": [
    {
      "cell_type": "markdown",
      "metadata": {
        "id": "jGL5JiLo7eXV",
        "colab_type": "text"
      },
      "source": [
        "* Data Types: Integers, Floats, Booleans, Strings\n",
        "* Operators: Arithmetic, Assignment, Comparison, Logical\n"
      ]
    },
    {
      "cell_type": "markdown",
      "metadata": {
        "id": "bMkQYxoV7nzh",
        "colab_type": "text"
      },
      "source": [
        "# Arithmetic Operators\n"
      ]
    },
    {
      "cell_type": "markdown",
      "metadata": {
        "id": "vKb3RUSpkAIL",
        "colab_type": "text"
      },
      "source": [
        "Arithmetic Operators\n",
        "\n",
        "* $+$ Addition\n",
        "* $-$ Subtraction\n",
        "* $*$ Multiplication\n",
        "* $/$ Division\n",
        "* % Mod (the remainder after dividing)\n",
        "* $**$ Exponentiation (note that ^ does not do this operation, as one might have seen in other languages)\n",
        "* $//$ Divides and rounds down to the nearest integer\n",
        "\n",
        "The usual order of mathematical operations holds in Python, as given in this Math Forum [page](http://mathforum.org/dr.math/faq/faq.order.operations.html).\n",
        "\n",
        "Bitwise operators are special operators in Python that one can learn more about [here](https://wiki.python.org/moin/BitwiseOperators). "
      ]
    },
    {
      "cell_type": "markdown",
      "metadata": {
        "id": "Gbo1e_p4lZ6E",
        "colab_type": "text"
      },
      "source": [
        "# Variables and Assignment Operators\n"
      ]
    },
    {
      "cell_type": "markdown",
      "metadata": {
        "id": "1qmjCnFGnubb",
        "colab_type": "text"
      },
      "source": [
        "Besides writing variable names that are descriptive, there are a few things to watch out for when naming variables in Python.\n",
        "\n",
        "1. Only use ordinary letters, numbers and underscores in your variable names. They can’t have spaces, and need to start with a letter or underscore.\n",
        "\n",
        "2. You can’t use reserved words or built-in identifiers that have important purposes in Python. A list of python reserved words is described [here](https://pentangle.net/python/handbook/node52.html). Creating names that are descriptive of the values often will help you avoid using any of these words. A quick table of these words is also available below.\n",
        "\n",
        "![keywords](https://video.udacity-data.com/topher/2018/January/5a71131d_screen-shot-2018-01-30-at-4.39.42-pm/screen-shot-2018-01-30-at-4.39.42-pm.png)\n",
        "\n",
        "3. The pythonic way to name variables is to use all lowercase letters and underscores to separate words. For instance, \n",
        "```\n",
        "my_height = 58\n",
        "my_lat = 40\n",
        "my_long = 105\n",
        "```"
      ]
    },
    {
      "cell_type": "markdown",
      "metadata": {
        "id": "gccEEDc-o0qs",
        "colab_type": "text"
      },
      "source": [
        "Assignment Operators\n",
        "\n",
        "![assignment](https://video.udacity-data.com/topher/2018/January/5a7118b3_screen-shot-2018-01-30-at-5.14.39-pm/screen-shot-2018-01-30-at-5.14.39-pm.png)\n",
        "\n",
        "One can also use *= in a similar way, but this is less common than the operations shown above."
      ]
    },
    {
      "cell_type": "markdown",
      "metadata": {
        "id": "HLvtIgf-LWQe",
        "colab_type": "text"
      },
      "source": [
        "# Integers and Floats\n"
      ]
    },
    {
      "cell_type": "markdown",
      "metadata": {
        "id": "gkwH0UO8Lbh1",
        "colab_type": "text"
      },
      "source": [
        "There are two Python data types that could be used for numeric values:\n",
        "\n",
        "* **int** - for integer values\n",
        "* **float** - for decimal or floating point values"
      ]
    },
    {
      "cell_type": "code",
      "metadata": {
        "id": "EdFzELxGMA6j",
        "colab_type": "code",
        "colab": {}
      },
      "source": [
        "x = int(4.7)   # x is now an integer 4\n",
        "y = float(4)   # y is now a float of 4.0"
      ],
      "execution_count": 1,
      "outputs": []
    },
    {
      "cell_type": "code",
      "metadata": {
        "id": "FKJ2wdAsMHpw",
        "colab_type": "code",
        "colab": {
          "base_uri": "https://localhost:8080/",
          "height": 53
        },
        "outputId": "3afb4bea-a7c0-4aa8-b07e-2e1f6b942d8e"
      },
      "source": [
        "print(type(x))\n",
        "print(type(y))"
      ],
      "execution_count": 2,
      "outputs": [
        {
          "output_type": "stream",
          "text": [
            "<class 'int'>\n",
            "<class 'float'>\n"
          ],
          "name": "stdout"
        }
      ]
    },
    {
      "cell_type": "markdown",
      "metadata": {
        "id": "3GEUy06yMP5K",
        "colab_type": "text"
      },
      "source": [
        "Because the float, or approximation, for 0.1 is actually slightly more than 0.1, when we add several of them together we can see the difference between the mathematically correct answer and the one that Python creates. More on this topic is given [here](https://docs.python.org/3/tutorial/floatingpoint.html). "
      ]
    },
    {
      "cell_type": "code",
      "metadata": {
        "id": "1uSW1hRHMOfR",
        "colab_type": "code",
        "colab": {
          "base_uri": "https://localhost:8080/",
          "height": 53
        },
        "outputId": "b8e80ade-8589-42b1-d6cc-d29135ddd770"
      },
      "source": [
        "print(0.1 + 0.1 + 0.1 == 0.3)\n",
        "\n",
        "print(0.1 + 0.1 + 0.1)"
      ],
      "execution_count": 3,
      "outputs": [
        {
          "output_type": "stream",
          "text": [
            "False\n",
            "0.30000000000000004\n"
          ],
          "name": "stdout"
        }
      ]
    },
    {
      "cell_type": "markdown",
      "metadata": {
        "id": "0CrBWMSiSv08",
        "colab_type": "text"
      },
      "source": [
        "## Divide By Zero?\n"
      ]
    },
    {
      "cell_type": "code",
      "metadata": {
        "id": "dFF2tPUTSxJU",
        "colab_type": "code",
        "colab": {
          "base_uri": "https://localhost:8080/",
          "height": 172
        },
        "outputId": "ec793b30-0aac-4ef5-c435-01bb91469c6e"
      },
      "source": [
        "print(1/0)"
      ],
      "execution_count": 4,
      "outputs": [
        {
          "output_type": "error",
          "ename": "ZeroDivisionError",
          "evalue": "ignored",
          "traceback": [
            "\u001b[0;31m---------------------------------------------------------------------------\u001b[0m",
            "\u001b[0;31mZeroDivisionError\u001b[0m                         Traceback (most recent call last)",
            "\u001b[0;32m<ipython-input-4-2fc232d1511a>\u001b[0m in \u001b[0;36m<module>\u001b[0;34m()\u001b[0m\n\u001b[0;32m----> 1\u001b[0;31m \u001b[0mprint\u001b[0m\u001b[0;34m(\u001b[0m\u001b[0;36m1\u001b[0m\u001b[0;34m/\u001b[0m\u001b[0;36m0\u001b[0m\u001b[0;34m)\u001b[0m\u001b[0;34m\u001b[0m\u001b[0;34m\u001b[0m\u001b[0m\n\u001b[0m",
            "\u001b[0;31mZeroDivisionError\u001b[0m: division by zero"
          ]
        }
      ]
    },
    {
      "cell_type": "markdown",
      "metadata": {
        "id": "EJGyyjUjS6rl",
        "colab_type": "text"
      },
      "source": [
        "Traceback means \"What was the programming doing when it broke\"! This part is usually less helpful than the very last line of your error. Though you can dig through the rest of the error, looking at just the final line `ZeroDivisionError`, and the message says we divided by zero. Python is enforcing the rules of arithmetic!\n",
        "\n",
        "In general, there are two types of errors to look out for\n",
        "\n",
        "* **Exceptions**\n",
        "* **Syntax**\n",
        "\n",
        "An **Exception** is a problem that occurs when the code is running, but a 'Syntax Error' is a problem detected when Python checks the code before it runs it. For more information, see the Python tutorial page on [Errors and Exceptions](https://docs.python.org/3/tutorial/errors.html)."
      ]
    },
    {
      "cell_type": "markdown",
      "metadata": {
        "id": "_GveD23VT0T0",
        "colab_type": "text"
      },
      "source": [
        "# Booleans, Comparison Operators, and Logical Operators"
      ]
    },
    {
      "cell_type": "markdown",
      "metadata": {
        "id": "qy-Tx6OnT4wa",
        "colab_type": "text"
      },
      "source": [
        "**Booleans, Comparison Operators, and Logical Operators**\n",
        "\n",
        "The bool data type holds one of the values `True` or `False`, which are often encoded as `1` or `0`, respectively.\n",
        "\n",
        "There are 6 comparison operators that are common to see in order to obtain a bool value:\n",
        "\n",
        "Symbol Use | Case\tBool |\tOperation\n",
        "--- | --- | ---\n",
        "5 < 3\t| False\t| Less Than\n",
        "5 > 3\t| True\t| Greater Than\n",
        "3 <= 3 |\tTrue |\tLess Than or Equal To\n",
        "3 >= 5 |\tFalse |\tGreater Than or Equal To\n",
        "3 == 5 |\tFalse\t| Equal To\n",
        "3 != 5 |\tTrue\t| Not Equal To\n",
        "\n",
        "And there are three logical operators we need to be familiar with:\n",
        "\n",
        "Logical | Use\tBool |\tOperation\n",
        "--- | --- | --- \n",
        "5 < 3 and 5 == 5\t| False |\tand - Evaluates if all provided statements are True\n",
        "5 < 3 or 5 == 5\t| True\t| or - Evaluates if at least one of many statements is True\n",
        "not 5 < 3\t| True\t| not - Flips the Bool Value\n",
        "\n",
        "[Here](https://www.irishtimes.com/news/science/how-george-boole-s-zeroes-and-ones-changed-the-world-1.2014673) is more information on how George Boole changed the world!"
      ]
    },
    {
      "cell_type": "markdown",
      "metadata": {
        "id": "iQOaDdj5ztAq",
        "colab_type": "text"
      },
      "source": [
        "# Strings "
      ]
    },
    {
      "cell_type": "markdown",
      "metadata": {
        "id": "SVMlg_EIzunq",
        "colab_type": "text"
      },
      "source": [
        "Strings in Python are shown as the variable type `str`. You can define a string with either double quotes `\"` or single quotes `'`. If the string you are creating actually has one of these two values in it, then you need to be careful to assure your code doesn't give an error.\n",
        "\n",
        "```\n",
        "my_string = 'this is a string!'\n",
        "my_string2 = \"this is also a string!!!\"\n",
        "```\n",
        "\n",
        "You can also include a `\\` in your string to be able to include one of these quotes:\n",
        "\n"
      ]
    },
    {
      "cell_type": "code",
      "metadata": {
        "id": "XW3xAOxV0FNZ",
        "colab_type": "code",
        "colab": {
          "base_uri": "https://localhost:8080/",
          "height": 35
        },
        "outputId": "f34dd954-185c-4c05-a271-f7e3383ce07b"
      },
      "source": [
        "this_string = 'Simon\\'s skateboard is in the garage.'\n",
        "print(this_string)"
      ],
      "execution_count": 5,
      "outputs": [
        {
          "output_type": "stream",
          "text": [
            "Simon's skateboard is in the garage.\n"
          ],
          "name": "stdout"
        }
      ]
    },
    {
      "cell_type": "markdown",
      "metadata": {
        "id": "5qeSu0Bw0RGM",
        "colab_type": "text"
      },
      "source": [
        "If we don't use this, notice we get the following error:"
      ]
    },
    {
      "cell_type": "code",
      "metadata": {
        "id": "K1iP85xW0SQ_",
        "colab_type": "code",
        "colab": {
          "base_uri": "https://localhost:8080/",
          "height": 136
        },
        "outputId": "ddb75a04-f262-417a-ab30-022bf94de53d"
      },
      "source": [
        "this_string = 'Simon's skateboard is in the garage.'"
      ],
      "execution_count": 6,
      "outputs": [
        {
          "output_type": "error",
          "ename": "SyntaxError",
          "evalue": "ignored",
          "traceback": [
            "\u001b[0;36m  File \u001b[0;32m\"<ipython-input-6-743762e3cecb>\"\u001b[0;36m, line \u001b[0;32m1\u001b[0m\n\u001b[0;31m    this_string = 'Simon's skateboard is in the garage.'\u001b[0m\n\u001b[0m                         ^\u001b[0m\n\u001b[0;31mSyntaxError\u001b[0m\u001b[0;31m:\u001b[0m invalid syntax\n"
          ]
        }
      ]
    },
    {
      "cell_type": "markdown",
      "metadata": {
        "id": "HnobBuvq0YoD",
        "colab_type": "text"
      },
      "source": [
        "The color highlighting is also an indication of the error you have in your string in this second case. There are a number of other operations you can use with strings as well: "
      ]
    },
    {
      "cell_type": "code",
      "metadata": {
        "id": "eVu1eh170bWx",
        "colab_type": "code",
        "colab": {
          "base_uri": "https://localhost:8080/",
          "height": 35
        },
        "outputId": "d52ebd53-1055-4a29-c7f2-516cacb903a2"
      },
      "source": [
        "first_word = 'Hello'\n",
        "second_word = 'There'\n",
        "print(first_word + second_word)"
      ],
      "execution_count": 7,
      "outputs": [
        {
          "output_type": "stream",
          "text": [
            "HelloThere\n"
          ],
          "name": "stdout"
        }
      ]
    },
    {
      "cell_type": "code",
      "metadata": {
        "id": "FftwvG3k0iKH",
        "colab_type": "code",
        "colab": {
          "base_uri": "https://localhost:8080/",
          "height": 35
        },
        "outputId": "768d1e3a-7455-4929-c495-068877537792"
      },
      "source": [
        "print(first_word + ' ' + second_word)"
      ],
      "execution_count": 8,
      "outputs": [
        {
          "output_type": "stream",
          "text": [
            "Hello There\n"
          ],
          "name": "stdout"
        }
      ]
    },
    {
      "cell_type": "code",
      "metadata": {
        "id": "_czPdMsX08nR",
        "colab_type": "code",
        "colab": {
          "base_uri": "https://localhost:8080/",
          "height": 35
        },
        "outputId": "c25a3203-a6b5-4634-b9fe-f012dd0f7ef5"
      },
      "source": [
        "print(first_word * 5)"
      ],
      "execution_count": 9,
      "outputs": [
        {
          "output_type": "stream",
          "text": [
            "HelloHelloHelloHelloHello\n"
          ],
          "name": "stdout"
        }
      ]
    },
    {
      "cell_type": "code",
      "metadata": {
        "id": "lfrtScSi0__L",
        "colab_type": "code",
        "colab": {
          "base_uri": "https://localhost:8080/",
          "height": 35
        },
        "outputId": "82f692dd-8f80-4087-a42d-20b8b679eb21"
      },
      "source": [
        "print(len(first_word))"
      ],
      "execution_count": 10,
      "outputs": [
        {
          "output_type": "stream",
          "text": [
            "5\n"
          ],
          "name": "stdout"
        }
      ]
    },
    {
      "cell_type": "markdown",
      "metadata": {
        "id": "XommeDUM1Ive",
        "colab_type": "text"
      },
      "source": [
        "Unlike the other data types you have seen so far, you can also index into strings: "
      ]
    },
    {
      "cell_type": "code",
      "metadata": {
        "id": "9I5AUXbk1IbL",
        "colab_type": "code",
        "colab": {
          "base_uri": "https://localhost:8080/",
          "height": 35
        },
        "outputId": "123f673b-8672-417c-b3ec-697ca6fa111c"
      },
      "source": [
        "first_word[0]"
      ],
      "execution_count": 11,
      "outputs": [
        {
          "output_type": "execute_result",
          "data": {
            "application/vnd.google.colaboratory.intrinsic": {
              "type": "string"
            },
            "text/plain": [
              "'H'"
            ]
          },
          "metadata": {
            "tags": []
          },
          "execution_count": 11
        }
      ]
    },
    {
      "cell_type": "code",
      "metadata": {
        "id": "zC_5Xu7y1P_i",
        "colab_type": "code",
        "colab": {
          "base_uri": "https://localhost:8080/",
          "height": 35
        },
        "outputId": "4f89ec17-78e2-49d1-d6c3-2f7df97a4cf0"
      },
      "source": [
        "first_word[1]"
      ],
      "execution_count": 12,
      "outputs": [
        {
          "output_type": "execute_result",
          "data": {
            "application/vnd.google.colaboratory.intrinsic": {
              "type": "string"
            },
            "text/plain": [
              "'e'"
            ]
          },
          "metadata": {
            "tags": []
          },
          "execution_count": 12
        }
      ]
    },
    {
      "cell_type": "markdown",
      "metadata": {
        "id": "TxZRWbAa1Tjx",
        "colab_type": "text"
      },
      "source": [
        "**The len() function**\n",
        "\n",
        "`len()` is a built-in Python function that returns the length of an object, like a string. The length of a string is the number of characters in the string. This will always be an integer."
      ]
    },
    {
      "cell_type": "code",
      "metadata": {
        "id": "NdP96QEF1Z66",
        "colab_type": "code",
        "colab": {
          "base_uri": "https://localhost:8080/",
          "height": 35
        },
        "outputId": "e9a58b3b-c17c-467e-9bff-b9ddb8e0c6c3"
      },
      "source": [
        "print(len(\"ababa\") / len(\"ab\"))"
      ],
      "execution_count": 13,
      "outputs": [
        {
          "output_type": "stream",
          "text": [
            "2.5\n"
          ],
          "name": "stdout"
        }
      ]
    },
    {
      "cell_type": "markdown",
      "metadata": {
        "id": "euJKlkh35IwB",
        "colab_type": "text"
      },
      "source": [
        "# Type And Type Conversion\n"
      ]
    },
    {
      "cell_type": "markdown",
      "metadata": {
        "id": "Ja5UDl6h5Ka8",
        "colab_type": "text"
      },
      "source": [
        "Four data types so far:\n",
        "\n",
        "* `int`\n",
        "* `float`\n",
        "* `bool`\n",
        "* `string`"
      ]
    },
    {
      "cell_type": "code",
      "metadata": {
        "id": "_xilRpQz5aYc",
        "colab_type": "code",
        "colab": {
          "base_uri": "https://localhost:8080/",
          "height": 89
        },
        "outputId": "7e2fa290-b05a-4e26-efb9-09d184abb785"
      },
      "source": [
        "print(type(4))\n",
        "\n",
        "print(type(3.7))\n",
        "\n",
        "print(type('this'))\n",
        "\n",
        "print(type(True))"
      ],
      "execution_count": 14,
      "outputs": [
        {
          "output_type": "stream",
          "text": [
            "<class 'int'>\n",
            "<class 'float'>\n",
            "<class 'str'>\n",
            "<class 'bool'>\n"
          ],
          "name": "stdout"
        }
      ]
    },
    {
      "cell_type": "code",
      "metadata": {
        "id": "foU6zNgE5ghI",
        "colab_type": "code",
        "colab": {
          "base_uri": "https://localhost:8080/",
          "height": 35
        },
        "outputId": "73ca0332-696a-4192-ef26-4b98d0c0364c"
      },
      "source": [
        "\"0\" + \"5\""
      ],
      "execution_count": 15,
      "outputs": [
        {
          "output_type": "execute_result",
          "data": {
            "application/vnd.google.colaboratory.intrinsic": {
              "type": "string"
            },
            "text/plain": [
              "'05'"
            ]
          },
          "metadata": {
            "tags": []
          },
          "execution_count": 15
        }
      ]
    },
    {
      "cell_type": "code",
      "metadata": {
        "id": "tsulJJCl5jUw",
        "colab_type": "code",
        "colab": {
          "base_uri": "https://localhost:8080/",
          "height": 35
        },
        "outputId": "eef94b4f-6bc4-49c1-c741-189301519147"
      },
      "source": [
        "0 + 5"
      ],
      "execution_count": 16,
      "outputs": [
        {
          "output_type": "execute_result",
          "data": {
            "text/plain": [
              "5"
            ]
          },
          "metadata": {
            "tags": []
          },
          "execution_count": 16
        }
      ]
    },
    {
      "cell_type": "code",
      "metadata": {
        "id": "kjWNycgq5k3E",
        "colab_type": "code",
        "colab": {
          "base_uri": "https://localhost:8080/",
          "height": 172
        },
        "outputId": "a947d3a8-23df-42ee-9f6e-b6ba7f925bbd"
      },
      "source": [
        "\"0\" + 5"
      ],
      "execution_count": 17,
      "outputs": [
        {
          "output_type": "error",
          "ename": "TypeError",
          "evalue": "ignored",
          "traceback": [
            "\u001b[0;31m---------------------------------------------------------------------------\u001b[0m",
            "\u001b[0;31mTypeError\u001b[0m                                 Traceback (most recent call last)",
            "\u001b[0;32m<ipython-input-17-f3eee68b9620>\u001b[0m in \u001b[0;36m<module>\u001b[0;34m()\u001b[0m\n\u001b[0;32m----> 1\u001b[0;31m \u001b[0;34m\"0\"\u001b[0m \u001b[0;34m+\u001b[0m \u001b[0;36m5\u001b[0m\u001b[0;34m\u001b[0m\u001b[0;34m\u001b[0m\u001b[0m\n\u001b[0m",
            "\u001b[0;31mTypeError\u001b[0m: must be str, not int"
          ]
        }
      ]
    },
    {
      "cell_type": "code",
      "metadata": {
        "id": "omfk1mQM5tIo",
        "colab_type": "code",
        "colab": {
          "base_uri": "https://localhost:8080/",
          "height": 172
        },
        "outputId": "ae8804a3-3f3d-46bc-ef98-bf325cb11c0e"
      },
      "source": [
        "0 + \"5\""
      ],
      "execution_count": 18,
      "outputs": [
        {
          "output_type": "error",
          "ename": "TypeError",
          "evalue": "ignored",
          "traceback": [
            "\u001b[0;31m---------------------------------------------------------------------------\u001b[0m",
            "\u001b[0;31mTypeError\u001b[0m                                 Traceback (most recent call last)",
            "\u001b[0;32m<ipython-input-18-3dd32333af13>\u001b[0m in \u001b[0;36m<module>\u001b[0;34m()\u001b[0m\n\u001b[0;32m----> 1\u001b[0;31m \u001b[0;36m0\u001b[0m \u001b[0;34m+\u001b[0m \u001b[0;34m\"5\"\u001b[0m\u001b[0;34m\u001b[0m\u001b[0;34m\u001b[0m\u001b[0m\n\u001b[0m",
            "\u001b[0;31mTypeError\u001b[0m: unsupported operand type(s) for +: 'int' and 'str'"
          ]
        }
      ]
    },
    {
      "cell_type": "markdown",
      "metadata": {
        "id": "dPoRZVbk7qR0",
        "colab_type": "text"
      },
      "source": [
        "# String Methods\n"
      ]
    },
    {
      "cell_type": "markdown",
      "metadata": {
        "id": "hmkcG8ht7rcY",
        "colab_type": "text"
      },
      "source": [
        "**Methods** are like some of the functions we have already seen:\n",
        "\n",
        "* `len(\"this\")`\n",
        "* `type(12)`\n",
        "* `print(\"Hello world\")`\n",
        "\n",
        "These three above are functions - notice they use parentheses, and accept one or more arguments. \n",
        "\n",
        "A **method** in Python behaves similarly to a function. **Methods** actually are functions that are called using dot notation. For example, `lower()` is a string method that can be used like this, on a string called \"sample string\": `sample_string.lower()`.\n",
        "\n",
        "Methods are specific to the data type for a particular variable. So there are some built-in methods that are available for all strings, different methods that are available for all integers, etc.\n",
        "\n",
        "Below is an image that shows some methods that are possible with any string.\n",
        "\n",
        "![mystring](https://video.udacity-data.com/topher/2018/February/5a72cb8c_screen-shot-2018-02-01-at-12.10.40-am/screen-shot-2018-02-01-at-12.10.40-am.png)\n",
        "\n",
        "Each of these methods accepts the string itself as the first argument of the method. However, they also could receive additional arguments, that are passed inside the parentheses. Let's look at the output for a few examples.\n",
        "\n"
      ]
    },
    {
      "cell_type": "code",
      "metadata": {
        "id": "WEJbrxbQ8QdY",
        "colab_type": "code",
        "colab": {
          "base_uri": "https://localhost:8080/",
          "height": 71
        },
        "outputId": "1e057f8a-20ab-4fec-eadb-5cb736f97ebe"
      },
      "source": [
        "my_string = \"sebastian thrun\"\n",
        "\n",
        "print(my_string.islower())\n",
        "\n",
        "print(my_string.count('a'))\n",
        "\n",
        "print(my_string.find('a'))"
      ],
      "execution_count": 19,
      "outputs": [
        {
          "output_type": "stream",
          "text": [
            "True\n",
            "2\n",
            "3\n"
          ],
          "name": "stdout"
        }
      ]
    },
    {
      "cell_type": "markdown",
      "metadata": {
        "id": "79mMwB8M-CxS",
        "colab_type": "text"
      },
      "source": [
        "One can see that the `count` and `find` methods both take another argument. However, the `.islower()` method does not accept another argument."
      ]
    },
    {
      "cell_type": "markdown",
      "metadata": {
        "id": "sqv8Cfa7-M2V",
        "colab_type": "text"
      },
      "source": [
        "**One important string method: format()**\n",
        "\n",
        "The `format()` string method is very valuable in our coding, especially with the `print` statements.\n"
      ]
    },
    {
      "cell_type": "code",
      "metadata": {
        "id": "fakc_q7w-Kp0",
        "colab_type": "code",
        "colab": {
          "base_uri": "https://localhost:8080/",
          "height": 35
        },
        "outputId": "1390375e-170e-4cf4-de7f-a79ba6ea28da"
      },
      "source": [
        "print(\"Mohammed has {} balloons\".format(27))"
      ],
      "execution_count": 20,
      "outputs": [
        {
          "output_type": "stream",
          "text": [
            "Mohammed has 27 balloons\n"
          ],
          "name": "stdout"
        }
      ]
    },
    {
      "cell_type": "code",
      "metadata": {
        "id": "YSp41Z_Q-etJ",
        "colab_type": "code",
        "colab": {
          "base_uri": "https://localhost:8080/",
          "height": 35
        },
        "outputId": "da8a059c-fc36-42c3-f67d-fb8b8fa6e2ba"
      },
      "source": [
        "animal = \"dog\"\n",
        "action = \"bite\"\n",
        "print(\"Does your {} {}?\".format(animal, action))"
      ],
      "execution_count": 21,
      "outputs": [
        {
          "output_type": "stream",
          "text": [
            "Does your dog bite?\n"
          ],
          "name": "stdout"
        }
      ]
    },
    {
      "cell_type": "code",
      "metadata": {
        "id": "0IAWSj9U-nuW",
        "colab_type": "code",
        "colab": {
          "base_uri": "https://localhost:8080/",
          "height": 35
        },
        "outputId": "2f4d81cd-8dd5-4d79-c06d-67730e1a13c3"
      },
      "source": [
        "maria_string = \"Maria loves {} and {}\"\n",
        "print(maria_string.format(\"math\", \"statistics\"))"
      ],
      "execution_count": 22,
      "outputs": [
        {
          "output_type": "stream",
          "text": [
            "Maria loves math and statistics\n"
          ],
          "name": "stdout"
        }
      ]
    },
    {
      "cell_type": "markdown",
      "metadata": {
        "id": "62dcVyLf-uvy",
        "colab_type": "text"
      },
      "source": [
        "One can learn more about the formal syntax for using the `format()` string method [here](https://docs.python.org/3.6/library/string.html#format-string-syntax)."
      ]
    },
    {
      "cell_type": "markdown",
      "metadata": {
        "id": "KoqWFrSk_JJz",
        "colab_type": "text"
      },
      "source": [
        "**Another important string method: split()**\n",
        "\n",
        "A helpful string method when working with strings is the `.split` method. This function or method returns a data container called a **list** that contains the words from the input string. \n",
        "\n",
        "The split method has two additional arguments (*sep* and *maxsplit*). The *sep* argument stands for \"separator\". It can be used to identify how the string should be split up (e.g., whitespace characters like space, tab, return, newline; specific punctuation (e.g., comma, dashes)). If the sep argument is not provided, the default separator is whitespace.\n",
        "\n",
        "True to its name, the *maxsplit* argument provides the maximum number of splits. The argument gives maxsplit + 1 number of elements in the new list, with the remaining string being returned as the last element in the list. "
      ]
    },
    {
      "cell_type": "code",
      "metadata": {
        "id": "52jOD9Ai_gmr",
        "colab_type": "code",
        "colab": {
          "base_uri": "https://localhost:8080/",
          "height": 35
        },
        "outputId": "e3f8ee9a-5bcd-438b-fc72-c4ed78c1de71"
      },
      "source": [
        "new_str = \"The cow jumped over the moon.\"\n",
        "new_str.split()"
      ],
      "execution_count": 23,
      "outputs": [
        {
          "output_type": "execute_result",
          "data": {
            "text/plain": [
              "['The', 'cow', 'jumped', 'over', 'the', 'moon.']"
            ]
          },
          "metadata": {
            "tags": []
          },
          "execution_count": 23
        }
      ]
    },
    {
      "cell_type": "code",
      "metadata": {
        "id": "Z5DAj3uU_jja",
        "colab_type": "code",
        "colab": {
          "base_uri": "https://localhost:8080/",
          "height": 35
        },
        "outputId": "981b088d-c404-4c6c-a5b8-7bb726f01d61"
      },
      "source": [
        "new_str.split(' ', 3)"
      ],
      "execution_count": 24,
      "outputs": [
        {
          "output_type": "execute_result",
          "data": {
            "text/plain": [
              "['The', 'cow', 'jumped', 'over the moon.']"
            ]
          },
          "metadata": {
            "tags": []
          },
          "execution_count": 24
        }
      ]
    },
    {
      "cell_type": "code",
      "metadata": {
        "id": "vs_7L1qp_nON",
        "colab_type": "code",
        "colab": {
          "base_uri": "https://localhost:8080/",
          "height": 35
        },
        "outputId": "046d045f-ac00-4692-d612-c3a22664b23e"
      },
      "source": [
        "new_str.split('.')"
      ],
      "execution_count": 25,
      "outputs": [
        {
          "output_type": "execute_result",
          "data": {
            "text/plain": [
              "['The cow jumped over the moon', '']"
            ]
          },
          "metadata": {
            "tags": []
          },
          "execution_count": 25
        }
      ]
    },
    {
      "cell_type": "code",
      "metadata": {
        "id": "7IRhwlC3_tcZ",
        "colab_type": "code",
        "colab": {
          "base_uri": "https://localhost:8080/",
          "height": 35
        },
        "outputId": "40697beb-9aa2-4070-dc23-04d57236f021"
      },
      "source": [
        "new_str.split(None, 3)"
      ],
      "execution_count": 26,
      "outputs": [
        {
          "output_type": "execute_result",
          "data": {
            "text/plain": [
              "['The', 'cow', 'jumped', 'over the moon.']"
            ]
          },
          "metadata": {
            "tags": []
          },
          "execution_count": 26
        }
      ]
    },
    {
      "cell_type": "markdown",
      "metadata": {
        "id": "B204gWXQAVLD",
        "colab_type": "text"
      },
      "source": [
        "# There's a Bug in my Code\n"
      ]
    },
    {
      "cell_type": "markdown",
      "metadata": {
        "id": "ptKg4l9KAYu-",
        "colab_type": "text"
      },
      "source": [
        "**Debugging Code**\n",
        "\n",
        "Everyone gets \"bugs,\" or unexpected errors, in their code, and this is a normal and expected part of software development. We all say at one time or another, \"Why isn't this computer doing what I want it to do?!\"\n",
        "\n",
        "So an important part of coding is \"debugging\" your code, to remove these bugs. This can often take a long time, and cause you frustration, but developing effective coding habits and mental calmness will help you address these issues. With determined persistence, you can prevail over these bugs!\n",
        "\n",
        "**Understanding Common Error Messages**\n",
        "\n",
        "There are many different error messages that one can receive in Python, and learning how to interpret what they're telling you can be very helpful. Here are some common ones for starters:\n",
        "\n",
        "* \"ZeroDivisionError: division by zero.\" \n",
        "* \"SyntaxError: unexpected EOF while parsing\" "
      ]
    },
    {
      "cell_type": "code",
      "metadata": {
        "id": "CkGHWl8QAxNY",
        "colab_type": "code",
        "colab": {
          "base_uri": "https://localhost:8080/",
          "height": 172
        },
        "outputId": "f1cca1bc-c3b8-4aca-99dc-32e748308724"
      },
      "source": [
        "1/0"
      ],
      "execution_count": 27,
      "outputs": [
        {
          "output_type": "error",
          "ename": "ZeroDivisionError",
          "evalue": "ignored",
          "traceback": [
            "\u001b[0;31m---------------------------------------------------------------------------\u001b[0m",
            "\u001b[0;31mZeroDivisionError\u001b[0m                         Traceback (most recent call last)",
            "\u001b[0;32m<ipython-input-27-9e1622b385b6>\u001b[0m in \u001b[0;36m<module>\u001b[0;34m()\u001b[0m\n\u001b[0;32m----> 1\u001b[0;31m \u001b[0;36m1\u001b[0m\u001b[0;34m/\u001b[0m\u001b[0;36m0\u001b[0m\u001b[0;34m\u001b[0m\u001b[0;34m\u001b[0m\u001b[0m\n\u001b[0m",
            "\u001b[0;31mZeroDivisionError\u001b[0m: division by zero"
          ]
        }
      ]
    },
    {
      "cell_type": "code",
      "metadata": {
        "id": "iKGS0VVjAubw",
        "colab_type": "code",
        "colab": {
          "base_uri": "https://localhost:8080/",
          "height": 136
        },
        "outputId": "1a92b96b-604f-4d6e-87f4-633b53f594ea"
      },
      "source": [
        "greeting = \"hello\"\n",
        "print(greeting.upper"
      ],
      "execution_count": 28,
      "outputs": [
        {
          "output_type": "error",
          "ename": "SyntaxError",
          "evalue": "ignored",
          "traceback": [
            "\u001b[0;36m  File \u001b[0;32m\"<ipython-input-28-33e58bfdccd7>\"\u001b[0;36m, line \u001b[0;32m2\u001b[0m\n\u001b[0;31m    print(greeting.upper\u001b[0m\n\u001b[0m                        ^\u001b[0m\n\u001b[0;31mSyntaxError\u001b[0m\u001b[0;31m:\u001b[0m unexpected EOF while parsing\n"
          ]
        }
      ]
    },
    {
      "cell_type": "markdown",
      "metadata": {
        "id": "ZPt66AIIA2ez",
        "colab_type": "text"
      },
      "source": [
        "This message is often produced when you have accidentally left out something, like a parenthesis. The message is saying it has unexpectedly reached the end of file (\"EOF\") and it still didn't find that right parenthesis. This can easily happen with code syntax involving pairs, like beginning and ending quotes also.\n",
        "\n",
        "* \"**TypeError: len() takes exactly one argument (0 given)**\" This kind of message could be given for many functions, like len in this case, if I accidentally do not include the required number of arguments when I'm calling a function, as below. This message tells me how many arguments the function requires (one in this case), compared with how many I gave it (0). I meant to use len(chars) to count the number of characters in this long word, but I forgot the argument."
      ]
    },
    {
      "cell_type": "code",
      "metadata": {
        "id": "qm4yebqxBDEn",
        "colab_type": "code",
        "colab": {
          "base_uri": "https://localhost:8080/",
          "height": 190
        },
        "outputId": "8bd2b26a-33df-4666-d16d-afd750fea317"
      },
      "source": [
        "chars = \"supercalifragilisticexpialidocious\"\n",
        "len()"
      ],
      "execution_count": 29,
      "outputs": [
        {
          "output_type": "error",
          "ename": "TypeError",
          "evalue": "ignored",
          "traceback": [
            "\u001b[0;31m---------------------------------------------------------------------------\u001b[0m",
            "\u001b[0;31mTypeError\u001b[0m                                 Traceback (most recent call last)",
            "\u001b[0;32m<ipython-input-29-0ec823a3d899>\u001b[0m in \u001b[0;36m<module>\u001b[0;34m()\u001b[0m\n\u001b[1;32m      1\u001b[0m \u001b[0mchars\u001b[0m \u001b[0;34m=\u001b[0m \u001b[0;34m\"supercalifragilisticexpialidocious\"\u001b[0m\u001b[0;34m\u001b[0m\u001b[0;34m\u001b[0m\u001b[0m\n\u001b[0;32m----> 2\u001b[0;31m \u001b[0mlen\u001b[0m\u001b[0;34m(\u001b[0m\u001b[0;34m)\u001b[0m\u001b[0;34m\u001b[0m\u001b[0;34m\u001b[0m\u001b[0m\n\u001b[0m",
            "\u001b[0;31mTypeError\u001b[0m: len() takes exactly one argument (0 given)"
          ]
        }
      ]
    }
  ]
}