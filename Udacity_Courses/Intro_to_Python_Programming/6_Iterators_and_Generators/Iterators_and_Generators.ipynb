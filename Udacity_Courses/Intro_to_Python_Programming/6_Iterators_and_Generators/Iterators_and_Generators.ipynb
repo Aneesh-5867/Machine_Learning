{
  "nbformat": 4,
  "nbformat_minor": 0,
  "metadata": {
    "colab": {
      "name": "Iterators_and_Generators.ipynb",
      "provenance": [],
      "collapsed_sections": []
    },
    "kernelspec": {
      "name": "python3",
      "display_name": "Python 3"
    }
  },
  "cells": [
    {
      "cell_type": "markdown",
      "metadata": {
        "id": "4Q2CiCkan2Dq",
        "colab_type": "text"
      },
      "source": [
        "# **Iterators And Generators**"
      ]
    },
    {
      "cell_type": "markdown",
      "metadata": {
        "id": "gI02euSTm-jH",
        "colab_type": "text"
      },
      "source": [
        "\n",
        "**Iterables** are objects that can return one of their elements at a time, such as a list. Many of the built-in functions we’ve used so far, like 'enumerate,' return an iterator.\n",
        "\n",
        "An **iterator** is an object that represents a stream of data. This is different from a list, which is also an iterable, but is not an iterator because it is not a stream of data.\n",
        "\n",
        "**Generators** are a simple way to create iterators using functions. You can also define iterators using classes, which you can read more about [here](https://docs.python.org/3/tutorial/classes.html#iterators).\n",
        "\n",
        "Here is an example of a generator function called `my_range`, which produces an iterator that is a stream of numbers from 0 to (x - 1)."
      ]
    },
    {
      "cell_type": "code",
      "metadata": {
        "id": "YnuHwXAXm4ZB",
        "colab_type": "code",
        "colab": {}
      },
      "source": [
        "def my_range(x):\n",
        "    i = 0\n",
        "    while i < x:\n",
        "        yield i\n",
        "        i += 1"
      ],
      "execution_count": 1,
      "outputs": []
    },
    {
      "cell_type": "markdown",
      "metadata": {
        "id": "6g2YWiD4nT5J",
        "colab_type": "text"
      },
      "source": [
        "Notice that instead of using the return keyword, it uses `yield`. This allows the function to return values one at a time, and start where it left off each time it’s called. This `yield` keyword is what differentiates a generator from a typical function.\n",
        "\n",
        "Remember, since this returns an iterator, we can convert it to a list or iterate through it in a loop to view its contents. For example, this code:"
      ]
    },
    {
      "cell_type": "code",
      "metadata": {
        "id": "oTb80VcMneNR",
        "colab_type": "code",
        "colab": {
          "base_uri": "https://localhost:8080/",
          "height": 107
        },
        "outputId": "9861da6d-2161-4862-a5f4-41979151a101"
      },
      "source": [
        "for x in my_range(5):\n",
        "    print(x)"
      ],
      "execution_count": 2,
      "outputs": [
        {
          "output_type": "stream",
          "text": [
            "0\n",
            "1\n",
            "2\n",
            "3\n",
            "4\n"
          ],
          "name": "stdout"
        }
      ]
    },
    {
      "cell_type": "markdown",
      "metadata": {
        "id": "I9uGmLNpnleQ",
        "colab_type": "text"
      },
      "source": [
        "**Why Generators?**\n",
        "\n",
        "You may be wondering why we'd use generators over lists. Here’s an excerpt from a [stack overflow page](https://softwareengineering.stackexchange.com/questions/290231/when-should-i-use-a-generator-and-when-a-list-in-python/290235) that addresses this:\n",
        "\n",
        ">> Generators are a lazy way to build iterables. They are useful when the fully realized list would not fit in memory, or when the cost to calculate each list element is high and you want to do it as late as possible. But they can only be iterated over once."
      ]
    },
    {
      "cell_type": "markdown",
      "metadata": {
        "id": "n34D1TH1ogWR",
        "colab_type": "text"
      },
      "source": [
        "# **Generator Expressions**\n"
      ]
    },
    {
      "cell_type": "markdown",
      "metadata": {
        "id": "f6HwLbxvofEx",
        "colab_type": "text"
      },
      "source": [
        "Here's a cool concept that combines generators and list comprehensions! You can actually create a generator in the same way you'd normally write a list comprehension, except with parentheses instead of square brackets. For example:"
      ]
    },
    {
      "cell_type": "code",
      "metadata": {
        "id": "Ttv5RRM9onZx",
        "colab_type": "code",
        "colab": {
          "base_uri": "https://localhost:8080/",
          "height": 53
        },
        "outputId": "a29a863b-cb70-4f9b-cce0-66cac9e24dec"
      },
      "source": [
        "sq_list = [x**2 for x in range(10)]  # this produces a list of squares\n",
        "print(sq_list)\n",
        "\n",
        "sq_iterator = (x**2 for x in range(10))  # this produces an iterator of squares\n",
        "print(sq_iterator)"
      ],
      "execution_count": 3,
      "outputs": [
        {
          "output_type": "stream",
          "text": [
            "[0, 1, 4, 9, 16, 25, 36, 49, 64, 81]\n",
            "<generator object <genexpr> at 0x7fc782d985c8>\n"
          ],
          "name": "stdout"
        }
      ]
    },
    {
      "cell_type": "markdown",
      "metadata": {
        "id": "Ix9FAFYUop0l",
        "colab_type": "text"
      },
      "source": [
        "This can help you save time and create efficient code!"
      ]
    }
  ]
}